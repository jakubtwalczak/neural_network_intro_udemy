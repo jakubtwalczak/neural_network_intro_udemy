{
  "nbformat": 4,
  "nbformat_minor": 0,
  "metadata": {
    "colab": {
      "provenance": [],
      "authorship_tag": "ABX9TyMAfLgg5yW+xq5irHCgLe1v"
    },
    "kernelspec": {
      "name": "python3",
      "display_name": "Python 3"
    },
    "language_info": {
      "name": "python"
    }
  },
  "cells": [
    {
      "cell_type": "code",
      "execution_count": 1,
      "metadata": {
        "id": "gPGwGqYBqJ8e"
      },
      "outputs": [],
      "source": [
        "import tensorflow as tf\n",
        "import numpy as np\n",
        "import pandas as pd\n",
        "import plotly.express as px"
      ]
    },
    {
      "cell_type": "code",
      "source": [
        "# model sekwencyjny - liniowy stos warstw\n",
        "\n",
        "from tensorflow.keras.models import Sequential\n",
        "\n",
        "model = Sequential()\n",
        "model"
      ],
      "metadata": {
        "colab": {
          "base_uri": "https://localhost:8080/"
        },
        "id": "YE4GjPsVwxAI",
        "outputId": "c69d0a3a-62ee-4ea2-b1ac-1e5c324cf9dc"
      },
      "execution_count": 2,
      "outputs": [
        {
          "output_type": "execute_result",
          "data": {
            "text/plain": [
              "<Sequential name=sequential, built=False>"
            ]
          },
          "metadata": {},
          "execution_count": 2
        }
      ]
    },
    {
      "cell_type": "code",
      "source": [
        "# podstawowy element modelu - warstwy\n",
        "# warstwa wejściowa - Input\n",
        "# standardowa warstwa gęsto połączona - Dense\n",
        "# klasę do stosu dodajemy metodą add()\n",
        "\n",
        "from tensorflow.keras.layers import Dense, Input\n",
        "\n",
        "model.add(Input(shape=(10,)))\n",
        "model.add(Dense(units=4)) # units - liczba neuronów\n",
        "model"
      ],
      "metadata": {
        "colab": {
          "base_uri": "https://localhost:8080/"
        },
        "id": "Q0_SqYunw6AT",
        "outputId": "880b3487-1d6c-4bad-fa0e-7a60d464adf9"
      },
      "execution_count": 3,
      "outputs": [
        {
          "output_type": "execute_result",
          "data": {
            "text/plain": [
              "<Sequential name=sequential, built=True>"
            ]
          },
          "metadata": {},
          "execution_count": 3
        }
      ]
    },
    {
      "cell_type": "code",
      "source": [
        "model.summary() # wyświetlenie podsumowania modelu"
      ],
      "metadata": {
        "colab": {
          "base_uri": "https://localhost:8080/",
          "height": 161
        },
        "id": "8uD-CMeexkeo",
        "outputId": "23cf7e73-8b6f-4b0c-8fef-23683f8fadc0"
      },
      "execution_count": 4,
      "outputs": [
        {
          "output_type": "display_data",
          "data": {
            "text/plain": [
              "\u001b[1mModel: \"sequential\"\u001b[0m\n"
            ],
            "text/html": [
              "<pre style=\"white-space:pre;overflow-x:auto;line-height:normal;font-family:Menlo,'DejaVu Sans Mono',consolas,'Courier New',monospace\"><span style=\"font-weight: bold\">Model: \"sequential\"</span>\n",
              "</pre>\n"
            ]
          },
          "metadata": {}
        },
        {
          "output_type": "display_data",
          "data": {
            "text/plain": [
              "┏━━━━━━━━━━━━━━━━━━━━━━━━━━━━━━━━━━━━━━┳━━━━━━━━━━━━━━━━━━━━━━━━━━━━━┳━━━━━━━━━━━━━━━━━┓\n",
              "┃\u001b[1m \u001b[0m\u001b[1mLayer (type)                        \u001b[0m\u001b[1m \u001b[0m┃\u001b[1m \u001b[0m\u001b[1mOutput Shape               \u001b[0m\u001b[1m \u001b[0m┃\u001b[1m \u001b[0m\u001b[1m        Param #\u001b[0m\u001b[1m \u001b[0m┃\n",
              "┡━━━━━━━━━━━━━━━━━━━━━━━━━━━━━━━━━━━━━━╇━━━━━━━━━━━━━━━━━━━━━━━━━━━━━╇━━━━━━━━━━━━━━━━━┩\n",
              "│ dense (\u001b[38;5;33mDense\u001b[0m)                        │ (\u001b[38;5;45mNone\u001b[0m, \u001b[38;5;34m4\u001b[0m)                   │              \u001b[38;5;34m44\u001b[0m │\n",
              "└──────────────────────────────────────┴─────────────────────────────┴─────────────────┘\n"
            ],
            "text/html": [
              "<pre style=\"white-space:pre;overflow-x:auto;line-height:normal;font-family:Menlo,'DejaVu Sans Mono',consolas,'Courier New',monospace\">┏━━━━━━━━━━━━━━━━━━━━━━━━━━━━━━━━━━━━━━┳━━━━━━━━━━━━━━━━━━━━━━━━━━━━━┳━━━━━━━━━━━━━━━━━┓\n",
              "┃<span style=\"font-weight: bold\"> Layer (type)                         </span>┃<span style=\"font-weight: bold\"> Output Shape                </span>┃<span style=\"font-weight: bold\">         Param # </span>┃\n",
              "┡━━━━━━━━━━━━━━━━━━━━━━━━━━━━━━━━━━━━━━╇━━━━━━━━━━━━━━━━━━━━━━━━━━━━━╇━━━━━━━━━━━━━━━━━┩\n",
              "│ dense (<span style=\"color: #0087ff; text-decoration-color: #0087ff\">Dense</span>)                        │ (<span style=\"color: #00d7ff; text-decoration-color: #00d7ff\">None</span>, <span style=\"color: #00af00; text-decoration-color: #00af00\">4</span>)                   │              <span style=\"color: #00af00; text-decoration-color: #00af00\">44</span> │\n",
              "└──────────────────────────────────────┴─────────────────────────────┴─────────────────┘\n",
              "</pre>\n"
            ]
          },
          "metadata": {}
        },
        {
          "output_type": "display_data",
          "data": {
            "text/plain": [
              "\u001b[1m Total params: \u001b[0m\u001b[38;5;34m44\u001b[0m (176.00 B)\n"
            ],
            "text/html": [
              "<pre style=\"white-space:pre;overflow-x:auto;line-height:normal;font-family:Menlo,'DejaVu Sans Mono',consolas,'Courier New',monospace\"><span style=\"font-weight: bold\"> Total params: </span><span style=\"color: #00af00; text-decoration-color: #00af00\">44</span> (176.00 B)\n",
              "</pre>\n"
            ]
          },
          "metadata": {}
        },
        {
          "output_type": "display_data",
          "data": {
            "text/plain": [
              "\u001b[1m Trainable params: \u001b[0m\u001b[38;5;34m44\u001b[0m (176.00 B)\n"
            ],
            "text/html": [
              "<pre style=\"white-space:pre;overflow-x:auto;line-height:normal;font-family:Menlo,'DejaVu Sans Mono',consolas,'Courier New',monospace\"><span style=\"font-weight: bold\"> Trainable params: </span><span style=\"color: #00af00; text-decoration-color: #00af00\">44</span> (176.00 B)\n",
              "</pre>\n"
            ]
          },
          "metadata": {}
        },
        {
          "output_type": "display_data",
          "data": {
            "text/plain": [
              "\u001b[1m Non-trainable params: \u001b[0m\u001b[38;5;34m0\u001b[0m (0.00 B)\n"
            ],
            "text/html": [
              "<pre style=\"white-space:pre;overflow-x:auto;line-height:normal;font-family:Menlo,'DejaVu Sans Mono',consolas,'Courier New',monospace\"><span style=\"font-weight: bold\"> Non-trainable params: </span><span style=\"color: #00af00; text-decoration-color: #00af00\">0</span> (0.00 B)\n",
              "</pre>\n"
            ]
          },
          "metadata": {}
        }
      ]
    },
    {
      "cell_type": "code",
      "source": [
        "# dodanie kolejnej warstwy\n",
        "\n",
        "model.add(Dense(units=2)) # nie podajemy rozmiaru danych wejściowych\n",
        "model.summary()"
      ],
      "metadata": {
        "colab": {
          "base_uri": "https://localhost:8080/",
          "height": 193
        },
        "id": "x4y4eNI_xyEG",
        "outputId": "da3d0ec7-e659-4293-fff9-aa1d637f4b8a"
      },
      "execution_count": 5,
      "outputs": [
        {
          "output_type": "display_data",
          "data": {
            "text/plain": [
              "\u001b[1mModel: \"sequential\"\u001b[0m\n"
            ],
            "text/html": [
              "<pre style=\"white-space:pre;overflow-x:auto;line-height:normal;font-family:Menlo,'DejaVu Sans Mono',consolas,'Courier New',monospace\"><span style=\"font-weight: bold\">Model: \"sequential\"</span>\n",
              "</pre>\n"
            ]
          },
          "metadata": {}
        },
        {
          "output_type": "display_data",
          "data": {
            "text/plain": [
              "┏━━━━━━━━━━━━━━━━━━━━━━━━━━━━━━━━━━━━━━┳━━━━━━━━━━━━━━━━━━━━━━━━━━━━━┳━━━━━━━━━━━━━━━━━┓\n",
              "┃\u001b[1m \u001b[0m\u001b[1mLayer (type)                        \u001b[0m\u001b[1m \u001b[0m┃\u001b[1m \u001b[0m\u001b[1mOutput Shape               \u001b[0m\u001b[1m \u001b[0m┃\u001b[1m \u001b[0m\u001b[1m        Param #\u001b[0m\u001b[1m \u001b[0m┃\n",
              "┡━━━━━━━━━━━━━━━━━━━━━━━━━━━━━━━━━━━━━━╇━━━━━━━━━━━━━━━━━━━━━━━━━━━━━╇━━━━━━━━━━━━━━━━━┩\n",
              "│ dense (\u001b[38;5;33mDense\u001b[0m)                        │ (\u001b[38;5;45mNone\u001b[0m, \u001b[38;5;34m4\u001b[0m)                   │              \u001b[38;5;34m44\u001b[0m │\n",
              "├──────────────────────────────────────┼─────────────────────────────┼─────────────────┤\n",
              "│ dense_1 (\u001b[38;5;33mDense\u001b[0m)                      │ (\u001b[38;5;45mNone\u001b[0m, \u001b[38;5;34m2\u001b[0m)                   │              \u001b[38;5;34m10\u001b[0m │\n",
              "└──────────────────────────────────────┴─────────────────────────────┴─────────────────┘\n"
            ],
            "text/html": [
              "<pre style=\"white-space:pre;overflow-x:auto;line-height:normal;font-family:Menlo,'DejaVu Sans Mono',consolas,'Courier New',monospace\">┏━━━━━━━━━━━━━━━━━━━━━━━━━━━━━━━━━━━━━━┳━━━━━━━━━━━━━━━━━━━━━━━━━━━━━┳━━━━━━━━━━━━━━━━━┓\n",
              "┃<span style=\"font-weight: bold\"> Layer (type)                         </span>┃<span style=\"font-weight: bold\"> Output Shape                </span>┃<span style=\"font-weight: bold\">         Param # </span>┃\n",
              "┡━━━━━━━━━━━━━━━━━━━━━━━━━━━━━━━━━━━━━━╇━━━━━━━━━━━━━━━━━━━━━━━━━━━━━╇━━━━━━━━━━━━━━━━━┩\n",
              "│ dense (<span style=\"color: #0087ff; text-decoration-color: #0087ff\">Dense</span>)                        │ (<span style=\"color: #00d7ff; text-decoration-color: #00d7ff\">None</span>, <span style=\"color: #00af00; text-decoration-color: #00af00\">4</span>)                   │              <span style=\"color: #00af00; text-decoration-color: #00af00\">44</span> │\n",
              "├──────────────────────────────────────┼─────────────────────────────┼─────────────────┤\n",
              "│ dense_1 (<span style=\"color: #0087ff; text-decoration-color: #0087ff\">Dense</span>)                      │ (<span style=\"color: #00d7ff; text-decoration-color: #00d7ff\">None</span>, <span style=\"color: #00af00; text-decoration-color: #00af00\">2</span>)                   │              <span style=\"color: #00af00; text-decoration-color: #00af00\">10</span> │\n",
              "└──────────────────────────────────────┴─────────────────────────────┴─────────────────┘\n",
              "</pre>\n"
            ]
          },
          "metadata": {}
        },
        {
          "output_type": "display_data",
          "data": {
            "text/plain": [
              "\u001b[1m Total params: \u001b[0m\u001b[38;5;34m54\u001b[0m (216.00 B)\n"
            ],
            "text/html": [
              "<pre style=\"white-space:pre;overflow-x:auto;line-height:normal;font-family:Menlo,'DejaVu Sans Mono',consolas,'Courier New',monospace\"><span style=\"font-weight: bold\"> Total params: </span><span style=\"color: #00af00; text-decoration-color: #00af00\">54</span> (216.00 B)\n",
              "</pre>\n"
            ]
          },
          "metadata": {}
        },
        {
          "output_type": "display_data",
          "data": {
            "text/plain": [
              "\u001b[1m Trainable params: \u001b[0m\u001b[38;5;34m54\u001b[0m (216.00 B)\n"
            ],
            "text/html": [
              "<pre style=\"white-space:pre;overflow-x:auto;line-height:normal;font-family:Menlo,'DejaVu Sans Mono',consolas,'Courier New',monospace\"><span style=\"font-weight: bold\"> Trainable params: </span><span style=\"color: #00af00; text-decoration-color: #00af00\">54</span> (216.00 B)\n",
              "</pre>\n"
            ]
          },
          "metadata": {}
        },
        {
          "output_type": "display_data",
          "data": {
            "text/plain": [
              "\u001b[1m Non-trainable params: \u001b[0m\u001b[38;5;34m0\u001b[0m (0.00 B)\n"
            ],
            "text/html": [
              "<pre style=\"white-space:pre;overflow-x:auto;line-height:normal;font-family:Menlo,'DejaVu Sans Mono',consolas,'Courier New',monospace\"><span style=\"font-weight: bold\"> Non-trainable params: </span><span style=\"color: #00af00; text-decoration-color: #00af00\">0</span> (0.00 B)\n",
              "</pre>\n"
            ]
          },
          "metadata": {}
        }
      ]
    },
    {
      "cell_type": "code",
      "source": [
        "model.summary()"
      ],
      "metadata": {
        "colab": {
          "base_uri": "https://localhost:8080/",
          "height": 193
        },
        "id": "ofkgZbRlyJwY",
        "outputId": "ea4c8ee3-681f-44a0-a331-fb517722ed90"
      },
      "execution_count": 6,
      "outputs": [
        {
          "output_type": "display_data",
          "data": {
            "text/plain": [
              "\u001b[1mModel: \"sequential\"\u001b[0m\n"
            ],
            "text/html": [
              "<pre style=\"white-space:pre;overflow-x:auto;line-height:normal;font-family:Menlo,'DejaVu Sans Mono',consolas,'Courier New',monospace\"><span style=\"font-weight: bold\">Model: \"sequential\"</span>\n",
              "</pre>\n"
            ]
          },
          "metadata": {}
        },
        {
          "output_type": "display_data",
          "data": {
            "text/plain": [
              "┏━━━━━━━━━━━━━━━━━━━━━━━━━━━━━━━━━━━━━━┳━━━━━━━━━━━━━━━━━━━━━━━━━━━━━┳━━━━━━━━━━━━━━━━━┓\n",
              "┃\u001b[1m \u001b[0m\u001b[1mLayer (type)                        \u001b[0m\u001b[1m \u001b[0m┃\u001b[1m \u001b[0m\u001b[1mOutput Shape               \u001b[0m\u001b[1m \u001b[0m┃\u001b[1m \u001b[0m\u001b[1m        Param #\u001b[0m\u001b[1m \u001b[0m┃\n",
              "┡━━━━━━━━━━━━━━━━━━━━━━━━━━━━━━━━━━━━━━╇━━━━━━━━━━━━━━━━━━━━━━━━━━━━━╇━━━━━━━━━━━━━━━━━┩\n",
              "│ dense (\u001b[38;5;33mDense\u001b[0m)                        │ (\u001b[38;5;45mNone\u001b[0m, \u001b[38;5;34m4\u001b[0m)                   │              \u001b[38;5;34m44\u001b[0m │\n",
              "├──────────────────────────────────────┼─────────────────────────────┼─────────────────┤\n",
              "│ dense_1 (\u001b[38;5;33mDense\u001b[0m)                      │ (\u001b[38;5;45mNone\u001b[0m, \u001b[38;5;34m2\u001b[0m)                   │              \u001b[38;5;34m10\u001b[0m │\n",
              "└──────────────────────────────────────┴─────────────────────────────┴─────────────────┘\n"
            ],
            "text/html": [
              "<pre style=\"white-space:pre;overflow-x:auto;line-height:normal;font-family:Menlo,'DejaVu Sans Mono',consolas,'Courier New',monospace\">┏━━━━━━━━━━━━━━━━━━━━━━━━━━━━━━━━━━━━━━┳━━━━━━━━━━━━━━━━━━━━━━━━━━━━━┳━━━━━━━━━━━━━━━━━┓\n",
              "┃<span style=\"font-weight: bold\"> Layer (type)                         </span>┃<span style=\"font-weight: bold\"> Output Shape                </span>┃<span style=\"font-weight: bold\">         Param # </span>┃\n",
              "┡━━━━━━━━━━━━━━━━━━━━━━━━━━━━━━━━━━━━━━╇━━━━━━━━━━━━━━━━━━━━━━━━━━━━━╇━━━━━━━━━━━━━━━━━┩\n",
              "│ dense (<span style=\"color: #0087ff; text-decoration-color: #0087ff\">Dense</span>)                        │ (<span style=\"color: #00d7ff; text-decoration-color: #00d7ff\">None</span>, <span style=\"color: #00af00; text-decoration-color: #00af00\">4</span>)                   │              <span style=\"color: #00af00; text-decoration-color: #00af00\">44</span> │\n",
              "├──────────────────────────────────────┼─────────────────────────────┼─────────────────┤\n",
              "│ dense_1 (<span style=\"color: #0087ff; text-decoration-color: #0087ff\">Dense</span>)                      │ (<span style=\"color: #00d7ff; text-decoration-color: #00d7ff\">None</span>, <span style=\"color: #00af00; text-decoration-color: #00af00\">2</span>)                   │              <span style=\"color: #00af00; text-decoration-color: #00af00\">10</span> │\n",
              "└──────────────────────────────────────┴─────────────────────────────┴─────────────────┘\n",
              "</pre>\n"
            ]
          },
          "metadata": {}
        },
        {
          "output_type": "display_data",
          "data": {
            "text/plain": [
              "\u001b[1m Total params: \u001b[0m\u001b[38;5;34m54\u001b[0m (216.00 B)\n"
            ],
            "text/html": [
              "<pre style=\"white-space:pre;overflow-x:auto;line-height:normal;font-family:Menlo,'DejaVu Sans Mono',consolas,'Courier New',monospace\"><span style=\"font-weight: bold\"> Total params: </span><span style=\"color: #00af00; text-decoration-color: #00af00\">54</span> (216.00 B)\n",
              "</pre>\n"
            ]
          },
          "metadata": {}
        },
        {
          "output_type": "display_data",
          "data": {
            "text/plain": [
              "\u001b[1m Trainable params: \u001b[0m\u001b[38;5;34m54\u001b[0m (216.00 B)\n"
            ],
            "text/html": [
              "<pre style=\"white-space:pre;overflow-x:auto;line-height:normal;font-family:Menlo,'DejaVu Sans Mono',consolas,'Courier New',monospace\"><span style=\"font-weight: bold\"> Trainable params: </span><span style=\"color: #00af00; text-decoration-color: #00af00\">54</span> (216.00 B)\n",
              "</pre>\n"
            ]
          },
          "metadata": {}
        },
        {
          "output_type": "display_data",
          "data": {
            "text/plain": [
              "\u001b[1m Non-trainable params: \u001b[0m\u001b[38;5;34m0\u001b[0m (0.00 B)\n"
            ],
            "text/html": [
              "<pre style=\"white-space:pre;overflow-x:auto;line-height:normal;font-family:Menlo,'DejaVu Sans Mono',consolas,'Courier New',monospace\"><span style=\"font-weight: bold\"> Non-trainable params: </span><span style=\"color: #00af00; text-decoration-color: #00af00\">0</span> (0.00 B)\n",
              "</pre>\n"
            ]
          },
          "metadata": {}
        }
      ]
    },
    {
      "cell_type": "code",
      "source": [
        "# funkcje aktywacji\n",
        "# odpowiadają za aktywowanie odpowiednich neuronów podczas uczenia\n",
        "# jeżeli nie określamy f. aktywacji, domyślnie stosowana jest funkcja liniowa\n",
        "# aby rozwiązywać problemy nieliniowe, stosuje się funkcje inne niż liniowa\n",
        "\n",
        "from tensorflow.keras.activations import linear\n",
        "\n",
        "random_data = sorted(np.random.randn(1000))\n",
        "data = pd.DataFrame({'data': random_data, 'linear': linear(random_data)})\n",
        "data.head()"
      ],
      "metadata": {
        "colab": {
          "base_uri": "https://localhost:8080/",
          "height": 206
        },
        "id": "HimosfbayLgn",
        "outputId": "3050b262-d375-4cf1-8c42-625c22ba4657"
      },
      "execution_count": 7,
      "outputs": [
        {
          "output_type": "execute_result",
          "data": {
            "text/plain": [
              "       data    linear\n",
              "0 -2.945486 -2.945486\n",
              "1 -2.926548 -2.926548\n",
              "2 -2.751397 -2.751397\n",
              "3 -2.699644 -2.699644\n",
              "4 -2.683651 -2.683651"
            ],
            "text/html": [
              "\n",
              "  <div id=\"df-d95f9cc2-95d6-4b0d-b8a9-056addac4382\" class=\"colab-df-container\">\n",
              "    <div>\n",
              "<style scoped>\n",
              "    .dataframe tbody tr th:only-of-type {\n",
              "        vertical-align: middle;\n",
              "    }\n",
              "\n",
              "    .dataframe tbody tr th {\n",
              "        vertical-align: top;\n",
              "    }\n",
              "\n",
              "    .dataframe thead th {\n",
              "        text-align: right;\n",
              "    }\n",
              "</style>\n",
              "<table border=\"1\" class=\"dataframe\">\n",
              "  <thead>\n",
              "    <tr style=\"text-align: right;\">\n",
              "      <th></th>\n",
              "      <th>data</th>\n",
              "      <th>linear</th>\n",
              "    </tr>\n",
              "  </thead>\n",
              "  <tbody>\n",
              "    <tr>\n",
              "      <th>0</th>\n",
              "      <td>-2.945486</td>\n",
              "      <td>-2.945486</td>\n",
              "    </tr>\n",
              "    <tr>\n",
              "      <th>1</th>\n",
              "      <td>-2.926548</td>\n",
              "      <td>-2.926548</td>\n",
              "    </tr>\n",
              "    <tr>\n",
              "      <th>2</th>\n",
              "      <td>-2.751397</td>\n",
              "      <td>-2.751397</td>\n",
              "    </tr>\n",
              "    <tr>\n",
              "      <th>3</th>\n",
              "      <td>-2.699644</td>\n",
              "      <td>-2.699644</td>\n",
              "    </tr>\n",
              "    <tr>\n",
              "      <th>4</th>\n",
              "      <td>-2.683651</td>\n",
              "      <td>-2.683651</td>\n",
              "    </tr>\n",
              "  </tbody>\n",
              "</table>\n",
              "</div>\n",
              "    <div class=\"colab-df-buttons\">\n",
              "\n",
              "  <div class=\"colab-df-container\">\n",
              "    <button class=\"colab-df-convert\" onclick=\"convertToInteractive('df-d95f9cc2-95d6-4b0d-b8a9-056addac4382')\"\n",
              "            title=\"Convert this dataframe to an interactive table.\"\n",
              "            style=\"display:none;\">\n",
              "\n",
              "  <svg xmlns=\"http://www.w3.org/2000/svg\" height=\"24px\" viewBox=\"0 -960 960 960\">\n",
              "    <path d=\"M120-120v-720h720v720H120Zm60-500h600v-160H180v160Zm220 220h160v-160H400v160Zm0 220h160v-160H400v160ZM180-400h160v-160H180v160Zm440 0h160v-160H620v160ZM180-180h160v-160H180v160Zm440 0h160v-160H620v160Z\"/>\n",
              "  </svg>\n",
              "    </button>\n",
              "\n",
              "  <style>\n",
              "    .colab-df-container {\n",
              "      display:flex;\n",
              "      gap: 12px;\n",
              "    }\n",
              "\n",
              "    .colab-df-convert {\n",
              "      background-color: #E8F0FE;\n",
              "      border: none;\n",
              "      border-radius: 50%;\n",
              "      cursor: pointer;\n",
              "      display: none;\n",
              "      fill: #1967D2;\n",
              "      height: 32px;\n",
              "      padding: 0 0 0 0;\n",
              "      width: 32px;\n",
              "    }\n",
              "\n",
              "    .colab-df-convert:hover {\n",
              "      background-color: #E2EBFA;\n",
              "      box-shadow: 0px 1px 2px rgba(60, 64, 67, 0.3), 0px 1px 3px 1px rgba(60, 64, 67, 0.15);\n",
              "      fill: #174EA6;\n",
              "    }\n",
              "\n",
              "    .colab-df-buttons div {\n",
              "      margin-bottom: 4px;\n",
              "    }\n",
              "\n",
              "    [theme=dark] .colab-df-convert {\n",
              "      background-color: #3B4455;\n",
              "      fill: #D2E3FC;\n",
              "    }\n",
              "\n",
              "    [theme=dark] .colab-df-convert:hover {\n",
              "      background-color: #434B5C;\n",
              "      box-shadow: 0px 1px 3px 1px rgba(0, 0, 0, 0.15);\n",
              "      filter: drop-shadow(0px 1px 2px rgba(0, 0, 0, 0.3));\n",
              "      fill: #FFFFFF;\n",
              "    }\n",
              "  </style>\n",
              "\n",
              "    <script>\n",
              "      const buttonEl =\n",
              "        document.querySelector('#df-d95f9cc2-95d6-4b0d-b8a9-056addac4382 button.colab-df-convert');\n",
              "      buttonEl.style.display =\n",
              "        google.colab.kernel.accessAllowed ? 'block' : 'none';\n",
              "\n",
              "      async function convertToInteractive(key) {\n",
              "        const element = document.querySelector('#df-d95f9cc2-95d6-4b0d-b8a9-056addac4382');\n",
              "        const dataTable =\n",
              "          await google.colab.kernel.invokeFunction('convertToInteractive',\n",
              "                                                    [key], {});\n",
              "        if (!dataTable) return;\n",
              "\n",
              "        const docLinkHtml = 'Like what you see? Visit the ' +\n",
              "          '<a target=\"_blank\" href=https://colab.research.google.com/notebooks/data_table.ipynb>data table notebook</a>'\n",
              "          + ' to learn more about interactive tables.';\n",
              "        element.innerHTML = '';\n",
              "        dataTable['output_type'] = 'display_data';\n",
              "        await google.colab.output.renderOutput(dataTable, element);\n",
              "        const docLink = document.createElement('div');\n",
              "        docLink.innerHTML = docLinkHtml;\n",
              "        element.appendChild(docLink);\n",
              "      }\n",
              "    </script>\n",
              "  </div>\n",
              "\n",
              "\n",
              "<div id=\"df-2b535787-ff05-4ea3-b899-549b19593958\">\n",
              "  <button class=\"colab-df-quickchart\" onclick=\"quickchart('df-2b535787-ff05-4ea3-b899-549b19593958')\"\n",
              "            title=\"Suggest charts\"\n",
              "            style=\"display:none;\">\n",
              "\n",
              "<svg xmlns=\"http://www.w3.org/2000/svg\" height=\"24px\"viewBox=\"0 0 24 24\"\n",
              "     width=\"24px\">\n",
              "    <g>\n",
              "        <path d=\"M19 3H5c-1.1 0-2 .9-2 2v14c0 1.1.9 2 2 2h14c1.1 0 2-.9 2-2V5c0-1.1-.9-2-2-2zM9 17H7v-7h2v7zm4 0h-2V7h2v10zm4 0h-2v-4h2v4z\"/>\n",
              "    </g>\n",
              "</svg>\n",
              "  </button>\n",
              "\n",
              "<style>\n",
              "  .colab-df-quickchart {\n",
              "      --bg-color: #E8F0FE;\n",
              "      --fill-color: #1967D2;\n",
              "      --hover-bg-color: #E2EBFA;\n",
              "      --hover-fill-color: #174EA6;\n",
              "      --disabled-fill-color: #AAA;\n",
              "      --disabled-bg-color: #DDD;\n",
              "  }\n",
              "\n",
              "  [theme=dark] .colab-df-quickchart {\n",
              "      --bg-color: #3B4455;\n",
              "      --fill-color: #D2E3FC;\n",
              "      --hover-bg-color: #434B5C;\n",
              "      --hover-fill-color: #FFFFFF;\n",
              "      --disabled-bg-color: #3B4455;\n",
              "      --disabled-fill-color: #666;\n",
              "  }\n",
              "\n",
              "  .colab-df-quickchart {\n",
              "    background-color: var(--bg-color);\n",
              "    border: none;\n",
              "    border-radius: 50%;\n",
              "    cursor: pointer;\n",
              "    display: none;\n",
              "    fill: var(--fill-color);\n",
              "    height: 32px;\n",
              "    padding: 0;\n",
              "    width: 32px;\n",
              "  }\n",
              "\n",
              "  .colab-df-quickchart:hover {\n",
              "    background-color: var(--hover-bg-color);\n",
              "    box-shadow: 0 1px 2px rgba(60, 64, 67, 0.3), 0 1px 3px 1px rgba(60, 64, 67, 0.15);\n",
              "    fill: var(--button-hover-fill-color);\n",
              "  }\n",
              "\n",
              "  .colab-df-quickchart-complete:disabled,\n",
              "  .colab-df-quickchart-complete:disabled:hover {\n",
              "    background-color: var(--disabled-bg-color);\n",
              "    fill: var(--disabled-fill-color);\n",
              "    box-shadow: none;\n",
              "  }\n",
              "\n",
              "  .colab-df-spinner {\n",
              "    border: 2px solid var(--fill-color);\n",
              "    border-color: transparent;\n",
              "    border-bottom-color: var(--fill-color);\n",
              "    animation:\n",
              "      spin 1s steps(1) infinite;\n",
              "  }\n",
              "\n",
              "  @keyframes spin {\n",
              "    0% {\n",
              "      border-color: transparent;\n",
              "      border-bottom-color: var(--fill-color);\n",
              "      border-left-color: var(--fill-color);\n",
              "    }\n",
              "    20% {\n",
              "      border-color: transparent;\n",
              "      border-left-color: var(--fill-color);\n",
              "      border-top-color: var(--fill-color);\n",
              "    }\n",
              "    30% {\n",
              "      border-color: transparent;\n",
              "      border-left-color: var(--fill-color);\n",
              "      border-top-color: var(--fill-color);\n",
              "      border-right-color: var(--fill-color);\n",
              "    }\n",
              "    40% {\n",
              "      border-color: transparent;\n",
              "      border-right-color: var(--fill-color);\n",
              "      border-top-color: var(--fill-color);\n",
              "    }\n",
              "    60% {\n",
              "      border-color: transparent;\n",
              "      border-right-color: var(--fill-color);\n",
              "    }\n",
              "    80% {\n",
              "      border-color: transparent;\n",
              "      border-right-color: var(--fill-color);\n",
              "      border-bottom-color: var(--fill-color);\n",
              "    }\n",
              "    90% {\n",
              "      border-color: transparent;\n",
              "      border-bottom-color: var(--fill-color);\n",
              "    }\n",
              "  }\n",
              "</style>\n",
              "\n",
              "  <script>\n",
              "    async function quickchart(key) {\n",
              "      const quickchartButtonEl =\n",
              "        document.querySelector('#' + key + ' button');\n",
              "      quickchartButtonEl.disabled = true;  // To prevent multiple clicks.\n",
              "      quickchartButtonEl.classList.add('colab-df-spinner');\n",
              "      try {\n",
              "        const charts = await google.colab.kernel.invokeFunction(\n",
              "            'suggestCharts', [key], {});\n",
              "      } catch (error) {\n",
              "        console.error('Error during call to suggestCharts:', error);\n",
              "      }\n",
              "      quickchartButtonEl.classList.remove('colab-df-spinner');\n",
              "      quickchartButtonEl.classList.add('colab-df-quickchart-complete');\n",
              "    }\n",
              "    (() => {\n",
              "      let quickchartButtonEl =\n",
              "        document.querySelector('#df-2b535787-ff05-4ea3-b899-549b19593958 button');\n",
              "      quickchartButtonEl.style.display =\n",
              "        google.colab.kernel.accessAllowed ? 'block' : 'none';\n",
              "    })();\n",
              "  </script>\n",
              "</div>\n",
              "\n",
              "    </div>\n",
              "  </div>\n"
            ],
            "application/vnd.google.colaboratory.intrinsic+json": {
              "type": "dataframe",
              "variable_name": "data",
              "summary": "{\n  \"name\": \"data\",\n  \"rows\": 1000,\n  \"fields\": [\n    {\n      \"column\": \"data\",\n      \"properties\": {\n        \"dtype\": \"number\",\n        \"std\": 1.0127516608479803,\n        \"min\": -2.9454862366389265,\n        \"max\": 3.1321601805429324,\n        \"num_unique_values\": 1000,\n        \"samples\": [\n          0.02080760390226598,\n          0.6348879867785485,\n          0.6383111968935951\n        ],\n        \"semantic_type\": \"\",\n        \"description\": \"\"\n      }\n    },\n    {\n      \"column\": \"linear\",\n      \"properties\": {\n        \"dtype\": \"number\",\n        \"std\": 1.0127516608479803,\n        \"min\": -2.9454862366389265,\n        \"max\": 3.1321601805429324,\n        \"num_unique_values\": 1000,\n        \"samples\": [\n          0.02080760390226598,\n          0.6348879867785485,\n          0.6383111968935951\n        ],\n        \"semantic_type\": \"\",\n        \"description\": \"\"\n      }\n    }\n  ]\n}"
            }
          },
          "metadata": {},
          "execution_count": 7
        }
      ]
    },
    {
      "cell_type": "code",
      "source": [
        "px.line(data, x='data', y='linear', width=800, range_y=[-2, 2])"
      ],
      "metadata": {
        "colab": {
          "base_uri": "https://localhost:8080/",
          "height": 542
        },
        "id": "Kjm1IKWiz8Mg",
        "outputId": "ad17ce5a-c287-4f95-ec4d-947637ca38d7"
      },
      "execution_count": 8,
      "outputs": [
        {
          "output_type": "display_data",
          "data": {
            "text/html": [
              "<html>\n",
              "<head><meta charset=\"utf-8\" /></head>\n",
              "<body>\n",
              "    <div>            <script src=\"https://cdnjs.cloudflare.com/ajax/libs/mathjax/2.7.5/MathJax.js?config=TeX-AMS-MML_SVG\"></script><script type=\"text/javascript\">if (window.MathJax && window.MathJax.Hub && window.MathJax.Hub.Config) {window.MathJax.Hub.Config({SVG: {font: \"STIX-Web\"}});}</script>                <script type=\"text/javascript\">window.PlotlyConfig = {MathJaxConfig: 'local'};</script>\n",
              "        <script charset=\"utf-8\" src=\"https://cdn.plot.ly/plotly-2.35.2.min.js\"></script>                <div id=\"53c05ce1-04e9-494b-b559-6eadce5fc959\" class=\"plotly-graph-div\" style=\"height:525px; width:800px;\"></div>            <script type=\"text/javascript\">                                    window.PLOTLYENV=window.PLOTLYENV || {};                                    if (document.getElementById(\"53c05ce1-04e9-494b-b559-6eadce5fc959\")) {                    Plotly.newPlot(                        \"53c05ce1-04e9-494b-b559-6eadce5fc959\",                        [{\"hovertemplate\":\"data=%{x}\\u003cbr\\u003elinear=%{y}\\u003cextra\\u003e\\u003c\\u002fextra\\u003e\",\"legendgroup\":\"\",\"line\":{\"color\":\"#636efa\",\"dash\":\"solid\"},\"marker\":{\"symbol\":\"circle\"},\"mode\":\"lines\",\"name\":\"\",\"orientation\":\"v\",\"showlegend\":false,\"x\":[-2.9454862366389265,-2.926548294389117,-2.7513971862897777,-2.69964381604571,-2.6836512118516134,-2.6805015630095483,-2.482186515261199,-2.4813511717315513,-2.480779799701099,-2.3858868590258595,-2.300721328647208,-2.283089845021693,-2.177081123829196,-2.1559400476098696,-2.148267370853787,-2.138442210070734,-2.10669402017211,-2.095049234423632,-2.061929283132136,-2.060418655915206,-2.034320717849176,-1.9815562437020653,-1.9801611390632499,-1.9788673619221373,-1.9672499393023573,-1.9153088903556648,-1.9131199824589116,-1.889083096541453,-1.882013337198292,-1.848302720603952,-1.826158054381194,-1.8224460191406875,-1.820283758317885,-1.7812995897214707,-1.7620042652603418,-1.7617934889329752,-1.7494531701043197,-1.739252843137808,-1.7342787123858638,-1.7327997271236006,-1.7178120486207502,-1.7149480233980383,-1.7075687926138075,-1.678689066374531,-1.668226960817117,-1.6506957034161045,-1.6503582536085328,-1.6204789505033537,-1.6173297501590138,-1.6118714630032334,-1.6086981070362938,-1.5913150291545692,-1.5881978507259118,-1.5801069795370368,-1.5479513936305438,-1.5370464557604147,-1.5286021742401756,-1.5273458508744995,-1.525997657191582,-1.523907977384548,-1.5176073960601288,-1.509864355127319,-1.502818130649273,-1.4980235104155755,-1.4868532512490824,-1.4846769282232906,-1.46821113518722,-1.4602916473899403,-1.4514925781575165,-1.450610175310549,-1.4475058957348168,-1.4326840821184113,-1.4324579251709288,-1.4251364370633073,-1.4245699518677686,-1.4232208527194792,-1.4158443032362902,-1.412272238836059,-1.405458846917898,-1.4002864989200252,-1.3954069241551854,-1.389635911465869,-1.385070210759962,-1.3806987274213334,-1.3755197908902812,-1.373527534716067,-1.3643757462197448,-1.3616476908981243,-1.356489085531788,-1.3371147882776724,-1.3286277060281069,-1.3196985526940133,-1.3040960278789016,-1.303017422373001,-1.2938528443224873,-1.2902442115043211,-1.2895843478919602,-1.2881395778440092,-1.287930539217061,-1.2861618829560355,-1.280098656409263,-1.271501398677824,-1.2702308008966836,-1.2618316796093831,-1.2594532058719043,-1.2288879039525005,-1.2266684795694596,-1.2228928317230574,-1.2206615193622443,-1.2165340062205006,-1.2160118669982989,-1.2145708076959831,-1.2128126917333784,-1.2073301903803924,-1.1993350593094187,-1.1916436546351346,-1.1804742260955745,-1.1671622195294487,-1.1637785996334882,-1.157685306776683,-1.1551400130519553,-1.1534635887846265,-1.153035539328639,-1.1475262014770713,-1.1453313526838358,-1.14003094560646,-1.1364162942709295,-1.1339177426556835,-1.1333698504787084,-1.132764138148872,-1.1306530895641498,-1.126297620547942,-1.1230516704325242,-1.1215971571765764,-1.1214286093043695,-1.1080627021187195,-1.1041904236902373,-1.081941895114053,-1.0799160807761208,-1.0775364050138387,-1.0724001051375238,-1.0617464519061912,-1.0598389343690278,-1.0477777049333967,-1.0439252191907884,-1.040693600220372,-1.0404129993702578,-1.03951101182139,-1.0358692630324284,-1.0287959871809496,-1.0239318824916113,-1.0232436140197758,-1.0228523070664413,-1.0213046590979642,-1.0205875052601259,-1.011113262797877,-1.0080934330654863,-1.006589841332282,-0.9902442045230812,-0.9891669080901537,-0.9848746073505876,-0.9771830135121801,-0.9750600476578719,-0.9727889008265684,-0.9685658288757227,-0.9634403256562618,-0.9629707431654573,-0.9624417770247634,-0.9574923014438953,-0.9523561706474434,-0.9422522922794816,-0.9397597502302046,-0.9376233494059012,-0.9309774272568058,-0.930645881940543,-0.9304544844273602,-0.9253676176693278,-0.9225038916932601,-0.9219315478028366,-0.9126073875424139,-0.911152416310477,-0.9058023922725332,-0.8962662921778503,-0.8945667916381443,-0.8873021640390356,-0.8865226578123706,-0.8860879236118868,-0.8855803200080603,-0.885369686328559,-0.8813273584155858,-0.8804340619132015,-0.8785236780903517,-0.8697560112217572,-0.8643655929125891,-0.8640937446445763,-0.8624661083893559,-0.8469433368196536,-0.8465326406624357,-0.8454036708059225,-0.8443276599964128,-0.8400768830717756,-0.8378403687918757,-0.8351868034539204,-0.8333336837069948,-0.8258583409780205,-0.8206185359375641,-0.8129704848635114,-0.8127080948281908,-0.809418839039529,-0.8022676204392225,-0.8014769268507494,-0.7999037453750616,-0.7984500759497942,-0.79709837109925,-0.7967838284449752,-0.7939527896428208,-0.7885699897018584,-0.7871951023140137,-0.7854538242801092,-0.7784618563842138,-0.7770579821863541,-0.7766497491149855,-0.7741900184991154,-0.768999657564846,-0.7677901236505345,-0.7576286677778498,-0.756055336730141,-0.7549549980197952,-0.7507627350529925,-0.7485515722742816,-0.7439515051029211,-0.7430363352122578,-0.7348821263792991,-0.7283244334553357,-0.7279437007344971,-0.72665602882629,-0.7229503108853832,-0.717704431707363,-0.7170154445678179,-0.7143231897504205,-0.7055730948237522,-0.7038193938855638,-0.699445708463136,-0.6988579239689678,-0.6976919535455904,-0.6924845915037785,-0.6918154311509882,-0.6889003720156641,-0.6883467407600421,-0.6822681873719516,-0.6816695999926556,-0.6767544513726695,-0.6762331611407725,-0.6739545907357973,-0.6733907273276505,-0.6679856815844915,-0.6673311308328832,-0.6664527790346987,-0.66560542351072,-0.6555299927074868,-0.6472457894064706,-0.6443443882233749,-0.6423194037341615,-0.6391390060662747,-0.6384205166394317,-0.6322801114910738,-0.6301032320640931,-0.6298224793420429,-0.6283027404443562,-0.6268805552279475,-0.6244913925745103,-0.6243741612324689,-0.6235814806330224,-0.622101201625038,-0.6195817366497922,-0.6172317854999347,-0.6081540988255444,-0.6074190357000786,-0.6060057993268453,-0.604827355845414,-0.5973637521032128,-0.5972169860674945,-0.5947239094186649,-0.5899033525854075,-0.5889912435840625,-0.5805977506425058,-0.5804856683674033,-0.5743329962074042,-0.5741244443370934,-0.5726547201020906,-0.5708000578768434,-0.5667458813764709,-0.5661942029919186,-0.562591967491304,-0.5593449252820235,-0.5558913478275991,-0.5532861638118907,-0.5518585246629768,-0.5490084560578807,-0.5447250887689291,-0.5423319023226223,-0.5418645477553805,-0.5361161734659412,-0.5335692790230709,-0.525503186213384,-0.5216654325815724,-0.5204395698906854,-0.5180465018754166,-0.5172022946850535,-0.5135055203002505,-0.5131124874677138,-0.5069333499478373,-0.503424180378713,-0.5004703653430315,-0.49945592385531706,-0.49697723621238254,-0.4925520780867666,-0.4924907337587139,-0.48940530559241746,-0.4886192846434189,-0.48225497956513724,-0.47879460452571126,-0.47701685480017897,-0.47645588088658025,-0.4741730643913724,-0.4735287035936783,-0.47341441555456176,-0.4718579352039361,-0.46472507687635833,-0.463828401318421,-0.4597114685991715,-0.45769156529002025,-0.4461944363555548,-0.44467734914647844,-0.4438950299468853,-0.44320597955946983,-0.44006910619856365,-0.4385580071177394,-0.43745255089837154,-0.4356104544860426,-0.43193969995185644,-0.4319248703666391,-0.43148562166481896,-0.4282615277626681,-0.42706911237637346,-0.4162947769418587,-0.4143372010505992,-0.4108452317569281,-0.40880874520408633,-0.40534565690318275,-0.4029182566395361,-0.3933609628199298,-0.38900184792631537,-0.38149743917507756,-0.3807497007123074,-0.3791149876924991,-0.3772181914347351,-0.37576241770221086,-0.3690195696349935,-0.3661592052484092,-0.3614728883482683,-0.36125374563690965,-0.3601504758757779,-0.35937785402074157,-0.35424576801743396,-0.35396989225866415,-0.35029951794231834,-0.3479259823185589,-0.3476659792700526,-0.3419055039765288,-0.3415652359071017,-0.3405712466473612,-0.3387685042636369,-0.33817643631263555,-0.3361154376267399,-0.3361054135829739,-0.3356718032526221,-0.3343208798731028,-0.33358609458156546,-0.32981669506575445,-0.32785521709455356,-0.3231304415631719,-0.32043877467579074,-0.3153998438750664,-0.3151667950132367,-0.3133274398347694,-0.31161273969594727,-0.31109196001462985,-0.29958458255478604,-0.2957974896143697,-0.29559393350422175,-0.2941818963285529,-0.2912635353614461,-0.28593046837036556,-0.2771686912771364,-0.27399469320693987,-0.271502305477108,-0.2709168699538817,-0.267788392473752,-0.26476305802318895,-0.26089564178724933,-0.26060280624861254,-0.2586052720101073,-0.256086045555994,-0.2556795033179919,-0.2546757251062182,-0.24592964550554997,-0.24534064699066382,-0.24137419358940543,-0.24020307435081456,-0.23999575778444882,-0.2358272961740752,-0.23420573457069369,-0.23379800320216557,-0.22900500043420213,-0.22771772424479556,-0.2243739959238412,-0.22426141342563558,-0.22321924807053653,-0.2222326811895599,-0.22206462082876052,-0.2189955320309384,-0.2146706228765669,-0.21463958936146862,-0.21425632569124597,-0.21119205440331312,-0.208491884200477,-0.20638005581984736,-0.20528312307449134,-0.2008011960501368,-0.19946228058154347,-0.19611259270662812,-0.19384273973863922,-0.1838270498175882,-0.18378020020707195,-0.17680431435785174,-0.17664920510046553,-0.17474094450599353,-0.1743199417944344,-0.17239154369080228,-0.17224768463394313,-0.17038396552638974,-0.16991605932385384,-0.16896684126603131,-0.16662370324688033,-0.1656686343644231,-0.16295137835758022,-0.1620053275689852,-0.15979721161841232,-0.158295257842024,-0.156487646798657,-0.15472265274326774,-0.15222499298620037,-0.14154395064841455,-0.14127762653807532,-0.13565360074026628,-0.13552588482126945,-0.13530513955314719,-0.13405971115830753,-0.13212145127062427,-0.12975126342152493,-0.12538651486020605,-0.12458456311429732,-0.12400169785591127,-0.12280197755496648,-0.12230383002669412,-0.11899626306368676,-0.1145524582545254,-0.1130199740977499,-0.10303489365293964,-0.09523811239377081,-0.09449821357659967,-0.09132358754047162,-0.09110916539291224,-0.09062342168650935,-0.08920649757497502,-0.08740993536910999,-0.08409657745351838,-0.0839127218347771,-0.08357058357285085,-0.07496677122495843,-0.07422651022313687,-0.07383519802616309,-0.06377894579516492,-0.06297086861002486,-0.061097631094597926,-0.05837184735779476,-0.05661709842308209,-0.0528425632951364,-0.052827706441118574,-0.046616411711514184,-0.041225018540431875,-0.04078655843270522,-0.04000899824319223,-0.03632880721483374,-0.0334752292181179,-0.032750752207284115,-0.0284064156410388,-0.023958695262862224,-0.023908165171583975,-0.02247133444461247,-0.02181347668170736,-0.02047501303847177,-0.01739439369018648,-0.016535425123667735,-0.014237566276271315,-0.007191834878799484,-0.005472131694427112,-0.003699546717569801,-0.0029760554466175056,-0.002795424548954191,-0.00039705398988154286,0.00009228300959661816,0.0028421687036671367,0.008334286121345399,0.008379659615241846,0.01472552871233803,0.016640232624137337,0.018354197369886822,0.020315387081638586,0.020412337545978328,0.02080760390226598,0.02988195053614484,0.031437156217676336,0.031621002957457976,0.033605168511139975,0.03830390215726383,0.0442154970265464,0.04969984947188961,0.05289535919169504,0.05761450720013523,0.05994595068238346,0.0655859794223959,0.06750565109962976,0.0688950594350855,0.06895043490681323,0.07034377501891578,0.07059071642184561,0.07120468561845139,0.07520994710317978,0.0801171145237053,0.08405711837048029,0.08655683880697221,0.08810305459278463,0.09089031069663722,0.0910475564293298,0.09679423456249658,0.0969901165991019,0.09710926234770412,0.0999544997968851,0.10153567343156583,0.10202060198437342,0.1028853840324955,0.10417992837803575,0.10680179268653416,0.10744324535895991,0.11065417727098718,0.11212691031849786,0.11377808751749759,0.11692339458987953,0.1180652336541034,0.11830124885805553,0.1185188565435681,0.12012351861017408,0.12077034778529692,0.12232135966579985,0.1307626655479185,0.13591711379991248,0.13765304320954092,0.13880736752828393,0.14023257424170715,0.14030159889115118,0.14039546427551025,0.14967619568526339,0.15365740177986173,0.15602185224999238,0.1580811461577324,0.15966906917763002,0.15983618188015522,0.1627284721765433,0.16971976827586727,0.17234399739904344,0.18163880250794015,0.1823823871093364,0.18317079237732314,0.18944839177705627,0.19398762116566268,0.19535898386158312,0.2064185543358089,0.20788050628813895,0.2144533458177042,0.21521711405466798,0.21775432548103643,0.220670150971602,0.22150129294118723,0.22302216698588764,0.2263052188066183,0.2284232704228214,0.22908319974356317,0.2294224361467734,0.2301624574730821,0.2301700724830343,0.2303214662288114,0.23342758572447897,0.23526315030212336,0.23577204704863658,0.23580693165805558,0.2441248398160598,0.24441176264056516,0.2505867150367613,0.2515296245415917,0.2640980411127237,0.2650471825339272,0.26645441792220015,0.2695447387635019,0.2707977135885463,0.2729551221787954,0.27715056419112394,0.27748308246470227,0.2788408442318787,0.2853920666653776,0.28702648782990386,0.2884917491761121,0.292255222305964,0.2949888544975905,0.301330977295088,0.30307328311370413,0.30585416714636143,0.3084336151262972,0.310342328779031,0.3197166919941372,0.3198627669261082,0.3207182354408495,0.32501238893659606,0.3257903331013064,0.32843265855890796,0.3286282235274775,0.32926902363516364,0.33436528391192505,0.3355039883328669,0.33702641252952387,0.3405769828912079,0.34198861308138484,0.3421759177457109,0.3556245182737315,0.36240129312541003,0.3645314937300707,0.3668859982518398,0.3669633739876963,0.36739454211131034,0.3679192267718773,0.370093377776324,0.37077410121237186,0.3796685946138542,0.3812645320769103,0.38393414956668104,0.3856795952296723,0.39044176290407057,0.3913738131959145,0.39682490004294546,0.40084632208621224,0.401533349557936,0.4027165522509757,0.40388919626501746,0.4084513532775922,0.41746914682624114,0.41790430251519317,0.4189003885152889,0.4194064409558616,0.42279001764674395,0.42624293847476674,0.42778045008468835,0.42789553212080167,0.4279915348181539,0.4369733067463148,0.43845571688146395,0.44086662724260295,0.4412504208264269,0.44240116619330644,0.4471437438794303,0.4478473238427928,0.45082659045998075,0.4592915621931062,0.46368158949814503,0.4639524203356957,0.46569998221638004,0.4679976861849059,0.4697799755951211,0.4741486081854509,0.476970516886383,0.47700890643381955,0.47793318221804565,0.4945219024851237,0.49626255892603616,0.500693905582132,0.5007832693447044,0.5064894974338904,0.5065183741070822,0.506938912490028,0.5140755335260347,0.519837294079735,0.529299078621948,0.531005748469331,0.5340870228038994,0.5381507735669706,0.5393354235937872,0.5410297010177383,0.552995197918063,0.5536551136313861,0.5551757477341313,0.5576752502791327,0.5580893586702286,0.5646622904526205,0.5672470475300236,0.5691806197193564,0.5723490695224319,0.5760053544072563,0.5828762386766956,0.582932907958359,0.5867657544533481,0.5876714978973717,0.5899402510096879,0.5914174897341616,0.5916905392347351,0.5922986946648315,0.5927660584397826,0.593086894055581,0.5932401036618228,0.6012872141381951,0.6070597372632515,0.6077668665130744,0.6112868510751016,0.612065397131532,0.615357412742596,0.6277898118284622,0.6306323334458834,0.634013190632918,0.6348879867785485,0.6374107776821376,0.638271360268675,0.6383111968935951,0.6428159286297308,0.6428273621427633,0.6434989996901389,0.6486063557017082,0.6492335067267525,0.6526879132725997,0.6803336653177249,0.6820509524879597,0.6930812918754986,0.695235228231952,0.6966985856569999,0.7014404191484885,0.7039321110431297,0.7154239995888919,0.716233385767322,0.7176622301792377,0.7188626972512567,0.7207269377396405,0.7217765806433669,0.7259631800032861,0.7379593154642219,0.7389473770390315,0.7489443319867125,0.7523642630143238,0.7555948271105974,0.7615062454432788,0.7652134960487152,0.7675988065883134,0.7678014678267162,0.7703614743933574,0.7719378888037461,0.775529812361069,0.776322270978682,0.778697548868357,0.7795324108067061,0.7805379468867466,0.7835319378180357,0.7845436918169386,0.7848062627369811,0.7879057908541656,0.7913435358562252,0.7972877169832672,0.8051832232631783,0.8125360500320851,0.8169569158386825,0.8173934551231024,0.8189732568502064,0.8373831121358297,0.8451003262398634,0.8454833782981405,0.8465738575265467,0.8470601562964841,0.8471727176711543,0.8512524623031013,0.855029888080093,0.8581785236861104,0.8668134706947163,0.8692179186441366,0.8707091450082894,0.8777590776962155,0.8794549114707845,0.8846361653751951,0.8852354061378838,0.8853572167205508,0.8934859716191005,0.9015705532115155,0.906800863953868,0.9239158642492261,0.9256297213341155,0.9257471512547022,0.9342625455549578,0.936038291973422,0.9403741174911856,0.9478112965013579,0.9479255509836141,0.951125577493298,0.9516339009616767,0.9521010948154197,0.9700123713450396,0.9736461151503043,0.9783954919633593,0.985889338723191,0.9888380025810711,0.988927793268228,0.9943054560869766,0.994505729825334,0.9965029628038469,0.9995328128553146,1.0037157342340104,1.010738269814327,1.0143497299815232,1.0167359445867572,1.025325009457823,1.0288984205725558,1.0325107085102623,1.0348029938491765,1.0350031601721768,1.036023492250497,1.037242964671422,1.037248374710668,1.0375005545304956,1.0526808306358006,1.0591944767143355,1.0606398413157003,1.0637434766495222,1.064465089990768,1.0780859941942709,1.0817210120069334,1.088309308642337,1.0925947269848022,1.0997881386769965,1.1034899513736558,1.1046519980454355,1.107239516779559,1.110466005135783,1.1148092198739916,1.1171530752380106,1.1249430290253064,1.1255370825538935,1.1333467310193088,1.1340687917563035,1.1346120430309232,1.1391986784812358,1.1420871317013161,1.1437792667432212,1.144117778776754,1.154559977316729,1.154613321971247,1.1563880579991028,1.1579878060879287,1.1590482915354576,1.1609225766991267,1.1618218821368995,1.1634389487644203,1.1643569213653242,1.1668224827902616,1.1704819651160523,1.1787023043587537,1.1810206306854487,1.182443581992566,1.2075453210989098,1.2137982139390848,1.2160128648509636,1.218283636071999,1.2256624608641624,1.2355166870563188,1.238047149705025,1.2421977106566655,1.2478274923181516,1.249163438508918,1.2583240679592385,1.2649127119048251,1.2736695959418005,1.2737430712880748,1.2764730129041124,1.2814553633951151,1.284606708563431,1.2960759199999679,1.2979898120141464,1.2986773420857471,1.3040274740224305,1.3065932510550036,1.3293109107628245,1.3476043380838603,1.362155048674503,1.3691464164574545,1.4041779706105477,1.4046266368656275,1.4084892477623583,1.4117302378279644,1.4174147413323153,1.4180720878592799,1.4191104861840564,1.425439443553083,1.4305232141084752,1.435074739540777,1.435276720446497,1.4644978863232636,1.4645130813996596,1.4681887669182128,1.4824637224496815,1.4880423607431261,1.498604112147645,1.5129890551265526,1.515072621985649,1.5162566686965244,1.5196934580879635,1.5218600536502331,1.533565226429106,1.5362747783420865,1.536505676494278,1.5698866642889928,1.574205457832182,1.5775848885050907,1.5778377151791307,1.578704929267342,1.594918897566649,1.6018409919594512,1.6076322014033173,1.6190067206062884,1.6241908884306566,1.6262251762476825,1.634300616980611,1.6543321167162102,1.6765500369865278,1.6793153517559656,1.7073676484775506,1.7227190159753667,1.744849991507864,1.7473276632316574,1.7969743408954288,1.8188735405639587,1.820181309960025,1.8315465782286775,1.8323401075373245,1.8334143655017712,1.8352657446645888,1.8378537633134844,1.8381297227531004,1.8571101128064798,1.8841239133461676,1.8855109749324834,1.9127160319763847,1.9222876505816944,1.943163176486207,1.9609393527927061,2.0029019178804925,2.0165760238232453,2.0172207830010374,2.048160650677286,2.051206888472015,2.0530892325145316,2.0620658113753,2.0640080887681793,2.0887456836438827,2.1177555671277783,2.1197766846540453,2.120172367195324,2.121184607780522,2.1572099158495406,2.1690549996559954,2.2450983611486017,2.27625365284516,2.2817758193632454,2.2973778080544016,2.308486069492984,2.3143229168228006,2.3431117017861784,2.3476350422052814,2.4037661179586203,2.468442431516889,2.478811608851873,2.509327988310112,2.514617051783916,2.618924765353588,2.626476609154539,2.633242186750665,2.656373546693534,3.1321601805429324],\"xaxis\":\"x\",\"y\":[-2.9454862366389265,-2.926548294389117,-2.7513971862897777,-2.69964381604571,-2.6836512118516134,-2.6805015630095483,-2.482186515261199,-2.4813511717315513,-2.480779799701099,-2.3858868590258595,-2.300721328647208,-2.283089845021693,-2.177081123829196,-2.1559400476098696,-2.148267370853787,-2.138442210070734,-2.10669402017211,-2.095049234423632,-2.061929283132136,-2.060418655915206,-2.034320717849176,-1.9815562437020653,-1.9801611390632499,-1.9788673619221373,-1.9672499393023573,-1.9153088903556648,-1.9131199824589116,-1.889083096541453,-1.882013337198292,-1.848302720603952,-1.826158054381194,-1.8224460191406875,-1.820283758317885,-1.7812995897214707,-1.7620042652603418,-1.7617934889329752,-1.7494531701043197,-1.739252843137808,-1.7342787123858638,-1.7327997271236006,-1.7178120486207502,-1.7149480233980383,-1.7075687926138075,-1.678689066374531,-1.668226960817117,-1.6506957034161045,-1.6503582536085328,-1.6204789505033537,-1.6173297501590138,-1.6118714630032334,-1.6086981070362938,-1.5913150291545692,-1.5881978507259118,-1.5801069795370368,-1.5479513936305438,-1.5370464557604147,-1.5286021742401756,-1.5273458508744995,-1.525997657191582,-1.523907977384548,-1.5176073960601288,-1.509864355127319,-1.502818130649273,-1.4980235104155755,-1.4868532512490824,-1.4846769282232906,-1.46821113518722,-1.4602916473899403,-1.4514925781575165,-1.450610175310549,-1.4475058957348168,-1.4326840821184113,-1.4324579251709288,-1.4251364370633073,-1.4245699518677686,-1.4232208527194792,-1.4158443032362902,-1.412272238836059,-1.405458846917898,-1.4002864989200252,-1.3954069241551854,-1.389635911465869,-1.385070210759962,-1.3806987274213334,-1.3755197908902812,-1.373527534716067,-1.3643757462197448,-1.3616476908981243,-1.356489085531788,-1.3371147882776724,-1.3286277060281069,-1.3196985526940133,-1.3040960278789016,-1.303017422373001,-1.2938528443224873,-1.2902442115043211,-1.2895843478919602,-1.2881395778440092,-1.287930539217061,-1.2861618829560355,-1.280098656409263,-1.271501398677824,-1.2702308008966836,-1.2618316796093831,-1.2594532058719043,-1.2288879039525005,-1.2266684795694596,-1.2228928317230574,-1.2206615193622443,-1.2165340062205006,-1.2160118669982989,-1.2145708076959831,-1.2128126917333784,-1.2073301903803924,-1.1993350593094187,-1.1916436546351346,-1.1804742260955745,-1.1671622195294487,-1.1637785996334882,-1.157685306776683,-1.1551400130519553,-1.1534635887846265,-1.153035539328639,-1.1475262014770713,-1.1453313526838358,-1.14003094560646,-1.1364162942709295,-1.1339177426556835,-1.1333698504787084,-1.132764138148872,-1.1306530895641498,-1.126297620547942,-1.1230516704325242,-1.1215971571765764,-1.1214286093043695,-1.1080627021187195,-1.1041904236902373,-1.081941895114053,-1.0799160807761208,-1.0775364050138387,-1.0724001051375238,-1.0617464519061912,-1.0598389343690278,-1.0477777049333967,-1.0439252191907884,-1.040693600220372,-1.0404129993702578,-1.03951101182139,-1.0358692630324284,-1.0287959871809496,-1.0239318824916113,-1.0232436140197758,-1.0228523070664413,-1.0213046590979642,-1.0205875052601259,-1.011113262797877,-1.0080934330654863,-1.006589841332282,-0.9902442045230812,-0.9891669080901537,-0.9848746073505876,-0.9771830135121801,-0.9750600476578719,-0.9727889008265684,-0.9685658288757227,-0.9634403256562618,-0.9629707431654573,-0.9624417770247634,-0.9574923014438953,-0.9523561706474434,-0.9422522922794816,-0.9397597502302046,-0.9376233494059012,-0.9309774272568058,-0.930645881940543,-0.9304544844273602,-0.9253676176693278,-0.9225038916932601,-0.9219315478028366,-0.9126073875424139,-0.911152416310477,-0.9058023922725332,-0.8962662921778503,-0.8945667916381443,-0.8873021640390356,-0.8865226578123706,-0.8860879236118868,-0.8855803200080603,-0.885369686328559,-0.8813273584155858,-0.8804340619132015,-0.8785236780903517,-0.8697560112217572,-0.8643655929125891,-0.8640937446445763,-0.8624661083893559,-0.8469433368196536,-0.8465326406624357,-0.8454036708059225,-0.8443276599964128,-0.8400768830717756,-0.8378403687918757,-0.8351868034539204,-0.8333336837069948,-0.8258583409780205,-0.8206185359375641,-0.8129704848635114,-0.8127080948281908,-0.809418839039529,-0.8022676204392225,-0.8014769268507494,-0.7999037453750616,-0.7984500759497942,-0.79709837109925,-0.7967838284449752,-0.7939527896428208,-0.7885699897018584,-0.7871951023140137,-0.7854538242801092,-0.7784618563842138,-0.7770579821863541,-0.7766497491149855,-0.7741900184991154,-0.768999657564846,-0.7677901236505345,-0.7576286677778498,-0.756055336730141,-0.7549549980197952,-0.7507627350529925,-0.7485515722742816,-0.7439515051029211,-0.7430363352122578,-0.7348821263792991,-0.7283244334553357,-0.7279437007344971,-0.72665602882629,-0.7229503108853832,-0.717704431707363,-0.7170154445678179,-0.7143231897504205,-0.7055730948237522,-0.7038193938855638,-0.699445708463136,-0.6988579239689678,-0.6976919535455904,-0.6924845915037785,-0.6918154311509882,-0.6889003720156641,-0.6883467407600421,-0.6822681873719516,-0.6816695999926556,-0.6767544513726695,-0.6762331611407725,-0.6739545907357973,-0.6733907273276505,-0.6679856815844915,-0.6673311308328832,-0.6664527790346987,-0.66560542351072,-0.6555299927074868,-0.6472457894064706,-0.6443443882233749,-0.6423194037341615,-0.6391390060662747,-0.6384205166394317,-0.6322801114910738,-0.6301032320640931,-0.6298224793420429,-0.6283027404443562,-0.6268805552279475,-0.6244913925745103,-0.6243741612324689,-0.6235814806330224,-0.622101201625038,-0.6195817366497922,-0.6172317854999347,-0.6081540988255444,-0.6074190357000786,-0.6060057993268453,-0.604827355845414,-0.5973637521032128,-0.5972169860674945,-0.5947239094186649,-0.5899033525854075,-0.5889912435840625,-0.5805977506425058,-0.5804856683674033,-0.5743329962074042,-0.5741244443370934,-0.5726547201020906,-0.5708000578768434,-0.5667458813764709,-0.5661942029919186,-0.562591967491304,-0.5593449252820235,-0.5558913478275991,-0.5532861638118907,-0.5518585246629768,-0.5490084560578807,-0.5447250887689291,-0.5423319023226223,-0.5418645477553805,-0.5361161734659412,-0.5335692790230709,-0.525503186213384,-0.5216654325815724,-0.5204395698906854,-0.5180465018754166,-0.5172022946850535,-0.5135055203002505,-0.5131124874677138,-0.5069333499478373,-0.503424180378713,-0.5004703653430315,-0.49945592385531706,-0.49697723621238254,-0.4925520780867666,-0.4924907337587139,-0.48940530559241746,-0.4886192846434189,-0.48225497956513724,-0.47879460452571126,-0.47701685480017897,-0.47645588088658025,-0.4741730643913724,-0.4735287035936783,-0.47341441555456176,-0.4718579352039361,-0.46472507687635833,-0.463828401318421,-0.4597114685991715,-0.45769156529002025,-0.4461944363555548,-0.44467734914647844,-0.4438950299468853,-0.44320597955946983,-0.44006910619856365,-0.4385580071177394,-0.43745255089837154,-0.4356104544860426,-0.43193969995185644,-0.4319248703666391,-0.43148562166481896,-0.4282615277626681,-0.42706911237637346,-0.4162947769418587,-0.4143372010505992,-0.4108452317569281,-0.40880874520408633,-0.40534565690318275,-0.4029182566395361,-0.3933609628199298,-0.38900184792631537,-0.38149743917507756,-0.3807497007123074,-0.3791149876924991,-0.3772181914347351,-0.37576241770221086,-0.3690195696349935,-0.3661592052484092,-0.3614728883482683,-0.36125374563690965,-0.3601504758757779,-0.35937785402074157,-0.35424576801743396,-0.35396989225866415,-0.35029951794231834,-0.3479259823185589,-0.3476659792700526,-0.3419055039765288,-0.3415652359071017,-0.3405712466473612,-0.3387685042636369,-0.33817643631263555,-0.3361154376267399,-0.3361054135829739,-0.3356718032526221,-0.3343208798731028,-0.33358609458156546,-0.32981669506575445,-0.32785521709455356,-0.3231304415631719,-0.32043877467579074,-0.3153998438750664,-0.3151667950132367,-0.3133274398347694,-0.31161273969594727,-0.31109196001462985,-0.29958458255478604,-0.2957974896143697,-0.29559393350422175,-0.2941818963285529,-0.2912635353614461,-0.28593046837036556,-0.2771686912771364,-0.27399469320693987,-0.271502305477108,-0.2709168699538817,-0.267788392473752,-0.26476305802318895,-0.26089564178724933,-0.26060280624861254,-0.2586052720101073,-0.256086045555994,-0.2556795033179919,-0.2546757251062182,-0.24592964550554997,-0.24534064699066382,-0.24137419358940543,-0.24020307435081456,-0.23999575778444882,-0.2358272961740752,-0.23420573457069369,-0.23379800320216557,-0.22900500043420213,-0.22771772424479556,-0.2243739959238412,-0.22426141342563558,-0.22321924807053653,-0.2222326811895599,-0.22206462082876052,-0.2189955320309384,-0.2146706228765669,-0.21463958936146862,-0.21425632569124597,-0.21119205440331312,-0.208491884200477,-0.20638005581984736,-0.20528312307449134,-0.2008011960501368,-0.19946228058154347,-0.19611259270662812,-0.19384273973863922,-0.1838270498175882,-0.18378020020707195,-0.17680431435785174,-0.17664920510046553,-0.17474094450599353,-0.1743199417944344,-0.17239154369080228,-0.17224768463394313,-0.17038396552638974,-0.16991605932385384,-0.16896684126603131,-0.16662370324688033,-0.1656686343644231,-0.16295137835758022,-0.1620053275689852,-0.15979721161841232,-0.158295257842024,-0.156487646798657,-0.15472265274326774,-0.15222499298620037,-0.14154395064841455,-0.14127762653807532,-0.13565360074026628,-0.13552588482126945,-0.13530513955314719,-0.13405971115830753,-0.13212145127062427,-0.12975126342152493,-0.12538651486020605,-0.12458456311429732,-0.12400169785591127,-0.12280197755496648,-0.12230383002669412,-0.11899626306368676,-0.1145524582545254,-0.1130199740977499,-0.10303489365293964,-0.09523811239377081,-0.09449821357659967,-0.09132358754047162,-0.09110916539291224,-0.09062342168650935,-0.08920649757497502,-0.08740993536910999,-0.08409657745351838,-0.0839127218347771,-0.08357058357285085,-0.07496677122495843,-0.07422651022313687,-0.07383519802616309,-0.06377894579516492,-0.06297086861002486,-0.061097631094597926,-0.05837184735779476,-0.05661709842308209,-0.0528425632951364,-0.052827706441118574,-0.046616411711514184,-0.041225018540431875,-0.04078655843270522,-0.04000899824319223,-0.03632880721483374,-0.0334752292181179,-0.032750752207284115,-0.0284064156410388,-0.023958695262862224,-0.023908165171583975,-0.02247133444461247,-0.02181347668170736,-0.02047501303847177,-0.01739439369018648,-0.016535425123667735,-0.014237566276271315,-0.007191834878799484,-0.005472131694427112,-0.003699546717569801,-0.0029760554466175056,-0.002795424548954191,-0.00039705398988154286,0.00009228300959661816,0.0028421687036671367,0.008334286121345399,0.008379659615241846,0.01472552871233803,0.016640232624137337,0.018354197369886822,0.020315387081638586,0.020412337545978328,0.02080760390226598,0.02988195053614484,0.031437156217676336,0.031621002957457976,0.033605168511139975,0.03830390215726383,0.0442154970265464,0.04969984947188961,0.05289535919169504,0.05761450720013523,0.05994595068238346,0.0655859794223959,0.06750565109962976,0.0688950594350855,0.06895043490681323,0.07034377501891578,0.07059071642184561,0.07120468561845139,0.07520994710317978,0.0801171145237053,0.08405711837048029,0.08655683880697221,0.08810305459278463,0.09089031069663722,0.0910475564293298,0.09679423456249658,0.0969901165991019,0.09710926234770412,0.0999544997968851,0.10153567343156583,0.10202060198437342,0.1028853840324955,0.10417992837803575,0.10680179268653416,0.10744324535895991,0.11065417727098718,0.11212691031849786,0.11377808751749759,0.11692339458987953,0.1180652336541034,0.11830124885805553,0.1185188565435681,0.12012351861017408,0.12077034778529692,0.12232135966579985,0.1307626655479185,0.13591711379991248,0.13765304320954092,0.13880736752828393,0.14023257424170715,0.14030159889115118,0.14039546427551025,0.14967619568526339,0.15365740177986173,0.15602185224999238,0.1580811461577324,0.15966906917763002,0.15983618188015522,0.1627284721765433,0.16971976827586727,0.17234399739904344,0.18163880250794015,0.1823823871093364,0.18317079237732314,0.18944839177705627,0.19398762116566268,0.19535898386158312,0.2064185543358089,0.20788050628813895,0.2144533458177042,0.21521711405466798,0.21775432548103643,0.220670150971602,0.22150129294118723,0.22302216698588764,0.2263052188066183,0.2284232704228214,0.22908319974356317,0.2294224361467734,0.2301624574730821,0.2301700724830343,0.2303214662288114,0.23342758572447897,0.23526315030212336,0.23577204704863658,0.23580693165805558,0.2441248398160598,0.24441176264056516,0.2505867150367613,0.2515296245415917,0.2640980411127237,0.2650471825339272,0.26645441792220015,0.2695447387635019,0.2707977135885463,0.2729551221787954,0.27715056419112394,0.27748308246470227,0.2788408442318787,0.2853920666653776,0.28702648782990386,0.2884917491761121,0.292255222305964,0.2949888544975905,0.301330977295088,0.30307328311370413,0.30585416714636143,0.3084336151262972,0.310342328779031,0.3197166919941372,0.3198627669261082,0.3207182354408495,0.32501238893659606,0.3257903331013064,0.32843265855890796,0.3286282235274775,0.32926902363516364,0.33436528391192505,0.3355039883328669,0.33702641252952387,0.3405769828912079,0.34198861308138484,0.3421759177457109,0.3556245182737315,0.36240129312541003,0.3645314937300707,0.3668859982518398,0.3669633739876963,0.36739454211131034,0.3679192267718773,0.370093377776324,0.37077410121237186,0.3796685946138542,0.3812645320769103,0.38393414956668104,0.3856795952296723,0.39044176290407057,0.3913738131959145,0.39682490004294546,0.40084632208621224,0.401533349557936,0.4027165522509757,0.40388919626501746,0.4084513532775922,0.41746914682624114,0.41790430251519317,0.4189003885152889,0.4194064409558616,0.42279001764674395,0.42624293847476674,0.42778045008468835,0.42789553212080167,0.4279915348181539,0.4369733067463148,0.43845571688146395,0.44086662724260295,0.4412504208264269,0.44240116619330644,0.4471437438794303,0.4478473238427928,0.45082659045998075,0.4592915621931062,0.46368158949814503,0.4639524203356957,0.46569998221638004,0.4679976861849059,0.4697799755951211,0.4741486081854509,0.476970516886383,0.47700890643381955,0.47793318221804565,0.4945219024851237,0.49626255892603616,0.500693905582132,0.5007832693447044,0.5064894974338904,0.5065183741070822,0.506938912490028,0.5140755335260347,0.519837294079735,0.529299078621948,0.531005748469331,0.5340870228038994,0.5381507735669706,0.5393354235937872,0.5410297010177383,0.552995197918063,0.5536551136313861,0.5551757477341313,0.5576752502791327,0.5580893586702286,0.5646622904526205,0.5672470475300236,0.5691806197193564,0.5723490695224319,0.5760053544072563,0.5828762386766956,0.582932907958359,0.5867657544533481,0.5876714978973717,0.5899402510096879,0.5914174897341616,0.5916905392347351,0.5922986946648315,0.5927660584397826,0.593086894055581,0.5932401036618228,0.6012872141381951,0.6070597372632515,0.6077668665130744,0.6112868510751016,0.612065397131532,0.615357412742596,0.6277898118284622,0.6306323334458834,0.634013190632918,0.6348879867785485,0.6374107776821376,0.638271360268675,0.6383111968935951,0.6428159286297308,0.6428273621427633,0.6434989996901389,0.6486063557017082,0.6492335067267525,0.6526879132725997,0.6803336653177249,0.6820509524879597,0.6930812918754986,0.695235228231952,0.6966985856569999,0.7014404191484885,0.7039321110431297,0.7154239995888919,0.716233385767322,0.7176622301792377,0.7188626972512567,0.7207269377396405,0.7217765806433669,0.7259631800032861,0.7379593154642219,0.7389473770390315,0.7489443319867125,0.7523642630143238,0.7555948271105974,0.7615062454432788,0.7652134960487152,0.7675988065883134,0.7678014678267162,0.7703614743933574,0.7719378888037461,0.775529812361069,0.776322270978682,0.778697548868357,0.7795324108067061,0.7805379468867466,0.7835319378180357,0.7845436918169386,0.7848062627369811,0.7879057908541656,0.7913435358562252,0.7972877169832672,0.8051832232631783,0.8125360500320851,0.8169569158386825,0.8173934551231024,0.8189732568502064,0.8373831121358297,0.8451003262398634,0.8454833782981405,0.8465738575265467,0.8470601562964841,0.8471727176711543,0.8512524623031013,0.855029888080093,0.8581785236861104,0.8668134706947163,0.8692179186441366,0.8707091450082894,0.8777590776962155,0.8794549114707845,0.8846361653751951,0.8852354061378838,0.8853572167205508,0.8934859716191005,0.9015705532115155,0.906800863953868,0.9239158642492261,0.9256297213341155,0.9257471512547022,0.9342625455549578,0.936038291973422,0.9403741174911856,0.9478112965013579,0.9479255509836141,0.951125577493298,0.9516339009616767,0.9521010948154197,0.9700123713450396,0.9736461151503043,0.9783954919633593,0.985889338723191,0.9888380025810711,0.988927793268228,0.9943054560869766,0.994505729825334,0.9965029628038469,0.9995328128553146,1.0037157342340104,1.010738269814327,1.0143497299815232,1.0167359445867572,1.025325009457823,1.0288984205725558,1.0325107085102623,1.0348029938491765,1.0350031601721768,1.036023492250497,1.037242964671422,1.037248374710668,1.0375005545304956,1.0526808306358006,1.0591944767143355,1.0606398413157003,1.0637434766495222,1.064465089990768,1.0780859941942709,1.0817210120069334,1.088309308642337,1.0925947269848022,1.0997881386769965,1.1034899513736558,1.1046519980454355,1.107239516779559,1.110466005135783,1.1148092198739916,1.1171530752380106,1.1249430290253064,1.1255370825538935,1.1333467310193088,1.1340687917563035,1.1346120430309232,1.1391986784812358,1.1420871317013161,1.1437792667432212,1.144117778776754,1.154559977316729,1.154613321971247,1.1563880579991028,1.1579878060879287,1.1590482915354576,1.1609225766991267,1.1618218821368995,1.1634389487644203,1.1643569213653242,1.1668224827902616,1.1704819651160523,1.1787023043587537,1.1810206306854487,1.182443581992566,1.2075453210989098,1.2137982139390848,1.2160128648509636,1.218283636071999,1.2256624608641624,1.2355166870563188,1.238047149705025,1.2421977106566655,1.2478274923181516,1.249163438508918,1.2583240679592385,1.2649127119048251,1.2736695959418005,1.2737430712880748,1.2764730129041124,1.2814553633951151,1.284606708563431,1.2960759199999679,1.2979898120141464,1.2986773420857471,1.3040274740224305,1.3065932510550036,1.3293109107628245,1.3476043380838603,1.362155048674503,1.3691464164574545,1.4041779706105477,1.4046266368656275,1.4084892477623583,1.4117302378279644,1.4174147413323153,1.4180720878592799,1.4191104861840564,1.425439443553083,1.4305232141084752,1.435074739540777,1.435276720446497,1.4644978863232636,1.4645130813996596,1.4681887669182128,1.4824637224496815,1.4880423607431261,1.498604112147645,1.5129890551265526,1.515072621985649,1.5162566686965244,1.5196934580879635,1.5218600536502331,1.533565226429106,1.5362747783420865,1.536505676494278,1.5698866642889928,1.574205457832182,1.5775848885050907,1.5778377151791307,1.578704929267342,1.594918897566649,1.6018409919594512,1.6076322014033173,1.6190067206062884,1.6241908884306566,1.6262251762476825,1.634300616980611,1.6543321167162102,1.6765500369865278,1.6793153517559656,1.7073676484775506,1.7227190159753667,1.744849991507864,1.7473276632316574,1.7969743408954288,1.8188735405639587,1.820181309960025,1.8315465782286775,1.8323401075373245,1.8334143655017712,1.8352657446645888,1.8378537633134844,1.8381297227531004,1.8571101128064798,1.8841239133461676,1.8855109749324834,1.9127160319763847,1.9222876505816944,1.943163176486207,1.9609393527927061,2.0029019178804925,2.0165760238232453,2.0172207830010374,2.048160650677286,2.051206888472015,2.0530892325145316,2.0620658113753,2.0640080887681793,2.0887456836438827,2.1177555671277783,2.1197766846540453,2.120172367195324,2.121184607780522,2.1572099158495406,2.1690549996559954,2.2450983611486017,2.27625365284516,2.2817758193632454,2.2973778080544016,2.308486069492984,2.3143229168228006,2.3431117017861784,2.3476350422052814,2.4037661179586203,2.468442431516889,2.478811608851873,2.509327988310112,2.514617051783916,2.618924765353588,2.626476609154539,2.633242186750665,2.656373546693534,3.1321601805429324],\"yaxis\":\"y\",\"type\":\"scatter\"}],                        {\"template\":{\"data\":{\"histogram2dcontour\":[{\"type\":\"histogram2dcontour\",\"colorbar\":{\"outlinewidth\":0,\"ticks\":\"\"},\"colorscale\":[[0.0,\"#0d0887\"],[0.1111111111111111,\"#46039f\"],[0.2222222222222222,\"#7201a8\"],[0.3333333333333333,\"#9c179e\"],[0.4444444444444444,\"#bd3786\"],[0.5555555555555556,\"#d8576b\"],[0.6666666666666666,\"#ed7953\"],[0.7777777777777778,\"#fb9f3a\"],[0.8888888888888888,\"#fdca26\"],[1.0,\"#f0f921\"]]}],\"choropleth\":[{\"type\":\"choropleth\",\"colorbar\":{\"outlinewidth\":0,\"ticks\":\"\"}}],\"histogram2d\":[{\"type\":\"histogram2d\",\"colorbar\":{\"outlinewidth\":0,\"ticks\":\"\"},\"colorscale\":[[0.0,\"#0d0887\"],[0.1111111111111111,\"#46039f\"],[0.2222222222222222,\"#7201a8\"],[0.3333333333333333,\"#9c179e\"],[0.4444444444444444,\"#bd3786\"],[0.5555555555555556,\"#d8576b\"],[0.6666666666666666,\"#ed7953\"],[0.7777777777777778,\"#fb9f3a\"],[0.8888888888888888,\"#fdca26\"],[1.0,\"#f0f921\"]]}],\"heatmap\":[{\"type\":\"heatmap\",\"colorbar\":{\"outlinewidth\":0,\"ticks\":\"\"},\"colorscale\":[[0.0,\"#0d0887\"],[0.1111111111111111,\"#46039f\"],[0.2222222222222222,\"#7201a8\"],[0.3333333333333333,\"#9c179e\"],[0.4444444444444444,\"#bd3786\"],[0.5555555555555556,\"#d8576b\"],[0.6666666666666666,\"#ed7953\"],[0.7777777777777778,\"#fb9f3a\"],[0.8888888888888888,\"#fdca26\"],[1.0,\"#f0f921\"]]}],\"heatmapgl\":[{\"type\":\"heatmapgl\",\"colorbar\":{\"outlinewidth\":0,\"ticks\":\"\"},\"colorscale\":[[0.0,\"#0d0887\"],[0.1111111111111111,\"#46039f\"],[0.2222222222222222,\"#7201a8\"],[0.3333333333333333,\"#9c179e\"],[0.4444444444444444,\"#bd3786\"],[0.5555555555555556,\"#d8576b\"],[0.6666666666666666,\"#ed7953\"],[0.7777777777777778,\"#fb9f3a\"],[0.8888888888888888,\"#fdca26\"],[1.0,\"#f0f921\"]]}],\"contourcarpet\":[{\"type\":\"contourcarpet\",\"colorbar\":{\"outlinewidth\":0,\"ticks\":\"\"}}],\"contour\":[{\"type\":\"contour\",\"colorbar\":{\"outlinewidth\":0,\"ticks\":\"\"},\"colorscale\":[[0.0,\"#0d0887\"],[0.1111111111111111,\"#46039f\"],[0.2222222222222222,\"#7201a8\"],[0.3333333333333333,\"#9c179e\"],[0.4444444444444444,\"#bd3786\"],[0.5555555555555556,\"#d8576b\"],[0.6666666666666666,\"#ed7953\"],[0.7777777777777778,\"#fb9f3a\"],[0.8888888888888888,\"#fdca26\"],[1.0,\"#f0f921\"]]}],\"surface\":[{\"type\":\"surface\",\"colorbar\":{\"outlinewidth\":0,\"ticks\":\"\"},\"colorscale\":[[0.0,\"#0d0887\"],[0.1111111111111111,\"#46039f\"],[0.2222222222222222,\"#7201a8\"],[0.3333333333333333,\"#9c179e\"],[0.4444444444444444,\"#bd3786\"],[0.5555555555555556,\"#d8576b\"],[0.6666666666666666,\"#ed7953\"],[0.7777777777777778,\"#fb9f3a\"],[0.8888888888888888,\"#fdca26\"],[1.0,\"#f0f921\"]]}],\"mesh3d\":[{\"type\":\"mesh3d\",\"colorbar\":{\"outlinewidth\":0,\"ticks\":\"\"}}],\"scatter\":[{\"fillpattern\":{\"fillmode\":\"overlay\",\"size\":10,\"solidity\":0.2},\"type\":\"scatter\"}],\"parcoords\":[{\"type\":\"parcoords\",\"line\":{\"colorbar\":{\"outlinewidth\":0,\"ticks\":\"\"}}}],\"scatterpolargl\":[{\"type\":\"scatterpolargl\",\"marker\":{\"colorbar\":{\"outlinewidth\":0,\"ticks\":\"\"}}}],\"bar\":[{\"error_x\":{\"color\":\"#2a3f5f\"},\"error_y\":{\"color\":\"#2a3f5f\"},\"marker\":{\"line\":{\"color\":\"#E5ECF6\",\"width\":0.5},\"pattern\":{\"fillmode\":\"overlay\",\"size\":10,\"solidity\":0.2}},\"type\":\"bar\"}],\"scattergeo\":[{\"type\":\"scattergeo\",\"marker\":{\"colorbar\":{\"outlinewidth\":0,\"ticks\":\"\"}}}],\"scatterpolar\":[{\"type\":\"scatterpolar\",\"marker\":{\"colorbar\":{\"outlinewidth\":0,\"ticks\":\"\"}}}],\"histogram\":[{\"marker\":{\"pattern\":{\"fillmode\":\"overlay\",\"size\":10,\"solidity\":0.2}},\"type\":\"histogram\"}],\"scattergl\":[{\"type\":\"scattergl\",\"marker\":{\"colorbar\":{\"outlinewidth\":0,\"ticks\":\"\"}}}],\"scatter3d\":[{\"type\":\"scatter3d\",\"line\":{\"colorbar\":{\"outlinewidth\":0,\"ticks\":\"\"}},\"marker\":{\"colorbar\":{\"outlinewidth\":0,\"ticks\":\"\"}}}],\"scattermapbox\":[{\"type\":\"scattermapbox\",\"marker\":{\"colorbar\":{\"outlinewidth\":0,\"ticks\":\"\"}}}],\"scatterternary\":[{\"type\":\"scatterternary\",\"marker\":{\"colorbar\":{\"outlinewidth\":0,\"ticks\":\"\"}}}],\"scattercarpet\":[{\"type\":\"scattercarpet\",\"marker\":{\"colorbar\":{\"outlinewidth\":0,\"ticks\":\"\"}}}],\"carpet\":[{\"aaxis\":{\"endlinecolor\":\"#2a3f5f\",\"gridcolor\":\"white\",\"linecolor\":\"white\",\"minorgridcolor\":\"white\",\"startlinecolor\":\"#2a3f5f\"},\"baxis\":{\"endlinecolor\":\"#2a3f5f\",\"gridcolor\":\"white\",\"linecolor\":\"white\",\"minorgridcolor\":\"white\",\"startlinecolor\":\"#2a3f5f\"},\"type\":\"carpet\"}],\"table\":[{\"cells\":{\"fill\":{\"color\":\"#EBF0F8\"},\"line\":{\"color\":\"white\"}},\"header\":{\"fill\":{\"color\":\"#C8D4E3\"},\"line\":{\"color\":\"white\"}},\"type\":\"table\"}],\"barpolar\":[{\"marker\":{\"line\":{\"color\":\"#E5ECF6\",\"width\":0.5},\"pattern\":{\"fillmode\":\"overlay\",\"size\":10,\"solidity\":0.2}},\"type\":\"barpolar\"}],\"pie\":[{\"automargin\":true,\"type\":\"pie\"}]},\"layout\":{\"autotypenumbers\":\"strict\",\"colorway\":[\"#636efa\",\"#EF553B\",\"#00cc96\",\"#ab63fa\",\"#FFA15A\",\"#19d3f3\",\"#FF6692\",\"#B6E880\",\"#FF97FF\",\"#FECB52\"],\"font\":{\"color\":\"#2a3f5f\"},\"hovermode\":\"closest\",\"hoverlabel\":{\"align\":\"left\"},\"paper_bgcolor\":\"white\",\"plot_bgcolor\":\"#E5ECF6\",\"polar\":{\"bgcolor\":\"#E5ECF6\",\"angularaxis\":{\"gridcolor\":\"white\",\"linecolor\":\"white\",\"ticks\":\"\"},\"radialaxis\":{\"gridcolor\":\"white\",\"linecolor\":\"white\",\"ticks\":\"\"}},\"ternary\":{\"bgcolor\":\"#E5ECF6\",\"aaxis\":{\"gridcolor\":\"white\",\"linecolor\":\"white\",\"ticks\":\"\"},\"baxis\":{\"gridcolor\":\"white\",\"linecolor\":\"white\",\"ticks\":\"\"},\"caxis\":{\"gridcolor\":\"white\",\"linecolor\":\"white\",\"ticks\":\"\"}},\"coloraxis\":{\"colorbar\":{\"outlinewidth\":0,\"ticks\":\"\"}},\"colorscale\":{\"sequential\":[[0.0,\"#0d0887\"],[0.1111111111111111,\"#46039f\"],[0.2222222222222222,\"#7201a8\"],[0.3333333333333333,\"#9c179e\"],[0.4444444444444444,\"#bd3786\"],[0.5555555555555556,\"#d8576b\"],[0.6666666666666666,\"#ed7953\"],[0.7777777777777778,\"#fb9f3a\"],[0.8888888888888888,\"#fdca26\"],[1.0,\"#f0f921\"]],\"sequentialminus\":[[0.0,\"#0d0887\"],[0.1111111111111111,\"#46039f\"],[0.2222222222222222,\"#7201a8\"],[0.3333333333333333,\"#9c179e\"],[0.4444444444444444,\"#bd3786\"],[0.5555555555555556,\"#d8576b\"],[0.6666666666666666,\"#ed7953\"],[0.7777777777777778,\"#fb9f3a\"],[0.8888888888888888,\"#fdca26\"],[1.0,\"#f0f921\"]],\"diverging\":[[0,\"#8e0152\"],[0.1,\"#c51b7d\"],[0.2,\"#de77ae\"],[0.3,\"#f1b6da\"],[0.4,\"#fde0ef\"],[0.5,\"#f7f7f7\"],[0.6,\"#e6f5d0\"],[0.7,\"#b8e186\"],[0.8,\"#7fbc41\"],[0.9,\"#4d9221\"],[1,\"#276419\"]]},\"xaxis\":{\"gridcolor\":\"white\",\"linecolor\":\"white\",\"ticks\":\"\",\"title\":{\"standoff\":15},\"zerolinecolor\":\"white\",\"automargin\":true,\"zerolinewidth\":2},\"yaxis\":{\"gridcolor\":\"white\",\"linecolor\":\"white\",\"ticks\":\"\",\"title\":{\"standoff\":15},\"zerolinecolor\":\"white\",\"automargin\":true,\"zerolinewidth\":2},\"scene\":{\"xaxis\":{\"backgroundcolor\":\"#E5ECF6\",\"gridcolor\":\"white\",\"linecolor\":\"white\",\"showbackground\":true,\"ticks\":\"\",\"zerolinecolor\":\"white\",\"gridwidth\":2},\"yaxis\":{\"backgroundcolor\":\"#E5ECF6\",\"gridcolor\":\"white\",\"linecolor\":\"white\",\"showbackground\":true,\"ticks\":\"\",\"zerolinecolor\":\"white\",\"gridwidth\":2},\"zaxis\":{\"backgroundcolor\":\"#E5ECF6\",\"gridcolor\":\"white\",\"linecolor\":\"white\",\"showbackground\":true,\"ticks\":\"\",\"zerolinecolor\":\"white\",\"gridwidth\":2}},\"shapedefaults\":{\"line\":{\"color\":\"#2a3f5f\"}},\"annotationdefaults\":{\"arrowcolor\":\"#2a3f5f\",\"arrowhead\":0,\"arrowwidth\":1},\"geo\":{\"bgcolor\":\"white\",\"landcolor\":\"#E5ECF6\",\"subunitcolor\":\"white\",\"showland\":true,\"showlakes\":true,\"lakecolor\":\"white\"},\"title\":{\"x\":0.05},\"mapbox\":{\"style\":\"light\"}}},\"xaxis\":{\"anchor\":\"y\",\"domain\":[0.0,1.0],\"title\":{\"text\":\"data\"}},\"yaxis\":{\"anchor\":\"x\",\"domain\":[0.0,1.0],\"title\":{\"text\":\"linear\"},\"range\":[-2,2]},\"legend\":{\"tracegroupgap\":0},\"margin\":{\"t\":60},\"width\":800},                        {\"responsive\": true}                    ).then(function(){\n",
              "                            \n",
              "var gd = document.getElementById('53c05ce1-04e9-494b-b559-6eadce5fc959');\n",
              "var x = new MutationObserver(function (mutations, observer) {{\n",
              "        var display = window.getComputedStyle(gd).display;\n",
              "        if (!display || display === 'none') {{\n",
              "            console.log([gd, 'removed!']);\n",
              "            Plotly.purge(gd);\n",
              "            observer.disconnect();\n",
              "        }}\n",
              "}});\n",
              "\n",
              "// Listen for the removal of the full notebook cells\n",
              "var notebookContainer = gd.closest('#notebook-container');\n",
              "if (notebookContainer) {{\n",
              "    x.observe(notebookContainer, {childList: true});\n",
              "}}\n",
              "\n",
              "// Listen for the clearing of the current output cell\n",
              "var outputEl = gd.closest('.output');\n",
              "if (outputEl) {{\n",
              "    x.observe(outputEl, {childList: true});\n",
              "}}\n",
              "\n",
              "                        })                };                            </script>        </div>\n",
              "</body>\n",
              "</html>"
            ]
          },
          "metadata": {}
        }
      ]
    },
    {
      "cell_type": "code",
      "source": [
        "# funkcja ReLU - zeruje wartości ujemne\n",
        "\n",
        "from tensorflow.keras.activations import relu\n",
        "\n",
        "data = pd.DataFrame({'data': random_data, 'relu': relu(random_data)})\n",
        "data.head()"
      ],
      "metadata": {
        "colab": {
          "base_uri": "https://localhost:8080/",
          "height": 206
        },
        "id": "wDq1A8450Jt2",
        "outputId": "ccf5f708-0365-4be6-a568-3909d88a10a1"
      },
      "execution_count": 9,
      "outputs": [
        {
          "output_type": "execute_result",
          "data": {
            "text/plain": [
              "       data  relu\n",
              "0 -2.945486   0.0\n",
              "1 -2.926548   0.0\n",
              "2 -2.751397   0.0\n",
              "3 -2.699644   0.0\n",
              "4 -2.683651   0.0"
            ],
            "text/html": [
              "\n",
              "  <div id=\"df-c9294515-ab77-4399-b5d6-bbc148a876d3\" class=\"colab-df-container\">\n",
              "    <div>\n",
              "<style scoped>\n",
              "    .dataframe tbody tr th:only-of-type {\n",
              "        vertical-align: middle;\n",
              "    }\n",
              "\n",
              "    .dataframe tbody tr th {\n",
              "        vertical-align: top;\n",
              "    }\n",
              "\n",
              "    .dataframe thead th {\n",
              "        text-align: right;\n",
              "    }\n",
              "</style>\n",
              "<table border=\"1\" class=\"dataframe\">\n",
              "  <thead>\n",
              "    <tr style=\"text-align: right;\">\n",
              "      <th></th>\n",
              "      <th>data</th>\n",
              "      <th>relu</th>\n",
              "    </tr>\n",
              "  </thead>\n",
              "  <tbody>\n",
              "    <tr>\n",
              "      <th>0</th>\n",
              "      <td>-2.945486</td>\n",
              "      <td>0.0</td>\n",
              "    </tr>\n",
              "    <tr>\n",
              "      <th>1</th>\n",
              "      <td>-2.926548</td>\n",
              "      <td>0.0</td>\n",
              "    </tr>\n",
              "    <tr>\n",
              "      <th>2</th>\n",
              "      <td>-2.751397</td>\n",
              "      <td>0.0</td>\n",
              "    </tr>\n",
              "    <tr>\n",
              "      <th>3</th>\n",
              "      <td>-2.699644</td>\n",
              "      <td>0.0</td>\n",
              "    </tr>\n",
              "    <tr>\n",
              "      <th>4</th>\n",
              "      <td>-2.683651</td>\n",
              "      <td>0.0</td>\n",
              "    </tr>\n",
              "  </tbody>\n",
              "</table>\n",
              "</div>\n",
              "    <div class=\"colab-df-buttons\">\n",
              "\n",
              "  <div class=\"colab-df-container\">\n",
              "    <button class=\"colab-df-convert\" onclick=\"convertToInteractive('df-c9294515-ab77-4399-b5d6-bbc148a876d3')\"\n",
              "            title=\"Convert this dataframe to an interactive table.\"\n",
              "            style=\"display:none;\">\n",
              "\n",
              "  <svg xmlns=\"http://www.w3.org/2000/svg\" height=\"24px\" viewBox=\"0 -960 960 960\">\n",
              "    <path d=\"M120-120v-720h720v720H120Zm60-500h600v-160H180v160Zm220 220h160v-160H400v160Zm0 220h160v-160H400v160ZM180-400h160v-160H180v160Zm440 0h160v-160H620v160ZM180-180h160v-160H180v160Zm440 0h160v-160H620v160Z\"/>\n",
              "  </svg>\n",
              "    </button>\n",
              "\n",
              "  <style>\n",
              "    .colab-df-container {\n",
              "      display:flex;\n",
              "      gap: 12px;\n",
              "    }\n",
              "\n",
              "    .colab-df-convert {\n",
              "      background-color: #E8F0FE;\n",
              "      border: none;\n",
              "      border-radius: 50%;\n",
              "      cursor: pointer;\n",
              "      display: none;\n",
              "      fill: #1967D2;\n",
              "      height: 32px;\n",
              "      padding: 0 0 0 0;\n",
              "      width: 32px;\n",
              "    }\n",
              "\n",
              "    .colab-df-convert:hover {\n",
              "      background-color: #E2EBFA;\n",
              "      box-shadow: 0px 1px 2px rgba(60, 64, 67, 0.3), 0px 1px 3px 1px rgba(60, 64, 67, 0.15);\n",
              "      fill: #174EA6;\n",
              "    }\n",
              "\n",
              "    .colab-df-buttons div {\n",
              "      margin-bottom: 4px;\n",
              "    }\n",
              "\n",
              "    [theme=dark] .colab-df-convert {\n",
              "      background-color: #3B4455;\n",
              "      fill: #D2E3FC;\n",
              "    }\n",
              "\n",
              "    [theme=dark] .colab-df-convert:hover {\n",
              "      background-color: #434B5C;\n",
              "      box-shadow: 0px 1px 3px 1px rgba(0, 0, 0, 0.15);\n",
              "      filter: drop-shadow(0px 1px 2px rgba(0, 0, 0, 0.3));\n",
              "      fill: #FFFFFF;\n",
              "    }\n",
              "  </style>\n",
              "\n",
              "    <script>\n",
              "      const buttonEl =\n",
              "        document.querySelector('#df-c9294515-ab77-4399-b5d6-bbc148a876d3 button.colab-df-convert');\n",
              "      buttonEl.style.display =\n",
              "        google.colab.kernel.accessAllowed ? 'block' : 'none';\n",
              "\n",
              "      async function convertToInteractive(key) {\n",
              "        const element = document.querySelector('#df-c9294515-ab77-4399-b5d6-bbc148a876d3');\n",
              "        const dataTable =\n",
              "          await google.colab.kernel.invokeFunction('convertToInteractive',\n",
              "                                                    [key], {});\n",
              "        if (!dataTable) return;\n",
              "\n",
              "        const docLinkHtml = 'Like what you see? Visit the ' +\n",
              "          '<a target=\"_blank\" href=https://colab.research.google.com/notebooks/data_table.ipynb>data table notebook</a>'\n",
              "          + ' to learn more about interactive tables.';\n",
              "        element.innerHTML = '';\n",
              "        dataTable['output_type'] = 'display_data';\n",
              "        await google.colab.output.renderOutput(dataTable, element);\n",
              "        const docLink = document.createElement('div');\n",
              "        docLink.innerHTML = docLinkHtml;\n",
              "        element.appendChild(docLink);\n",
              "      }\n",
              "    </script>\n",
              "  </div>\n",
              "\n",
              "\n",
              "<div id=\"df-a3caf16f-891a-42c2-8da2-9ba036a1cb64\">\n",
              "  <button class=\"colab-df-quickchart\" onclick=\"quickchart('df-a3caf16f-891a-42c2-8da2-9ba036a1cb64')\"\n",
              "            title=\"Suggest charts\"\n",
              "            style=\"display:none;\">\n",
              "\n",
              "<svg xmlns=\"http://www.w3.org/2000/svg\" height=\"24px\"viewBox=\"0 0 24 24\"\n",
              "     width=\"24px\">\n",
              "    <g>\n",
              "        <path d=\"M19 3H5c-1.1 0-2 .9-2 2v14c0 1.1.9 2 2 2h14c1.1 0 2-.9 2-2V5c0-1.1-.9-2-2-2zM9 17H7v-7h2v7zm4 0h-2V7h2v10zm4 0h-2v-4h2v4z\"/>\n",
              "    </g>\n",
              "</svg>\n",
              "  </button>\n",
              "\n",
              "<style>\n",
              "  .colab-df-quickchart {\n",
              "      --bg-color: #E8F0FE;\n",
              "      --fill-color: #1967D2;\n",
              "      --hover-bg-color: #E2EBFA;\n",
              "      --hover-fill-color: #174EA6;\n",
              "      --disabled-fill-color: #AAA;\n",
              "      --disabled-bg-color: #DDD;\n",
              "  }\n",
              "\n",
              "  [theme=dark] .colab-df-quickchart {\n",
              "      --bg-color: #3B4455;\n",
              "      --fill-color: #D2E3FC;\n",
              "      --hover-bg-color: #434B5C;\n",
              "      --hover-fill-color: #FFFFFF;\n",
              "      --disabled-bg-color: #3B4455;\n",
              "      --disabled-fill-color: #666;\n",
              "  }\n",
              "\n",
              "  .colab-df-quickchart {\n",
              "    background-color: var(--bg-color);\n",
              "    border: none;\n",
              "    border-radius: 50%;\n",
              "    cursor: pointer;\n",
              "    display: none;\n",
              "    fill: var(--fill-color);\n",
              "    height: 32px;\n",
              "    padding: 0;\n",
              "    width: 32px;\n",
              "  }\n",
              "\n",
              "  .colab-df-quickchart:hover {\n",
              "    background-color: var(--hover-bg-color);\n",
              "    box-shadow: 0 1px 2px rgba(60, 64, 67, 0.3), 0 1px 3px 1px rgba(60, 64, 67, 0.15);\n",
              "    fill: var(--button-hover-fill-color);\n",
              "  }\n",
              "\n",
              "  .colab-df-quickchart-complete:disabled,\n",
              "  .colab-df-quickchart-complete:disabled:hover {\n",
              "    background-color: var(--disabled-bg-color);\n",
              "    fill: var(--disabled-fill-color);\n",
              "    box-shadow: none;\n",
              "  }\n",
              "\n",
              "  .colab-df-spinner {\n",
              "    border: 2px solid var(--fill-color);\n",
              "    border-color: transparent;\n",
              "    border-bottom-color: var(--fill-color);\n",
              "    animation:\n",
              "      spin 1s steps(1) infinite;\n",
              "  }\n",
              "\n",
              "  @keyframes spin {\n",
              "    0% {\n",
              "      border-color: transparent;\n",
              "      border-bottom-color: var(--fill-color);\n",
              "      border-left-color: var(--fill-color);\n",
              "    }\n",
              "    20% {\n",
              "      border-color: transparent;\n",
              "      border-left-color: var(--fill-color);\n",
              "      border-top-color: var(--fill-color);\n",
              "    }\n",
              "    30% {\n",
              "      border-color: transparent;\n",
              "      border-left-color: var(--fill-color);\n",
              "      border-top-color: var(--fill-color);\n",
              "      border-right-color: var(--fill-color);\n",
              "    }\n",
              "    40% {\n",
              "      border-color: transparent;\n",
              "      border-right-color: var(--fill-color);\n",
              "      border-top-color: var(--fill-color);\n",
              "    }\n",
              "    60% {\n",
              "      border-color: transparent;\n",
              "      border-right-color: var(--fill-color);\n",
              "    }\n",
              "    80% {\n",
              "      border-color: transparent;\n",
              "      border-right-color: var(--fill-color);\n",
              "      border-bottom-color: var(--fill-color);\n",
              "    }\n",
              "    90% {\n",
              "      border-color: transparent;\n",
              "      border-bottom-color: var(--fill-color);\n",
              "    }\n",
              "  }\n",
              "</style>\n",
              "\n",
              "  <script>\n",
              "    async function quickchart(key) {\n",
              "      const quickchartButtonEl =\n",
              "        document.querySelector('#' + key + ' button');\n",
              "      quickchartButtonEl.disabled = true;  // To prevent multiple clicks.\n",
              "      quickchartButtonEl.classList.add('colab-df-spinner');\n",
              "      try {\n",
              "        const charts = await google.colab.kernel.invokeFunction(\n",
              "            'suggestCharts', [key], {});\n",
              "      } catch (error) {\n",
              "        console.error('Error during call to suggestCharts:', error);\n",
              "      }\n",
              "      quickchartButtonEl.classList.remove('colab-df-spinner');\n",
              "      quickchartButtonEl.classList.add('colab-df-quickchart-complete');\n",
              "    }\n",
              "    (() => {\n",
              "      let quickchartButtonEl =\n",
              "        document.querySelector('#df-a3caf16f-891a-42c2-8da2-9ba036a1cb64 button');\n",
              "      quickchartButtonEl.style.display =\n",
              "        google.colab.kernel.accessAllowed ? 'block' : 'none';\n",
              "    })();\n",
              "  </script>\n",
              "</div>\n",
              "\n",
              "    </div>\n",
              "  </div>\n"
            ],
            "application/vnd.google.colaboratory.intrinsic+json": {
              "type": "dataframe",
              "variable_name": "data",
              "summary": "{\n  \"name\": \"data\",\n  \"rows\": 1000,\n  \"fields\": [\n    {\n      \"column\": \"data\",\n      \"properties\": {\n        \"dtype\": \"number\",\n        \"std\": 1.0127516608479803,\n        \"min\": -2.9454862366389265,\n        \"max\": 3.1321601805429324,\n        \"num_unique_values\": 1000,\n        \"samples\": [\n          0.02080760390226598,\n          0.6348879867785485,\n          0.6383111968935951\n        ],\n        \"semantic_type\": \"\",\n        \"description\": \"\"\n      }\n    },\n    {\n      \"column\": \"relu\",\n      \"properties\": {\n        \"dtype\": \"number\",\n        \"std\": 0.6054505286069347,\n        \"min\": 0.0,\n        \"max\": 3.1321601805429324,\n        \"num_unique_values\": 489,\n        \"samples\": [\n          1.8855109749324834,\n          0.22302216698588764,\n          1.6765500369865278\n        ],\n        \"semantic_type\": \"\",\n        \"description\": \"\"\n      }\n    }\n  ]\n}"
            }
          },
          "metadata": {},
          "execution_count": 9
        }
      ]
    },
    {
      "cell_type": "code",
      "source": [
        "data.tail()"
      ],
      "metadata": {
        "colab": {
          "base_uri": "https://localhost:8080/",
          "height": 206
        },
        "id": "qi5r2Pxo1rNg",
        "outputId": "5dd92b1d-4777-4d63-8905-1bfaac4aeca9"
      },
      "execution_count": 10,
      "outputs": [
        {
          "output_type": "execute_result",
          "data": {
            "text/plain": [
              "         data      relu\n",
              "995  2.618925  2.618925\n",
              "996  2.626477  2.626477\n",
              "997  2.633242  2.633242\n",
              "998  2.656374  2.656374\n",
              "999  3.132160  3.132160"
            ],
            "text/html": [
              "\n",
              "  <div id=\"df-74b6ce0b-4d90-4d3d-adf3-be8b3192c692\" class=\"colab-df-container\">\n",
              "    <div>\n",
              "<style scoped>\n",
              "    .dataframe tbody tr th:only-of-type {\n",
              "        vertical-align: middle;\n",
              "    }\n",
              "\n",
              "    .dataframe tbody tr th {\n",
              "        vertical-align: top;\n",
              "    }\n",
              "\n",
              "    .dataframe thead th {\n",
              "        text-align: right;\n",
              "    }\n",
              "</style>\n",
              "<table border=\"1\" class=\"dataframe\">\n",
              "  <thead>\n",
              "    <tr style=\"text-align: right;\">\n",
              "      <th></th>\n",
              "      <th>data</th>\n",
              "      <th>relu</th>\n",
              "    </tr>\n",
              "  </thead>\n",
              "  <tbody>\n",
              "    <tr>\n",
              "      <th>995</th>\n",
              "      <td>2.618925</td>\n",
              "      <td>2.618925</td>\n",
              "    </tr>\n",
              "    <tr>\n",
              "      <th>996</th>\n",
              "      <td>2.626477</td>\n",
              "      <td>2.626477</td>\n",
              "    </tr>\n",
              "    <tr>\n",
              "      <th>997</th>\n",
              "      <td>2.633242</td>\n",
              "      <td>2.633242</td>\n",
              "    </tr>\n",
              "    <tr>\n",
              "      <th>998</th>\n",
              "      <td>2.656374</td>\n",
              "      <td>2.656374</td>\n",
              "    </tr>\n",
              "    <tr>\n",
              "      <th>999</th>\n",
              "      <td>3.132160</td>\n",
              "      <td>3.132160</td>\n",
              "    </tr>\n",
              "  </tbody>\n",
              "</table>\n",
              "</div>\n",
              "    <div class=\"colab-df-buttons\">\n",
              "\n",
              "  <div class=\"colab-df-container\">\n",
              "    <button class=\"colab-df-convert\" onclick=\"convertToInteractive('df-74b6ce0b-4d90-4d3d-adf3-be8b3192c692')\"\n",
              "            title=\"Convert this dataframe to an interactive table.\"\n",
              "            style=\"display:none;\">\n",
              "\n",
              "  <svg xmlns=\"http://www.w3.org/2000/svg\" height=\"24px\" viewBox=\"0 -960 960 960\">\n",
              "    <path d=\"M120-120v-720h720v720H120Zm60-500h600v-160H180v160Zm220 220h160v-160H400v160Zm0 220h160v-160H400v160ZM180-400h160v-160H180v160Zm440 0h160v-160H620v160ZM180-180h160v-160H180v160Zm440 0h160v-160H620v160Z\"/>\n",
              "  </svg>\n",
              "    </button>\n",
              "\n",
              "  <style>\n",
              "    .colab-df-container {\n",
              "      display:flex;\n",
              "      gap: 12px;\n",
              "    }\n",
              "\n",
              "    .colab-df-convert {\n",
              "      background-color: #E8F0FE;\n",
              "      border: none;\n",
              "      border-radius: 50%;\n",
              "      cursor: pointer;\n",
              "      display: none;\n",
              "      fill: #1967D2;\n",
              "      height: 32px;\n",
              "      padding: 0 0 0 0;\n",
              "      width: 32px;\n",
              "    }\n",
              "\n",
              "    .colab-df-convert:hover {\n",
              "      background-color: #E2EBFA;\n",
              "      box-shadow: 0px 1px 2px rgba(60, 64, 67, 0.3), 0px 1px 3px 1px rgba(60, 64, 67, 0.15);\n",
              "      fill: #174EA6;\n",
              "    }\n",
              "\n",
              "    .colab-df-buttons div {\n",
              "      margin-bottom: 4px;\n",
              "    }\n",
              "\n",
              "    [theme=dark] .colab-df-convert {\n",
              "      background-color: #3B4455;\n",
              "      fill: #D2E3FC;\n",
              "    }\n",
              "\n",
              "    [theme=dark] .colab-df-convert:hover {\n",
              "      background-color: #434B5C;\n",
              "      box-shadow: 0px 1px 3px 1px rgba(0, 0, 0, 0.15);\n",
              "      filter: drop-shadow(0px 1px 2px rgba(0, 0, 0, 0.3));\n",
              "      fill: #FFFFFF;\n",
              "    }\n",
              "  </style>\n",
              "\n",
              "    <script>\n",
              "      const buttonEl =\n",
              "        document.querySelector('#df-74b6ce0b-4d90-4d3d-adf3-be8b3192c692 button.colab-df-convert');\n",
              "      buttonEl.style.display =\n",
              "        google.colab.kernel.accessAllowed ? 'block' : 'none';\n",
              "\n",
              "      async function convertToInteractive(key) {\n",
              "        const element = document.querySelector('#df-74b6ce0b-4d90-4d3d-adf3-be8b3192c692');\n",
              "        const dataTable =\n",
              "          await google.colab.kernel.invokeFunction('convertToInteractive',\n",
              "                                                    [key], {});\n",
              "        if (!dataTable) return;\n",
              "\n",
              "        const docLinkHtml = 'Like what you see? Visit the ' +\n",
              "          '<a target=\"_blank\" href=https://colab.research.google.com/notebooks/data_table.ipynb>data table notebook</a>'\n",
              "          + ' to learn more about interactive tables.';\n",
              "        element.innerHTML = '';\n",
              "        dataTable['output_type'] = 'display_data';\n",
              "        await google.colab.output.renderOutput(dataTable, element);\n",
              "        const docLink = document.createElement('div');\n",
              "        docLink.innerHTML = docLinkHtml;\n",
              "        element.appendChild(docLink);\n",
              "      }\n",
              "    </script>\n",
              "  </div>\n",
              "\n",
              "\n",
              "<div id=\"df-3b6b1b27-2e07-4d54-b32a-ba3718247f6a\">\n",
              "  <button class=\"colab-df-quickchart\" onclick=\"quickchart('df-3b6b1b27-2e07-4d54-b32a-ba3718247f6a')\"\n",
              "            title=\"Suggest charts\"\n",
              "            style=\"display:none;\">\n",
              "\n",
              "<svg xmlns=\"http://www.w3.org/2000/svg\" height=\"24px\"viewBox=\"0 0 24 24\"\n",
              "     width=\"24px\">\n",
              "    <g>\n",
              "        <path d=\"M19 3H5c-1.1 0-2 .9-2 2v14c0 1.1.9 2 2 2h14c1.1 0 2-.9 2-2V5c0-1.1-.9-2-2-2zM9 17H7v-7h2v7zm4 0h-2V7h2v10zm4 0h-2v-4h2v4z\"/>\n",
              "    </g>\n",
              "</svg>\n",
              "  </button>\n",
              "\n",
              "<style>\n",
              "  .colab-df-quickchart {\n",
              "      --bg-color: #E8F0FE;\n",
              "      --fill-color: #1967D2;\n",
              "      --hover-bg-color: #E2EBFA;\n",
              "      --hover-fill-color: #174EA6;\n",
              "      --disabled-fill-color: #AAA;\n",
              "      --disabled-bg-color: #DDD;\n",
              "  }\n",
              "\n",
              "  [theme=dark] .colab-df-quickchart {\n",
              "      --bg-color: #3B4455;\n",
              "      --fill-color: #D2E3FC;\n",
              "      --hover-bg-color: #434B5C;\n",
              "      --hover-fill-color: #FFFFFF;\n",
              "      --disabled-bg-color: #3B4455;\n",
              "      --disabled-fill-color: #666;\n",
              "  }\n",
              "\n",
              "  .colab-df-quickchart {\n",
              "    background-color: var(--bg-color);\n",
              "    border: none;\n",
              "    border-radius: 50%;\n",
              "    cursor: pointer;\n",
              "    display: none;\n",
              "    fill: var(--fill-color);\n",
              "    height: 32px;\n",
              "    padding: 0;\n",
              "    width: 32px;\n",
              "  }\n",
              "\n",
              "  .colab-df-quickchart:hover {\n",
              "    background-color: var(--hover-bg-color);\n",
              "    box-shadow: 0 1px 2px rgba(60, 64, 67, 0.3), 0 1px 3px 1px rgba(60, 64, 67, 0.15);\n",
              "    fill: var(--button-hover-fill-color);\n",
              "  }\n",
              "\n",
              "  .colab-df-quickchart-complete:disabled,\n",
              "  .colab-df-quickchart-complete:disabled:hover {\n",
              "    background-color: var(--disabled-bg-color);\n",
              "    fill: var(--disabled-fill-color);\n",
              "    box-shadow: none;\n",
              "  }\n",
              "\n",
              "  .colab-df-spinner {\n",
              "    border: 2px solid var(--fill-color);\n",
              "    border-color: transparent;\n",
              "    border-bottom-color: var(--fill-color);\n",
              "    animation:\n",
              "      spin 1s steps(1) infinite;\n",
              "  }\n",
              "\n",
              "  @keyframes spin {\n",
              "    0% {\n",
              "      border-color: transparent;\n",
              "      border-bottom-color: var(--fill-color);\n",
              "      border-left-color: var(--fill-color);\n",
              "    }\n",
              "    20% {\n",
              "      border-color: transparent;\n",
              "      border-left-color: var(--fill-color);\n",
              "      border-top-color: var(--fill-color);\n",
              "    }\n",
              "    30% {\n",
              "      border-color: transparent;\n",
              "      border-left-color: var(--fill-color);\n",
              "      border-top-color: var(--fill-color);\n",
              "      border-right-color: var(--fill-color);\n",
              "    }\n",
              "    40% {\n",
              "      border-color: transparent;\n",
              "      border-right-color: var(--fill-color);\n",
              "      border-top-color: var(--fill-color);\n",
              "    }\n",
              "    60% {\n",
              "      border-color: transparent;\n",
              "      border-right-color: var(--fill-color);\n",
              "    }\n",
              "    80% {\n",
              "      border-color: transparent;\n",
              "      border-right-color: var(--fill-color);\n",
              "      border-bottom-color: var(--fill-color);\n",
              "    }\n",
              "    90% {\n",
              "      border-color: transparent;\n",
              "      border-bottom-color: var(--fill-color);\n",
              "    }\n",
              "  }\n",
              "</style>\n",
              "\n",
              "  <script>\n",
              "    async function quickchart(key) {\n",
              "      const quickchartButtonEl =\n",
              "        document.querySelector('#' + key + ' button');\n",
              "      quickchartButtonEl.disabled = true;  // To prevent multiple clicks.\n",
              "      quickchartButtonEl.classList.add('colab-df-spinner');\n",
              "      try {\n",
              "        const charts = await google.colab.kernel.invokeFunction(\n",
              "            'suggestCharts', [key], {});\n",
              "      } catch (error) {\n",
              "        console.error('Error during call to suggestCharts:', error);\n",
              "      }\n",
              "      quickchartButtonEl.classList.remove('colab-df-spinner');\n",
              "      quickchartButtonEl.classList.add('colab-df-quickchart-complete');\n",
              "    }\n",
              "    (() => {\n",
              "      let quickchartButtonEl =\n",
              "        document.querySelector('#df-3b6b1b27-2e07-4d54-b32a-ba3718247f6a button');\n",
              "      quickchartButtonEl.style.display =\n",
              "        google.colab.kernel.accessAllowed ? 'block' : 'none';\n",
              "    })();\n",
              "  </script>\n",
              "</div>\n",
              "\n",
              "    </div>\n",
              "  </div>\n"
            ],
            "application/vnd.google.colaboratory.intrinsic+json": {
              "type": "dataframe",
              "summary": "{\n  \"name\": \"data\",\n  \"rows\": 5,\n  \"fields\": [\n    {\n      \"column\": \"data\",\n      \"properties\": {\n        \"dtype\": \"number\",\n        \"std\": 0.22333356679051528,\n        \"min\": 2.618924765353588,\n        \"max\": 3.1321601805429324,\n        \"num_unique_values\": 5,\n        \"samples\": [\n          2.626476609154539,\n          3.1321601805429324,\n          2.633242186750665\n        ],\n        \"semantic_type\": \"\",\n        \"description\": \"\"\n      }\n    },\n    {\n      \"column\": \"relu\",\n      \"properties\": {\n        \"dtype\": \"number\",\n        \"std\": 0.22333356679051528,\n        \"min\": 2.618924765353588,\n        \"max\": 3.1321601805429324,\n        \"num_unique_values\": 5,\n        \"samples\": [\n          2.626476609154539,\n          3.1321601805429324,\n          2.633242186750665\n        ],\n        \"semantic_type\": \"\",\n        \"description\": \"\"\n      }\n    }\n  ]\n}"
            }
          },
          "metadata": {},
          "execution_count": 10
        }
      ]
    },
    {
      "cell_type": "code",
      "source": [
        "px.line(data, x='data', y='relu', width=800, range_y=[-0.5, 1.5])"
      ],
      "metadata": {
        "colab": {
          "base_uri": "https://localhost:8080/",
          "height": 542
        },
        "id": "nRtwO19x1uDw",
        "outputId": "f1816607-0140-485e-b330-45c2599f1cce"
      },
      "execution_count": 11,
      "outputs": [
        {
          "output_type": "display_data",
          "data": {
            "text/html": [
              "<html>\n",
              "<head><meta charset=\"utf-8\" /></head>\n",
              "<body>\n",
              "    <div>            <script src=\"https://cdnjs.cloudflare.com/ajax/libs/mathjax/2.7.5/MathJax.js?config=TeX-AMS-MML_SVG\"></script><script type=\"text/javascript\">if (window.MathJax && window.MathJax.Hub && window.MathJax.Hub.Config) {window.MathJax.Hub.Config({SVG: {font: \"STIX-Web\"}});}</script>                <script type=\"text/javascript\">window.PlotlyConfig = {MathJaxConfig: 'local'};</script>\n",
              "        <script charset=\"utf-8\" src=\"https://cdn.plot.ly/plotly-2.35.2.min.js\"></script>                <div id=\"cbbc9ca2-cdda-4dfc-bcd3-e87301e49c8d\" class=\"plotly-graph-div\" style=\"height:525px; width:800px;\"></div>            <script type=\"text/javascript\">                                    window.PLOTLYENV=window.PLOTLYENV || {};                                    if (document.getElementById(\"cbbc9ca2-cdda-4dfc-bcd3-e87301e49c8d\")) {                    Plotly.newPlot(                        \"cbbc9ca2-cdda-4dfc-bcd3-e87301e49c8d\",                        [{\"hovertemplate\":\"data=%{x}\\u003cbr\\u003erelu=%{y}\\u003cextra\\u003e\\u003c\\u002fextra\\u003e\",\"legendgroup\":\"\",\"line\":{\"color\":\"#636efa\",\"dash\":\"solid\"},\"marker\":{\"symbol\":\"circle\"},\"mode\":\"lines\",\"name\":\"\",\"orientation\":\"v\",\"showlegend\":false,\"x\":[-2.9454862366389265,-2.926548294389117,-2.7513971862897777,-2.69964381604571,-2.6836512118516134,-2.6805015630095483,-2.482186515261199,-2.4813511717315513,-2.480779799701099,-2.3858868590258595,-2.300721328647208,-2.283089845021693,-2.177081123829196,-2.1559400476098696,-2.148267370853787,-2.138442210070734,-2.10669402017211,-2.095049234423632,-2.061929283132136,-2.060418655915206,-2.034320717849176,-1.9815562437020653,-1.9801611390632499,-1.9788673619221373,-1.9672499393023573,-1.9153088903556648,-1.9131199824589116,-1.889083096541453,-1.882013337198292,-1.848302720603952,-1.826158054381194,-1.8224460191406875,-1.820283758317885,-1.7812995897214707,-1.7620042652603418,-1.7617934889329752,-1.7494531701043197,-1.739252843137808,-1.7342787123858638,-1.7327997271236006,-1.7178120486207502,-1.7149480233980383,-1.7075687926138075,-1.678689066374531,-1.668226960817117,-1.6506957034161045,-1.6503582536085328,-1.6204789505033537,-1.6173297501590138,-1.6118714630032334,-1.6086981070362938,-1.5913150291545692,-1.5881978507259118,-1.5801069795370368,-1.5479513936305438,-1.5370464557604147,-1.5286021742401756,-1.5273458508744995,-1.525997657191582,-1.523907977384548,-1.5176073960601288,-1.509864355127319,-1.502818130649273,-1.4980235104155755,-1.4868532512490824,-1.4846769282232906,-1.46821113518722,-1.4602916473899403,-1.4514925781575165,-1.450610175310549,-1.4475058957348168,-1.4326840821184113,-1.4324579251709288,-1.4251364370633073,-1.4245699518677686,-1.4232208527194792,-1.4158443032362902,-1.412272238836059,-1.405458846917898,-1.4002864989200252,-1.3954069241551854,-1.389635911465869,-1.385070210759962,-1.3806987274213334,-1.3755197908902812,-1.373527534716067,-1.3643757462197448,-1.3616476908981243,-1.356489085531788,-1.3371147882776724,-1.3286277060281069,-1.3196985526940133,-1.3040960278789016,-1.303017422373001,-1.2938528443224873,-1.2902442115043211,-1.2895843478919602,-1.2881395778440092,-1.287930539217061,-1.2861618829560355,-1.280098656409263,-1.271501398677824,-1.2702308008966836,-1.2618316796093831,-1.2594532058719043,-1.2288879039525005,-1.2266684795694596,-1.2228928317230574,-1.2206615193622443,-1.2165340062205006,-1.2160118669982989,-1.2145708076959831,-1.2128126917333784,-1.2073301903803924,-1.1993350593094187,-1.1916436546351346,-1.1804742260955745,-1.1671622195294487,-1.1637785996334882,-1.157685306776683,-1.1551400130519553,-1.1534635887846265,-1.153035539328639,-1.1475262014770713,-1.1453313526838358,-1.14003094560646,-1.1364162942709295,-1.1339177426556835,-1.1333698504787084,-1.132764138148872,-1.1306530895641498,-1.126297620547942,-1.1230516704325242,-1.1215971571765764,-1.1214286093043695,-1.1080627021187195,-1.1041904236902373,-1.081941895114053,-1.0799160807761208,-1.0775364050138387,-1.0724001051375238,-1.0617464519061912,-1.0598389343690278,-1.0477777049333967,-1.0439252191907884,-1.040693600220372,-1.0404129993702578,-1.03951101182139,-1.0358692630324284,-1.0287959871809496,-1.0239318824916113,-1.0232436140197758,-1.0228523070664413,-1.0213046590979642,-1.0205875052601259,-1.011113262797877,-1.0080934330654863,-1.006589841332282,-0.9902442045230812,-0.9891669080901537,-0.9848746073505876,-0.9771830135121801,-0.9750600476578719,-0.9727889008265684,-0.9685658288757227,-0.9634403256562618,-0.9629707431654573,-0.9624417770247634,-0.9574923014438953,-0.9523561706474434,-0.9422522922794816,-0.9397597502302046,-0.9376233494059012,-0.9309774272568058,-0.930645881940543,-0.9304544844273602,-0.9253676176693278,-0.9225038916932601,-0.9219315478028366,-0.9126073875424139,-0.911152416310477,-0.9058023922725332,-0.8962662921778503,-0.8945667916381443,-0.8873021640390356,-0.8865226578123706,-0.8860879236118868,-0.8855803200080603,-0.885369686328559,-0.8813273584155858,-0.8804340619132015,-0.8785236780903517,-0.8697560112217572,-0.8643655929125891,-0.8640937446445763,-0.8624661083893559,-0.8469433368196536,-0.8465326406624357,-0.8454036708059225,-0.8443276599964128,-0.8400768830717756,-0.8378403687918757,-0.8351868034539204,-0.8333336837069948,-0.8258583409780205,-0.8206185359375641,-0.8129704848635114,-0.8127080948281908,-0.809418839039529,-0.8022676204392225,-0.8014769268507494,-0.7999037453750616,-0.7984500759497942,-0.79709837109925,-0.7967838284449752,-0.7939527896428208,-0.7885699897018584,-0.7871951023140137,-0.7854538242801092,-0.7784618563842138,-0.7770579821863541,-0.7766497491149855,-0.7741900184991154,-0.768999657564846,-0.7677901236505345,-0.7576286677778498,-0.756055336730141,-0.7549549980197952,-0.7507627350529925,-0.7485515722742816,-0.7439515051029211,-0.7430363352122578,-0.7348821263792991,-0.7283244334553357,-0.7279437007344971,-0.72665602882629,-0.7229503108853832,-0.717704431707363,-0.7170154445678179,-0.7143231897504205,-0.7055730948237522,-0.7038193938855638,-0.699445708463136,-0.6988579239689678,-0.6976919535455904,-0.6924845915037785,-0.6918154311509882,-0.6889003720156641,-0.6883467407600421,-0.6822681873719516,-0.6816695999926556,-0.6767544513726695,-0.6762331611407725,-0.6739545907357973,-0.6733907273276505,-0.6679856815844915,-0.6673311308328832,-0.6664527790346987,-0.66560542351072,-0.6555299927074868,-0.6472457894064706,-0.6443443882233749,-0.6423194037341615,-0.6391390060662747,-0.6384205166394317,-0.6322801114910738,-0.6301032320640931,-0.6298224793420429,-0.6283027404443562,-0.6268805552279475,-0.6244913925745103,-0.6243741612324689,-0.6235814806330224,-0.622101201625038,-0.6195817366497922,-0.6172317854999347,-0.6081540988255444,-0.6074190357000786,-0.6060057993268453,-0.604827355845414,-0.5973637521032128,-0.5972169860674945,-0.5947239094186649,-0.5899033525854075,-0.5889912435840625,-0.5805977506425058,-0.5804856683674033,-0.5743329962074042,-0.5741244443370934,-0.5726547201020906,-0.5708000578768434,-0.5667458813764709,-0.5661942029919186,-0.562591967491304,-0.5593449252820235,-0.5558913478275991,-0.5532861638118907,-0.5518585246629768,-0.5490084560578807,-0.5447250887689291,-0.5423319023226223,-0.5418645477553805,-0.5361161734659412,-0.5335692790230709,-0.525503186213384,-0.5216654325815724,-0.5204395698906854,-0.5180465018754166,-0.5172022946850535,-0.5135055203002505,-0.5131124874677138,-0.5069333499478373,-0.503424180378713,-0.5004703653430315,-0.49945592385531706,-0.49697723621238254,-0.4925520780867666,-0.4924907337587139,-0.48940530559241746,-0.4886192846434189,-0.48225497956513724,-0.47879460452571126,-0.47701685480017897,-0.47645588088658025,-0.4741730643913724,-0.4735287035936783,-0.47341441555456176,-0.4718579352039361,-0.46472507687635833,-0.463828401318421,-0.4597114685991715,-0.45769156529002025,-0.4461944363555548,-0.44467734914647844,-0.4438950299468853,-0.44320597955946983,-0.44006910619856365,-0.4385580071177394,-0.43745255089837154,-0.4356104544860426,-0.43193969995185644,-0.4319248703666391,-0.43148562166481896,-0.4282615277626681,-0.42706911237637346,-0.4162947769418587,-0.4143372010505992,-0.4108452317569281,-0.40880874520408633,-0.40534565690318275,-0.4029182566395361,-0.3933609628199298,-0.38900184792631537,-0.38149743917507756,-0.3807497007123074,-0.3791149876924991,-0.3772181914347351,-0.37576241770221086,-0.3690195696349935,-0.3661592052484092,-0.3614728883482683,-0.36125374563690965,-0.3601504758757779,-0.35937785402074157,-0.35424576801743396,-0.35396989225866415,-0.35029951794231834,-0.3479259823185589,-0.3476659792700526,-0.3419055039765288,-0.3415652359071017,-0.3405712466473612,-0.3387685042636369,-0.33817643631263555,-0.3361154376267399,-0.3361054135829739,-0.3356718032526221,-0.3343208798731028,-0.33358609458156546,-0.32981669506575445,-0.32785521709455356,-0.3231304415631719,-0.32043877467579074,-0.3153998438750664,-0.3151667950132367,-0.3133274398347694,-0.31161273969594727,-0.31109196001462985,-0.29958458255478604,-0.2957974896143697,-0.29559393350422175,-0.2941818963285529,-0.2912635353614461,-0.28593046837036556,-0.2771686912771364,-0.27399469320693987,-0.271502305477108,-0.2709168699538817,-0.267788392473752,-0.26476305802318895,-0.26089564178724933,-0.26060280624861254,-0.2586052720101073,-0.256086045555994,-0.2556795033179919,-0.2546757251062182,-0.24592964550554997,-0.24534064699066382,-0.24137419358940543,-0.24020307435081456,-0.23999575778444882,-0.2358272961740752,-0.23420573457069369,-0.23379800320216557,-0.22900500043420213,-0.22771772424479556,-0.2243739959238412,-0.22426141342563558,-0.22321924807053653,-0.2222326811895599,-0.22206462082876052,-0.2189955320309384,-0.2146706228765669,-0.21463958936146862,-0.21425632569124597,-0.21119205440331312,-0.208491884200477,-0.20638005581984736,-0.20528312307449134,-0.2008011960501368,-0.19946228058154347,-0.19611259270662812,-0.19384273973863922,-0.1838270498175882,-0.18378020020707195,-0.17680431435785174,-0.17664920510046553,-0.17474094450599353,-0.1743199417944344,-0.17239154369080228,-0.17224768463394313,-0.17038396552638974,-0.16991605932385384,-0.16896684126603131,-0.16662370324688033,-0.1656686343644231,-0.16295137835758022,-0.1620053275689852,-0.15979721161841232,-0.158295257842024,-0.156487646798657,-0.15472265274326774,-0.15222499298620037,-0.14154395064841455,-0.14127762653807532,-0.13565360074026628,-0.13552588482126945,-0.13530513955314719,-0.13405971115830753,-0.13212145127062427,-0.12975126342152493,-0.12538651486020605,-0.12458456311429732,-0.12400169785591127,-0.12280197755496648,-0.12230383002669412,-0.11899626306368676,-0.1145524582545254,-0.1130199740977499,-0.10303489365293964,-0.09523811239377081,-0.09449821357659967,-0.09132358754047162,-0.09110916539291224,-0.09062342168650935,-0.08920649757497502,-0.08740993536910999,-0.08409657745351838,-0.0839127218347771,-0.08357058357285085,-0.07496677122495843,-0.07422651022313687,-0.07383519802616309,-0.06377894579516492,-0.06297086861002486,-0.061097631094597926,-0.05837184735779476,-0.05661709842308209,-0.0528425632951364,-0.052827706441118574,-0.046616411711514184,-0.041225018540431875,-0.04078655843270522,-0.04000899824319223,-0.03632880721483374,-0.0334752292181179,-0.032750752207284115,-0.0284064156410388,-0.023958695262862224,-0.023908165171583975,-0.02247133444461247,-0.02181347668170736,-0.02047501303847177,-0.01739439369018648,-0.016535425123667735,-0.014237566276271315,-0.007191834878799484,-0.005472131694427112,-0.003699546717569801,-0.0029760554466175056,-0.002795424548954191,-0.00039705398988154286,0.00009228300959661816,0.0028421687036671367,0.008334286121345399,0.008379659615241846,0.01472552871233803,0.016640232624137337,0.018354197369886822,0.020315387081638586,0.020412337545978328,0.02080760390226598,0.02988195053614484,0.031437156217676336,0.031621002957457976,0.033605168511139975,0.03830390215726383,0.0442154970265464,0.04969984947188961,0.05289535919169504,0.05761450720013523,0.05994595068238346,0.0655859794223959,0.06750565109962976,0.0688950594350855,0.06895043490681323,0.07034377501891578,0.07059071642184561,0.07120468561845139,0.07520994710317978,0.0801171145237053,0.08405711837048029,0.08655683880697221,0.08810305459278463,0.09089031069663722,0.0910475564293298,0.09679423456249658,0.0969901165991019,0.09710926234770412,0.0999544997968851,0.10153567343156583,0.10202060198437342,0.1028853840324955,0.10417992837803575,0.10680179268653416,0.10744324535895991,0.11065417727098718,0.11212691031849786,0.11377808751749759,0.11692339458987953,0.1180652336541034,0.11830124885805553,0.1185188565435681,0.12012351861017408,0.12077034778529692,0.12232135966579985,0.1307626655479185,0.13591711379991248,0.13765304320954092,0.13880736752828393,0.14023257424170715,0.14030159889115118,0.14039546427551025,0.14967619568526339,0.15365740177986173,0.15602185224999238,0.1580811461577324,0.15966906917763002,0.15983618188015522,0.1627284721765433,0.16971976827586727,0.17234399739904344,0.18163880250794015,0.1823823871093364,0.18317079237732314,0.18944839177705627,0.19398762116566268,0.19535898386158312,0.2064185543358089,0.20788050628813895,0.2144533458177042,0.21521711405466798,0.21775432548103643,0.220670150971602,0.22150129294118723,0.22302216698588764,0.2263052188066183,0.2284232704228214,0.22908319974356317,0.2294224361467734,0.2301624574730821,0.2301700724830343,0.2303214662288114,0.23342758572447897,0.23526315030212336,0.23577204704863658,0.23580693165805558,0.2441248398160598,0.24441176264056516,0.2505867150367613,0.2515296245415917,0.2640980411127237,0.2650471825339272,0.26645441792220015,0.2695447387635019,0.2707977135885463,0.2729551221787954,0.27715056419112394,0.27748308246470227,0.2788408442318787,0.2853920666653776,0.28702648782990386,0.2884917491761121,0.292255222305964,0.2949888544975905,0.301330977295088,0.30307328311370413,0.30585416714636143,0.3084336151262972,0.310342328779031,0.3197166919941372,0.3198627669261082,0.3207182354408495,0.32501238893659606,0.3257903331013064,0.32843265855890796,0.3286282235274775,0.32926902363516364,0.33436528391192505,0.3355039883328669,0.33702641252952387,0.3405769828912079,0.34198861308138484,0.3421759177457109,0.3556245182737315,0.36240129312541003,0.3645314937300707,0.3668859982518398,0.3669633739876963,0.36739454211131034,0.3679192267718773,0.370093377776324,0.37077410121237186,0.3796685946138542,0.3812645320769103,0.38393414956668104,0.3856795952296723,0.39044176290407057,0.3913738131959145,0.39682490004294546,0.40084632208621224,0.401533349557936,0.4027165522509757,0.40388919626501746,0.4084513532775922,0.41746914682624114,0.41790430251519317,0.4189003885152889,0.4194064409558616,0.42279001764674395,0.42624293847476674,0.42778045008468835,0.42789553212080167,0.4279915348181539,0.4369733067463148,0.43845571688146395,0.44086662724260295,0.4412504208264269,0.44240116619330644,0.4471437438794303,0.4478473238427928,0.45082659045998075,0.4592915621931062,0.46368158949814503,0.4639524203356957,0.46569998221638004,0.4679976861849059,0.4697799755951211,0.4741486081854509,0.476970516886383,0.47700890643381955,0.47793318221804565,0.4945219024851237,0.49626255892603616,0.500693905582132,0.5007832693447044,0.5064894974338904,0.5065183741070822,0.506938912490028,0.5140755335260347,0.519837294079735,0.529299078621948,0.531005748469331,0.5340870228038994,0.5381507735669706,0.5393354235937872,0.5410297010177383,0.552995197918063,0.5536551136313861,0.5551757477341313,0.5576752502791327,0.5580893586702286,0.5646622904526205,0.5672470475300236,0.5691806197193564,0.5723490695224319,0.5760053544072563,0.5828762386766956,0.582932907958359,0.5867657544533481,0.5876714978973717,0.5899402510096879,0.5914174897341616,0.5916905392347351,0.5922986946648315,0.5927660584397826,0.593086894055581,0.5932401036618228,0.6012872141381951,0.6070597372632515,0.6077668665130744,0.6112868510751016,0.612065397131532,0.615357412742596,0.6277898118284622,0.6306323334458834,0.634013190632918,0.6348879867785485,0.6374107776821376,0.638271360268675,0.6383111968935951,0.6428159286297308,0.6428273621427633,0.6434989996901389,0.6486063557017082,0.6492335067267525,0.6526879132725997,0.6803336653177249,0.6820509524879597,0.6930812918754986,0.695235228231952,0.6966985856569999,0.7014404191484885,0.7039321110431297,0.7154239995888919,0.716233385767322,0.7176622301792377,0.7188626972512567,0.7207269377396405,0.7217765806433669,0.7259631800032861,0.7379593154642219,0.7389473770390315,0.7489443319867125,0.7523642630143238,0.7555948271105974,0.7615062454432788,0.7652134960487152,0.7675988065883134,0.7678014678267162,0.7703614743933574,0.7719378888037461,0.775529812361069,0.776322270978682,0.778697548868357,0.7795324108067061,0.7805379468867466,0.7835319378180357,0.7845436918169386,0.7848062627369811,0.7879057908541656,0.7913435358562252,0.7972877169832672,0.8051832232631783,0.8125360500320851,0.8169569158386825,0.8173934551231024,0.8189732568502064,0.8373831121358297,0.8451003262398634,0.8454833782981405,0.8465738575265467,0.8470601562964841,0.8471727176711543,0.8512524623031013,0.855029888080093,0.8581785236861104,0.8668134706947163,0.8692179186441366,0.8707091450082894,0.8777590776962155,0.8794549114707845,0.8846361653751951,0.8852354061378838,0.8853572167205508,0.8934859716191005,0.9015705532115155,0.906800863953868,0.9239158642492261,0.9256297213341155,0.9257471512547022,0.9342625455549578,0.936038291973422,0.9403741174911856,0.9478112965013579,0.9479255509836141,0.951125577493298,0.9516339009616767,0.9521010948154197,0.9700123713450396,0.9736461151503043,0.9783954919633593,0.985889338723191,0.9888380025810711,0.988927793268228,0.9943054560869766,0.994505729825334,0.9965029628038469,0.9995328128553146,1.0037157342340104,1.010738269814327,1.0143497299815232,1.0167359445867572,1.025325009457823,1.0288984205725558,1.0325107085102623,1.0348029938491765,1.0350031601721768,1.036023492250497,1.037242964671422,1.037248374710668,1.0375005545304956,1.0526808306358006,1.0591944767143355,1.0606398413157003,1.0637434766495222,1.064465089990768,1.0780859941942709,1.0817210120069334,1.088309308642337,1.0925947269848022,1.0997881386769965,1.1034899513736558,1.1046519980454355,1.107239516779559,1.110466005135783,1.1148092198739916,1.1171530752380106,1.1249430290253064,1.1255370825538935,1.1333467310193088,1.1340687917563035,1.1346120430309232,1.1391986784812358,1.1420871317013161,1.1437792667432212,1.144117778776754,1.154559977316729,1.154613321971247,1.1563880579991028,1.1579878060879287,1.1590482915354576,1.1609225766991267,1.1618218821368995,1.1634389487644203,1.1643569213653242,1.1668224827902616,1.1704819651160523,1.1787023043587537,1.1810206306854487,1.182443581992566,1.2075453210989098,1.2137982139390848,1.2160128648509636,1.218283636071999,1.2256624608641624,1.2355166870563188,1.238047149705025,1.2421977106566655,1.2478274923181516,1.249163438508918,1.2583240679592385,1.2649127119048251,1.2736695959418005,1.2737430712880748,1.2764730129041124,1.2814553633951151,1.284606708563431,1.2960759199999679,1.2979898120141464,1.2986773420857471,1.3040274740224305,1.3065932510550036,1.3293109107628245,1.3476043380838603,1.362155048674503,1.3691464164574545,1.4041779706105477,1.4046266368656275,1.4084892477623583,1.4117302378279644,1.4174147413323153,1.4180720878592799,1.4191104861840564,1.425439443553083,1.4305232141084752,1.435074739540777,1.435276720446497,1.4644978863232636,1.4645130813996596,1.4681887669182128,1.4824637224496815,1.4880423607431261,1.498604112147645,1.5129890551265526,1.515072621985649,1.5162566686965244,1.5196934580879635,1.5218600536502331,1.533565226429106,1.5362747783420865,1.536505676494278,1.5698866642889928,1.574205457832182,1.5775848885050907,1.5778377151791307,1.578704929267342,1.594918897566649,1.6018409919594512,1.6076322014033173,1.6190067206062884,1.6241908884306566,1.6262251762476825,1.634300616980611,1.6543321167162102,1.6765500369865278,1.6793153517559656,1.7073676484775506,1.7227190159753667,1.744849991507864,1.7473276632316574,1.7969743408954288,1.8188735405639587,1.820181309960025,1.8315465782286775,1.8323401075373245,1.8334143655017712,1.8352657446645888,1.8378537633134844,1.8381297227531004,1.8571101128064798,1.8841239133461676,1.8855109749324834,1.9127160319763847,1.9222876505816944,1.943163176486207,1.9609393527927061,2.0029019178804925,2.0165760238232453,2.0172207830010374,2.048160650677286,2.051206888472015,2.0530892325145316,2.0620658113753,2.0640080887681793,2.0887456836438827,2.1177555671277783,2.1197766846540453,2.120172367195324,2.121184607780522,2.1572099158495406,2.1690549996559954,2.2450983611486017,2.27625365284516,2.2817758193632454,2.2973778080544016,2.308486069492984,2.3143229168228006,2.3431117017861784,2.3476350422052814,2.4037661179586203,2.468442431516889,2.478811608851873,2.509327988310112,2.514617051783916,2.618924765353588,2.626476609154539,2.633242186750665,2.656373546693534,3.1321601805429324],\"xaxis\":\"x\",\"y\":[0.0,0.0,0.0,0.0,0.0,0.0,0.0,0.0,0.0,0.0,0.0,0.0,0.0,0.0,0.0,0.0,0.0,0.0,0.0,0.0,0.0,0.0,0.0,0.0,0.0,0.0,0.0,0.0,0.0,0.0,0.0,0.0,0.0,0.0,0.0,0.0,0.0,0.0,0.0,0.0,0.0,0.0,0.0,0.0,0.0,0.0,0.0,0.0,0.0,0.0,0.0,0.0,0.0,0.0,0.0,0.0,0.0,0.0,0.0,0.0,0.0,0.0,0.0,0.0,0.0,0.0,0.0,0.0,0.0,0.0,0.0,0.0,0.0,0.0,0.0,0.0,0.0,0.0,0.0,0.0,0.0,0.0,0.0,0.0,0.0,0.0,0.0,0.0,0.0,0.0,0.0,0.0,0.0,0.0,0.0,0.0,0.0,0.0,0.0,0.0,0.0,0.0,0.0,0.0,0.0,0.0,0.0,0.0,0.0,0.0,0.0,0.0,0.0,0.0,0.0,0.0,0.0,0.0,0.0,0.0,0.0,0.0,0.0,0.0,0.0,0.0,0.0,0.0,0.0,0.0,0.0,0.0,0.0,0.0,0.0,0.0,0.0,0.0,0.0,0.0,0.0,0.0,0.0,0.0,0.0,0.0,0.0,0.0,0.0,0.0,0.0,0.0,0.0,0.0,0.0,0.0,0.0,0.0,0.0,0.0,0.0,0.0,0.0,0.0,0.0,0.0,0.0,0.0,0.0,0.0,0.0,0.0,0.0,0.0,0.0,0.0,0.0,0.0,0.0,0.0,0.0,0.0,0.0,0.0,0.0,0.0,0.0,0.0,0.0,0.0,0.0,0.0,0.0,0.0,0.0,0.0,0.0,0.0,0.0,0.0,0.0,0.0,0.0,0.0,0.0,0.0,0.0,0.0,0.0,0.0,0.0,0.0,0.0,0.0,0.0,0.0,0.0,0.0,0.0,0.0,0.0,0.0,0.0,0.0,0.0,0.0,0.0,0.0,0.0,0.0,0.0,0.0,0.0,0.0,0.0,0.0,0.0,0.0,0.0,0.0,0.0,0.0,0.0,0.0,0.0,0.0,0.0,0.0,0.0,0.0,0.0,0.0,0.0,0.0,0.0,0.0,0.0,0.0,0.0,0.0,0.0,0.0,0.0,0.0,0.0,0.0,0.0,0.0,0.0,0.0,0.0,0.0,0.0,0.0,0.0,0.0,0.0,0.0,0.0,0.0,0.0,0.0,0.0,0.0,0.0,0.0,0.0,0.0,0.0,0.0,0.0,0.0,0.0,0.0,0.0,0.0,0.0,0.0,0.0,0.0,0.0,0.0,0.0,0.0,0.0,0.0,0.0,0.0,0.0,0.0,0.0,0.0,0.0,0.0,0.0,0.0,0.0,0.0,0.0,0.0,0.0,0.0,0.0,0.0,0.0,0.0,0.0,0.0,0.0,0.0,0.0,0.0,0.0,0.0,0.0,0.0,0.0,0.0,0.0,0.0,0.0,0.0,0.0,0.0,0.0,0.0,0.0,0.0,0.0,0.0,0.0,0.0,0.0,0.0,0.0,0.0,0.0,0.0,0.0,0.0,0.0,0.0,0.0,0.0,0.0,0.0,0.0,0.0,0.0,0.0,0.0,0.0,0.0,0.0,0.0,0.0,0.0,0.0,0.0,0.0,0.0,0.0,0.0,0.0,0.0,0.0,0.0,0.0,0.0,0.0,0.0,0.0,0.0,0.0,0.0,0.0,0.0,0.0,0.0,0.0,0.0,0.0,0.0,0.0,0.0,0.0,0.0,0.0,0.0,0.0,0.0,0.0,0.0,0.0,0.0,0.0,0.0,0.0,0.0,0.0,0.0,0.0,0.0,0.0,0.0,0.0,0.0,0.0,0.0,0.0,0.0,0.0,0.0,0.0,0.0,0.0,0.0,0.0,0.0,0.0,0.0,0.0,0.0,0.0,0.0,0.0,0.0,0.0,0.0,0.0,0.0,0.0,0.0,0.0,0.0,0.0,0.0,0.0,0.0,0.0,0.0,0.0,0.0,0.0,0.0,0.0,0.0,0.0,0.0,0.0,0.0,0.0,0.0,0.0,0.0,0.0,0.0,0.0,0.0,0.0,0.0,0.0,0.0,0.0,0.0,0.0,0.0,0.0,0.0,0.0,0.0,0.0,0.0,0.0,0.0,0.0,0.0,0.0,0.0,0.0,0.0,0.0,0.0,0.0,0.0,0.0,0.0,0.0,0.0,0.0,0.0,0.0,0.00009228300959661816,0.0028421687036671367,0.008334286121345399,0.008379659615241846,0.01472552871233803,0.016640232624137337,0.018354197369886822,0.020315387081638586,0.020412337545978328,0.02080760390226598,0.02988195053614484,0.031437156217676336,0.031621002957457976,0.033605168511139975,0.03830390215726383,0.0442154970265464,0.04969984947188961,0.05289535919169504,0.05761450720013523,0.05994595068238346,0.0655859794223959,0.06750565109962976,0.0688950594350855,0.06895043490681323,0.07034377501891578,0.07059071642184561,0.07120468561845139,0.07520994710317978,0.0801171145237053,0.08405711837048029,0.08655683880697221,0.08810305459278463,0.09089031069663722,0.0910475564293298,0.09679423456249658,0.0969901165991019,0.09710926234770412,0.0999544997968851,0.10153567343156583,0.10202060198437342,0.1028853840324955,0.10417992837803575,0.10680179268653416,0.10744324535895991,0.11065417727098718,0.11212691031849786,0.11377808751749759,0.11692339458987953,0.1180652336541034,0.11830124885805553,0.1185188565435681,0.12012351861017408,0.12077034778529692,0.12232135966579985,0.1307626655479185,0.13591711379991248,0.13765304320954092,0.13880736752828393,0.14023257424170715,0.14030159889115118,0.14039546427551025,0.14967619568526339,0.15365740177986173,0.15602185224999238,0.1580811461577324,0.15966906917763002,0.15983618188015522,0.1627284721765433,0.16971976827586727,0.17234399739904344,0.18163880250794015,0.1823823871093364,0.18317079237732314,0.18944839177705627,0.19398762116566268,0.19535898386158312,0.2064185543358089,0.20788050628813895,0.2144533458177042,0.21521711405466798,0.21775432548103643,0.220670150971602,0.22150129294118723,0.22302216698588764,0.2263052188066183,0.2284232704228214,0.22908319974356317,0.2294224361467734,0.2301624574730821,0.2301700724830343,0.2303214662288114,0.23342758572447897,0.23526315030212336,0.23577204704863658,0.23580693165805558,0.2441248398160598,0.24441176264056516,0.2505867150367613,0.2515296245415917,0.2640980411127237,0.2650471825339272,0.26645441792220015,0.2695447387635019,0.2707977135885463,0.2729551221787954,0.27715056419112394,0.27748308246470227,0.2788408442318787,0.2853920666653776,0.28702648782990386,0.2884917491761121,0.292255222305964,0.2949888544975905,0.301330977295088,0.30307328311370413,0.30585416714636143,0.3084336151262972,0.310342328779031,0.3197166919941372,0.3198627669261082,0.3207182354408495,0.32501238893659606,0.3257903331013064,0.32843265855890796,0.3286282235274775,0.32926902363516364,0.33436528391192505,0.3355039883328669,0.33702641252952387,0.3405769828912079,0.34198861308138484,0.3421759177457109,0.3556245182737315,0.36240129312541003,0.3645314937300707,0.3668859982518398,0.3669633739876963,0.36739454211131034,0.3679192267718773,0.370093377776324,0.37077410121237186,0.3796685946138542,0.3812645320769103,0.38393414956668104,0.3856795952296723,0.39044176290407057,0.3913738131959145,0.39682490004294546,0.40084632208621224,0.401533349557936,0.4027165522509757,0.40388919626501746,0.4084513532775922,0.41746914682624114,0.41790430251519317,0.4189003885152889,0.4194064409558616,0.42279001764674395,0.42624293847476674,0.42778045008468835,0.42789553212080167,0.4279915348181539,0.4369733067463148,0.43845571688146395,0.44086662724260295,0.4412504208264269,0.44240116619330644,0.4471437438794303,0.4478473238427928,0.45082659045998075,0.4592915621931062,0.46368158949814503,0.4639524203356957,0.46569998221638004,0.4679976861849059,0.4697799755951211,0.4741486081854509,0.476970516886383,0.47700890643381955,0.47793318221804565,0.4945219024851237,0.49626255892603616,0.500693905582132,0.5007832693447044,0.5064894974338904,0.5065183741070822,0.506938912490028,0.5140755335260347,0.519837294079735,0.529299078621948,0.531005748469331,0.5340870228038994,0.5381507735669706,0.5393354235937872,0.5410297010177383,0.552995197918063,0.5536551136313861,0.5551757477341313,0.5576752502791327,0.5580893586702286,0.5646622904526205,0.5672470475300236,0.5691806197193564,0.5723490695224319,0.5760053544072563,0.5828762386766956,0.582932907958359,0.5867657544533481,0.5876714978973717,0.5899402510096879,0.5914174897341616,0.5916905392347351,0.5922986946648315,0.5927660584397826,0.593086894055581,0.5932401036618228,0.6012872141381951,0.6070597372632515,0.6077668665130744,0.6112868510751016,0.612065397131532,0.615357412742596,0.6277898118284622,0.6306323334458834,0.634013190632918,0.6348879867785485,0.6374107776821376,0.638271360268675,0.6383111968935951,0.6428159286297308,0.6428273621427633,0.6434989996901389,0.6486063557017082,0.6492335067267525,0.6526879132725997,0.6803336653177249,0.6820509524879597,0.6930812918754986,0.695235228231952,0.6966985856569999,0.7014404191484885,0.7039321110431297,0.7154239995888919,0.716233385767322,0.7176622301792377,0.7188626972512567,0.7207269377396405,0.7217765806433669,0.7259631800032861,0.7379593154642219,0.7389473770390315,0.7489443319867125,0.7523642630143238,0.7555948271105974,0.7615062454432788,0.7652134960487152,0.7675988065883134,0.7678014678267162,0.7703614743933574,0.7719378888037461,0.775529812361069,0.776322270978682,0.778697548868357,0.7795324108067061,0.7805379468867466,0.7835319378180357,0.7845436918169386,0.7848062627369811,0.7879057908541656,0.7913435358562252,0.7972877169832672,0.8051832232631783,0.8125360500320851,0.8169569158386825,0.8173934551231024,0.8189732568502064,0.8373831121358297,0.8451003262398634,0.8454833782981405,0.8465738575265467,0.8470601562964841,0.8471727176711543,0.8512524623031013,0.855029888080093,0.8581785236861104,0.8668134706947163,0.8692179186441366,0.8707091450082894,0.8777590776962155,0.8794549114707845,0.8846361653751951,0.8852354061378838,0.8853572167205508,0.8934859716191005,0.9015705532115155,0.906800863953868,0.9239158642492261,0.9256297213341155,0.9257471512547022,0.9342625455549578,0.936038291973422,0.9403741174911856,0.9478112965013579,0.9479255509836141,0.951125577493298,0.9516339009616767,0.9521010948154197,0.9700123713450396,0.9736461151503043,0.9783954919633593,0.985889338723191,0.9888380025810711,0.988927793268228,0.9943054560869766,0.994505729825334,0.9965029628038469,0.9995328128553146,1.0037157342340104,1.010738269814327,1.0143497299815232,1.0167359445867572,1.025325009457823,1.0288984205725558,1.0325107085102623,1.0348029938491765,1.0350031601721768,1.036023492250497,1.037242964671422,1.037248374710668,1.0375005545304956,1.0526808306358006,1.0591944767143355,1.0606398413157003,1.0637434766495222,1.064465089990768,1.0780859941942709,1.0817210120069334,1.088309308642337,1.0925947269848022,1.0997881386769965,1.1034899513736558,1.1046519980454355,1.107239516779559,1.110466005135783,1.1148092198739916,1.1171530752380106,1.1249430290253064,1.1255370825538935,1.1333467310193088,1.1340687917563035,1.1346120430309232,1.1391986784812358,1.1420871317013161,1.1437792667432212,1.144117778776754,1.154559977316729,1.154613321971247,1.1563880579991028,1.1579878060879287,1.1590482915354576,1.1609225766991267,1.1618218821368995,1.1634389487644203,1.1643569213653242,1.1668224827902616,1.1704819651160523,1.1787023043587537,1.1810206306854487,1.182443581992566,1.2075453210989098,1.2137982139390848,1.2160128648509636,1.218283636071999,1.2256624608641624,1.2355166870563188,1.238047149705025,1.2421977106566655,1.2478274923181516,1.249163438508918,1.2583240679592385,1.2649127119048251,1.2736695959418005,1.2737430712880748,1.2764730129041124,1.2814553633951151,1.284606708563431,1.2960759199999679,1.2979898120141464,1.2986773420857471,1.3040274740224305,1.3065932510550036,1.3293109107628245,1.3476043380838603,1.362155048674503,1.3691464164574545,1.4041779706105477,1.4046266368656275,1.4084892477623583,1.4117302378279644,1.4174147413323153,1.4180720878592799,1.4191104861840564,1.425439443553083,1.4305232141084752,1.435074739540777,1.435276720446497,1.4644978863232636,1.4645130813996596,1.4681887669182128,1.4824637224496815,1.4880423607431261,1.498604112147645,1.5129890551265526,1.515072621985649,1.5162566686965244,1.5196934580879635,1.5218600536502331,1.533565226429106,1.5362747783420865,1.536505676494278,1.5698866642889928,1.574205457832182,1.5775848885050907,1.5778377151791307,1.578704929267342,1.594918897566649,1.6018409919594512,1.6076322014033173,1.6190067206062884,1.6241908884306566,1.6262251762476825,1.634300616980611,1.6543321167162102,1.6765500369865278,1.6793153517559656,1.7073676484775506,1.7227190159753667,1.744849991507864,1.7473276632316574,1.7969743408954288,1.8188735405639587,1.820181309960025,1.8315465782286775,1.8323401075373245,1.8334143655017712,1.8352657446645888,1.8378537633134844,1.8381297227531004,1.8571101128064798,1.8841239133461676,1.8855109749324834,1.9127160319763847,1.9222876505816944,1.943163176486207,1.9609393527927061,2.0029019178804925,2.0165760238232453,2.0172207830010374,2.048160650677286,2.051206888472015,2.0530892325145316,2.0620658113753,2.0640080887681793,2.0887456836438827,2.1177555671277783,2.1197766846540453,2.120172367195324,2.121184607780522,2.1572099158495406,2.1690549996559954,2.2450983611486017,2.27625365284516,2.2817758193632454,2.2973778080544016,2.308486069492984,2.3143229168228006,2.3431117017861784,2.3476350422052814,2.4037661179586203,2.468442431516889,2.478811608851873,2.509327988310112,2.514617051783916,2.618924765353588,2.626476609154539,2.633242186750665,2.656373546693534,3.1321601805429324],\"yaxis\":\"y\",\"type\":\"scatter\"}],                        {\"template\":{\"data\":{\"histogram2dcontour\":[{\"type\":\"histogram2dcontour\",\"colorbar\":{\"outlinewidth\":0,\"ticks\":\"\"},\"colorscale\":[[0.0,\"#0d0887\"],[0.1111111111111111,\"#46039f\"],[0.2222222222222222,\"#7201a8\"],[0.3333333333333333,\"#9c179e\"],[0.4444444444444444,\"#bd3786\"],[0.5555555555555556,\"#d8576b\"],[0.6666666666666666,\"#ed7953\"],[0.7777777777777778,\"#fb9f3a\"],[0.8888888888888888,\"#fdca26\"],[1.0,\"#f0f921\"]]}],\"choropleth\":[{\"type\":\"choropleth\",\"colorbar\":{\"outlinewidth\":0,\"ticks\":\"\"}}],\"histogram2d\":[{\"type\":\"histogram2d\",\"colorbar\":{\"outlinewidth\":0,\"ticks\":\"\"},\"colorscale\":[[0.0,\"#0d0887\"],[0.1111111111111111,\"#46039f\"],[0.2222222222222222,\"#7201a8\"],[0.3333333333333333,\"#9c179e\"],[0.4444444444444444,\"#bd3786\"],[0.5555555555555556,\"#d8576b\"],[0.6666666666666666,\"#ed7953\"],[0.7777777777777778,\"#fb9f3a\"],[0.8888888888888888,\"#fdca26\"],[1.0,\"#f0f921\"]]}],\"heatmap\":[{\"type\":\"heatmap\",\"colorbar\":{\"outlinewidth\":0,\"ticks\":\"\"},\"colorscale\":[[0.0,\"#0d0887\"],[0.1111111111111111,\"#46039f\"],[0.2222222222222222,\"#7201a8\"],[0.3333333333333333,\"#9c179e\"],[0.4444444444444444,\"#bd3786\"],[0.5555555555555556,\"#d8576b\"],[0.6666666666666666,\"#ed7953\"],[0.7777777777777778,\"#fb9f3a\"],[0.8888888888888888,\"#fdca26\"],[1.0,\"#f0f921\"]]}],\"heatmapgl\":[{\"type\":\"heatmapgl\",\"colorbar\":{\"outlinewidth\":0,\"ticks\":\"\"},\"colorscale\":[[0.0,\"#0d0887\"],[0.1111111111111111,\"#46039f\"],[0.2222222222222222,\"#7201a8\"],[0.3333333333333333,\"#9c179e\"],[0.4444444444444444,\"#bd3786\"],[0.5555555555555556,\"#d8576b\"],[0.6666666666666666,\"#ed7953\"],[0.7777777777777778,\"#fb9f3a\"],[0.8888888888888888,\"#fdca26\"],[1.0,\"#f0f921\"]]}],\"contourcarpet\":[{\"type\":\"contourcarpet\",\"colorbar\":{\"outlinewidth\":0,\"ticks\":\"\"}}],\"contour\":[{\"type\":\"contour\",\"colorbar\":{\"outlinewidth\":0,\"ticks\":\"\"},\"colorscale\":[[0.0,\"#0d0887\"],[0.1111111111111111,\"#46039f\"],[0.2222222222222222,\"#7201a8\"],[0.3333333333333333,\"#9c179e\"],[0.4444444444444444,\"#bd3786\"],[0.5555555555555556,\"#d8576b\"],[0.6666666666666666,\"#ed7953\"],[0.7777777777777778,\"#fb9f3a\"],[0.8888888888888888,\"#fdca26\"],[1.0,\"#f0f921\"]]}],\"surface\":[{\"type\":\"surface\",\"colorbar\":{\"outlinewidth\":0,\"ticks\":\"\"},\"colorscale\":[[0.0,\"#0d0887\"],[0.1111111111111111,\"#46039f\"],[0.2222222222222222,\"#7201a8\"],[0.3333333333333333,\"#9c179e\"],[0.4444444444444444,\"#bd3786\"],[0.5555555555555556,\"#d8576b\"],[0.6666666666666666,\"#ed7953\"],[0.7777777777777778,\"#fb9f3a\"],[0.8888888888888888,\"#fdca26\"],[1.0,\"#f0f921\"]]}],\"mesh3d\":[{\"type\":\"mesh3d\",\"colorbar\":{\"outlinewidth\":0,\"ticks\":\"\"}}],\"scatter\":[{\"fillpattern\":{\"fillmode\":\"overlay\",\"size\":10,\"solidity\":0.2},\"type\":\"scatter\"}],\"parcoords\":[{\"type\":\"parcoords\",\"line\":{\"colorbar\":{\"outlinewidth\":0,\"ticks\":\"\"}}}],\"scatterpolargl\":[{\"type\":\"scatterpolargl\",\"marker\":{\"colorbar\":{\"outlinewidth\":0,\"ticks\":\"\"}}}],\"bar\":[{\"error_x\":{\"color\":\"#2a3f5f\"},\"error_y\":{\"color\":\"#2a3f5f\"},\"marker\":{\"line\":{\"color\":\"#E5ECF6\",\"width\":0.5},\"pattern\":{\"fillmode\":\"overlay\",\"size\":10,\"solidity\":0.2}},\"type\":\"bar\"}],\"scattergeo\":[{\"type\":\"scattergeo\",\"marker\":{\"colorbar\":{\"outlinewidth\":0,\"ticks\":\"\"}}}],\"scatterpolar\":[{\"type\":\"scatterpolar\",\"marker\":{\"colorbar\":{\"outlinewidth\":0,\"ticks\":\"\"}}}],\"histogram\":[{\"marker\":{\"pattern\":{\"fillmode\":\"overlay\",\"size\":10,\"solidity\":0.2}},\"type\":\"histogram\"}],\"scattergl\":[{\"type\":\"scattergl\",\"marker\":{\"colorbar\":{\"outlinewidth\":0,\"ticks\":\"\"}}}],\"scatter3d\":[{\"type\":\"scatter3d\",\"line\":{\"colorbar\":{\"outlinewidth\":0,\"ticks\":\"\"}},\"marker\":{\"colorbar\":{\"outlinewidth\":0,\"ticks\":\"\"}}}],\"scattermapbox\":[{\"type\":\"scattermapbox\",\"marker\":{\"colorbar\":{\"outlinewidth\":0,\"ticks\":\"\"}}}],\"scatterternary\":[{\"type\":\"scatterternary\",\"marker\":{\"colorbar\":{\"outlinewidth\":0,\"ticks\":\"\"}}}],\"scattercarpet\":[{\"type\":\"scattercarpet\",\"marker\":{\"colorbar\":{\"outlinewidth\":0,\"ticks\":\"\"}}}],\"carpet\":[{\"aaxis\":{\"endlinecolor\":\"#2a3f5f\",\"gridcolor\":\"white\",\"linecolor\":\"white\",\"minorgridcolor\":\"white\",\"startlinecolor\":\"#2a3f5f\"},\"baxis\":{\"endlinecolor\":\"#2a3f5f\",\"gridcolor\":\"white\",\"linecolor\":\"white\",\"minorgridcolor\":\"white\",\"startlinecolor\":\"#2a3f5f\"},\"type\":\"carpet\"}],\"table\":[{\"cells\":{\"fill\":{\"color\":\"#EBF0F8\"},\"line\":{\"color\":\"white\"}},\"header\":{\"fill\":{\"color\":\"#C8D4E3\"},\"line\":{\"color\":\"white\"}},\"type\":\"table\"}],\"barpolar\":[{\"marker\":{\"line\":{\"color\":\"#E5ECF6\",\"width\":0.5},\"pattern\":{\"fillmode\":\"overlay\",\"size\":10,\"solidity\":0.2}},\"type\":\"barpolar\"}],\"pie\":[{\"automargin\":true,\"type\":\"pie\"}]},\"layout\":{\"autotypenumbers\":\"strict\",\"colorway\":[\"#636efa\",\"#EF553B\",\"#00cc96\",\"#ab63fa\",\"#FFA15A\",\"#19d3f3\",\"#FF6692\",\"#B6E880\",\"#FF97FF\",\"#FECB52\"],\"font\":{\"color\":\"#2a3f5f\"},\"hovermode\":\"closest\",\"hoverlabel\":{\"align\":\"left\"},\"paper_bgcolor\":\"white\",\"plot_bgcolor\":\"#E5ECF6\",\"polar\":{\"bgcolor\":\"#E5ECF6\",\"angularaxis\":{\"gridcolor\":\"white\",\"linecolor\":\"white\",\"ticks\":\"\"},\"radialaxis\":{\"gridcolor\":\"white\",\"linecolor\":\"white\",\"ticks\":\"\"}},\"ternary\":{\"bgcolor\":\"#E5ECF6\",\"aaxis\":{\"gridcolor\":\"white\",\"linecolor\":\"white\",\"ticks\":\"\"},\"baxis\":{\"gridcolor\":\"white\",\"linecolor\":\"white\",\"ticks\":\"\"},\"caxis\":{\"gridcolor\":\"white\",\"linecolor\":\"white\",\"ticks\":\"\"}},\"coloraxis\":{\"colorbar\":{\"outlinewidth\":0,\"ticks\":\"\"}},\"colorscale\":{\"sequential\":[[0.0,\"#0d0887\"],[0.1111111111111111,\"#46039f\"],[0.2222222222222222,\"#7201a8\"],[0.3333333333333333,\"#9c179e\"],[0.4444444444444444,\"#bd3786\"],[0.5555555555555556,\"#d8576b\"],[0.6666666666666666,\"#ed7953\"],[0.7777777777777778,\"#fb9f3a\"],[0.8888888888888888,\"#fdca26\"],[1.0,\"#f0f921\"]],\"sequentialminus\":[[0.0,\"#0d0887\"],[0.1111111111111111,\"#46039f\"],[0.2222222222222222,\"#7201a8\"],[0.3333333333333333,\"#9c179e\"],[0.4444444444444444,\"#bd3786\"],[0.5555555555555556,\"#d8576b\"],[0.6666666666666666,\"#ed7953\"],[0.7777777777777778,\"#fb9f3a\"],[0.8888888888888888,\"#fdca26\"],[1.0,\"#f0f921\"]],\"diverging\":[[0,\"#8e0152\"],[0.1,\"#c51b7d\"],[0.2,\"#de77ae\"],[0.3,\"#f1b6da\"],[0.4,\"#fde0ef\"],[0.5,\"#f7f7f7\"],[0.6,\"#e6f5d0\"],[0.7,\"#b8e186\"],[0.8,\"#7fbc41\"],[0.9,\"#4d9221\"],[1,\"#276419\"]]},\"xaxis\":{\"gridcolor\":\"white\",\"linecolor\":\"white\",\"ticks\":\"\",\"title\":{\"standoff\":15},\"zerolinecolor\":\"white\",\"automargin\":true,\"zerolinewidth\":2},\"yaxis\":{\"gridcolor\":\"white\",\"linecolor\":\"white\",\"ticks\":\"\",\"title\":{\"standoff\":15},\"zerolinecolor\":\"white\",\"automargin\":true,\"zerolinewidth\":2},\"scene\":{\"xaxis\":{\"backgroundcolor\":\"#E5ECF6\",\"gridcolor\":\"white\",\"linecolor\":\"white\",\"showbackground\":true,\"ticks\":\"\",\"zerolinecolor\":\"white\",\"gridwidth\":2},\"yaxis\":{\"backgroundcolor\":\"#E5ECF6\",\"gridcolor\":\"white\",\"linecolor\":\"white\",\"showbackground\":true,\"ticks\":\"\",\"zerolinecolor\":\"white\",\"gridwidth\":2},\"zaxis\":{\"backgroundcolor\":\"#E5ECF6\",\"gridcolor\":\"white\",\"linecolor\":\"white\",\"showbackground\":true,\"ticks\":\"\",\"zerolinecolor\":\"white\",\"gridwidth\":2}},\"shapedefaults\":{\"line\":{\"color\":\"#2a3f5f\"}},\"annotationdefaults\":{\"arrowcolor\":\"#2a3f5f\",\"arrowhead\":0,\"arrowwidth\":1},\"geo\":{\"bgcolor\":\"white\",\"landcolor\":\"#E5ECF6\",\"subunitcolor\":\"white\",\"showland\":true,\"showlakes\":true,\"lakecolor\":\"white\"},\"title\":{\"x\":0.05},\"mapbox\":{\"style\":\"light\"}}},\"xaxis\":{\"anchor\":\"y\",\"domain\":[0.0,1.0],\"title\":{\"text\":\"data\"}},\"yaxis\":{\"anchor\":\"x\",\"domain\":[0.0,1.0],\"title\":{\"text\":\"relu\"},\"range\":[-0.5,1.5]},\"legend\":{\"tracegroupgap\":0},\"margin\":{\"t\":60},\"width\":800},                        {\"responsive\": true}                    ).then(function(){\n",
              "                            \n",
              "var gd = document.getElementById('cbbc9ca2-cdda-4dfc-bcd3-e87301e49c8d');\n",
              "var x = new MutationObserver(function (mutations, observer) {{\n",
              "        var display = window.getComputedStyle(gd).display;\n",
              "        if (!display || display === 'none') {{\n",
              "            console.log([gd, 'removed!']);\n",
              "            Plotly.purge(gd);\n",
              "            observer.disconnect();\n",
              "        }}\n",
              "}});\n",
              "\n",
              "// Listen for the removal of the full notebook cells\n",
              "var notebookContainer = gd.closest('#notebook-container');\n",
              "if (notebookContainer) {{\n",
              "    x.observe(notebookContainer, {childList: true});\n",
              "}}\n",
              "\n",
              "// Listen for the clearing of the current output cell\n",
              "var outputEl = gd.closest('.output');\n",
              "if (outputEl) {{\n",
              "    x.observe(outputEl, {childList: true});\n",
              "}}\n",
              "\n",
              "                        })                };                            </script>        </div>\n",
              "</body>\n",
              "</html>"
            ]
          },
          "metadata": {}
        }
      ]
    },
    {
      "cell_type": "code",
      "source": [
        "# funkcja sigmoid - sprowadza dane do przedziału od 0 do 1\n",
        "\n",
        "from tensorflow.keras.activations import sigmoid\n",
        "\n",
        "data = pd.DataFrame({'data': random_data, 'sigmoid': sigmoid(random_data)})\n",
        "data.head()"
      ],
      "metadata": {
        "colab": {
          "base_uri": "https://localhost:8080/",
          "height": 206
        },
        "id": "FRJispG-1y_v",
        "outputId": "472cde89-944f-4efa-a552-db21063a108f"
      },
      "execution_count": 12,
      "outputs": [
        {
          "output_type": "execute_result",
          "data": {
            "text/plain": [
              "       data   sigmoid\n",
              "0 -2.945486  0.049950\n",
              "1 -2.926548  0.050857\n",
              "2 -2.751397  0.060008\n",
              "3 -2.699644  0.062994\n",
              "4 -2.683651  0.063945"
            ],
            "text/html": [
              "\n",
              "  <div id=\"df-c147d69c-5b35-4601-86e0-da805b2ea2ab\" class=\"colab-df-container\">\n",
              "    <div>\n",
              "<style scoped>\n",
              "    .dataframe tbody tr th:only-of-type {\n",
              "        vertical-align: middle;\n",
              "    }\n",
              "\n",
              "    .dataframe tbody tr th {\n",
              "        vertical-align: top;\n",
              "    }\n",
              "\n",
              "    .dataframe thead th {\n",
              "        text-align: right;\n",
              "    }\n",
              "</style>\n",
              "<table border=\"1\" class=\"dataframe\">\n",
              "  <thead>\n",
              "    <tr style=\"text-align: right;\">\n",
              "      <th></th>\n",
              "      <th>data</th>\n",
              "      <th>sigmoid</th>\n",
              "    </tr>\n",
              "  </thead>\n",
              "  <tbody>\n",
              "    <tr>\n",
              "      <th>0</th>\n",
              "      <td>-2.945486</td>\n",
              "      <td>0.049950</td>\n",
              "    </tr>\n",
              "    <tr>\n",
              "      <th>1</th>\n",
              "      <td>-2.926548</td>\n",
              "      <td>0.050857</td>\n",
              "    </tr>\n",
              "    <tr>\n",
              "      <th>2</th>\n",
              "      <td>-2.751397</td>\n",
              "      <td>0.060008</td>\n",
              "    </tr>\n",
              "    <tr>\n",
              "      <th>3</th>\n",
              "      <td>-2.699644</td>\n",
              "      <td>0.062994</td>\n",
              "    </tr>\n",
              "    <tr>\n",
              "      <th>4</th>\n",
              "      <td>-2.683651</td>\n",
              "      <td>0.063945</td>\n",
              "    </tr>\n",
              "  </tbody>\n",
              "</table>\n",
              "</div>\n",
              "    <div class=\"colab-df-buttons\">\n",
              "\n",
              "  <div class=\"colab-df-container\">\n",
              "    <button class=\"colab-df-convert\" onclick=\"convertToInteractive('df-c147d69c-5b35-4601-86e0-da805b2ea2ab')\"\n",
              "            title=\"Convert this dataframe to an interactive table.\"\n",
              "            style=\"display:none;\">\n",
              "\n",
              "  <svg xmlns=\"http://www.w3.org/2000/svg\" height=\"24px\" viewBox=\"0 -960 960 960\">\n",
              "    <path d=\"M120-120v-720h720v720H120Zm60-500h600v-160H180v160Zm220 220h160v-160H400v160Zm0 220h160v-160H400v160ZM180-400h160v-160H180v160Zm440 0h160v-160H620v160ZM180-180h160v-160H180v160Zm440 0h160v-160H620v160Z\"/>\n",
              "  </svg>\n",
              "    </button>\n",
              "\n",
              "  <style>\n",
              "    .colab-df-container {\n",
              "      display:flex;\n",
              "      gap: 12px;\n",
              "    }\n",
              "\n",
              "    .colab-df-convert {\n",
              "      background-color: #E8F0FE;\n",
              "      border: none;\n",
              "      border-radius: 50%;\n",
              "      cursor: pointer;\n",
              "      display: none;\n",
              "      fill: #1967D2;\n",
              "      height: 32px;\n",
              "      padding: 0 0 0 0;\n",
              "      width: 32px;\n",
              "    }\n",
              "\n",
              "    .colab-df-convert:hover {\n",
              "      background-color: #E2EBFA;\n",
              "      box-shadow: 0px 1px 2px rgba(60, 64, 67, 0.3), 0px 1px 3px 1px rgba(60, 64, 67, 0.15);\n",
              "      fill: #174EA6;\n",
              "    }\n",
              "\n",
              "    .colab-df-buttons div {\n",
              "      margin-bottom: 4px;\n",
              "    }\n",
              "\n",
              "    [theme=dark] .colab-df-convert {\n",
              "      background-color: #3B4455;\n",
              "      fill: #D2E3FC;\n",
              "    }\n",
              "\n",
              "    [theme=dark] .colab-df-convert:hover {\n",
              "      background-color: #434B5C;\n",
              "      box-shadow: 0px 1px 3px 1px rgba(0, 0, 0, 0.15);\n",
              "      filter: drop-shadow(0px 1px 2px rgba(0, 0, 0, 0.3));\n",
              "      fill: #FFFFFF;\n",
              "    }\n",
              "  </style>\n",
              "\n",
              "    <script>\n",
              "      const buttonEl =\n",
              "        document.querySelector('#df-c147d69c-5b35-4601-86e0-da805b2ea2ab button.colab-df-convert');\n",
              "      buttonEl.style.display =\n",
              "        google.colab.kernel.accessAllowed ? 'block' : 'none';\n",
              "\n",
              "      async function convertToInteractive(key) {\n",
              "        const element = document.querySelector('#df-c147d69c-5b35-4601-86e0-da805b2ea2ab');\n",
              "        const dataTable =\n",
              "          await google.colab.kernel.invokeFunction('convertToInteractive',\n",
              "                                                    [key], {});\n",
              "        if (!dataTable) return;\n",
              "\n",
              "        const docLinkHtml = 'Like what you see? Visit the ' +\n",
              "          '<a target=\"_blank\" href=https://colab.research.google.com/notebooks/data_table.ipynb>data table notebook</a>'\n",
              "          + ' to learn more about interactive tables.';\n",
              "        element.innerHTML = '';\n",
              "        dataTable['output_type'] = 'display_data';\n",
              "        await google.colab.output.renderOutput(dataTable, element);\n",
              "        const docLink = document.createElement('div');\n",
              "        docLink.innerHTML = docLinkHtml;\n",
              "        element.appendChild(docLink);\n",
              "      }\n",
              "    </script>\n",
              "  </div>\n",
              "\n",
              "\n",
              "<div id=\"df-2f831345-d7a3-4b32-81c3-2e8f11c1f352\">\n",
              "  <button class=\"colab-df-quickchart\" onclick=\"quickchart('df-2f831345-d7a3-4b32-81c3-2e8f11c1f352')\"\n",
              "            title=\"Suggest charts\"\n",
              "            style=\"display:none;\">\n",
              "\n",
              "<svg xmlns=\"http://www.w3.org/2000/svg\" height=\"24px\"viewBox=\"0 0 24 24\"\n",
              "     width=\"24px\">\n",
              "    <g>\n",
              "        <path d=\"M19 3H5c-1.1 0-2 .9-2 2v14c0 1.1.9 2 2 2h14c1.1 0 2-.9 2-2V5c0-1.1-.9-2-2-2zM9 17H7v-7h2v7zm4 0h-2V7h2v10zm4 0h-2v-4h2v4z\"/>\n",
              "    </g>\n",
              "</svg>\n",
              "  </button>\n",
              "\n",
              "<style>\n",
              "  .colab-df-quickchart {\n",
              "      --bg-color: #E8F0FE;\n",
              "      --fill-color: #1967D2;\n",
              "      --hover-bg-color: #E2EBFA;\n",
              "      --hover-fill-color: #174EA6;\n",
              "      --disabled-fill-color: #AAA;\n",
              "      --disabled-bg-color: #DDD;\n",
              "  }\n",
              "\n",
              "  [theme=dark] .colab-df-quickchart {\n",
              "      --bg-color: #3B4455;\n",
              "      --fill-color: #D2E3FC;\n",
              "      --hover-bg-color: #434B5C;\n",
              "      --hover-fill-color: #FFFFFF;\n",
              "      --disabled-bg-color: #3B4455;\n",
              "      --disabled-fill-color: #666;\n",
              "  }\n",
              "\n",
              "  .colab-df-quickchart {\n",
              "    background-color: var(--bg-color);\n",
              "    border: none;\n",
              "    border-radius: 50%;\n",
              "    cursor: pointer;\n",
              "    display: none;\n",
              "    fill: var(--fill-color);\n",
              "    height: 32px;\n",
              "    padding: 0;\n",
              "    width: 32px;\n",
              "  }\n",
              "\n",
              "  .colab-df-quickchart:hover {\n",
              "    background-color: var(--hover-bg-color);\n",
              "    box-shadow: 0 1px 2px rgba(60, 64, 67, 0.3), 0 1px 3px 1px rgba(60, 64, 67, 0.15);\n",
              "    fill: var(--button-hover-fill-color);\n",
              "  }\n",
              "\n",
              "  .colab-df-quickchart-complete:disabled,\n",
              "  .colab-df-quickchart-complete:disabled:hover {\n",
              "    background-color: var(--disabled-bg-color);\n",
              "    fill: var(--disabled-fill-color);\n",
              "    box-shadow: none;\n",
              "  }\n",
              "\n",
              "  .colab-df-spinner {\n",
              "    border: 2px solid var(--fill-color);\n",
              "    border-color: transparent;\n",
              "    border-bottom-color: var(--fill-color);\n",
              "    animation:\n",
              "      spin 1s steps(1) infinite;\n",
              "  }\n",
              "\n",
              "  @keyframes spin {\n",
              "    0% {\n",
              "      border-color: transparent;\n",
              "      border-bottom-color: var(--fill-color);\n",
              "      border-left-color: var(--fill-color);\n",
              "    }\n",
              "    20% {\n",
              "      border-color: transparent;\n",
              "      border-left-color: var(--fill-color);\n",
              "      border-top-color: var(--fill-color);\n",
              "    }\n",
              "    30% {\n",
              "      border-color: transparent;\n",
              "      border-left-color: var(--fill-color);\n",
              "      border-top-color: var(--fill-color);\n",
              "      border-right-color: var(--fill-color);\n",
              "    }\n",
              "    40% {\n",
              "      border-color: transparent;\n",
              "      border-right-color: var(--fill-color);\n",
              "      border-top-color: var(--fill-color);\n",
              "    }\n",
              "    60% {\n",
              "      border-color: transparent;\n",
              "      border-right-color: var(--fill-color);\n",
              "    }\n",
              "    80% {\n",
              "      border-color: transparent;\n",
              "      border-right-color: var(--fill-color);\n",
              "      border-bottom-color: var(--fill-color);\n",
              "    }\n",
              "    90% {\n",
              "      border-color: transparent;\n",
              "      border-bottom-color: var(--fill-color);\n",
              "    }\n",
              "  }\n",
              "</style>\n",
              "\n",
              "  <script>\n",
              "    async function quickchart(key) {\n",
              "      const quickchartButtonEl =\n",
              "        document.querySelector('#' + key + ' button');\n",
              "      quickchartButtonEl.disabled = true;  // To prevent multiple clicks.\n",
              "      quickchartButtonEl.classList.add('colab-df-spinner');\n",
              "      try {\n",
              "        const charts = await google.colab.kernel.invokeFunction(\n",
              "            'suggestCharts', [key], {});\n",
              "      } catch (error) {\n",
              "        console.error('Error during call to suggestCharts:', error);\n",
              "      }\n",
              "      quickchartButtonEl.classList.remove('colab-df-spinner');\n",
              "      quickchartButtonEl.classList.add('colab-df-quickchart-complete');\n",
              "    }\n",
              "    (() => {\n",
              "      let quickchartButtonEl =\n",
              "        document.querySelector('#df-2f831345-d7a3-4b32-81c3-2e8f11c1f352 button');\n",
              "      quickchartButtonEl.style.display =\n",
              "        google.colab.kernel.accessAllowed ? 'block' : 'none';\n",
              "    })();\n",
              "  </script>\n",
              "</div>\n",
              "\n",
              "    </div>\n",
              "  </div>\n"
            ],
            "application/vnd.google.colaboratory.intrinsic+json": {
              "type": "dataframe",
              "variable_name": "data",
              "summary": "{\n  \"name\": \"data\",\n  \"rows\": 1000,\n  \"fields\": [\n    {\n      \"column\": \"data\",\n      \"properties\": {\n        \"dtype\": \"number\",\n        \"std\": 1.0127516608479803,\n        \"min\": -2.9454862366389265,\n        \"max\": 3.1321601805429324,\n        \"num_unique_values\": 1000,\n        \"samples\": [\n          0.02080760390226598,\n          0.6348879867785485,\n          0.6383111968935951\n        ],\n        \"semantic_type\": \"\",\n        \"description\": \"\"\n      }\n    },\n    {\n      \"column\": \"sigmoid\",\n      \"properties\": {\n        \"dtype\": \"number\",\n        \"std\": 0.21057288858108303,\n        \"min\": 0.04995027870654947,\n        \"max\": 0.958199999824754,\n        \"num_unique_values\": 1000,\n        \"samples\": [\n          0.505201713300674,\n          0.6535969706497009,\n          0.6543716046499025\n        ],\n        \"semantic_type\": \"\",\n        \"description\": \"\"\n      }\n    }\n  ]\n}"
            }
          },
          "metadata": {},
          "execution_count": 12
        }
      ]
    },
    {
      "cell_type": "code",
      "source": [
        "px.line(data, x='data', y='sigmoid', width=800, range_y=[-0.5, 1.5])"
      ],
      "metadata": {
        "colab": {
          "base_uri": "https://localhost:8080/",
          "height": 542
        },
        "id": "olIZCjH_13JT",
        "outputId": "35576fc8-ab71-46d5-8c77-f38623949ea3"
      },
      "execution_count": 13,
      "outputs": [
        {
          "output_type": "display_data",
          "data": {
            "text/html": [
              "<html>\n",
              "<head><meta charset=\"utf-8\" /></head>\n",
              "<body>\n",
              "    <div>            <script src=\"https://cdnjs.cloudflare.com/ajax/libs/mathjax/2.7.5/MathJax.js?config=TeX-AMS-MML_SVG\"></script><script type=\"text/javascript\">if (window.MathJax && window.MathJax.Hub && window.MathJax.Hub.Config) {window.MathJax.Hub.Config({SVG: {font: \"STIX-Web\"}});}</script>                <script type=\"text/javascript\">window.PlotlyConfig = {MathJaxConfig: 'local'};</script>\n",
              "        <script charset=\"utf-8\" src=\"https://cdn.plot.ly/plotly-2.35.2.min.js\"></script>                <div id=\"75e12ab2-4dfc-453b-aeec-b0a9818d8b2b\" class=\"plotly-graph-div\" style=\"height:525px; width:800px;\"></div>            <script type=\"text/javascript\">                                    window.PLOTLYENV=window.PLOTLYENV || {};                                    if (document.getElementById(\"75e12ab2-4dfc-453b-aeec-b0a9818d8b2b\")) {                    Plotly.newPlot(                        \"75e12ab2-4dfc-453b-aeec-b0a9818d8b2b\",                        [{\"hovertemplate\":\"data=%{x}\\u003cbr\\u003esigmoid=%{y}\\u003cextra\\u003e\\u003c\\u002fextra\\u003e\",\"legendgroup\":\"\",\"line\":{\"color\":\"#636efa\",\"dash\":\"solid\"},\"marker\":{\"symbol\":\"circle\"},\"mode\":\"lines\",\"name\":\"\",\"orientation\":\"v\",\"showlegend\":false,\"x\":[-2.9454862366389265,-2.926548294389117,-2.7513971862897777,-2.69964381604571,-2.6836512118516134,-2.6805015630095483,-2.482186515261199,-2.4813511717315513,-2.480779799701099,-2.3858868590258595,-2.300721328647208,-2.283089845021693,-2.177081123829196,-2.1559400476098696,-2.148267370853787,-2.138442210070734,-2.10669402017211,-2.095049234423632,-2.061929283132136,-2.060418655915206,-2.034320717849176,-1.9815562437020653,-1.9801611390632499,-1.9788673619221373,-1.9672499393023573,-1.9153088903556648,-1.9131199824589116,-1.889083096541453,-1.882013337198292,-1.848302720603952,-1.826158054381194,-1.8224460191406875,-1.820283758317885,-1.7812995897214707,-1.7620042652603418,-1.7617934889329752,-1.7494531701043197,-1.739252843137808,-1.7342787123858638,-1.7327997271236006,-1.7178120486207502,-1.7149480233980383,-1.7075687926138075,-1.678689066374531,-1.668226960817117,-1.6506957034161045,-1.6503582536085328,-1.6204789505033537,-1.6173297501590138,-1.6118714630032334,-1.6086981070362938,-1.5913150291545692,-1.5881978507259118,-1.5801069795370368,-1.5479513936305438,-1.5370464557604147,-1.5286021742401756,-1.5273458508744995,-1.525997657191582,-1.523907977384548,-1.5176073960601288,-1.509864355127319,-1.502818130649273,-1.4980235104155755,-1.4868532512490824,-1.4846769282232906,-1.46821113518722,-1.4602916473899403,-1.4514925781575165,-1.450610175310549,-1.4475058957348168,-1.4326840821184113,-1.4324579251709288,-1.4251364370633073,-1.4245699518677686,-1.4232208527194792,-1.4158443032362902,-1.412272238836059,-1.405458846917898,-1.4002864989200252,-1.3954069241551854,-1.389635911465869,-1.385070210759962,-1.3806987274213334,-1.3755197908902812,-1.373527534716067,-1.3643757462197448,-1.3616476908981243,-1.356489085531788,-1.3371147882776724,-1.3286277060281069,-1.3196985526940133,-1.3040960278789016,-1.303017422373001,-1.2938528443224873,-1.2902442115043211,-1.2895843478919602,-1.2881395778440092,-1.287930539217061,-1.2861618829560355,-1.280098656409263,-1.271501398677824,-1.2702308008966836,-1.2618316796093831,-1.2594532058719043,-1.2288879039525005,-1.2266684795694596,-1.2228928317230574,-1.2206615193622443,-1.2165340062205006,-1.2160118669982989,-1.2145708076959831,-1.2128126917333784,-1.2073301903803924,-1.1993350593094187,-1.1916436546351346,-1.1804742260955745,-1.1671622195294487,-1.1637785996334882,-1.157685306776683,-1.1551400130519553,-1.1534635887846265,-1.153035539328639,-1.1475262014770713,-1.1453313526838358,-1.14003094560646,-1.1364162942709295,-1.1339177426556835,-1.1333698504787084,-1.132764138148872,-1.1306530895641498,-1.126297620547942,-1.1230516704325242,-1.1215971571765764,-1.1214286093043695,-1.1080627021187195,-1.1041904236902373,-1.081941895114053,-1.0799160807761208,-1.0775364050138387,-1.0724001051375238,-1.0617464519061912,-1.0598389343690278,-1.0477777049333967,-1.0439252191907884,-1.040693600220372,-1.0404129993702578,-1.03951101182139,-1.0358692630324284,-1.0287959871809496,-1.0239318824916113,-1.0232436140197758,-1.0228523070664413,-1.0213046590979642,-1.0205875052601259,-1.011113262797877,-1.0080934330654863,-1.006589841332282,-0.9902442045230812,-0.9891669080901537,-0.9848746073505876,-0.9771830135121801,-0.9750600476578719,-0.9727889008265684,-0.9685658288757227,-0.9634403256562618,-0.9629707431654573,-0.9624417770247634,-0.9574923014438953,-0.9523561706474434,-0.9422522922794816,-0.9397597502302046,-0.9376233494059012,-0.9309774272568058,-0.930645881940543,-0.9304544844273602,-0.9253676176693278,-0.9225038916932601,-0.9219315478028366,-0.9126073875424139,-0.911152416310477,-0.9058023922725332,-0.8962662921778503,-0.8945667916381443,-0.8873021640390356,-0.8865226578123706,-0.8860879236118868,-0.8855803200080603,-0.885369686328559,-0.8813273584155858,-0.8804340619132015,-0.8785236780903517,-0.8697560112217572,-0.8643655929125891,-0.8640937446445763,-0.8624661083893559,-0.8469433368196536,-0.8465326406624357,-0.8454036708059225,-0.8443276599964128,-0.8400768830717756,-0.8378403687918757,-0.8351868034539204,-0.8333336837069948,-0.8258583409780205,-0.8206185359375641,-0.8129704848635114,-0.8127080948281908,-0.809418839039529,-0.8022676204392225,-0.8014769268507494,-0.7999037453750616,-0.7984500759497942,-0.79709837109925,-0.7967838284449752,-0.7939527896428208,-0.7885699897018584,-0.7871951023140137,-0.7854538242801092,-0.7784618563842138,-0.7770579821863541,-0.7766497491149855,-0.7741900184991154,-0.768999657564846,-0.7677901236505345,-0.7576286677778498,-0.756055336730141,-0.7549549980197952,-0.7507627350529925,-0.7485515722742816,-0.7439515051029211,-0.7430363352122578,-0.7348821263792991,-0.7283244334553357,-0.7279437007344971,-0.72665602882629,-0.7229503108853832,-0.717704431707363,-0.7170154445678179,-0.7143231897504205,-0.7055730948237522,-0.7038193938855638,-0.699445708463136,-0.6988579239689678,-0.6976919535455904,-0.6924845915037785,-0.6918154311509882,-0.6889003720156641,-0.6883467407600421,-0.6822681873719516,-0.6816695999926556,-0.6767544513726695,-0.6762331611407725,-0.6739545907357973,-0.6733907273276505,-0.6679856815844915,-0.6673311308328832,-0.6664527790346987,-0.66560542351072,-0.6555299927074868,-0.6472457894064706,-0.6443443882233749,-0.6423194037341615,-0.6391390060662747,-0.6384205166394317,-0.6322801114910738,-0.6301032320640931,-0.6298224793420429,-0.6283027404443562,-0.6268805552279475,-0.6244913925745103,-0.6243741612324689,-0.6235814806330224,-0.622101201625038,-0.6195817366497922,-0.6172317854999347,-0.6081540988255444,-0.6074190357000786,-0.6060057993268453,-0.604827355845414,-0.5973637521032128,-0.5972169860674945,-0.5947239094186649,-0.5899033525854075,-0.5889912435840625,-0.5805977506425058,-0.5804856683674033,-0.5743329962074042,-0.5741244443370934,-0.5726547201020906,-0.5708000578768434,-0.5667458813764709,-0.5661942029919186,-0.562591967491304,-0.5593449252820235,-0.5558913478275991,-0.5532861638118907,-0.5518585246629768,-0.5490084560578807,-0.5447250887689291,-0.5423319023226223,-0.5418645477553805,-0.5361161734659412,-0.5335692790230709,-0.525503186213384,-0.5216654325815724,-0.5204395698906854,-0.5180465018754166,-0.5172022946850535,-0.5135055203002505,-0.5131124874677138,-0.5069333499478373,-0.503424180378713,-0.5004703653430315,-0.49945592385531706,-0.49697723621238254,-0.4925520780867666,-0.4924907337587139,-0.48940530559241746,-0.4886192846434189,-0.48225497956513724,-0.47879460452571126,-0.47701685480017897,-0.47645588088658025,-0.4741730643913724,-0.4735287035936783,-0.47341441555456176,-0.4718579352039361,-0.46472507687635833,-0.463828401318421,-0.4597114685991715,-0.45769156529002025,-0.4461944363555548,-0.44467734914647844,-0.4438950299468853,-0.44320597955946983,-0.44006910619856365,-0.4385580071177394,-0.43745255089837154,-0.4356104544860426,-0.43193969995185644,-0.4319248703666391,-0.43148562166481896,-0.4282615277626681,-0.42706911237637346,-0.4162947769418587,-0.4143372010505992,-0.4108452317569281,-0.40880874520408633,-0.40534565690318275,-0.4029182566395361,-0.3933609628199298,-0.38900184792631537,-0.38149743917507756,-0.3807497007123074,-0.3791149876924991,-0.3772181914347351,-0.37576241770221086,-0.3690195696349935,-0.3661592052484092,-0.3614728883482683,-0.36125374563690965,-0.3601504758757779,-0.35937785402074157,-0.35424576801743396,-0.35396989225866415,-0.35029951794231834,-0.3479259823185589,-0.3476659792700526,-0.3419055039765288,-0.3415652359071017,-0.3405712466473612,-0.3387685042636369,-0.33817643631263555,-0.3361154376267399,-0.3361054135829739,-0.3356718032526221,-0.3343208798731028,-0.33358609458156546,-0.32981669506575445,-0.32785521709455356,-0.3231304415631719,-0.32043877467579074,-0.3153998438750664,-0.3151667950132367,-0.3133274398347694,-0.31161273969594727,-0.31109196001462985,-0.29958458255478604,-0.2957974896143697,-0.29559393350422175,-0.2941818963285529,-0.2912635353614461,-0.28593046837036556,-0.2771686912771364,-0.27399469320693987,-0.271502305477108,-0.2709168699538817,-0.267788392473752,-0.26476305802318895,-0.26089564178724933,-0.26060280624861254,-0.2586052720101073,-0.256086045555994,-0.2556795033179919,-0.2546757251062182,-0.24592964550554997,-0.24534064699066382,-0.24137419358940543,-0.24020307435081456,-0.23999575778444882,-0.2358272961740752,-0.23420573457069369,-0.23379800320216557,-0.22900500043420213,-0.22771772424479556,-0.2243739959238412,-0.22426141342563558,-0.22321924807053653,-0.2222326811895599,-0.22206462082876052,-0.2189955320309384,-0.2146706228765669,-0.21463958936146862,-0.21425632569124597,-0.21119205440331312,-0.208491884200477,-0.20638005581984736,-0.20528312307449134,-0.2008011960501368,-0.19946228058154347,-0.19611259270662812,-0.19384273973863922,-0.1838270498175882,-0.18378020020707195,-0.17680431435785174,-0.17664920510046553,-0.17474094450599353,-0.1743199417944344,-0.17239154369080228,-0.17224768463394313,-0.17038396552638974,-0.16991605932385384,-0.16896684126603131,-0.16662370324688033,-0.1656686343644231,-0.16295137835758022,-0.1620053275689852,-0.15979721161841232,-0.158295257842024,-0.156487646798657,-0.15472265274326774,-0.15222499298620037,-0.14154395064841455,-0.14127762653807532,-0.13565360074026628,-0.13552588482126945,-0.13530513955314719,-0.13405971115830753,-0.13212145127062427,-0.12975126342152493,-0.12538651486020605,-0.12458456311429732,-0.12400169785591127,-0.12280197755496648,-0.12230383002669412,-0.11899626306368676,-0.1145524582545254,-0.1130199740977499,-0.10303489365293964,-0.09523811239377081,-0.09449821357659967,-0.09132358754047162,-0.09110916539291224,-0.09062342168650935,-0.08920649757497502,-0.08740993536910999,-0.08409657745351838,-0.0839127218347771,-0.08357058357285085,-0.07496677122495843,-0.07422651022313687,-0.07383519802616309,-0.06377894579516492,-0.06297086861002486,-0.061097631094597926,-0.05837184735779476,-0.05661709842308209,-0.0528425632951364,-0.052827706441118574,-0.046616411711514184,-0.041225018540431875,-0.04078655843270522,-0.04000899824319223,-0.03632880721483374,-0.0334752292181179,-0.032750752207284115,-0.0284064156410388,-0.023958695262862224,-0.023908165171583975,-0.02247133444461247,-0.02181347668170736,-0.02047501303847177,-0.01739439369018648,-0.016535425123667735,-0.014237566276271315,-0.007191834878799484,-0.005472131694427112,-0.003699546717569801,-0.0029760554466175056,-0.002795424548954191,-0.00039705398988154286,0.00009228300959661816,0.0028421687036671367,0.008334286121345399,0.008379659615241846,0.01472552871233803,0.016640232624137337,0.018354197369886822,0.020315387081638586,0.020412337545978328,0.02080760390226598,0.02988195053614484,0.031437156217676336,0.031621002957457976,0.033605168511139975,0.03830390215726383,0.0442154970265464,0.04969984947188961,0.05289535919169504,0.05761450720013523,0.05994595068238346,0.0655859794223959,0.06750565109962976,0.0688950594350855,0.06895043490681323,0.07034377501891578,0.07059071642184561,0.07120468561845139,0.07520994710317978,0.0801171145237053,0.08405711837048029,0.08655683880697221,0.08810305459278463,0.09089031069663722,0.0910475564293298,0.09679423456249658,0.0969901165991019,0.09710926234770412,0.0999544997968851,0.10153567343156583,0.10202060198437342,0.1028853840324955,0.10417992837803575,0.10680179268653416,0.10744324535895991,0.11065417727098718,0.11212691031849786,0.11377808751749759,0.11692339458987953,0.1180652336541034,0.11830124885805553,0.1185188565435681,0.12012351861017408,0.12077034778529692,0.12232135966579985,0.1307626655479185,0.13591711379991248,0.13765304320954092,0.13880736752828393,0.14023257424170715,0.14030159889115118,0.14039546427551025,0.14967619568526339,0.15365740177986173,0.15602185224999238,0.1580811461577324,0.15966906917763002,0.15983618188015522,0.1627284721765433,0.16971976827586727,0.17234399739904344,0.18163880250794015,0.1823823871093364,0.18317079237732314,0.18944839177705627,0.19398762116566268,0.19535898386158312,0.2064185543358089,0.20788050628813895,0.2144533458177042,0.21521711405466798,0.21775432548103643,0.220670150971602,0.22150129294118723,0.22302216698588764,0.2263052188066183,0.2284232704228214,0.22908319974356317,0.2294224361467734,0.2301624574730821,0.2301700724830343,0.2303214662288114,0.23342758572447897,0.23526315030212336,0.23577204704863658,0.23580693165805558,0.2441248398160598,0.24441176264056516,0.2505867150367613,0.2515296245415917,0.2640980411127237,0.2650471825339272,0.26645441792220015,0.2695447387635019,0.2707977135885463,0.2729551221787954,0.27715056419112394,0.27748308246470227,0.2788408442318787,0.2853920666653776,0.28702648782990386,0.2884917491761121,0.292255222305964,0.2949888544975905,0.301330977295088,0.30307328311370413,0.30585416714636143,0.3084336151262972,0.310342328779031,0.3197166919941372,0.3198627669261082,0.3207182354408495,0.32501238893659606,0.3257903331013064,0.32843265855890796,0.3286282235274775,0.32926902363516364,0.33436528391192505,0.3355039883328669,0.33702641252952387,0.3405769828912079,0.34198861308138484,0.3421759177457109,0.3556245182737315,0.36240129312541003,0.3645314937300707,0.3668859982518398,0.3669633739876963,0.36739454211131034,0.3679192267718773,0.370093377776324,0.37077410121237186,0.3796685946138542,0.3812645320769103,0.38393414956668104,0.3856795952296723,0.39044176290407057,0.3913738131959145,0.39682490004294546,0.40084632208621224,0.401533349557936,0.4027165522509757,0.40388919626501746,0.4084513532775922,0.41746914682624114,0.41790430251519317,0.4189003885152889,0.4194064409558616,0.42279001764674395,0.42624293847476674,0.42778045008468835,0.42789553212080167,0.4279915348181539,0.4369733067463148,0.43845571688146395,0.44086662724260295,0.4412504208264269,0.44240116619330644,0.4471437438794303,0.4478473238427928,0.45082659045998075,0.4592915621931062,0.46368158949814503,0.4639524203356957,0.46569998221638004,0.4679976861849059,0.4697799755951211,0.4741486081854509,0.476970516886383,0.47700890643381955,0.47793318221804565,0.4945219024851237,0.49626255892603616,0.500693905582132,0.5007832693447044,0.5064894974338904,0.5065183741070822,0.506938912490028,0.5140755335260347,0.519837294079735,0.529299078621948,0.531005748469331,0.5340870228038994,0.5381507735669706,0.5393354235937872,0.5410297010177383,0.552995197918063,0.5536551136313861,0.5551757477341313,0.5576752502791327,0.5580893586702286,0.5646622904526205,0.5672470475300236,0.5691806197193564,0.5723490695224319,0.5760053544072563,0.5828762386766956,0.582932907958359,0.5867657544533481,0.5876714978973717,0.5899402510096879,0.5914174897341616,0.5916905392347351,0.5922986946648315,0.5927660584397826,0.593086894055581,0.5932401036618228,0.6012872141381951,0.6070597372632515,0.6077668665130744,0.6112868510751016,0.612065397131532,0.615357412742596,0.6277898118284622,0.6306323334458834,0.634013190632918,0.6348879867785485,0.6374107776821376,0.638271360268675,0.6383111968935951,0.6428159286297308,0.6428273621427633,0.6434989996901389,0.6486063557017082,0.6492335067267525,0.6526879132725997,0.6803336653177249,0.6820509524879597,0.6930812918754986,0.695235228231952,0.6966985856569999,0.7014404191484885,0.7039321110431297,0.7154239995888919,0.716233385767322,0.7176622301792377,0.7188626972512567,0.7207269377396405,0.7217765806433669,0.7259631800032861,0.7379593154642219,0.7389473770390315,0.7489443319867125,0.7523642630143238,0.7555948271105974,0.7615062454432788,0.7652134960487152,0.7675988065883134,0.7678014678267162,0.7703614743933574,0.7719378888037461,0.775529812361069,0.776322270978682,0.778697548868357,0.7795324108067061,0.7805379468867466,0.7835319378180357,0.7845436918169386,0.7848062627369811,0.7879057908541656,0.7913435358562252,0.7972877169832672,0.8051832232631783,0.8125360500320851,0.8169569158386825,0.8173934551231024,0.8189732568502064,0.8373831121358297,0.8451003262398634,0.8454833782981405,0.8465738575265467,0.8470601562964841,0.8471727176711543,0.8512524623031013,0.855029888080093,0.8581785236861104,0.8668134706947163,0.8692179186441366,0.8707091450082894,0.8777590776962155,0.8794549114707845,0.8846361653751951,0.8852354061378838,0.8853572167205508,0.8934859716191005,0.9015705532115155,0.906800863953868,0.9239158642492261,0.9256297213341155,0.9257471512547022,0.9342625455549578,0.936038291973422,0.9403741174911856,0.9478112965013579,0.9479255509836141,0.951125577493298,0.9516339009616767,0.9521010948154197,0.9700123713450396,0.9736461151503043,0.9783954919633593,0.985889338723191,0.9888380025810711,0.988927793268228,0.9943054560869766,0.994505729825334,0.9965029628038469,0.9995328128553146,1.0037157342340104,1.010738269814327,1.0143497299815232,1.0167359445867572,1.025325009457823,1.0288984205725558,1.0325107085102623,1.0348029938491765,1.0350031601721768,1.036023492250497,1.037242964671422,1.037248374710668,1.0375005545304956,1.0526808306358006,1.0591944767143355,1.0606398413157003,1.0637434766495222,1.064465089990768,1.0780859941942709,1.0817210120069334,1.088309308642337,1.0925947269848022,1.0997881386769965,1.1034899513736558,1.1046519980454355,1.107239516779559,1.110466005135783,1.1148092198739916,1.1171530752380106,1.1249430290253064,1.1255370825538935,1.1333467310193088,1.1340687917563035,1.1346120430309232,1.1391986784812358,1.1420871317013161,1.1437792667432212,1.144117778776754,1.154559977316729,1.154613321971247,1.1563880579991028,1.1579878060879287,1.1590482915354576,1.1609225766991267,1.1618218821368995,1.1634389487644203,1.1643569213653242,1.1668224827902616,1.1704819651160523,1.1787023043587537,1.1810206306854487,1.182443581992566,1.2075453210989098,1.2137982139390848,1.2160128648509636,1.218283636071999,1.2256624608641624,1.2355166870563188,1.238047149705025,1.2421977106566655,1.2478274923181516,1.249163438508918,1.2583240679592385,1.2649127119048251,1.2736695959418005,1.2737430712880748,1.2764730129041124,1.2814553633951151,1.284606708563431,1.2960759199999679,1.2979898120141464,1.2986773420857471,1.3040274740224305,1.3065932510550036,1.3293109107628245,1.3476043380838603,1.362155048674503,1.3691464164574545,1.4041779706105477,1.4046266368656275,1.4084892477623583,1.4117302378279644,1.4174147413323153,1.4180720878592799,1.4191104861840564,1.425439443553083,1.4305232141084752,1.435074739540777,1.435276720446497,1.4644978863232636,1.4645130813996596,1.4681887669182128,1.4824637224496815,1.4880423607431261,1.498604112147645,1.5129890551265526,1.515072621985649,1.5162566686965244,1.5196934580879635,1.5218600536502331,1.533565226429106,1.5362747783420865,1.536505676494278,1.5698866642889928,1.574205457832182,1.5775848885050907,1.5778377151791307,1.578704929267342,1.594918897566649,1.6018409919594512,1.6076322014033173,1.6190067206062884,1.6241908884306566,1.6262251762476825,1.634300616980611,1.6543321167162102,1.6765500369865278,1.6793153517559656,1.7073676484775506,1.7227190159753667,1.744849991507864,1.7473276632316574,1.7969743408954288,1.8188735405639587,1.820181309960025,1.8315465782286775,1.8323401075373245,1.8334143655017712,1.8352657446645888,1.8378537633134844,1.8381297227531004,1.8571101128064798,1.8841239133461676,1.8855109749324834,1.9127160319763847,1.9222876505816944,1.943163176486207,1.9609393527927061,2.0029019178804925,2.0165760238232453,2.0172207830010374,2.048160650677286,2.051206888472015,2.0530892325145316,2.0620658113753,2.0640080887681793,2.0887456836438827,2.1177555671277783,2.1197766846540453,2.120172367195324,2.121184607780522,2.1572099158495406,2.1690549996559954,2.2450983611486017,2.27625365284516,2.2817758193632454,2.2973778080544016,2.308486069492984,2.3143229168228006,2.3431117017861784,2.3476350422052814,2.4037661179586203,2.468442431516889,2.478811608851873,2.509327988310112,2.514617051783916,2.618924765353588,2.626476609154539,2.633242186750665,2.656373546693534,3.1321601805429324],\"xaxis\":\"x\",\"y\":[0.04995027870654947,0.050856681656393045,0.06000779082230331,0.06299437692928883,0.0639449811272813,0.06413376569746279,0.07711644498374076,0.077175916969354,0.07721661980040626,0.08425524442775945,0.09106323850546758,0.09253316955090947,0.10182757448452368,0.10377745128261992,0.1044932417925719,0.10541620449128447,0.10844789834957762,0.10957894144246248,0.11285253202754657,0.11300385972099676,0.11564629824129063,0.1211530391564232,0.12130166142269329,0.12143962956057987,0.12268457729683498,0.1283855998304077,0.12863074392598595,0.13134904953542528,0.13215778859443209,0.13607230023730266,0.13869659465359135,0.13914062883985515,0.13939982769778883,0.14414273525868565,0.1465394973975633,0.1465658602447827,0.14811618253766323,0.1494078622044617,0.15004110336971427,0.15022981418135622,0.1521532003192159,0.1525230352229947,0.15347932049924906,0.15726913614790097,0.15866071418359476,0.16101494543993644,0.16106053645654364,0.165138827654124,0.16557345957193187,0.16632894765083497,0.16676944275644315,0.16919896197796497,0.1696375977994075,0.17078033164478001,0.1753823475404725,0.17696504346785058,0.17819829643973484,0.17838235142288106,0.17858003118881854,0.17888677057002397,0.17981411274103656,0.18095889658501313,0.18200558572692707,0.1827204952678685,0.1843945070258771,0.1847220359878779,0.18721466488662755,0.18842272255879725,0.18977196306688277,0.18990767720488363,0.19038570789055198,0.1926808176189041,0.19271599988991017,0.1938576149801301,0.19394615884981325,0.19415715201769024,0.1953138925099999,0.19587591200731727,0.19695130359125962,0.1977706523256116,0.19854597494453932,0.1994658878704043,0.20019593598965402,0.20089680450863337,0.2017295049066785,0.20205051795524184,0.2035300491946275,0.20397263983962519,0.20481151042372991,0.20798493098507387,0.20938644932428874,0.21086845082592026,0.21347646927886724,0.21365762771370983,0.215201390912112,0.21581147836009074,0.21592317256329946,0.21616787303571547,0.21620329450078643,0.21650316041872975,0.2175334305413361,0.21900034572908558,0.21921774534042474,0.22065873993390178,0.22106803414521253,0.22637612781815253,0.22676505158725116,0.22742776663042977,0.2278200564054554,0.228546976194328,0.22863904930861814,0.22889329856766183,0.22920375596373446,0.23017378386979312,0.23159352687351584,0.23296509834058943,0.2349669398358543,0.23736830941267392,0.23798137204494477,0.23908813136440213,0.2395514913831408,0.23985701317513672,0.2399350662506677,0.24094122248692265,0.2413428634094541,0.2423146793910075,0.242978941141329,0.24343882024953978,0.2435397432209419,0.24365134980852177,0.24404059567855693,0.2448450089433174,0.2454456688617829,0.24571514748801754,0.24574638735697812,0.24823223715704948,0.2489555588999195,0.25313870697409857,0.25352189792486973,0.25397251219065087,0.25494691855602825,0.2569758469525729,0.25734023575179016,0.2596520707523287,0.2603933305975639,0.2610161854582641,0.2610703132698752,0.2612443555337509,0.2619478084107505,0.26331759373985697,0.2642622254076954,0.26439606557518014,0.2644721781882479,0.26477334667549607,0.2649129774299716,0.2667620399645648,0.26735313470512073,0.2676477543957321,0.27086384538350056,0.2710766603028558,0.27192562652132557,0.2734510928061349,0.27387307710263215,0.274324964264848,0.2751664552102131,0.276189913374911,0.2762837970274481,0.27638957688360455,0.27738055872547507,0.278411223983271,0.28044561462834666,0.28094887447199896,0.2813806648176208,0.282726457787789,0.28279369743753896,0.2828325185671367,0.2838654687711984,0.2844479839313812,0.28456449164810865,0.2864665815667386,0.28676407512299856,0.2878595650361959,0.2898183793900714,0.29016830176549163,0.29166687966057037,0.291827949700013,0.2919178019117833,0.29202273557097475,0.2920662850350152,0.29290279316248236,0.2930878386892835,0.2934838024621409,0.29530507352756047,0.29642805587779686,0.29648475527233065,0.2968243625769436,0.30007445522763226,0.3001607207316934,0.30039793044422963,0.30062411237099645,0.30151859178100665,0.3019898221487952,0.30254946613949285,0.3029406420470191,0.30452151369945707,0.3056323776571123,0.30725786486108475,0.3073137175276043,0.308014351400673,0.3095406619516963,0.30970967857334286,0.3100461090464912,0.31035716023968546,0.3106465473271316,0.31071390916024316,0.3113205596212659,0.31247580280177456,0.3127712524151965,0.3131456540786968,0.31465148586760555,0.31495430436768707,0.3150423906086234,0.315573418878942,0.3166955401365379,0.316957340653233,0.3191613293634279,0.31950330729912874,0.319742591479658,0.3206551273932868,0.3211369878491071,0.32214066343448017,0.32234053799437073,0.3241242940459431,0.32556252660399465,0.3256461302358967,0.32592896738534227,0.3267436355085901,0.32789868287270085,0.32805054064226424,0.3286442779819525,0.33057776125858307,0.330965963687211,0.3319351328557954,0.3320654894099653,0.3323241499362609,0.3334805916023803,0.3336293433045364,0.3342777355952741,0.3344009498545865,0.33575525483303575,0.3358887671056521,0.33698605993778447,0.33710253986204713,0.3376119081138128,0.33773801649219104,0.33894802701575294,0.339094702594568,0.33929157737588467,0.3394815572983066,0.34174445034861173,0.3436104605087466,0.34426514584285356,0.3447224233692131,0.34544119417301405,0.3456036709852038,0.34699370937078367,0.34748713061863534,0.34755079116703436,0.34789548579607715,0.3482181984863547,0.34876064475079527,0.34878727158572154,0.34896733843840205,0.349303716888862,0.3498765848710442,0.3504113001081974,0.35248038783280167,0.352648175330677,0.35297086658858207,0.3532400489879959,0.35494705708063007,0.35498066129521744,0.35555170570030875,0.356657030017575,0.356866343327449,0.35879506285131496,0.358820849038262,0.3602376109402506,0.3602856765554016,0.3606244879726776,0.36105223617401777,0.36198803428811693,0.3621154555974824,0.36294794082871595,0.36369904491228167,0.3644986544875657,0.365102330471505,0.3654333246532221,0.36609448534397526,0.3670890924012684,0.3676452892838858,0.36775394763539254,0.3690915209239784,0.3696847958116199,0.3715663077238726,0.37246288238545255,0.37274945329080306,0.3733091402265754,0.37350666312823005,0.3743721099606095,0.3744641697247808,0.3759126945810214,0.37673631176909755,0.3774301375651481,0.3776685372282275,0.3782512920165504,0.3792925478296568,0.3793069902140184,0.38003367246495134,0.3802188828068546,0.38171978621521097,0.3825368021895362,0.382956798529351,0.38308936586448805,0.38362901202182437,0.38378138757463776,0.38380841628160695,0.3841765896407882,0.38586550462300534,0.38607801453858,0.38705427376050633,0.3875335914006535,0.39026595293641586,0.3906270166796258,0.3908132539514378,0.39097731420153703,0.39172450275291615,0.3920846208793712,0.3923481425007724,0.392787405675351,0.3936632443765188,0.39366678409278705,0.3937716346872929,0.3945415390038973,0.3948264172080215,0.3974037165435842,0.397872599098342,0.39870946775954774,0.39919779607224026,0.4000286686316118,0.40061139973641785,0.40290847982530464,0.4039576085691702,0.40576578377377875,0.4059460911030018,0.4063403689942288,0.40679801028623697,0.4071493555882498,0.4087779493348719,0.40946941796875036,0.4106030680239915,0.4106561033933891,0.4109231404631761,0.411110178277568,0.4123532134441535,0.41242006473353954,0.4133097906467273,0.41388545515558656,0.4139485292211253,0.4153466817509225,0.41542931272395867,0.4156707211012513,0.4161086530833709,0.4162525103812109,0.41675339122217275,0.41675582776854553,0.41686122941124293,0.41718965943656333,0.41736832779427296,0.41828522474066404,0.4187625732049817,0.41991302527575575,0.42056881882385166,0.4217972484122555,0.421854086413316,0.42230275702806896,0.4227211362925127,0.42284822621661894,0.42565903857475634,0.4265851417679218,0.4266349344245945,0.4269803792519198,0.42769456087047364,0.42900044640295987,0.4311480453575361,0.43192666774964095,0.43253831846995944,0.4326820186590157,0.4334501218126428,0.4341932056055077,0.4351435523671448,0.4352155308469798,0.435706594085402,0.43632608712997756,0.43642607700494523,0.4366729803792081,0.4388256043137398,0.4389706549515973,0.439947730164749,0.44023630685837867,0.4402873961604072,0.4413149027854132,0.4417147465864819,0.4418152966836812,0.44299764832802774,0.4433153079352142,0.44414065176558337,0.44416844627746943,0.4444257539659361,0.44466936201421603,0.44471086297688167,0.4454688813446232,0.4465374982570098,0.4465451679473027,0.44663989065939097,0.4473973568383281,0.4480650223422364,0.44858734041794696,0.4488586893999713,0.44996770131526925,0.45029910071844115,0.4511283856432382,0.4516904896032924,0.45417221742399416,0.45418383145867663,0.45591370555757355,0.4559521816643868,0.45642558403418954,0.4565300372563619,0.4570085327713374,0.45704423186643905,0.4575067596074554,0.4576228935782885,0.45785850292850216,0.45844018341189197,0.45867731041413823,0.45935205987410194,0.45958701847188277,0.4601354898653572,0.460508613706318,0.46095772930980156,0.461396317554135,0.4620170698997223,0.4646729731555364,0.464739222433855,0.46613851020690356,0.4661702928849231,0.46622522698024477,0.46653517637249736,0.46701760183876767,0.4676076162670943,0.4686943755485878,0.4688940825416348,0.4690392375162028,0.469338028639509,0.46946209907745573,0.47028598876915384,0.47139316080898697,0.4717750444047163,0.47426404071059075,0.4762084522194107,0.47639301135348194,0.47718495736142297,0.47723845154746475,0.4773596371535165,0.47771315316742896,0.4781614191879547,0.47898823751958,0.47903412043020527,0.4791195052142707,0.48126707964934234,0.4814518876800406,0.4815495818130096,0.484060666292209,0.48426248287495643,0.48473034196584264,0.4854111802657708,0.4858495051383287,0.48679243236428976,0.4867961439868952,0.4883480070646587,0.48969520474203343,0.4898047737027138,0.48999908445902324,0.490918796941861,0.4916319741087316,0.4918130437205695,0.49289887358936196,0.49401061268342594,0.4940232433974116,0.49438240277575674,0.49454684705798974,0.4948814255591578,0.49565151121858486,0.49586623790652096,0.49644066855622926,0.49820204902983506,0.4986319704901068,0.4990751143754892,0.4992559866874835,0.4993011443178561,0.4999007365038337,0.5000230707523828,0.5007105416976083,0.5020835594699572,0.5020949026453806,0.5036813156565841,0.5041599621662719,0.5045884205322507,0.5050786721012849,0.5051029072047833,0.505201713300674,0.5074699317978558,0.5078586418438463,0.5079045921082208,0.5084005015803157,0.5095748048973031,0.5110520737389163,0.5124224054504327,0.5132207573909416,0.514399643801187,0.5149820014328709,0.5163906198942148,0.51687000685814,0.5172169553323241,0.5172307827724756,0.5175786957088974,0.5176403544841645,0.5177936540619409,0.5187936287075238,0.5200185719221561,0.5210019151224522,0.5216257095804347,0.5220115274282685,0.5227069478927044,0.5227461781089606,0.5241796830508039,0.5242285388045822,0.5242582552147277,0.5249678408055651,0.5253621328733379,0.5254830515976446,0.5256986807670706,0.5260214511246131,0.5266750969264405,0.5268350009204028,0.5276353520006928,0.5280023955128401,0.5284138759490786,0.5291975926715544,0.5294820695054051,0.5295408677543624,0.5295950794288898,0.5299948204027056,0.5301559426195959,0.5305422669824836,0.5326441647638667,0.533927065328298,0.5343590239978399,0.5346462309256375,0.5350008042728301,0.5350179758346177,0.5350413270006978,0.5373493469378152,0.5383389463275823,0.5389265299604199,0.539438191845095,0.539832678003179,0.53987419075431,0.5405925813771406,0.5423283857578234,0.5429796685098142,0.5452852622853869,0.545469627309215,0.5456650915913384,0.5472209496366778,0.5483453923767088,0.548685005227011,0.5514221824305461,0.5517837774176187,0.553408802884494,0.5535975585857784,0.5542244872081543,0.5549447558022852,0.5551500227527014,0.5555255839143846,0.5563360764483882,0.5568588046099242,0.5570216473227705,0.5571053517872074,0.5572879361693508,0.5572898149292599,0.5573271661487946,0.558093351012502,0.5585459990300632,0.5586714751637719,0.5586800762137658,0.5607298994450495,0.5608005707132542,0.5623209061811681,0.5625529577423045,0.5656434129013599,0.5658765938057375,0.5662222635353824,0.5669811355835751,0.5672887319972306,0.5678182388139427,0.5688475087985249,0.568929060369414,0.5692620185801821,0.5708676621811271,0.571268012579787,0.5716268481279817,0.572548158826466,0.5732170460545517,0.5747678529913556,0.5751936339790005,0.5758729891449528,0.5765028783795714,0.5769688175038198,0.5792552062655056,0.5792908070329941,0.5794992816499721,0.5805453216839878,0.5807347488953803,0.5813779697281414,0.581425565108312,0.5815815084098539,0.582821137030413,0.5830979762357388,0.5834680226430253,0.5843306721661555,0.5846734998081317,0.5847189823529234,0.5879808421954997,0.589621594871989,0.5901369366076384,0.5907063120717354,0.5907250192550781,0.5908292582493927,0.5909560947426186,0.5914815416028869,0.5916460153255593,0.5937931694987113,0.5941780564547618,0.5948216204513325,0.5952422186029827,0.5963890401976059,0.5966133730636659,0.5979245697608806,0.5988909810942041,0.5990560080091628,0.5993401656505146,0.5996217216225951,0.6007164843484233,0.6028774806005537,0.6029816592669629,0.6032200925758133,0.6033412076781481,0.6041506834484206,0.6049761608816558,0.6053435360473945,0.6053710291277463,0.6053939636469516,0.6075375944916978,0.6078909975368166,0.6084655112855358,0.6085569406321721,0.608831031619196,0.6099599192536407,0.6101272941738316,0.6108357452544563,0.612846101550196,0.6138871872803324,0.6139513802544588,0.6143654962073121,0.6149097262057124,0.6153316782434367,0.6163652051012367,0.6170322517210407,0.617041323262865,0.6172597072187285,0.6211710969672555,0.6215806175245348,0.6226223877272672,0.6226433847419386,0.6239831708466562,0.6239899461034821,0.6240886104034957,0.6257613876247338,0.6271097194402351,0.6293196183524166,0.6297176562664425,0.6304358396395944,0.6313821357783699,0.6316578067881303,0.6320519199081699,0.634830220225386,0.6349831888055388,0.6353355682791388,0.6359144676099387,0.6360103395926708,0.637530616525047,0.6381277033792107,0.6385740859364185,0.6393050338060992,0.6401477214037383,0.6417289599393926,0.6417419888337418,0.6426227159825939,0.6428307010179884,0.643351436384151,0.6436903175251362,0.6437529398151914,0.6438923990004856,0.6439995559584859,0.6440731086573567,0.6441082301025121,0.64595074528942,0.6472697970071366,0.6474312260046965,0.6482342942930257,0.6484118030037882,0.6491619295926394,0.6519881399784038,0.6526328280530701,0.6533988832260839,0.6535969706497009,0.6541679290732126,0.6543625947686341,0.6543716046499025,0.655389727431418,0.6553923097318554,0.6555439854056869,0.6566963394313174,0.656837714384747,0.6576159218997571,0.6638131639770612,0.6641962949187569,0.6666520245760036,0.6671305156687782,0.6674554001183552,0.6685070542315638,0.6690589945150277,0.6715985558064635,0.6717770443136496,0.6720920166390153,0.6723565261027565,0.6727670736239694,0.6729981122052495,0.6739187958757321,0.6765494536345235,0.6767656337074797,0.6789486309034347,0.6796936418673919,0.6803965599433924,0.6816806666093802,0.6824845684572851,0.6830012386353581,0.6830451153034557,0.6835990827188092,0.6839399488352086,0.6847158874294151,0.6848869383808838,0.6853993380364426,0.6855793290129959,0.6857960422263834,0.6864408277277955,0.6866585563849131,0.6867150480030513,0.6873814864844853,0.6881197409579275,0.6893939987444858,0.6910821296834685,0.692649657739109,0.6935899962633326,0.6936827630226894,0.6940183475801455,0.6979137830940811,0.6995383151011881,0.6996188205372164,0.699847937387151,0.6999500797679353,0.6999737193718981,0.7008298090080401,0.7016212106894197,0.7022799553141552,0.7040822152187374,0.7045829370816415,0.7048932348957854,0.706357631805361,0.7067092526252456,0.7077820264245631,0.7079059499381601,0.7079311366976292,0.709609030546361,0.7112721448325906,0.7123450747367546,0.7158393177013918,0.7161878101803241,0.716211678712419,0.717939262835316,0.7182987166800066,0.7191752212114896,0.7206747991208147,0.7206977982690242,0.7213414844016968,0.7214436499614704,0.7215375287902233,0.7251219636544394,0.7258456490417905,0.7267897308884073,0.7282752256053383,0.7288583450144648,0.7288760894318176,0.7299374912751495,0.7299769691687646,0.7303704640768864,0.7309667141474234,0.7317885087981361,0.7331646049726389,0.7338705351290847,0.7343363135973584,0.7360085480971866,0.7367022759550622,0.7374023594301448,0.7378459962189279,0.7378847124037242,0.7380820078072218,0.7383176840513241,0.7383187292948857,0.738367448562766,0.7412893598669515,0.7425365786651859,0.7428128008209831,0.7434052783797784,0.7435429047383098,0.7461316046518734,0.7468195306986429,0.7480632197256781,0.7488700106490642,0.7502204070598606,0.750913446075798,0.7511307347436884,0.7516141139272313,0.7522159789937001,0.7530246111236321,0.7534602593746709,0.7549044460388438,0.7550143433899501,0.7564559974988775,0.7565889983460352,0.7566890306877538,0.7575324850312528,0.7580626327788006,0.7583728410336453,0.7584348657295888,0.7603428295320496,0.7603525499459417,0.7606757867829301,0.7609668964783012,0.7611597414468534,0.7615003114184189,0.761663602690125,0.76195702806603,0.7621234885332692,0.7625701843943369,0.763232122138048,0.7647143944155136,0.7651312662504683,0.7653868818219495,0.7698643337497385,0.7709703091794865,0.7713611266758577,0.7717613602206843,0.7730585019273337,0.7747826647581266,0.7752239094953128,0.7759463259329841,0.7769235631476814,0.7771550147831866,0.7787374705044217,0.7798706444080543,0.7813702750334349,0.7813828266237975,0.7818488071283889,0.7826974096335615,0.78323291975577,0.7851738260730852,0.7854964773109555,0.7856122977251127,0.7865120200100648,0.7869425251326366,0.7907266285033532,0.7937376908089057,0.7961097263548791,0.7972422092988027,0.8028460324666044,0.8029170396326105,0.8035275489892953,0.8040387041334994,0.8049328094588383,0.8050360026806586,0.8051989308294715,0.8061897335240624,0.8069828254946569,0.8076907877119954,0.807722158724998,0.8122196509955321,0.8122219685207155,0.8127819314144311,0.8149444230528897,0.8157842598133642,0.8173661921748344,0.8195037622661996,0.8198117528029806,0.8199865944792869,0.8204933363026833,0.8208122196590238,0.8225273506713412,0.8229225349191007,0.8229561791284141,0.8277674507642415,0.8283823033574236,0.8288622073035619,0.8288980676966247,0.8290210261763131,0.8313070324553035,0.8322755318992618,0.8330823891585776,0.8346580988843727,0.8353722938837163,0.8356518693442669,0.8367579287656112,0.8394756891383425,0.8424471585256444,0.8428138511169854,0.8464945443453734,0.8484787313520104,0.8513020573120967,0.8516154250878186,0.8577802243456001,0.8604309059335379,0.8605878813731758,0.8619458652385155,0.862040264292129,0.8621679727235019,0.8623878326994044,0.8626946780133106,0.8627273628466977,0.8649597524410242,0.8680840899576463,0.8682428469909224,0.8713239725418302,0.8723933193275175,0.8746992402473317,0.8766345760002382,0.8811014242117985,0.882526498276034,0.8825933262179538,0.8857616307269731,0.8860695112928655,0.8862593965011245,0.8871611360259948,0.8873554239808522,0.8898044969611381,0.8926169858519306,0.8928105601398937,0.8928484210200734,0.8929452236938693,0.8963405968195368,0.8974360170282789,0.9042268903789223,0.9068911888252105,0.9073564315927956,0.9086596372200229,0.9095774172392337,0.9100563302963073,0.9123851493115658,0.9127460644567343,0.9171140383661838,0.9218996925979558,0.9226430215590631,0.9247931649297131,0.9251601978613807,0.9320696586903032,0.9325462524443087,0.9329705891666683,0.9344027356509207,0.958199999824754],\"yaxis\":\"y\",\"type\":\"scatter\"}],                        {\"template\":{\"data\":{\"histogram2dcontour\":[{\"type\":\"histogram2dcontour\",\"colorbar\":{\"outlinewidth\":0,\"ticks\":\"\"},\"colorscale\":[[0.0,\"#0d0887\"],[0.1111111111111111,\"#46039f\"],[0.2222222222222222,\"#7201a8\"],[0.3333333333333333,\"#9c179e\"],[0.4444444444444444,\"#bd3786\"],[0.5555555555555556,\"#d8576b\"],[0.6666666666666666,\"#ed7953\"],[0.7777777777777778,\"#fb9f3a\"],[0.8888888888888888,\"#fdca26\"],[1.0,\"#f0f921\"]]}],\"choropleth\":[{\"type\":\"choropleth\",\"colorbar\":{\"outlinewidth\":0,\"ticks\":\"\"}}],\"histogram2d\":[{\"type\":\"histogram2d\",\"colorbar\":{\"outlinewidth\":0,\"ticks\":\"\"},\"colorscale\":[[0.0,\"#0d0887\"],[0.1111111111111111,\"#46039f\"],[0.2222222222222222,\"#7201a8\"],[0.3333333333333333,\"#9c179e\"],[0.4444444444444444,\"#bd3786\"],[0.5555555555555556,\"#d8576b\"],[0.6666666666666666,\"#ed7953\"],[0.7777777777777778,\"#fb9f3a\"],[0.8888888888888888,\"#fdca26\"],[1.0,\"#f0f921\"]]}],\"heatmap\":[{\"type\":\"heatmap\",\"colorbar\":{\"outlinewidth\":0,\"ticks\":\"\"},\"colorscale\":[[0.0,\"#0d0887\"],[0.1111111111111111,\"#46039f\"],[0.2222222222222222,\"#7201a8\"],[0.3333333333333333,\"#9c179e\"],[0.4444444444444444,\"#bd3786\"],[0.5555555555555556,\"#d8576b\"],[0.6666666666666666,\"#ed7953\"],[0.7777777777777778,\"#fb9f3a\"],[0.8888888888888888,\"#fdca26\"],[1.0,\"#f0f921\"]]}],\"heatmapgl\":[{\"type\":\"heatmapgl\",\"colorbar\":{\"outlinewidth\":0,\"ticks\":\"\"},\"colorscale\":[[0.0,\"#0d0887\"],[0.1111111111111111,\"#46039f\"],[0.2222222222222222,\"#7201a8\"],[0.3333333333333333,\"#9c179e\"],[0.4444444444444444,\"#bd3786\"],[0.5555555555555556,\"#d8576b\"],[0.6666666666666666,\"#ed7953\"],[0.7777777777777778,\"#fb9f3a\"],[0.8888888888888888,\"#fdca26\"],[1.0,\"#f0f921\"]]}],\"contourcarpet\":[{\"type\":\"contourcarpet\",\"colorbar\":{\"outlinewidth\":0,\"ticks\":\"\"}}],\"contour\":[{\"type\":\"contour\",\"colorbar\":{\"outlinewidth\":0,\"ticks\":\"\"},\"colorscale\":[[0.0,\"#0d0887\"],[0.1111111111111111,\"#46039f\"],[0.2222222222222222,\"#7201a8\"],[0.3333333333333333,\"#9c179e\"],[0.4444444444444444,\"#bd3786\"],[0.5555555555555556,\"#d8576b\"],[0.6666666666666666,\"#ed7953\"],[0.7777777777777778,\"#fb9f3a\"],[0.8888888888888888,\"#fdca26\"],[1.0,\"#f0f921\"]]}],\"surface\":[{\"type\":\"surface\",\"colorbar\":{\"outlinewidth\":0,\"ticks\":\"\"},\"colorscale\":[[0.0,\"#0d0887\"],[0.1111111111111111,\"#46039f\"],[0.2222222222222222,\"#7201a8\"],[0.3333333333333333,\"#9c179e\"],[0.4444444444444444,\"#bd3786\"],[0.5555555555555556,\"#d8576b\"],[0.6666666666666666,\"#ed7953\"],[0.7777777777777778,\"#fb9f3a\"],[0.8888888888888888,\"#fdca26\"],[1.0,\"#f0f921\"]]}],\"mesh3d\":[{\"type\":\"mesh3d\",\"colorbar\":{\"outlinewidth\":0,\"ticks\":\"\"}}],\"scatter\":[{\"fillpattern\":{\"fillmode\":\"overlay\",\"size\":10,\"solidity\":0.2},\"type\":\"scatter\"}],\"parcoords\":[{\"type\":\"parcoords\",\"line\":{\"colorbar\":{\"outlinewidth\":0,\"ticks\":\"\"}}}],\"scatterpolargl\":[{\"type\":\"scatterpolargl\",\"marker\":{\"colorbar\":{\"outlinewidth\":0,\"ticks\":\"\"}}}],\"bar\":[{\"error_x\":{\"color\":\"#2a3f5f\"},\"error_y\":{\"color\":\"#2a3f5f\"},\"marker\":{\"line\":{\"color\":\"#E5ECF6\",\"width\":0.5},\"pattern\":{\"fillmode\":\"overlay\",\"size\":10,\"solidity\":0.2}},\"type\":\"bar\"}],\"scattergeo\":[{\"type\":\"scattergeo\",\"marker\":{\"colorbar\":{\"outlinewidth\":0,\"ticks\":\"\"}}}],\"scatterpolar\":[{\"type\":\"scatterpolar\",\"marker\":{\"colorbar\":{\"outlinewidth\":0,\"ticks\":\"\"}}}],\"histogram\":[{\"marker\":{\"pattern\":{\"fillmode\":\"overlay\",\"size\":10,\"solidity\":0.2}},\"type\":\"histogram\"}],\"scattergl\":[{\"type\":\"scattergl\",\"marker\":{\"colorbar\":{\"outlinewidth\":0,\"ticks\":\"\"}}}],\"scatter3d\":[{\"type\":\"scatter3d\",\"line\":{\"colorbar\":{\"outlinewidth\":0,\"ticks\":\"\"}},\"marker\":{\"colorbar\":{\"outlinewidth\":0,\"ticks\":\"\"}}}],\"scattermapbox\":[{\"type\":\"scattermapbox\",\"marker\":{\"colorbar\":{\"outlinewidth\":0,\"ticks\":\"\"}}}],\"scatterternary\":[{\"type\":\"scatterternary\",\"marker\":{\"colorbar\":{\"outlinewidth\":0,\"ticks\":\"\"}}}],\"scattercarpet\":[{\"type\":\"scattercarpet\",\"marker\":{\"colorbar\":{\"outlinewidth\":0,\"ticks\":\"\"}}}],\"carpet\":[{\"aaxis\":{\"endlinecolor\":\"#2a3f5f\",\"gridcolor\":\"white\",\"linecolor\":\"white\",\"minorgridcolor\":\"white\",\"startlinecolor\":\"#2a3f5f\"},\"baxis\":{\"endlinecolor\":\"#2a3f5f\",\"gridcolor\":\"white\",\"linecolor\":\"white\",\"minorgridcolor\":\"white\",\"startlinecolor\":\"#2a3f5f\"},\"type\":\"carpet\"}],\"table\":[{\"cells\":{\"fill\":{\"color\":\"#EBF0F8\"},\"line\":{\"color\":\"white\"}},\"header\":{\"fill\":{\"color\":\"#C8D4E3\"},\"line\":{\"color\":\"white\"}},\"type\":\"table\"}],\"barpolar\":[{\"marker\":{\"line\":{\"color\":\"#E5ECF6\",\"width\":0.5},\"pattern\":{\"fillmode\":\"overlay\",\"size\":10,\"solidity\":0.2}},\"type\":\"barpolar\"}],\"pie\":[{\"automargin\":true,\"type\":\"pie\"}]},\"layout\":{\"autotypenumbers\":\"strict\",\"colorway\":[\"#636efa\",\"#EF553B\",\"#00cc96\",\"#ab63fa\",\"#FFA15A\",\"#19d3f3\",\"#FF6692\",\"#B6E880\",\"#FF97FF\",\"#FECB52\"],\"font\":{\"color\":\"#2a3f5f\"},\"hovermode\":\"closest\",\"hoverlabel\":{\"align\":\"left\"},\"paper_bgcolor\":\"white\",\"plot_bgcolor\":\"#E5ECF6\",\"polar\":{\"bgcolor\":\"#E5ECF6\",\"angularaxis\":{\"gridcolor\":\"white\",\"linecolor\":\"white\",\"ticks\":\"\"},\"radialaxis\":{\"gridcolor\":\"white\",\"linecolor\":\"white\",\"ticks\":\"\"}},\"ternary\":{\"bgcolor\":\"#E5ECF6\",\"aaxis\":{\"gridcolor\":\"white\",\"linecolor\":\"white\",\"ticks\":\"\"},\"baxis\":{\"gridcolor\":\"white\",\"linecolor\":\"white\",\"ticks\":\"\"},\"caxis\":{\"gridcolor\":\"white\",\"linecolor\":\"white\",\"ticks\":\"\"}},\"coloraxis\":{\"colorbar\":{\"outlinewidth\":0,\"ticks\":\"\"}},\"colorscale\":{\"sequential\":[[0.0,\"#0d0887\"],[0.1111111111111111,\"#46039f\"],[0.2222222222222222,\"#7201a8\"],[0.3333333333333333,\"#9c179e\"],[0.4444444444444444,\"#bd3786\"],[0.5555555555555556,\"#d8576b\"],[0.6666666666666666,\"#ed7953\"],[0.7777777777777778,\"#fb9f3a\"],[0.8888888888888888,\"#fdca26\"],[1.0,\"#f0f921\"]],\"sequentialminus\":[[0.0,\"#0d0887\"],[0.1111111111111111,\"#46039f\"],[0.2222222222222222,\"#7201a8\"],[0.3333333333333333,\"#9c179e\"],[0.4444444444444444,\"#bd3786\"],[0.5555555555555556,\"#d8576b\"],[0.6666666666666666,\"#ed7953\"],[0.7777777777777778,\"#fb9f3a\"],[0.8888888888888888,\"#fdca26\"],[1.0,\"#f0f921\"]],\"diverging\":[[0,\"#8e0152\"],[0.1,\"#c51b7d\"],[0.2,\"#de77ae\"],[0.3,\"#f1b6da\"],[0.4,\"#fde0ef\"],[0.5,\"#f7f7f7\"],[0.6,\"#e6f5d0\"],[0.7,\"#b8e186\"],[0.8,\"#7fbc41\"],[0.9,\"#4d9221\"],[1,\"#276419\"]]},\"xaxis\":{\"gridcolor\":\"white\",\"linecolor\":\"white\",\"ticks\":\"\",\"title\":{\"standoff\":15},\"zerolinecolor\":\"white\",\"automargin\":true,\"zerolinewidth\":2},\"yaxis\":{\"gridcolor\":\"white\",\"linecolor\":\"white\",\"ticks\":\"\",\"title\":{\"standoff\":15},\"zerolinecolor\":\"white\",\"automargin\":true,\"zerolinewidth\":2},\"scene\":{\"xaxis\":{\"backgroundcolor\":\"#E5ECF6\",\"gridcolor\":\"white\",\"linecolor\":\"white\",\"showbackground\":true,\"ticks\":\"\",\"zerolinecolor\":\"white\",\"gridwidth\":2},\"yaxis\":{\"backgroundcolor\":\"#E5ECF6\",\"gridcolor\":\"white\",\"linecolor\":\"white\",\"showbackground\":true,\"ticks\":\"\",\"zerolinecolor\":\"white\",\"gridwidth\":2},\"zaxis\":{\"backgroundcolor\":\"#E5ECF6\",\"gridcolor\":\"white\",\"linecolor\":\"white\",\"showbackground\":true,\"ticks\":\"\",\"zerolinecolor\":\"white\",\"gridwidth\":2}},\"shapedefaults\":{\"line\":{\"color\":\"#2a3f5f\"}},\"annotationdefaults\":{\"arrowcolor\":\"#2a3f5f\",\"arrowhead\":0,\"arrowwidth\":1},\"geo\":{\"bgcolor\":\"white\",\"landcolor\":\"#E5ECF6\",\"subunitcolor\":\"white\",\"showland\":true,\"showlakes\":true,\"lakecolor\":\"white\"},\"title\":{\"x\":0.05},\"mapbox\":{\"style\":\"light\"}}},\"xaxis\":{\"anchor\":\"y\",\"domain\":[0.0,1.0],\"title\":{\"text\":\"data\"}},\"yaxis\":{\"anchor\":\"x\",\"domain\":[0.0,1.0],\"title\":{\"text\":\"sigmoid\"},\"range\":[-0.5,1.5]},\"legend\":{\"tracegroupgap\":0},\"margin\":{\"t\":60},\"width\":800},                        {\"responsive\": true}                    ).then(function(){\n",
              "                            \n",
              "var gd = document.getElementById('75e12ab2-4dfc-453b-aeec-b0a9818d8b2b');\n",
              "var x = new MutationObserver(function (mutations, observer) {{\n",
              "        var display = window.getComputedStyle(gd).display;\n",
              "        if (!display || display === 'none') {{\n",
              "            console.log([gd, 'removed!']);\n",
              "            Plotly.purge(gd);\n",
              "            observer.disconnect();\n",
              "        }}\n",
              "}});\n",
              "\n",
              "// Listen for the removal of the full notebook cells\n",
              "var notebookContainer = gd.closest('#notebook-container');\n",
              "if (notebookContainer) {{\n",
              "    x.observe(notebookContainer, {childList: true});\n",
              "}}\n",
              "\n",
              "// Listen for the clearing of the current output cell\n",
              "var outputEl = gd.closest('.output');\n",
              "if (outputEl) {{\n",
              "    x.observe(outputEl, {childList: true});\n",
              "}}\n",
              "\n",
              "                        })                };                            </script>        </div>\n",
              "</body>\n",
              "</html>"
            ]
          },
          "metadata": {}
        }
      ]
    },
    {
      "cell_type": "code",
      "source": [
        "# funkcja tanh - sprowadza dane do przedziału od -1 do 1\n",
        "\n",
        "from tensorflow.keras.activations import tanh\n",
        "\n",
        "data = pd.DataFrame({'data': random_data, 'tanh': tanh(random_data)})\n",
        "data.head()"
      ],
      "metadata": {
        "colab": {
          "base_uri": "https://localhost:8080/",
          "height": 206
        },
        "id": "1jif0nKA2GxS",
        "outputId": "91471ff2-3e01-493c-e1f5-27415241e98e"
      },
      "execution_count": 14,
      "outputs": [
        {
          "output_type": "execute_result",
          "data": {
            "text/plain": [
              "       data      tanh\n",
              "0 -2.945486 -0.994487\n",
              "1 -2.926548 -0.994274\n",
              "2 -2.751397 -0.991882\n",
              "3 -2.699644 -0.991001\n",
              "4 -2.683651 -0.990710"
            ],
            "text/html": [
              "\n",
              "  <div id=\"df-49e94ee9-6b83-4137-b737-36da299bd61d\" class=\"colab-df-container\">\n",
              "    <div>\n",
              "<style scoped>\n",
              "    .dataframe tbody tr th:only-of-type {\n",
              "        vertical-align: middle;\n",
              "    }\n",
              "\n",
              "    .dataframe tbody tr th {\n",
              "        vertical-align: top;\n",
              "    }\n",
              "\n",
              "    .dataframe thead th {\n",
              "        text-align: right;\n",
              "    }\n",
              "</style>\n",
              "<table border=\"1\" class=\"dataframe\">\n",
              "  <thead>\n",
              "    <tr style=\"text-align: right;\">\n",
              "      <th></th>\n",
              "      <th>data</th>\n",
              "      <th>tanh</th>\n",
              "    </tr>\n",
              "  </thead>\n",
              "  <tbody>\n",
              "    <tr>\n",
              "      <th>0</th>\n",
              "      <td>-2.945486</td>\n",
              "      <td>-0.994487</td>\n",
              "    </tr>\n",
              "    <tr>\n",
              "      <th>1</th>\n",
              "      <td>-2.926548</td>\n",
              "      <td>-0.994274</td>\n",
              "    </tr>\n",
              "    <tr>\n",
              "      <th>2</th>\n",
              "      <td>-2.751397</td>\n",
              "      <td>-0.991882</td>\n",
              "    </tr>\n",
              "    <tr>\n",
              "      <th>3</th>\n",
              "      <td>-2.699644</td>\n",
              "      <td>-0.991001</td>\n",
              "    </tr>\n",
              "    <tr>\n",
              "      <th>4</th>\n",
              "      <td>-2.683651</td>\n",
              "      <td>-0.990710</td>\n",
              "    </tr>\n",
              "  </tbody>\n",
              "</table>\n",
              "</div>\n",
              "    <div class=\"colab-df-buttons\">\n",
              "\n",
              "  <div class=\"colab-df-container\">\n",
              "    <button class=\"colab-df-convert\" onclick=\"convertToInteractive('df-49e94ee9-6b83-4137-b737-36da299bd61d')\"\n",
              "            title=\"Convert this dataframe to an interactive table.\"\n",
              "            style=\"display:none;\">\n",
              "\n",
              "  <svg xmlns=\"http://www.w3.org/2000/svg\" height=\"24px\" viewBox=\"0 -960 960 960\">\n",
              "    <path d=\"M120-120v-720h720v720H120Zm60-500h600v-160H180v160Zm220 220h160v-160H400v160Zm0 220h160v-160H400v160ZM180-400h160v-160H180v160Zm440 0h160v-160H620v160ZM180-180h160v-160H180v160Zm440 0h160v-160H620v160Z\"/>\n",
              "  </svg>\n",
              "    </button>\n",
              "\n",
              "  <style>\n",
              "    .colab-df-container {\n",
              "      display:flex;\n",
              "      gap: 12px;\n",
              "    }\n",
              "\n",
              "    .colab-df-convert {\n",
              "      background-color: #E8F0FE;\n",
              "      border: none;\n",
              "      border-radius: 50%;\n",
              "      cursor: pointer;\n",
              "      display: none;\n",
              "      fill: #1967D2;\n",
              "      height: 32px;\n",
              "      padding: 0 0 0 0;\n",
              "      width: 32px;\n",
              "    }\n",
              "\n",
              "    .colab-df-convert:hover {\n",
              "      background-color: #E2EBFA;\n",
              "      box-shadow: 0px 1px 2px rgba(60, 64, 67, 0.3), 0px 1px 3px 1px rgba(60, 64, 67, 0.15);\n",
              "      fill: #174EA6;\n",
              "    }\n",
              "\n",
              "    .colab-df-buttons div {\n",
              "      margin-bottom: 4px;\n",
              "    }\n",
              "\n",
              "    [theme=dark] .colab-df-convert {\n",
              "      background-color: #3B4455;\n",
              "      fill: #D2E3FC;\n",
              "    }\n",
              "\n",
              "    [theme=dark] .colab-df-convert:hover {\n",
              "      background-color: #434B5C;\n",
              "      box-shadow: 0px 1px 3px 1px rgba(0, 0, 0, 0.15);\n",
              "      filter: drop-shadow(0px 1px 2px rgba(0, 0, 0, 0.3));\n",
              "      fill: #FFFFFF;\n",
              "    }\n",
              "  </style>\n",
              "\n",
              "    <script>\n",
              "      const buttonEl =\n",
              "        document.querySelector('#df-49e94ee9-6b83-4137-b737-36da299bd61d button.colab-df-convert');\n",
              "      buttonEl.style.display =\n",
              "        google.colab.kernel.accessAllowed ? 'block' : 'none';\n",
              "\n",
              "      async function convertToInteractive(key) {\n",
              "        const element = document.querySelector('#df-49e94ee9-6b83-4137-b737-36da299bd61d');\n",
              "        const dataTable =\n",
              "          await google.colab.kernel.invokeFunction('convertToInteractive',\n",
              "                                                    [key], {});\n",
              "        if (!dataTable) return;\n",
              "\n",
              "        const docLinkHtml = 'Like what you see? Visit the ' +\n",
              "          '<a target=\"_blank\" href=https://colab.research.google.com/notebooks/data_table.ipynb>data table notebook</a>'\n",
              "          + ' to learn more about interactive tables.';\n",
              "        element.innerHTML = '';\n",
              "        dataTable['output_type'] = 'display_data';\n",
              "        await google.colab.output.renderOutput(dataTable, element);\n",
              "        const docLink = document.createElement('div');\n",
              "        docLink.innerHTML = docLinkHtml;\n",
              "        element.appendChild(docLink);\n",
              "      }\n",
              "    </script>\n",
              "  </div>\n",
              "\n",
              "\n",
              "<div id=\"df-b5dcf888-c6dc-4208-bd68-eefadbd68325\">\n",
              "  <button class=\"colab-df-quickchart\" onclick=\"quickchart('df-b5dcf888-c6dc-4208-bd68-eefadbd68325')\"\n",
              "            title=\"Suggest charts\"\n",
              "            style=\"display:none;\">\n",
              "\n",
              "<svg xmlns=\"http://www.w3.org/2000/svg\" height=\"24px\"viewBox=\"0 0 24 24\"\n",
              "     width=\"24px\">\n",
              "    <g>\n",
              "        <path d=\"M19 3H5c-1.1 0-2 .9-2 2v14c0 1.1.9 2 2 2h14c1.1 0 2-.9 2-2V5c0-1.1-.9-2-2-2zM9 17H7v-7h2v7zm4 0h-2V7h2v10zm4 0h-2v-4h2v4z\"/>\n",
              "    </g>\n",
              "</svg>\n",
              "  </button>\n",
              "\n",
              "<style>\n",
              "  .colab-df-quickchart {\n",
              "      --bg-color: #E8F0FE;\n",
              "      --fill-color: #1967D2;\n",
              "      --hover-bg-color: #E2EBFA;\n",
              "      --hover-fill-color: #174EA6;\n",
              "      --disabled-fill-color: #AAA;\n",
              "      --disabled-bg-color: #DDD;\n",
              "  }\n",
              "\n",
              "  [theme=dark] .colab-df-quickchart {\n",
              "      --bg-color: #3B4455;\n",
              "      --fill-color: #D2E3FC;\n",
              "      --hover-bg-color: #434B5C;\n",
              "      --hover-fill-color: #FFFFFF;\n",
              "      --disabled-bg-color: #3B4455;\n",
              "      --disabled-fill-color: #666;\n",
              "  }\n",
              "\n",
              "  .colab-df-quickchart {\n",
              "    background-color: var(--bg-color);\n",
              "    border: none;\n",
              "    border-radius: 50%;\n",
              "    cursor: pointer;\n",
              "    display: none;\n",
              "    fill: var(--fill-color);\n",
              "    height: 32px;\n",
              "    padding: 0;\n",
              "    width: 32px;\n",
              "  }\n",
              "\n",
              "  .colab-df-quickchart:hover {\n",
              "    background-color: var(--hover-bg-color);\n",
              "    box-shadow: 0 1px 2px rgba(60, 64, 67, 0.3), 0 1px 3px 1px rgba(60, 64, 67, 0.15);\n",
              "    fill: var(--button-hover-fill-color);\n",
              "  }\n",
              "\n",
              "  .colab-df-quickchart-complete:disabled,\n",
              "  .colab-df-quickchart-complete:disabled:hover {\n",
              "    background-color: var(--disabled-bg-color);\n",
              "    fill: var(--disabled-fill-color);\n",
              "    box-shadow: none;\n",
              "  }\n",
              "\n",
              "  .colab-df-spinner {\n",
              "    border: 2px solid var(--fill-color);\n",
              "    border-color: transparent;\n",
              "    border-bottom-color: var(--fill-color);\n",
              "    animation:\n",
              "      spin 1s steps(1) infinite;\n",
              "  }\n",
              "\n",
              "  @keyframes spin {\n",
              "    0% {\n",
              "      border-color: transparent;\n",
              "      border-bottom-color: var(--fill-color);\n",
              "      border-left-color: var(--fill-color);\n",
              "    }\n",
              "    20% {\n",
              "      border-color: transparent;\n",
              "      border-left-color: var(--fill-color);\n",
              "      border-top-color: var(--fill-color);\n",
              "    }\n",
              "    30% {\n",
              "      border-color: transparent;\n",
              "      border-left-color: var(--fill-color);\n",
              "      border-top-color: var(--fill-color);\n",
              "      border-right-color: var(--fill-color);\n",
              "    }\n",
              "    40% {\n",
              "      border-color: transparent;\n",
              "      border-right-color: var(--fill-color);\n",
              "      border-top-color: var(--fill-color);\n",
              "    }\n",
              "    60% {\n",
              "      border-color: transparent;\n",
              "      border-right-color: var(--fill-color);\n",
              "    }\n",
              "    80% {\n",
              "      border-color: transparent;\n",
              "      border-right-color: var(--fill-color);\n",
              "      border-bottom-color: var(--fill-color);\n",
              "    }\n",
              "    90% {\n",
              "      border-color: transparent;\n",
              "      border-bottom-color: var(--fill-color);\n",
              "    }\n",
              "  }\n",
              "</style>\n",
              "\n",
              "  <script>\n",
              "    async function quickchart(key) {\n",
              "      const quickchartButtonEl =\n",
              "        document.querySelector('#' + key + ' button');\n",
              "      quickchartButtonEl.disabled = true;  // To prevent multiple clicks.\n",
              "      quickchartButtonEl.classList.add('colab-df-spinner');\n",
              "      try {\n",
              "        const charts = await google.colab.kernel.invokeFunction(\n",
              "            'suggestCharts', [key], {});\n",
              "      } catch (error) {\n",
              "        console.error('Error during call to suggestCharts:', error);\n",
              "      }\n",
              "      quickchartButtonEl.classList.remove('colab-df-spinner');\n",
              "      quickchartButtonEl.classList.add('colab-df-quickchart-complete');\n",
              "    }\n",
              "    (() => {\n",
              "      let quickchartButtonEl =\n",
              "        document.querySelector('#df-b5dcf888-c6dc-4208-bd68-eefadbd68325 button');\n",
              "      quickchartButtonEl.style.display =\n",
              "        google.colab.kernel.accessAllowed ? 'block' : 'none';\n",
              "    })();\n",
              "  </script>\n",
              "</div>\n",
              "\n",
              "    </div>\n",
              "  </div>\n"
            ],
            "application/vnd.google.colaboratory.intrinsic+json": {
              "type": "dataframe",
              "variable_name": "data",
              "summary": "{\n  \"name\": \"data\",\n  \"rows\": 1000,\n  \"fields\": [\n    {\n      \"column\": \"data\",\n      \"properties\": {\n        \"dtype\": \"number\",\n        \"std\": 1.0127516608479803,\n        \"min\": -2.9454862366389265,\n        \"max\": 3.1321601805429324,\n        \"num_unique_values\": 1000,\n        \"samples\": [\n          0.02080760390226598,\n          0.6348879867785485,\n          0.6383111968935951\n        ],\n        \"semantic_type\": \"\",\n        \"description\": \"\"\n      }\n    },\n    {\n      \"column\": \"tanh\",\n      \"properties\": {\n        \"dtype\": \"number\",\n        \"std\": 0.6320550485572308,\n        \"min\": -0.9944866660505056,\n        \"max\": 0.9962012164367795,\n        \"num_unique_values\": 1000,\n        \"samples\": [\n          0.020804601493941248,\n          0.5614087917349344,\n          0.5637485692915959\n        ],\n        \"semantic_type\": \"\",\n        \"description\": \"\"\n      }\n    }\n  ]\n}"
            }
          },
          "metadata": {},
          "execution_count": 14
        }
      ]
    },
    {
      "cell_type": "code",
      "source": [
        "px.line(data, x='data', y='tanh', width=800, range_y=[-1.5, 1.5])"
      ],
      "metadata": {
        "colab": {
          "base_uri": "https://localhost:8080/",
          "height": 542
        },
        "id": "AGhQIVdI2Wmi",
        "outputId": "b9574ba5-3cef-403b-d021-8caa0906d21d"
      },
      "execution_count": 15,
      "outputs": [
        {
          "output_type": "display_data",
          "data": {
            "text/html": [
              "<html>\n",
              "<head><meta charset=\"utf-8\" /></head>\n",
              "<body>\n",
              "    <div>            <script src=\"https://cdnjs.cloudflare.com/ajax/libs/mathjax/2.7.5/MathJax.js?config=TeX-AMS-MML_SVG\"></script><script type=\"text/javascript\">if (window.MathJax && window.MathJax.Hub && window.MathJax.Hub.Config) {window.MathJax.Hub.Config({SVG: {font: \"STIX-Web\"}});}</script>                <script type=\"text/javascript\">window.PlotlyConfig = {MathJaxConfig: 'local'};</script>\n",
              "        <script charset=\"utf-8\" src=\"https://cdn.plot.ly/plotly-2.35.2.min.js\"></script>                <div id=\"0c80d851-83d7-475f-82b5-5edd55cf40f8\" class=\"plotly-graph-div\" style=\"height:525px; width:800px;\"></div>            <script type=\"text/javascript\">                                    window.PLOTLYENV=window.PLOTLYENV || {};                                    if (document.getElementById(\"0c80d851-83d7-475f-82b5-5edd55cf40f8\")) {                    Plotly.newPlot(                        \"0c80d851-83d7-475f-82b5-5edd55cf40f8\",                        [{\"hovertemplate\":\"data=%{x}\\u003cbr\\u003etanh=%{y}\\u003cextra\\u003e\\u003c\\u002fextra\\u003e\",\"legendgroup\":\"\",\"line\":{\"color\":\"#636efa\",\"dash\":\"solid\"},\"marker\":{\"symbol\":\"circle\"},\"mode\":\"lines\",\"name\":\"\",\"orientation\":\"v\",\"showlegend\":false,\"x\":[-2.9454862366389265,-2.926548294389117,-2.7513971862897777,-2.69964381604571,-2.6836512118516134,-2.6805015630095483,-2.482186515261199,-2.4813511717315513,-2.480779799701099,-2.3858868590258595,-2.300721328647208,-2.283089845021693,-2.177081123829196,-2.1559400476098696,-2.148267370853787,-2.138442210070734,-2.10669402017211,-2.095049234423632,-2.061929283132136,-2.060418655915206,-2.034320717849176,-1.9815562437020653,-1.9801611390632499,-1.9788673619221373,-1.9672499393023573,-1.9153088903556648,-1.9131199824589116,-1.889083096541453,-1.882013337198292,-1.848302720603952,-1.826158054381194,-1.8224460191406875,-1.820283758317885,-1.7812995897214707,-1.7620042652603418,-1.7617934889329752,-1.7494531701043197,-1.739252843137808,-1.7342787123858638,-1.7327997271236006,-1.7178120486207502,-1.7149480233980383,-1.7075687926138075,-1.678689066374531,-1.668226960817117,-1.6506957034161045,-1.6503582536085328,-1.6204789505033537,-1.6173297501590138,-1.6118714630032334,-1.6086981070362938,-1.5913150291545692,-1.5881978507259118,-1.5801069795370368,-1.5479513936305438,-1.5370464557604147,-1.5286021742401756,-1.5273458508744995,-1.525997657191582,-1.523907977384548,-1.5176073960601288,-1.509864355127319,-1.502818130649273,-1.4980235104155755,-1.4868532512490824,-1.4846769282232906,-1.46821113518722,-1.4602916473899403,-1.4514925781575165,-1.450610175310549,-1.4475058957348168,-1.4326840821184113,-1.4324579251709288,-1.4251364370633073,-1.4245699518677686,-1.4232208527194792,-1.4158443032362902,-1.412272238836059,-1.405458846917898,-1.4002864989200252,-1.3954069241551854,-1.389635911465869,-1.385070210759962,-1.3806987274213334,-1.3755197908902812,-1.373527534716067,-1.3643757462197448,-1.3616476908981243,-1.356489085531788,-1.3371147882776724,-1.3286277060281069,-1.3196985526940133,-1.3040960278789016,-1.303017422373001,-1.2938528443224873,-1.2902442115043211,-1.2895843478919602,-1.2881395778440092,-1.287930539217061,-1.2861618829560355,-1.280098656409263,-1.271501398677824,-1.2702308008966836,-1.2618316796093831,-1.2594532058719043,-1.2288879039525005,-1.2266684795694596,-1.2228928317230574,-1.2206615193622443,-1.2165340062205006,-1.2160118669982989,-1.2145708076959831,-1.2128126917333784,-1.2073301903803924,-1.1993350593094187,-1.1916436546351346,-1.1804742260955745,-1.1671622195294487,-1.1637785996334882,-1.157685306776683,-1.1551400130519553,-1.1534635887846265,-1.153035539328639,-1.1475262014770713,-1.1453313526838358,-1.14003094560646,-1.1364162942709295,-1.1339177426556835,-1.1333698504787084,-1.132764138148872,-1.1306530895641498,-1.126297620547942,-1.1230516704325242,-1.1215971571765764,-1.1214286093043695,-1.1080627021187195,-1.1041904236902373,-1.081941895114053,-1.0799160807761208,-1.0775364050138387,-1.0724001051375238,-1.0617464519061912,-1.0598389343690278,-1.0477777049333967,-1.0439252191907884,-1.040693600220372,-1.0404129993702578,-1.03951101182139,-1.0358692630324284,-1.0287959871809496,-1.0239318824916113,-1.0232436140197758,-1.0228523070664413,-1.0213046590979642,-1.0205875052601259,-1.011113262797877,-1.0080934330654863,-1.006589841332282,-0.9902442045230812,-0.9891669080901537,-0.9848746073505876,-0.9771830135121801,-0.9750600476578719,-0.9727889008265684,-0.9685658288757227,-0.9634403256562618,-0.9629707431654573,-0.9624417770247634,-0.9574923014438953,-0.9523561706474434,-0.9422522922794816,-0.9397597502302046,-0.9376233494059012,-0.9309774272568058,-0.930645881940543,-0.9304544844273602,-0.9253676176693278,-0.9225038916932601,-0.9219315478028366,-0.9126073875424139,-0.911152416310477,-0.9058023922725332,-0.8962662921778503,-0.8945667916381443,-0.8873021640390356,-0.8865226578123706,-0.8860879236118868,-0.8855803200080603,-0.885369686328559,-0.8813273584155858,-0.8804340619132015,-0.8785236780903517,-0.8697560112217572,-0.8643655929125891,-0.8640937446445763,-0.8624661083893559,-0.8469433368196536,-0.8465326406624357,-0.8454036708059225,-0.8443276599964128,-0.8400768830717756,-0.8378403687918757,-0.8351868034539204,-0.8333336837069948,-0.8258583409780205,-0.8206185359375641,-0.8129704848635114,-0.8127080948281908,-0.809418839039529,-0.8022676204392225,-0.8014769268507494,-0.7999037453750616,-0.7984500759497942,-0.79709837109925,-0.7967838284449752,-0.7939527896428208,-0.7885699897018584,-0.7871951023140137,-0.7854538242801092,-0.7784618563842138,-0.7770579821863541,-0.7766497491149855,-0.7741900184991154,-0.768999657564846,-0.7677901236505345,-0.7576286677778498,-0.756055336730141,-0.7549549980197952,-0.7507627350529925,-0.7485515722742816,-0.7439515051029211,-0.7430363352122578,-0.7348821263792991,-0.7283244334553357,-0.7279437007344971,-0.72665602882629,-0.7229503108853832,-0.717704431707363,-0.7170154445678179,-0.7143231897504205,-0.7055730948237522,-0.7038193938855638,-0.699445708463136,-0.6988579239689678,-0.6976919535455904,-0.6924845915037785,-0.6918154311509882,-0.6889003720156641,-0.6883467407600421,-0.6822681873719516,-0.6816695999926556,-0.6767544513726695,-0.6762331611407725,-0.6739545907357973,-0.6733907273276505,-0.6679856815844915,-0.6673311308328832,-0.6664527790346987,-0.66560542351072,-0.6555299927074868,-0.6472457894064706,-0.6443443882233749,-0.6423194037341615,-0.6391390060662747,-0.6384205166394317,-0.6322801114910738,-0.6301032320640931,-0.6298224793420429,-0.6283027404443562,-0.6268805552279475,-0.6244913925745103,-0.6243741612324689,-0.6235814806330224,-0.622101201625038,-0.6195817366497922,-0.6172317854999347,-0.6081540988255444,-0.6074190357000786,-0.6060057993268453,-0.604827355845414,-0.5973637521032128,-0.5972169860674945,-0.5947239094186649,-0.5899033525854075,-0.5889912435840625,-0.5805977506425058,-0.5804856683674033,-0.5743329962074042,-0.5741244443370934,-0.5726547201020906,-0.5708000578768434,-0.5667458813764709,-0.5661942029919186,-0.562591967491304,-0.5593449252820235,-0.5558913478275991,-0.5532861638118907,-0.5518585246629768,-0.5490084560578807,-0.5447250887689291,-0.5423319023226223,-0.5418645477553805,-0.5361161734659412,-0.5335692790230709,-0.525503186213384,-0.5216654325815724,-0.5204395698906854,-0.5180465018754166,-0.5172022946850535,-0.5135055203002505,-0.5131124874677138,-0.5069333499478373,-0.503424180378713,-0.5004703653430315,-0.49945592385531706,-0.49697723621238254,-0.4925520780867666,-0.4924907337587139,-0.48940530559241746,-0.4886192846434189,-0.48225497956513724,-0.47879460452571126,-0.47701685480017897,-0.47645588088658025,-0.4741730643913724,-0.4735287035936783,-0.47341441555456176,-0.4718579352039361,-0.46472507687635833,-0.463828401318421,-0.4597114685991715,-0.45769156529002025,-0.4461944363555548,-0.44467734914647844,-0.4438950299468853,-0.44320597955946983,-0.44006910619856365,-0.4385580071177394,-0.43745255089837154,-0.4356104544860426,-0.43193969995185644,-0.4319248703666391,-0.43148562166481896,-0.4282615277626681,-0.42706911237637346,-0.4162947769418587,-0.4143372010505992,-0.4108452317569281,-0.40880874520408633,-0.40534565690318275,-0.4029182566395361,-0.3933609628199298,-0.38900184792631537,-0.38149743917507756,-0.3807497007123074,-0.3791149876924991,-0.3772181914347351,-0.37576241770221086,-0.3690195696349935,-0.3661592052484092,-0.3614728883482683,-0.36125374563690965,-0.3601504758757779,-0.35937785402074157,-0.35424576801743396,-0.35396989225866415,-0.35029951794231834,-0.3479259823185589,-0.3476659792700526,-0.3419055039765288,-0.3415652359071017,-0.3405712466473612,-0.3387685042636369,-0.33817643631263555,-0.3361154376267399,-0.3361054135829739,-0.3356718032526221,-0.3343208798731028,-0.33358609458156546,-0.32981669506575445,-0.32785521709455356,-0.3231304415631719,-0.32043877467579074,-0.3153998438750664,-0.3151667950132367,-0.3133274398347694,-0.31161273969594727,-0.31109196001462985,-0.29958458255478604,-0.2957974896143697,-0.29559393350422175,-0.2941818963285529,-0.2912635353614461,-0.28593046837036556,-0.2771686912771364,-0.27399469320693987,-0.271502305477108,-0.2709168699538817,-0.267788392473752,-0.26476305802318895,-0.26089564178724933,-0.26060280624861254,-0.2586052720101073,-0.256086045555994,-0.2556795033179919,-0.2546757251062182,-0.24592964550554997,-0.24534064699066382,-0.24137419358940543,-0.24020307435081456,-0.23999575778444882,-0.2358272961740752,-0.23420573457069369,-0.23379800320216557,-0.22900500043420213,-0.22771772424479556,-0.2243739959238412,-0.22426141342563558,-0.22321924807053653,-0.2222326811895599,-0.22206462082876052,-0.2189955320309384,-0.2146706228765669,-0.21463958936146862,-0.21425632569124597,-0.21119205440331312,-0.208491884200477,-0.20638005581984736,-0.20528312307449134,-0.2008011960501368,-0.19946228058154347,-0.19611259270662812,-0.19384273973863922,-0.1838270498175882,-0.18378020020707195,-0.17680431435785174,-0.17664920510046553,-0.17474094450599353,-0.1743199417944344,-0.17239154369080228,-0.17224768463394313,-0.17038396552638974,-0.16991605932385384,-0.16896684126603131,-0.16662370324688033,-0.1656686343644231,-0.16295137835758022,-0.1620053275689852,-0.15979721161841232,-0.158295257842024,-0.156487646798657,-0.15472265274326774,-0.15222499298620037,-0.14154395064841455,-0.14127762653807532,-0.13565360074026628,-0.13552588482126945,-0.13530513955314719,-0.13405971115830753,-0.13212145127062427,-0.12975126342152493,-0.12538651486020605,-0.12458456311429732,-0.12400169785591127,-0.12280197755496648,-0.12230383002669412,-0.11899626306368676,-0.1145524582545254,-0.1130199740977499,-0.10303489365293964,-0.09523811239377081,-0.09449821357659967,-0.09132358754047162,-0.09110916539291224,-0.09062342168650935,-0.08920649757497502,-0.08740993536910999,-0.08409657745351838,-0.0839127218347771,-0.08357058357285085,-0.07496677122495843,-0.07422651022313687,-0.07383519802616309,-0.06377894579516492,-0.06297086861002486,-0.061097631094597926,-0.05837184735779476,-0.05661709842308209,-0.0528425632951364,-0.052827706441118574,-0.046616411711514184,-0.041225018540431875,-0.04078655843270522,-0.04000899824319223,-0.03632880721483374,-0.0334752292181179,-0.032750752207284115,-0.0284064156410388,-0.023958695262862224,-0.023908165171583975,-0.02247133444461247,-0.02181347668170736,-0.02047501303847177,-0.01739439369018648,-0.016535425123667735,-0.014237566276271315,-0.007191834878799484,-0.005472131694427112,-0.003699546717569801,-0.0029760554466175056,-0.002795424548954191,-0.00039705398988154286,0.00009228300959661816,0.0028421687036671367,0.008334286121345399,0.008379659615241846,0.01472552871233803,0.016640232624137337,0.018354197369886822,0.020315387081638586,0.020412337545978328,0.02080760390226598,0.02988195053614484,0.031437156217676336,0.031621002957457976,0.033605168511139975,0.03830390215726383,0.0442154970265464,0.04969984947188961,0.05289535919169504,0.05761450720013523,0.05994595068238346,0.0655859794223959,0.06750565109962976,0.0688950594350855,0.06895043490681323,0.07034377501891578,0.07059071642184561,0.07120468561845139,0.07520994710317978,0.0801171145237053,0.08405711837048029,0.08655683880697221,0.08810305459278463,0.09089031069663722,0.0910475564293298,0.09679423456249658,0.0969901165991019,0.09710926234770412,0.0999544997968851,0.10153567343156583,0.10202060198437342,0.1028853840324955,0.10417992837803575,0.10680179268653416,0.10744324535895991,0.11065417727098718,0.11212691031849786,0.11377808751749759,0.11692339458987953,0.1180652336541034,0.11830124885805553,0.1185188565435681,0.12012351861017408,0.12077034778529692,0.12232135966579985,0.1307626655479185,0.13591711379991248,0.13765304320954092,0.13880736752828393,0.14023257424170715,0.14030159889115118,0.14039546427551025,0.14967619568526339,0.15365740177986173,0.15602185224999238,0.1580811461577324,0.15966906917763002,0.15983618188015522,0.1627284721765433,0.16971976827586727,0.17234399739904344,0.18163880250794015,0.1823823871093364,0.18317079237732314,0.18944839177705627,0.19398762116566268,0.19535898386158312,0.2064185543358089,0.20788050628813895,0.2144533458177042,0.21521711405466798,0.21775432548103643,0.220670150971602,0.22150129294118723,0.22302216698588764,0.2263052188066183,0.2284232704228214,0.22908319974356317,0.2294224361467734,0.2301624574730821,0.2301700724830343,0.2303214662288114,0.23342758572447897,0.23526315030212336,0.23577204704863658,0.23580693165805558,0.2441248398160598,0.24441176264056516,0.2505867150367613,0.2515296245415917,0.2640980411127237,0.2650471825339272,0.26645441792220015,0.2695447387635019,0.2707977135885463,0.2729551221787954,0.27715056419112394,0.27748308246470227,0.2788408442318787,0.2853920666653776,0.28702648782990386,0.2884917491761121,0.292255222305964,0.2949888544975905,0.301330977295088,0.30307328311370413,0.30585416714636143,0.3084336151262972,0.310342328779031,0.3197166919941372,0.3198627669261082,0.3207182354408495,0.32501238893659606,0.3257903331013064,0.32843265855890796,0.3286282235274775,0.32926902363516364,0.33436528391192505,0.3355039883328669,0.33702641252952387,0.3405769828912079,0.34198861308138484,0.3421759177457109,0.3556245182737315,0.36240129312541003,0.3645314937300707,0.3668859982518398,0.3669633739876963,0.36739454211131034,0.3679192267718773,0.370093377776324,0.37077410121237186,0.3796685946138542,0.3812645320769103,0.38393414956668104,0.3856795952296723,0.39044176290407057,0.3913738131959145,0.39682490004294546,0.40084632208621224,0.401533349557936,0.4027165522509757,0.40388919626501746,0.4084513532775922,0.41746914682624114,0.41790430251519317,0.4189003885152889,0.4194064409558616,0.42279001764674395,0.42624293847476674,0.42778045008468835,0.42789553212080167,0.4279915348181539,0.4369733067463148,0.43845571688146395,0.44086662724260295,0.4412504208264269,0.44240116619330644,0.4471437438794303,0.4478473238427928,0.45082659045998075,0.4592915621931062,0.46368158949814503,0.4639524203356957,0.46569998221638004,0.4679976861849059,0.4697799755951211,0.4741486081854509,0.476970516886383,0.47700890643381955,0.47793318221804565,0.4945219024851237,0.49626255892603616,0.500693905582132,0.5007832693447044,0.5064894974338904,0.5065183741070822,0.506938912490028,0.5140755335260347,0.519837294079735,0.529299078621948,0.531005748469331,0.5340870228038994,0.5381507735669706,0.5393354235937872,0.5410297010177383,0.552995197918063,0.5536551136313861,0.5551757477341313,0.5576752502791327,0.5580893586702286,0.5646622904526205,0.5672470475300236,0.5691806197193564,0.5723490695224319,0.5760053544072563,0.5828762386766956,0.582932907958359,0.5867657544533481,0.5876714978973717,0.5899402510096879,0.5914174897341616,0.5916905392347351,0.5922986946648315,0.5927660584397826,0.593086894055581,0.5932401036618228,0.6012872141381951,0.6070597372632515,0.6077668665130744,0.6112868510751016,0.612065397131532,0.615357412742596,0.6277898118284622,0.6306323334458834,0.634013190632918,0.6348879867785485,0.6374107776821376,0.638271360268675,0.6383111968935951,0.6428159286297308,0.6428273621427633,0.6434989996901389,0.6486063557017082,0.6492335067267525,0.6526879132725997,0.6803336653177249,0.6820509524879597,0.6930812918754986,0.695235228231952,0.6966985856569999,0.7014404191484885,0.7039321110431297,0.7154239995888919,0.716233385767322,0.7176622301792377,0.7188626972512567,0.7207269377396405,0.7217765806433669,0.7259631800032861,0.7379593154642219,0.7389473770390315,0.7489443319867125,0.7523642630143238,0.7555948271105974,0.7615062454432788,0.7652134960487152,0.7675988065883134,0.7678014678267162,0.7703614743933574,0.7719378888037461,0.775529812361069,0.776322270978682,0.778697548868357,0.7795324108067061,0.7805379468867466,0.7835319378180357,0.7845436918169386,0.7848062627369811,0.7879057908541656,0.7913435358562252,0.7972877169832672,0.8051832232631783,0.8125360500320851,0.8169569158386825,0.8173934551231024,0.8189732568502064,0.8373831121358297,0.8451003262398634,0.8454833782981405,0.8465738575265467,0.8470601562964841,0.8471727176711543,0.8512524623031013,0.855029888080093,0.8581785236861104,0.8668134706947163,0.8692179186441366,0.8707091450082894,0.8777590776962155,0.8794549114707845,0.8846361653751951,0.8852354061378838,0.8853572167205508,0.8934859716191005,0.9015705532115155,0.906800863953868,0.9239158642492261,0.9256297213341155,0.9257471512547022,0.9342625455549578,0.936038291973422,0.9403741174911856,0.9478112965013579,0.9479255509836141,0.951125577493298,0.9516339009616767,0.9521010948154197,0.9700123713450396,0.9736461151503043,0.9783954919633593,0.985889338723191,0.9888380025810711,0.988927793268228,0.9943054560869766,0.994505729825334,0.9965029628038469,0.9995328128553146,1.0037157342340104,1.010738269814327,1.0143497299815232,1.0167359445867572,1.025325009457823,1.0288984205725558,1.0325107085102623,1.0348029938491765,1.0350031601721768,1.036023492250497,1.037242964671422,1.037248374710668,1.0375005545304956,1.0526808306358006,1.0591944767143355,1.0606398413157003,1.0637434766495222,1.064465089990768,1.0780859941942709,1.0817210120069334,1.088309308642337,1.0925947269848022,1.0997881386769965,1.1034899513736558,1.1046519980454355,1.107239516779559,1.110466005135783,1.1148092198739916,1.1171530752380106,1.1249430290253064,1.1255370825538935,1.1333467310193088,1.1340687917563035,1.1346120430309232,1.1391986784812358,1.1420871317013161,1.1437792667432212,1.144117778776754,1.154559977316729,1.154613321971247,1.1563880579991028,1.1579878060879287,1.1590482915354576,1.1609225766991267,1.1618218821368995,1.1634389487644203,1.1643569213653242,1.1668224827902616,1.1704819651160523,1.1787023043587537,1.1810206306854487,1.182443581992566,1.2075453210989098,1.2137982139390848,1.2160128648509636,1.218283636071999,1.2256624608641624,1.2355166870563188,1.238047149705025,1.2421977106566655,1.2478274923181516,1.249163438508918,1.2583240679592385,1.2649127119048251,1.2736695959418005,1.2737430712880748,1.2764730129041124,1.2814553633951151,1.284606708563431,1.2960759199999679,1.2979898120141464,1.2986773420857471,1.3040274740224305,1.3065932510550036,1.3293109107628245,1.3476043380838603,1.362155048674503,1.3691464164574545,1.4041779706105477,1.4046266368656275,1.4084892477623583,1.4117302378279644,1.4174147413323153,1.4180720878592799,1.4191104861840564,1.425439443553083,1.4305232141084752,1.435074739540777,1.435276720446497,1.4644978863232636,1.4645130813996596,1.4681887669182128,1.4824637224496815,1.4880423607431261,1.498604112147645,1.5129890551265526,1.515072621985649,1.5162566686965244,1.5196934580879635,1.5218600536502331,1.533565226429106,1.5362747783420865,1.536505676494278,1.5698866642889928,1.574205457832182,1.5775848885050907,1.5778377151791307,1.578704929267342,1.594918897566649,1.6018409919594512,1.6076322014033173,1.6190067206062884,1.6241908884306566,1.6262251762476825,1.634300616980611,1.6543321167162102,1.6765500369865278,1.6793153517559656,1.7073676484775506,1.7227190159753667,1.744849991507864,1.7473276632316574,1.7969743408954288,1.8188735405639587,1.820181309960025,1.8315465782286775,1.8323401075373245,1.8334143655017712,1.8352657446645888,1.8378537633134844,1.8381297227531004,1.8571101128064798,1.8841239133461676,1.8855109749324834,1.9127160319763847,1.9222876505816944,1.943163176486207,1.9609393527927061,2.0029019178804925,2.0165760238232453,2.0172207830010374,2.048160650677286,2.051206888472015,2.0530892325145316,2.0620658113753,2.0640080887681793,2.0887456836438827,2.1177555671277783,2.1197766846540453,2.120172367195324,2.121184607780522,2.1572099158495406,2.1690549996559954,2.2450983611486017,2.27625365284516,2.2817758193632454,2.2973778080544016,2.308486069492984,2.3143229168228006,2.3431117017861784,2.3476350422052814,2.4037661179586203,2.468442431516889,2.478811608851873,2.509327988310112,2.514617051783916,2.618924765353588,2.626476609154539,2.633242186750665,2.656373546693534,3.1321601805429324],\"xaxis\":\"x\",\"y\":[-0.9944866660505056,-0.9942744478562607,-0.991882347581412,-0.9910010742282792,-0.990709947649037,-0.9906515165399096,-0.9861321755993767,-0.9861091484915645,-0.9860933761680585,-0.983211417874737,-0.9801248044997354,-0.9794187833488621,-0.9746198109669317,-0.9735381746041494,-0.9731344735826551,-0.9726086380231013,-0.970839161525238,-0.9701622988048657,-0.9681514622354053,-0.9680566333563917,-0.9663738180457062,-0.9627010783036869,-0.9625988101023589,-0.962503723925985,-0.9616392095654401,-0.9575290427422396,-0.9573466790953818,-0.9552930414646366,-0.9546708452473626,-0.9515858495332778,-0.9494488417782906,-0.9490817401018964,-0.9488667080663179,-0.9448347561422177,-0.942726438320331,-0.942702981239019,-0.9413132705933828,-0.9401399288254232,-0.939559539294203,-0.93938591986496,-0.9375990327318255,-0.9372518175860567,-0.9363485748360906,-0.9326912262702596,-0.9313168809442448,-0.9289530266585777,-0.9289067659198696,-0.9246936695965535,-0.9242358878370776,-0.9234361081985452,-0.92296740964216,-0.9203507154166668,-0.9198725585253565,-0.9186185982698041,-0.913446844635275,-0.9116227269766346,-0.9101850834408062,-0.9099692980579421,-0.9097371836105597,-0.9093762826794514,-0.9082797950727899,-0.9069149762585574,-0.9056562115056984,-0.9047904492032145,-0.9027440782719366,-0.9023405507275457,-0.8992356593850273,-0.8977092270404208,-0.8959876134503529,-0.895813460497124,-0.8951986007855387,-0.892215335189443,-0.892169200765655,-0.8906655725610704,-0.8905484125653176,-0.8902689165865928,-0.8887287770916861,-0.8879756803157375,-0.8865259045432831,-0.8854135599425854,-0.8843547968907104,-0.8830907603330149,-0.8820815560588697,-0.8811076342134925,-0.8799440693151619,-0.8794936311592878,-0.87740407347641,-0.8767746735824031,-0.8755762529199392,-0.8709775101104151,-0.8689135364721201,-0.8667089436488369,-0.8627738982553359,-0.8624979271113583,-0.8601322702428176,-0.8591904841782867,-0.8590176393845717,-0.8586385112220941,-0.8585835785736958,-0.8581180086512465,-0.8565111986327986,-0.8542040553209753,-0.853860194697067,-0.8515682986695305,-0.8509132938915838,-0.8422564485783296,-0.8416102679485578,-0.8405054355927833,-0.8398492028524499,-0.8386287938128563,-0.838473806341894,-0.8380453495524758,-0.8375212219069839,-0.8358768421141773,-0.8334516743433018,-0.8310879340942278,-0.8276010871320832,-0.8233603172916697,-0.8222674880962407,-0.8202841028526486,-0.8194497104632715,-0.8188982443928705,-0.8187571930430602,-0.8169329027517721,-0.8162015405678329,-0.8144245138073518,-0.8132038265388777,-0.812355847077864,-0.8121694380654034,-0.8119631637660909,-0.8112426621781244,-0.8097483205882647,-0.8086277737955627,-0.808123743568691,-0.8080652602762457,-0.8033765207100549,-0.8019991864869926,-0.7939181117228786,-0.7931679748103985,-0.7922837224616774,-0.7903637510810999,-0.7863313660018308,-0.7856022062062238,-0.7809408740867284,-0.7794333706565757,-0.7781618147334324,-0.7780511035751602,-0.7776948964968458,-0.7762516302389725,-0.773425001254023,-0.7714631720545224,-0.7711843823121112,-0.7710257476610997,-0.7703973972517237,-0.7701057218310853,-0.766222080848505,-0.7649722938764463,-0.7643478601217609,-0.7574664343318744,-0.7570068677079322,-0.7551683476306503,-0.751843865505948,-0.750919472787302,-0.749927289944569,-0.7480733750771635,-0.7458075059883699,-0.7455990458286178,-0.7453640487935501,-0.7431562142816425,-0.7408478812651366,-0.736255352144482,-0.7351118510833388,-0.7341283956762734,-0.7310492791719475,-0.7308948852140694,-0.7308057211837934,-0.7284268098633001,-0.7270797867487762,-0.7268098973214054,-0.7223813658705235,-0.721684917809162,-0.7191114303227855,-0.7144749963301136,-0.713642036893717,-0.7100586604298978,-0.7096719542642776,-0.7094561005296975,-0.7092038972091297,-0.7090991903469592,-0.7070836661289873,-0.7066367064801091,-0.705678953243054,-0.7012501452887736,-0.6985001061045335,-0.6983608668222718,-0.6975260934966834,-0.6894692233980302,-0.6892536979570747,-0.6886606072960507,-0.688094479019757,-0.6858497824256822,-0.6846634842279726,-0.6832512525952618,-0.6822619775194514,-0.6782458598709172,-0.6754063914323714,-0.671225666631983,-0.6710814694322046,-0.6692695380539809,-0.6653025869774705,-0.6648616442745873,-0.6639829551828474,-0.6631693851941434,-0.662411472592894,-0.6622349110004955,-0.6606424573411901,-0.6575981757393347,-0.6568171326077613,-0.6558259245022086,-0.6518229650453237,-0.6510148203550222,-0.650779542229125,-0.6493592713728712,-0.6463473925504557,-0.6456426088721746,-0.6396780743229438,-0.6387475958315773,-0.6380957357654335,-0.6356037688711689,-0.634284045880895,-0.6315266345022076,-0.6309761400508952,-0.6260431019364538,-0.622039185093707,-0.6218057150491305,-0.6210152791793201,-0.6187334676290949,-0.615485361256193,-0.6150571962606979,-0.6133806367857713,-0.6078933297774017,-0.606786502675632,-0.6040158284689983,-0.6036423558505076,-0.6029007248578034,-0.5995757744137965,-0.5991469992926364,-0.5972751156758663,-0.5969188677214468,-0.5929919766871162,-0.5926037385035626,-0.5894053976340785,-0.5890650984363917,-0.587575189482386,-0.587205874553515,-0.5836533058157145,-0.5832215636738222,-0.582641684041378,-0.5820817050956018,-0.5753809514732171,-0.5698129303477983,-0.5678503365969408,-0.5664767388596602,-0.5643130268556217,-0.5638231412651608,-0.5596202516224357,-0.5581232947643887,-0.557929966679481,-0.5568824135708226,-0.5559004966150837,-0.5542474534938265,-0.5541662291986573,-0.553616739714531,-0.5525893123982881,-0.5508367422485356,-0.549197697273178,-0.5428264166424378,-0.542307740734399,-0.5413093694116944,-0.5404756971133783,-0.5351710163257286,-0.5350662770332333,-0.5332845850425184,-0.5298260941183542,-0.5291697114037569,-0.523099751570931,-0.5230183339710609,-0.5185343413386931,-0.5183818479610046,-0.5173062489395771,-0.5159466020749413,-0.5129654314959159,-0.5125588031629839,-0.5098980332376895,-0.5074912326426115,-0.5049226232261679,-0.502979070499044,-0.5019118412220739,-0.4997767005626532,-0.49655634462741516,-0.49475110004411155,-0.4943980622922121,-0.4900424292654878,-0.48810473586560066,-0.48193620695887696,-0.47898437453208476,-0.4780392021504321,-0.4761908906731862,-0.4755378516489517,-0.47267202701540045,-0.4723667484268028,-0.46755237297623514,-0.46480583116422486,-0.4624869946011428,-0.46168916224222484,-0.4597365934418443,-0.4562396353054939,-0.4561910587223186,-0.4537443037291109,-0.45311988926279845,-0.4480477296674943,-0.44527773014590494,-0.44385133124695697,-0.4434007593004139,-0.44156489911877367,-0.4410460279448774,-0.44095396675778786,-0.4396992689390836,-0.4339274405928772,-0.4331993196760458,-0.4298490211762883,-0.42820090702781133,-0.41876581184008715,-0.4175139739963301,-0.416867816128994,-0.4162983445880439,-0.41370172255847404,-0.41244846423500164,-0.41153064320184096,-0.40999936047652213,-0.4069410688404433,-0.4069286949751921,-0.4065621163890682,-0.40386741899127143,-0.402869016822535,-0.39380439759774405,-0.39214913236919424,-0.3891901214413677,-0.387460731079416,-0.38451359903117016,-0.38244316320183513,-0.3742540628555893,-0.3704994105803803,-0.36400720168712414,-0.3633583630186181,-0.36193863798139897,-0.3602891908256443,-0.3590217247179969,-0.35313384250988755,-0.3506276509565155,-0.34651073409928557,-0.3463178891444399,-0.3453465705046934,-0.3446659133395586,-0.34013551755871213,-0.33989153557731416,-0.3366411455033134,-0.33453491718649103,-0.3343039919372693,-0.3291774868558349,-0.3288740555166907,-0.3279872846999098,-0.32637752344570153,-0.3258484217468244,-0.3240050187482314,-0.32399604699194523,-0.3236078997232049,-0.322397919609828,-0.3217393523174276,-0.3183560596441827,-0.3165922794767034,-0.31233473449754817,-0.3099036097754375,-0.30534153368700606,-0.30513019774036104,-0.3034611598380054,-0.3019035551988341,-0.3014301679899938,-0.2909324026031544,-0.2874620485027172,-0.28727530221075204,-0.2859792715022905,-0.28329735549950413,-0.27838493122120905,-0.2702826204269668,-0.26733797521581826,-0.2650221791800542,-0.26447777834506425,-0.2615657331941179,-0.2587451585570305,-0.25513306566810073,-0.2548592711904761,-0.25299053441905694,-0.250631050262025,-0.250250006545731,-0.24930885391327695,-0.24108867175067228,-0.24053382931288272,-0.23679331202922144,-0.23568755256633142,-0.23549174258478608,-0.23155060273894235,-0.23001540718645883,-0.22962921149937238,-0.2250839739854007,-0.22386156129308307,-0.22068303318368843,-0.2205759309053471,-0.21958424318705383,-0.21864504267945198,-0.21848501067526802,-0.2155604751145691,-0.21143270606819142,-0.21140305967429476,-0.211036894888087,-0.20810721035392712,-0.20552253465999284,-0.20349903363151675,-0.2024472925550059,-0.19814518215900095,-0.19685849394871713,-0.19363650484548112,-0.19145080331268322,-0.18178400962611654,-0.1817387077951646,-0.17498477518323885,-0.1748344112404316,-0.17298386543305053,-0.1725754308406792,-0.1707038442949734,-0.17056417383364775,-0.16875410100150237,-0.16829948394293703,-0.16737700512568573,-0.16509862087906943,-0.16416943860738129,-0.16152424352408806,-0.16060273473646583,-0.15845081360983126,-0.1569862214259114,-0.15522265984178443,-0.15349972144471533,-0.1510599816589214,-0.1406062018785492,-0.14034513325355305,-0.13482758566866931,-0.13470218927208036,-0.13448544291476,-0.13326233552598007,-0.131358007407482,-0.1290279959046284,-0.12473352138556976,-0.1239439679569126,-0.12337001533825324,-0.12218838064681165,-0.12169764063162615,-0.11843775948989843,-0.1140540117922654,-0.11254119944204274,-0.10267182270149523,-0.09495120725310058,-0.09421792778297951,-0.09107055213128679,-0.09085790421865127,-0.09037614917993972,-0.0889706192435285,-0.08718799519385824,-0.08389888644724218,-0.08371632217840873,-0.0833765720479538,-0.07482664804344404,-0.07409049114096664,-0.07370131575020197,-0.06369260725495138,-0.062887766986721,-0.06102172023987029,-0.05830564132446133,-0.05655668059849384,-0.0527934334299164,-0.05277861797250961,-0.04658267382049553,-0.041201680402991395,-0.0407639567361467,-0.0399876641692777,-0.0363128336093424,-0.033462730807123656,-0.032739047614952346,-0.028398777495956585,-0.0239541120658025,-0.023903610907580797,-0.02246755282689493,-0.021810017520806753,-0.020472152297833047,-0.01739263959129722,-0.016533918248260403,-0.014236604330014684,-0.007191710888164771,-0.0054720770754999115,-0.003699529839533545,-0.002976046660434165,-0.0027954172674565687,-0.0003970539690161094,0.00009228300933465273,0.002842161050751941,0.008334093159298712,0.008379463484495673,0.014724464437564174,0.016638696915503796,0.018352136614610576,0.020312592721610716,0.02040950299290039,0.020804601493941248,0.029873059538745663,0.0314268039175283,0.03161046801895148,0.033592524034969255,0.0382851801244054,0.04418670562576894,0.0496589690766223,0.052846082029775615,0.057550842595383726,0.05987424814864607,0.06549210113088512,0.06740329629347364,0.0687862618573209,0.06884137510725866,0.07022797809306108,0.07047369732236425,0.07108459070584926,0.07506845796854637,0.07994613619985849,0.08385970498791019,0.08634132088547877,0.0878758038253237,0.09064085189008868,0.09079680350490038,0.09649307077812883,0.09668712530383336,0.09680515587004149,0.09962294620336541,0.10118817925264036,0.10166811901110111,0.10252388686741429,0.10380465336556534,0.1063975543917657,0.10703170217104467,0.11020474894601676,0.11165935838506233,0.11328964695974318,0.11639346922720352,0.11751968912856386,0.11775243829553213,0.11796702321005326,0.11954905361680179,0.12018658893660883,0.12171491061439793,0.13002242987023702,0.1350862992642161,0.1367901496340015,0.13792269542903815,0.139320515192042,0.13938819940782834,0.13948023987054894,0.14856839174480627,0.15245940038437655,0.154768055345627,0.1567773794376907,0.15832588586190058,0.15848880522383701,0.16130714517044784,0.1681087464845037,0.1706576831181392,0.1796672352317856,0.18038672043347245,0.18114936287221858,0.1872139860198507,0.19159037046910402,0.1929110469104625,0.20353593756331373,0.20493690754025737,0.21122513258461434,0.21195470665276767,0.21437662672675478,0.2171567029771832,0.21794850766333343,0.21939665669278874,0.22251941864997604,0.22453164378376858,0.22515821019234217,0.22548022398398776,0.22618250432997872,0.22618972975480683,0.22633337300499748,0.22927829614542813,0.23101663423769384,0.23149831516416342,0.2315313299894538,0.23938802999795292,0.23965849165830788,0.2454701039462575,0.24635599259272745,0.2581245572063313,0.25901024170473863,0.2603225916675173,0.2632011631865465,0.26436695329614274,0.26637243391360255,0.2702658174911152,0.2705740197199242,0.2718319164477276,0.27788818025655826,0.27939570237194705,0.28074602877431976,0.2842091957631335,0.2867200621729373,0.29253016616803407,0.2941225628667393,0.29666079533954187,0.2990114282552952,0.30074849445377266,0.30925073010778986,0.3093828290471634,0.3101562091763206,0.3140320925777457,0.31473314747125725,0.317111748571672,0.31728763664406157,0.3178638092542578,0.3224377077046455,0.323457650571632,0.3248201193760342,0.3279924038539136,0.32925158841203034,0.329418577712703,0.34135418492473824,0.3473274026449894,0.34919923592020846,0.35126492969775813,0.35133275642613715,0.35171064617181624,0.35217034226800376,0.35407338637188146,0.3546686253373892,0.36241962620428214,0.36380513794165714,0.366119167471642,0.3676296811200712,0.37174100546443034,0.37254397599793876,0.3772289513669819,0.3806728753039687,0.3812601906674219,0.3822709473740145,0.38327178255423494,0.38715695085514423,0.3947961848351731,0.3951634522869049,0.39600366432088113,0.39643027264515374,0.39927826567545455,0.4021767035191409,0.40346473115257286,0.4035610752249398,0.40364143966121685,0.4111324841311253,0.4123635713916532,0.4143625304171454,0.41468037749739906,0.41563278600166137,0.41954833291842897,0.42012789699648584,0.4225782265995175,0.42950663917429616,0.4330800512198142,0.43330005966706914,0.43471844318370945,0.43658006400535443,0.4380215220758364,0.44154521116051887,0.44381412132245207,0.44384494871808094,0.4445868391477113,0.45779802912183937,0.45917278357700664,0.46266270270671,0.46273293464638615,0.4672054769728334,0.4672280501135971,0.4675567195063538,0.4731145692627946,0.4775744255401312,0.484845120404598,0.486149514580468,0.4884990294624728,0.49158689525243743,0.4924847422186331,0.4937670163630143,0.5027616836604899,0.5032546293126994,0.5043892705048938,0.5062505278615262,0.5065584400108687,0.5114284627114668,0.5133346290838454,0.5147572671047745,0.5170823568203926,0.5197559789266993,0.5247527962054862,0.5247938595010745,0.5275655184902023,0.5282188581794866,0.5298526340571414,0.5309143153779482,0.5311103719865972,0.5315468389794652,0.5318820695347652,0.5321121019624219,0.5322219223429064,0.5379648866904401,0.542054061717782,0.5425532289936112,0.5450323120582792,0.5455793508139919,0.5478873219182399,0.5565284522882097,0.5584874726356607,0.5608094194812685,0.5614087917349344,0.5631340027211239,0.5637213926317018,0.5637485692915959,0.5668138361111639,0.5668215962385647,0.5672772720163182,0.5707310264223953,0.5711537417354923,0.5734766711612582,0.5917362700455898,0.5928511120219631,0.5999578295748829,0.6013346764495485,0.6022680568536483,0.6052812723083324,0.6068577136479594,0.6140668189499113,0.6145707527860719,0.6154591459241456,0.6162043371876911,0.6173593828488751,0.618008551711358,0.6205894512647292,0.6279106447813828,0.6285087702821818,0.6345187335005985,0.6365573206354371,0.6384748932459536,0.6419633138236797,0.6441375593271602,0.6455310293837913,0.6456492241303935,0.6471395922479168,0.648054886111655,0.6501334437566293,0.6505907154370869,0.6519584972904569,0.6524382400270736,0.6530153650580582,0.6547292752051823,0.6553069373336624,0.6554567273864051,0.6572210352895255,0.6591694725776898,0.6625177222659453,0.6669245129785152,0.6709868941499243,0.6734101785887593,0.6736486853556909,0.6745106509805797,0.684420497016329,0.6885010916133713,0.6887025109362863,0.6892753332836958,0.6895305057198253,0.6895895449454063,0.6917232187448414,0.69368807463327,0.69531801143657,0.6997515162319561,0.7009765574780786,0.7017342501371733,0.705294903538698,0.7061461412826594,0.7087343098951414,0.7090324227878292,0.7090929906731529,0.7131112530546386,0.717061739855175,0.7195932249863068,0.7277446440544292,0.7285498163636009,0.7286049115493322,0.7325750519239109,0.7333967454697903,0.735394093263967,0.7387905737554962,0.738842462445897,0.7402921997097057,0.7405218589337229,0.7407327834798448,0.7487097234062078,0.7503021736136272,0.7523704869120844,0.7556040647375923,0.756866409625091,0.7569047614013779,0.7591922024810629,0.7592770309850241,0.7601215741033203,0.7613978795200156,0.7631502582477233,0.766067200355338,0.7675551198028743,0.7685337236583193,0.7720265660778787,0.7734661571403152,0.774913344483432,0.7758275083631152,0.7759071805366531,0.7763129187445116,0.7767970032658358,0.7767991488048926,0.7768991394655659,0.782846425418066,0.7853553640759793,0.7859086238889863,0.7870924002811982,0.7873668078280625,0.7924882380228975,0.7938364382352461,0.7962602349370858,0.7978232249659509,0.8004229079872034,0.8017491194109578,0.8021638140190436,0.8030844374799808,0.8042270548999962,0.8057558107388859,0.8065763845410283,0.8092814124987712,0.809486300219995,0.812161568497463,0.8124072092477215,0.8125918302085238,0.8141440888745537,0.8151156993631098,0.8156827741649886,0.8157960298714741,0.819259076875706,0.819276616608517,0.8198592768588637,0.8203830361076343,0.8207294832693509,0.8213403154388679,0.8216327334366343,0.8221574525439826,0.8224547036799497,0.8232508650218335,0.8244266151277514,0.8270419770195417,0.8277731685121847,0.8282205743118183,0.8359416514752975,0.837815214889851,0.8384741026656458,0.8391471509358378,0.8413165716160854,0.8441720766905143,0.8448977129971473,0.8460812299559008,0.8476733126930582,0.8480488891448001,0.8506014126392462,0.8524128446738138,0.854789111375609,0.8548088996573945,0.8555423642792652,0.8568721901559058,0.8577074650601447,0.8607095485624676,0.8612047729302419,0.8613822749290039,0.8627563733997407,0.8634108677418437,0.8690808149684882,0.8734866523531525,0.8768919560912286,0.8784975156861066,0.8862513934547802,0.8863476203296793,0.8871728878493221,0.887860992354696,0.8890583619145094,0.8891960449790138,0.8894132127114058,0.8907281915970912,0.8917737716492637,0.8927018753555931,0.8927428869216321,0.8985226580380972,0.8985255854364634,0.899231378566321,0.9019285558636201,0.9029638906409745,0.904895688494401,0.907468057694786,0.9078351162833671,0.9080430899602521,0.9086442229288226,0.9090212599795289,0.9110327241251128,0.9114922649526931,0.9115313205090576,0.9170077319193157,0.9176921235394301,0.9182238856526874,0.9182635360768205,0.9183994001492103,0.9209001188737357,0.9219452038157863,0.9228093603751035,0.9244799914752527,0.925229841063022,0.9255221257311671,0.9266715988066538,0.9294497035608097,0.9324124103632192,0.9327726503315922,0.9363237788807147,0.9381896027891297,0.9407865549997771,0.9410706279204352,0.9464917812848962,0.9487259888842788,0.9488564978931072,0.9499771560453691,0.9500545012727564,0.9501590234631564,0.9503386573005823,0.9505887080078324,0.950615298308496,0.9524110729191708,0.9548574735286236,0.9549797158553496,0.9573129413004425,0.9581053831593702,0.9597840684620202,0.9611614447601236,0.9642320304380381,0.9651801662383996,0.9652242578889898,0.9672768024919102,0.9674723291044391,0.9675925749030182,0.9681600190695211,0.9682815055690582,0.9697894687619628,0.9714681034091532,0.9715815677760499,0.9716037290541171,0.9716603448507914,0.9736044095502991,0.9742144094134857,0.977812040862815,0.9791384119048868,0.9793651825064028,0.9799927868790098,0.9804280746237259,0.9806530255792404,0.9817256238590606,0.9818887103979392,0.9837963680816063,0.9857484409554833,0.9860389093852987,0.9868600810315061,0.9869974453034035,0.9894327951949289,0.9895903752320725,0.9897295623579473,0.9901916005884752,0.9962012164367795],\"yaxis\":\"y\",\"type\":\"scatter\"}],                        {\"template\":{\"data\":{\"histogram2dcontour\":[{\"type\":\"histogram2dcontour\",\"colorbar\":{\"outlinewidth\":0,\"ticks\":\"\"},\"colorscale\":[[0.0,\"#0d0887\"],[0.1111111111111111,\"#46039f\"],[0.2222222222222222,\"#7201a8\"],[0.3333333333333333,\"#9c179e\"],[0.4444444444444444,\"#bd3786\"],[0.5555555555555556,\"#d8576b\"],[0.6666666666666666,\"#ed7953\"],[0.7777777777777778,\"#fb9f3a\"],[0.8888888888888888,\"#fdca26\"],[1.0,\"#f0f921\"]]}],\"choropleth\":[{\"type\":\"choropleth\",\"colorbar\":{\"outlinewidth\":0,\"ticks\":\"\"}}],\"histogram2d\":[{\"type\":\"histogram2d\",\"colorbar\":{\"outlinewidth\":0,\"ticks\":\"\"},\"colorscale\":[[0.0,\"#0d0887\"],[0.1111111111111111,\"#46039f\"],[0.2222222222222222,\"#7201a8\"],[0.3333333333333333,\"#9c179e\"],[0.4444444444444444,\"#bd3786\"],[0.5555555555555556,\"#d8576b\"],[0.6666666666666666,\"#ed7953\"],[0.7777777777777778,\"#fb9f3a\"],[0.8888888888888888,\"#fdca26\"],[1.0,\"#f0f921\"]]}],\"heatmap\":[{\"type\":\"heatmap\",\"colorbar\":{\"outlinewidth\":0,\"ticks\":\"\"},\"colorscale\":[[0.0,\"#0d0887\"],[0.1111111111111111,\"#46039f\"],[0.2222222222222222,\"#7201a8\"],[0.3333333333333333,\"#9c179e\"],[0.4444444444444444,\"#bd3786\"],[0.5555555555555556,\"#d8576b\"],[0.6666666666666666,\"#ed7953\"],[0.7777777777777778,\"#fb9f3a\"],[0.8888888888888888,\"#fdca26\"],[1.0,\"#f0f921\"]]}],\"heatmapgl\":[{\"type\":\"heatmapgl\",\"colorbar\":{\"outlinewidth\":0,\"ticks\":\"\"},\"colorscale\":[[0.0,\"#0d0887\"],[0.1111111111111111,\"#46039f\"],[0.2222222222222222,\"#7201a8\"],[0.3333333333333333,\"#9c179e\"],[0.4444444444444444,\"#bd3786\"],[0.5555555555555556,\"#d8576b\"],[0.6666666666666666,\"#ed7953\"],[0.7777777777777778,\"#fb9f3a\"],[0.8888888888888888,\"#fdca26\"],[1.0,\"#f0f921\"]]}],\"contourcarpet\":[{\"type\":\"contourcarpet\",\"colorbar\":{\"outlinewidth\":0,\"ticks\":\"\"}}],\"contour\":[{\"type\":\"contour\",\"colorbar\":{\"outlinewidth\":0,\"ticks\":\"\"},\"colorscale\":[[0.0,\"#0d0887\"],[0.1111111111111111,\"#46039f\"],[0.2222222222222222,\"#7201a8\"],[0.3333333333333333,\"#9c179e\"],[0.4444444444444444,\"#bd3786\"],[0.5555555555555556,\"#d8576b\"],[0.6666666666666666,\"#ed7953\"],[0.7777777777777778,\"#fb9f3a\"],[0.8888888888888888,\"#fdca26\"],[1.0,\"#f0f921\"]]}],\"surface\":[{\"type\":\"surface\",\"colorbar\":{\"outlinewidth\":0,\"ticks\":\"\"},\"colorscale\":[[0.0,\"#0d0887\"],[0.1111111111111111,\"#46039f\"],[0.2222222222222222,\"#7201a8\"],[0.3333333333333333,\"#9c179e\"],[0.4444444444444444,\"#bd3786\"],[0.5555555555555556,\"#d8576b\"],[0.6666666666666666,\"#ed7953\"],[0.7777777777777778,\"#fb9f3a\"],[0.8888888888888888,\"#fdca26\"],[1.0,\"#f0f921\"]]}],\"mesh3d\":[{\"type\":\"mesh3d\",\"colorbar\":{\"outlinewidth\":0,\"ticks\":\"\"}}],\"scatter\":[{\"fillpattern\":{\"fillmode\":\"overlay\",\"size\":10,\"solidity\":0.2},\"type\":\"scatter\"}],\"parcoords\":[{\"type\":\"parcoords\",\"line\":{\"colorbar\":{\"outlinewidth\":0,\"ticks\":\"\"}}}],\"scatterpolargl\":[{\"type\":\"scatterpolargl\",\"marker\":{\"colorbar\":{\"outlinewidth\":0,\"ticks\":\"\"}}}],\"bar\":[{\"error_x\":{\"color\":\"#2a3f5f\"},\"error_y\":{\"color\":\"#2a3f5f\"},\"marker\":{\"line\":{\"color\":\"#E5ECF6\",\"width\":0.5},\"pattern\":{\"fillmode\":\"overlay\",\"size\":10,\"solidity\":0.2}},\"type\":\"bar\"}],\"scattergeo\":[{\"type\":\"scattergeo\",\"marker\":{\"colorbar\":{\"outlinewidth\":0,\"ticks\":\"\"}}}],\"scatterpolar\":[{\"type\":\"scatterpolar\",\"marker\":{\"colorbar\":{\"outlinewidth\":0,\"ticks\":\"\"}}}],\"histogram\":[{\"marker\":{\"pattern\":{\"fillmode\":\"overlay\",\"size\":10,\"solidity\":0.2}},\"type\":\"histogram\"}],\"scattergl\":[{\"type\":\"scattergl\",\"marker\":{\"colorbar\":{\"outlinewidth\":0,\"ticks\":\"\"}}}],\"scatter3d\":[{\"type\":\"scatter3d\",\"line\":{\"colorbar\":{\"outlinewidth\":0,\"ticks\":\"\"}},\"marker\":{\"colorbar\":{\"outlinewidth\":0,\"ticks\":\"\"}}}],\"scattermapbox\":[{\"type\":\"scattermapbox\",\"marker\":{\"colorbar\":{\"outlinewidth\":0,\"ticks\":\"\"}}}],\"scatterternary\":[{\"type\":\"scatterternary\",\"marker\":{\"colorbar\":{\"outlinewidth\":0,\"ticks\":\"\"}}}],\"scattercarpet\":[{\"type\":\"scattercarpet\",\"marker\":{\"colorbar\":{\"outlinewidth\":0,\"ticks\":\"\"}}}],\"carpet\":[{\"aaxis\":{\"endlinecolor\":\"#2a3f5f\",\"gridcolor\":\"white\",\"linecolor\":\"white\",\"minorgridcolor\":\"white\",\"startlinecolor\":\"#2a3f5f\"},\"baxis\":{\"endlinecolor\":\"#2a3f5f\",\"gridcolor\":\"white\",\"linecolor\":\"white\",\"minorgridcolor\":\"white\",\"startlinecolor\":\"#2a3f5f\"},\"type\":\"carpet\"}],\"table\":[{\"cells\":{\"fill\":{\"color\":\"#EBF0F8\"},\"line\":{\"color\":\"white\"}},\"header\":{\"fill\":{\"color\":\"#C8D4E3\"},\"line\":{\"color\":\"white\"}},\"type\":\"table\"}],\"barpolar\":[{\"marker\":{\"line\":{\"color\":\"#E5ECF6\",\"width\":0.5},\"pattern\":{\"fillmode\":\"overlay\",\"size\":10,\"solidity\":0.2}},\"type\":\"barpolar\"}],\"pie\":[{\"automargin\":true,\"type\":\"pie\"}]},\"layout\":{\"autotypenumbers\":\"strict\",\"colorway\":[\"#636efa\",\"#EF553B\",\"#00cc96\",\"#ab63fa\",\"#FFA15A\",\"#19d3f3\",\"#FF6692\",\"#B6E880\",\"#FF97FF\",\"#FECB52\"],\"font\":{\"color\":\"#2a3f5f\"},\"hovermode\":\"closest\",\"hoverlabel\":{\"align\":\"left\"},\"paper_bgcolor\":\"white\",\"plot_bgcolor\":\"#E5ECF6\",\"polar\":{\"bgcolor\":\"#E5ECF6\",\"angularaxis\":{\"gridcolor\":\"white\",\"linecolor\":\"white\",\"ticks\":\"\"},\"radialaxis\":{\"gridcolor\":\"white\",\"linecolor\":\"white\",\"ticks\":\"\"}},\"ternary\":{\"bgcolor\":\"#E5ECF6\",\"aaxis\":{\"gridcolor\":\"white\",\"linecolor\":\"white\",\"ticks\":\"\"},\"baxis\":{\"gridcolor\":\"white\",\"linecolor\":\"white\",\"ticks\":\"\"},\"caxis\":{\"gridcolor\":\"white\",\"linecolor\":\"white\",\"ticks\":\"\"}},\"coloraxis\":{\"colorbar\":{\"outlinewidth\":0,\"ticks\":\"\"}},\"colorscale\":{\"sequential\":[[0.0,\"#0d0887\"],[0.1111111111111111,\"#46039f\"],[0.2222222222222222,\"#7201a8\"],[0.3333333333333333,\"#9c179e\"],[0.4444444444444444,\"#bd3786\"],[0.5555555555555556,\"#d8576b\"],[0.6666666666666666,\"#ed7953\"],[0.7777777777777778,\"#fb9f3a\"],[0.8888888888888888,\"#fdca26\"],[1.0,\"#f0f921\"]],\"sequentialminus\":[[0.0,\"#0d0887\"],[0.1111111111111111,\"#46039f\"],[0.2222222222222222,\"#7201a8\"],[0.3333333333333333,\"#9c179e\"],[0.4444444444444444,\"#bd3786\"],[0.5555555555555556,\"#d8576b\"],[0.6666666666666666,\"#ed7953\"],[0.7777777777777778,\"#fb9f3a\"],[0.8888888888888888,\"#fdca26\"],[1.0,\"#f0f921\"]],\"diverging\":[[0,\"#8e0152\"],[0.1,\"#c51b7d\"],[0.2,\"#de77ae\"],[0.3,\"#f1b6da\"],[0.4,\"#fde0ef\"],[0.5,\"#f7f7f7\"],[0.6,\"#e6f5d0\"],[0.7,\"#b8e186\"],[0.8,\"#7fbc41\"],[0.9,\"#4d9221\"],[1,\"#276419\"]]},\"xaxis\":{\"gridcolor\":\"white\",\"linecolor\":\"white\",\"ticks\":\"\",\"title\":{\"standoff\":15},\"zerolinecolor\":\"white\",\"automargin\":true,\"zerolinewidth\":2},\"yaxis\":{\"gridcolor\":\"white\",\"linecolor\":\"white\",\"ticks\":\"\",\"title\":{\"standoff\":15},\"zerolinecolor\":\"white\",\"automargin\":true,\"zerolinewidth\":2},\"scene\":{\"xaxis\":{\"backgroundcolor\":\"#E5ECF6\",\"gridcolor\":\"white\",\"linecolor\":\"white\",\"showbackground\":true,\"ticks\":\"\",\"zerolinecolor\":\"white\",\"gridwidth\":2},\"yaxis\":{\"backgroundcolor\":\"#E5ECF6\",\"gridcolor\":\"white\",\"linecolor\":\"white\",\"showbackground\":true,\"ticks\":\"\",\"zerolinecolor\":\"white\",\"gridwidth\":2},\"zaxis\":{\"backgroundcolor\":\"#E5ECF6\",\"gridcolor\":\"white\",\"linecolor\":\"white\",\"showbackground\":true,\"ticks\":\"\",\"zerolinecolor\":\"white\",\"gridwidth\":2}},\"shapedefaults\":{\"line\":{\"color\":\"#2a3f5f\"}},\"annotationdefaults\":{\"arrowcolor\":\"#2a3f5f\",\"arrowhead\":0,\"arrowwidth\":1},\"geo\":{\"bgcolor\":\"white\",\"landcolor\":\"#E5ECF6\",\"subunitcolor\":\"white\",\"showland\":true,\"showlakes\":true,\"lakecolor\":\"white\"},\"title\":{\"x\":0.05},\"mapbox\":{\"style\":\"light\"}}},\"xaxis\":{\"anchor\":\"y\",\"domain\":[0.0,1.0],\"title\":{\"text\":\"data\"}},\"yaxis\":{\"anchor\":\"x\",\"domain\":[0.0,1.0],\"title\":{\"text\":\"tanh\"},\"range\":[-1.5,1.5]},\"legend\":{\"tracegroupgap\":0},\"margin\":{\"t\":60},\"width\":800},                        {\"responsive\": true}                    ).then(function(){\n",
              "                            \n",
              "var gd = document.getElementById('0c80d851-83d7-475f-82b5-5edd55cf40f8');\n",
              "var x = new MutationObserver(function (mutations, observer) {{\n",
              "        var display = window.getComputedStyle(gd).display;\n",
              "        if (!display || display === 'none') {{\n",
              "            console.log([gd, 'removed!']);\n",
              "            Plotly.purge(gd);\n",
              "            observer.disconnect();\n",
              "        }}\n",
              "}});\n",
              "\n",
              "// Listen for the removal of the full notebook cells\n",
              "var notebookContainer = gd.closest('#notebook-container');\n",
              "if (notebookContainer) {{\n",
              "    x.observe(notebookContainer, {childList: true});\n",
              "}}\n",
              "\n",
              "// Listen for the clearing of the current output cell\n",
              "var outputEl = gd.closest('.output');\n",
              "if (outputEl) {{\n",
              "    x.observe(outputEl, {childList: true});\n",
              "}}\n",
              "\n",
              "                        })                };                            </script>        </div>\n",
              "</body>\n",
              "</html>"
            ]
          },
          "metadata": {}
        }
      ]
    },
    {
      "cell_type": "code",
      "source": [
        "# budowa całego modelu\n",
        "\n",
        "model = Sequential()\n",
        "model.add(Dense(units=8, activation='relu', input_shape=(10,)))\n",
        "model.add(Dense(units=4, activation='sigmoid'))\n",
        "# funkcje aktywacji można też dodać jako warstwę typu Activation\n",
        "model.summary()"
      ],
      "metadata": {
        "colab": {
          "base_uri": "https://localhost:8080/",
          "height": 262
        },
        "id": "-hM8gvvH6qB9",
        "outputId": "731bea4f-7a2f-4e55-becd-a901cf5b11f2"
      },
      "execution_count": 16,
      "outputs": [
        {
          "output_type": "stream",
          "name": "stderr",
          "text": [
            "/usr/local/lib/python3.11/dist-packages/keras/src/layers/core/dense.py:87: UserWarning:\n",
            "\n",
            "Do not pass an `input_shape`/`input_dim` argument to a layer. When using Sequential models, prefer using an `Input(shape)` object as the first layer in the model instead.\n",
            "\n"
          ]
        },
        {
          "output_type": "display_data",
          "data": {
            "text/plain": [
              "\u001b[1mModel: \"sequential_1\"\u001b[0m\n"
            ],
            "text/html": [
              "<pre style=\"white-space:pre;overflow-x:auto;line-height:normal;font-family:Menlo,'DejaVu Sans Mono',consolas,'Courier New',monospace\"><span style=\"font-weight: bold\">Model: \"sequential_1\"</span>\n",
              "</pre>\n"
            ]
          },
          "metadata": {}
        },
        {
          "output_type": "display_data",
          "data": {
            "text/plain": [
              "┏━━━━━━━━━━━━━━━━━━━━━━━━━━━━━━━━━━━━━━┳━━━━━━━━━━━━━━━━━━━━━━━━━━━━━┳━━━━━━━━━━━━━━━━━┓\n",
              "┃\u001b[1m \u001b[0m\u001b[1mLayer (type)                        \u001b[0m\u001b[1m \u001b[0m┃\u001b[1m \u001b[0m\u001b[1mOutput Shape               \u001b[0m\u001b[1m \u001b[0m┃\u001b[1m \u001b[0m\u001b[1m        Param #\u001b[0m\u001b[1m \u001b[0m┃\n",
              "┡━━━━━━━━━━━━━━━━━━━━━━━━━━━━━━━━━━━━━━╇━━━━━━━━━━━━━━━━━━━━━━━━━━━━━╇━━━━━━━━━━━━━━━━━┩\n",
              "│ dense_2 (\u001b[38;5;33mDense\u001b[0m)                      │ (\u001b[38;5;45mNone\u001b[0m, \u001b[38;5;34m8\u001b[0m)                   │              \u001b[38;5;34m88\u001b[0m │\n",
              "├──────────────────────────────────────┼─────────────────────────────┼─────────────────┤\n",
              "│ dense_3 (\u001b[38;5;33mDense\u001b[0m)                      │ (\u001b[38;5;45mNone\u001b[0m, \u001b[38;5;34m4\u001b[0m)                   │              \u001b[38;5;34m36\u001b[0m │\n",
              "└──────────────────────────────────────┴─────────────────────────────┴─────────────────┘\n"
            ],
            "text/html": [
              "<pre style=\"white-space:pre;overflow-x:auto;line-height:normal;font-family:Menlo,'DejaVu Sans Mono',consolas,'Courier New',monospace\">┏━━━━━━━━━━━━━━━━━━━━━━━━━━━━━━━━━━━━━━┳━━━━━━━━━━━━━━━━━━━━━━━━━━━━━┳━━━━━━━━━━━━━━━━━┓\n",
              "┃<span style=\"font-weight: bold\"> Layer (type)                         </span>┃<span style=\"font-weight: bold\"> Output Shape                </span>┃<span style=\"font-weight: bold\">         Param # </span>┃\n",
              "┡━━━━━━━━━━━━━━━━━━━━━━━━━━━━━━━━━━━━━━╇━━━━━━━━━━━━━━━━━━━━━━━━━━━━━╇━━━━━━━━━━━━━━━━━┩\n",
              "│ dense_2 (<span style=\"color: #0087ff; text-decoration-color: #0087ff\">Dense</span>)                      │ (<span style=\"color: #00d7ff; text-decoration-color: #00d7ff\">None</span>, <span style=\"color: #00af00; text-decoration-color: #00af00\">8</span>)                   │              <span style=\"color: #00af00; text-decoration-color: #00af00\">88</span> │\n",
              "├──────────────────────────────────────┼─────────────────────────────┼─────────────────┤\n",
              "│ dense_3 (<span style=\"color: #0087ff; text-decoration-color: #0087ff\">Dense</span>)                      │ (<span style=\"color: #00d7ff; text-decoration-color: #00d7ff\">None</span>, <span style=\"color: #00af00; text-decoration-color: #00af00\">4</span>)                   │              <span style=\"color: #00af00; text-decoration-color: #00af00\">36</span> │\n",
              "└──────────────────────────────────────┴─────────────────────────────┴─────────────────┘\n",
              "</pre>\n"
            ]
          },
          "metadata": {}
        },
        {
          "output_type": "display_data",
          "data": {
            "text/plain": [
              "\u001b[1m Total params: \u001b[0m\u001b[38;5;34m124\u001b[0m (496.00 B)\n"
            ],
            "text/html": [
              "<pre style=\"white-space:pre;overflow-x:auto;line-height:normal;font-family:Menlo,'DejaVu Sans Mono',consolas,'Courier New',monospace\"><span style=\"font-weight: bold\"> Total params: </span><span style=\"color: #00af00; text-decoration-color: #00af00\">124</span> (496.00 B)\n",
              "</pre>\n"
            ]
          },
          "metadata": {}
        },
        {
          "output_type": "display_data",
          "data": {
            "text/plain": [
              "\u001b[1m Trainable params: \u001b[0m\u001b[38;5;34m124\u001b[0m (496.00 B)\n"
            ],
            "text/html": [
              "<pre style=\"white-space:pre;overflow-x:auto;line-height:normal;font-family:Menlo,'DejaVu Sans Mono',consolas,'Courier New',monospace\"><span style=\"font-weight: bold\"> Trainable params: </span><span style=\"color: #00af00; text-decoration-color: #00af00\">124</span> (496.00 B)\n",
              "</pre>\n"
            ]
          },
          "metadata": {}
        },
        {
          "output_type": "display_data",
          "data": {
            "text/plain": [
              "\u001b[1m Non-trainable params: \u001b[0m\u001b[38;5;34m0\u001b[0m (0.00 B)\n"
            ],
            "text/html": [
              "<pre style=\"white-space:pre;overflow-x:auto;line-height:normal;font-family:Menlo,'DejaVu Sans Mono',consolas,'Courier New',monospace\"><span style=\"font-weight: bold\"> Non-trainable params: </span><span style=\"color: #00af00; text-decoration-color: #00af00\">0</span> (0.00 B)\n",
              "</pre>\n"
            ]
          },
          "metadata": {}
        }
      ]
    },
    {
      "cell_type": "code",
      "source": [
        "# kompilacja modelu\n",
        "# musimy przypisać modelowi optymalizator, funkcję straty i metrykę do obserwacji uczenia\n",
        "# optymalizator możemy dobierać dowolnie, natomiast f. straty i metrykę odpowiednią dla zadania\n",
        "\n",
        "# klasyfikacja binarna\n",
        "model.compile(optimizer='rmsprop',\n",
        "              loss='binary_crossentropy',\n",
        "              metrics=['accuracy'])\n",
        "\n",
        "# klasyfikacja wieloklasowa\n",
        "model.compile(optimizer='rmsprop',\n",
        "              loss='categorical_crossentropy',\n",
        "              metrics=['accuracy'])\n",
        "\n",
        "# regresja\n",
        "model.compile(optimizer='rmsprop',\n",
        "              loss='mse') # nie trzeba przekazywać metryki - będzie ta sama, co f. straty"
      ],
      "metadata": {
        "id": "w0mtFkRk7Bzh"
      },
      "execution_count": 17,
      "outputs": []
    },
    {
      "cell_type": "code",
      "source": [
        "# trening modelu - parametry przekazywane metodzie fit:\n",
        "# epochs - krotność przejścia danych przez sieć podczas uczenia\n",
        "# batch_size - rozmiar wsadu, po którym wagi są aktualizowane\n",
        "# validation_split - część danych treningowych wykorzystywanych jako zbiór walidacyjny\n",
        "# validation_data - dane wykorzystywane do walidacji (X_val, y_val)\n",
        "\n",
        "# model.fit(data, labels, epochs=10, batch_size=32)\n",
        "# model.fit(data, labels, epochs=10, batch_size=32, validation_split=0.2)\n",
        "# model.fit(data, labels, epochs=10, batch_size=32, validation_data=(x_val, y_val))"
      ],
      "metadata": {
        "id": "rbbq3NUr8Axf"
      },
      "execution_count": 18,
      "outputs": []
    },
    {
      "cell_type": "code",
      "source": [
        "# klasyfikacja binarna\n",
        "\n",
        "data = np.random.randn(1000, 150)\n",
        "labels = np.random.randint(0, 2, 1000)\n",
        "print(data.shape)\n",
        "print(labels.shape)"
      ],
      "metadata": {
        "colab": {
          "base_uri": "https://localhost:8080/"
        },
        "id": "t-SdTBci8qHL",
        "outputId": "d966a5bf-85cb-45b1-907a-398c3b7d508a"
      },
      "execution_count": 19,
      "outputs": [
        {
          "output_type": "stream",
          "name": "stdout",
          "text": [
            "(1000, 150)\n",
            "(1000,)\n"
          ]
        }
      ]
    },
    {
      "cell_type": "code",
      "source": [
        "data[:3]"
      ],
      "metadata": {
        "colab": {
          "base_uri": "https://localhost:8080/"
        },
        "id": "s_FYhd1I_TKw",
        "outputId": "ed227f31-2546-4fa0-f7ee-47f31f131665"
      },
      "execution_count": 20,
      "outputs": [
        {
          "output_type": "execute_result",
          "data": {
            "text/plain": [
              "array([[-5.79239091e-01, -6.44163627e-02,  4.06391900e-01,\n",
              "        -2.46484568e-01,  2.68530662e-01,  3.28423759e-01,\n",
              "         1.88688692e+00,  1.33586804e+00,  9.65943161e-02,\n",
              "         9.36093862e-01, -6.19638273e-01,  4.60426953e-01,\n",
              "         2.23411323e-01, -3.82217253e-01, -2.97487958e-01,\n",
              "        -7.93330308e-01, -8.01562575e-01,  5.03361661e-01,\n",
              "         1.02933213e+00, -7.92707689e-01,  6.38385484e-01,\n",
              "         6.97627852e-01, -1.19582322e+00,  1.44753320e+00,\n",
              "         3.03284050e-01, -1.58743143e+00,  8.96942837e-01,\n",
              "         1.32039082e+00, -8.00589855e-01,  6.72759820e-01,\n",
              "         2.42698435e+00, -1.33975964e-01,  5.19332335e-01,\n",
              "         3.71610239e-01,  2.31661699e+00,  2.67333308e-01,\n",
              "        -4.35020987e-01, -1.44259008e+00,  2.06606474e+00,\n",
              "         1.89098585e+00,  6.09202035e-01, -3.41362021e-01,\n",
              "        -9.86552674e-02,  2.36907621e-01, -8.60933741e-01,\n",
              "        -5.87968335e-01, -4.72397871e-01,  7.51373013e-01,\n",
              "        -5.99746318e-04,  3.21922838e-01, -2.47226868e-01,\n",
              "        -6.01077067e-02, -1.23509027e+00,  8.16373190e-02,\n",
              "        -1.95921792e-01,  3.78818138e-01, -8.04140343e-01,\n",
              "         5.14806791e-01, -1.00243884e+00, -9.88293449e-01,\n",
              "         2.85215201e-01,  1.79638097e+00, -1.06749087e-01,\n",
              "         5.96755907e-01, -5.44398428e-01,  3.50053612e-01,\n",
              "         2.92961606e+00,  3.50279684e-01, -4.04714929e-01,\n",
              "        -2.53876876e-01, -6.11947379e-01,  3.51133141e-01,\n",
              "         6.34260192e-01, -2.01618607e-03, -4.65216210e-01,\n",
              "         4.48479749e-02,  8.28841014e-01,  5.19119885e-01,\n",
              "        -4.01218780e-01,  6.14883296e-02,  8.83263437e-01,\n",
              "        -1.35337534e+00, -4.57152423e-01,  4.42259316e-01,\n",
              "         8.09701976e-01, -1.95626856e+00, -1.00574252e+00,\n",
              "        -7.18553835e-01, -2.29819776e-01, -6.27840207e-01,\n",
              "        -3.33272149e-01, -4.86016869e-01, -1.48260147e+00,\n",
              "        -5.30807665e-01, -3.87777207e-01,  6.41408129e-01,\n",
              "         1.58093018e+00, -4.08330128e-01, -1.19903492e+00,\n",
              "        -4.06416991e-01,  1.48240162e-01,  2.01907998e+00,\n",
              "        -9.85563967e-01, -7.25716349e-01,  1.25062398e+00,\n",
              "         1.56960766e+00, -7.58046332e-01, -3.09448719e-01,\n",
              "         4.71201529e-01, -5.37364918e-01,  9.93899912e-01,\n",
              "         6.51451802e-01, -7.48503265e-01, -1.26502072e+00,\n",
              "        -9.66913504e-01, -1.13046761e+00,  1.55806841e+00,\n",
              "         1.18574754e+00,  1.21151288e+00,  6.88768464e-02,\n",
              "         1.20197511e+00, -1.70716769e+00,  1.44164536e+00,\n",
              "         1.22514414e+00, -1.30933512e+00, -1.08158225e+00,\n",
              "         5.19631843e-01,  7.86875606e-01, -1.79540077e-01,\n",
              "         1.22305778e+00, -1.08735013e+00,  4.28891578e-01,\n",
              "        -7.73034467e-01,  4.39302575e-01, -4.90392186e-01,\n",
              "         1.12713551e-01,  3.83740909e-01,  4.79950189e-01,\n",
              "        -8.91886680e-01,  1.88208326e-01, -1.72487605e+00,\n",
              "         1.68664090e+00, -6.82076944e-01,  4.72691527e-02,\n",
              "        -1.98189190e-01, -1.45093834e+00,  5.75271149e-01,\n",
              "        -2.86898271e-01, -2.36450372e-01, -1.81302081e+00],\n",
              "       [-4.41734069e-01, -2.64974487e-01,  2.43987141e-01,\n",
              "         9.11966070e-01, -1.72467468e-01, -2.75778818e-01,\n",
              "        -4.15419017e-01, -8.76890605e-01, -8.26452589e-01,\n",
              "         9.21768257e-01,  3.03921992e-01,  9.91732791e-01,\n",
              "         4.65293759e-02, -9.22046395e-02,  7.49232958e-01,\n",
              "         3.53485764e-01, -5.99273188e-01, -6.84642421e-01,\n",
              "        -1.94472631e+00, -1.80495149e+00, -3.23380532e-01,\n",
              "        -6.18442329e-02,  4.23052805e-01,  3.13507174e-01,\n",
              "        -8.22837534e-01, -4.74681489e-04, -1.01496885e+00,\n",
              "        -1.88321560e+00, -1.58582353e+00,  4.81698230e-01,\n",
              "        -1.38161853e+00, -6.83895442e-01, -5.40162907e-01,\n",
              "         1.22069408e+00,  7.18264530e-01, -2.14454970e-01,\n",
              "        -8.14111963e-01,  1.55755352e+00, -5.63873654e-01,\n",
              "        -1.86003438e+00, -1.25223123e+00,  8.47870802e-01,\n",
              "         1.31725344e+00, -9.04415363e-01, -6.90860686e-01,\n",
              "        -6.56261958e-01, -1.01218016e+00, -1.18675031e+00,\n",
              "         2.42550476e-01, -8.48634246e-01, -1.78769521e+00,\n",
              "        -1.60679029e-01,  8.27944984e-01, -1.79446286e+00,\n",
              "         1.17210973e+00, -1.93072998e+00,  1.64099687e+00,\n",
              "        -2.03598677e+00,  8.61964402e-01,  9.80275576e-01,\n",
              "         1.44136613e+00, -2.53558346e-02, -2.60555499e-01,\n",
              "         1.94935980e+00,  1.22845012e+00,  9.54855403e-01,\n",
              "         5.52560848e-02,  2.68513871e+00,  4.10809179e-01,\n",
              "        -1.20492406e-01,  9.43630160e-01, -1.38758083e+00,\n",
              "        -6.25431522e-01,  8.83442239e-01, -9.89608596e-01,\n",
              "         4.43368703e-01, -4.15008274e-02, -8.02944385e-01,\n",
              "         1.48483347e+00,  3.19192147e-01,  1.15754284e+00,\n",
              "         1.71373894e+00, -3.92970364e-02,  1.23434365e+00,\n",
              "        -1.57887772e+00, -2.29830839e-01,  5.51552033e-02,\n",
              "         4.65673332e-01,  7.99726777e-01,  4.25663116e-01,\n",
              "         1.22011761e-01, -3.79757949e-01, -5.86110027e-02,\n",
              "         1.00128391e+00, -3.35012587e-01,  6.24638480e-01,\n",
              "        -7.89523039e-01,  4.13067980e-02,  1.01741310e+00,\n",
              "        -5.53786699e-01,  9.17174826e-01,  2.33799707e-01,\n",
              "        -4.50090232e-01, -4.22821055e-01,  2.72565967e-01,\n",
              "         3.46537025e-01,  4.97738050e-01, -7.68457900e-01,\n",
              "        -1.24273816e+00,  1.26189286e+00, -1.60575809e+00,\n",
              "        -2.49730382e+00,  2.85102266e-01, -1.00556443e-01,\n",
              "         4.50479081e-01, -4.65939041e-01, -1.30006625e+00,\n",
              "        -1.22781031e+00,  5.86713943e-01,  2.71335550e-01,\n",
              "         5.41122759e-01, -7.17121255e-01,  1.31533550e+00,\n",
              "        -1.38999241e+00,  1.18210906e+00,  7.70271168e-01,\n",
              "        -9.48132236e-01, -1.06247327e+00,  8.75241955e-01,\n",
              "         1.08824779e+00, -1.60418468e-01, -4.16237387e-01,\n",
              "        -6.99196857e-01,  7.84350184e-01,  9.13298189e-01,\n",
              "         3.69316553e-01,  2.17159284e-01,  4.22794888e-01,\n",
              "         1.17735840e+00,  6.73389972e-01,  6.57261119e-01,\n",
              "         6.25650553e-01, -2.26066362e+00, -2.24950073e-01,\n",
              "         8.54201019e-01, -7.49172621e-01,  9.22480950e-01,\n",
              "        -3.53156214e-01,  1.56375791e+00, -1.75605099e+00],\n",
              "       [ 3.53934854e-01, -1.18225056e+00, -2.04418901e-02,\n",
              "        -6.85407333e-01, -9.35891246e-02, -1.26957950e+00,\n",
              "        -1.53221794e+00,  1.50214565e+00,  1.28938388e+00,\n",
              "         1.98291712e+00,  1.12459425e+00, -3.51453221e-01,\n",
              "        -3.33801528e-01,  3.58842492e-01, -2.23311714e-01,\n",
              "         2.43230394e-01, -3.76143201e-01, -8.94473985e-01,\n",
              "        -2.58351362e-01, -1.22218150e+00,  3.48599717e-01,\n",
              "         1.22641827e+00, -3.16387395e-01, -1.80562083e+00,\n",
              "        -9.22820903e-01,  6.92616527e-01, -1.83811437e+00,\n",
              "        -4.48545458e-01,  4.77060096e-01, -1.08158286e+00,\n",
              "         1.08892660e-01,  7.90715328e-01, -5.68999548e-01,\n",
              "        -5.01927613e-01,  7.71257300e-01, -1.90602726e-01,\n",
              "        -1.45170553e+00,  3.29089890e-01,  1.30699220e+00,\n",
              "         9.72270137e-01, -8.33899324e-01,  2.57287759e-01,\n",
              "         7.13700750e-01,  3.44685725e-02,  1.00436973e-01,\n",
              "        -2.56256042e-01,  9.49930559e-02, -1.49342883e-01,\n",
              "        -1.82118998e-01,  2.20019794e+00, -1.15976786e+00,\n",
              "         1.23843115e+00,  7.73412193e-01, -8.90753384e-02,\n",
              "         2.85570093e-01,  1.67832909e+00, -1.45790280e-01,\n",
              "         1.42482128e-01,  4.21062167e-01,  2.19341772e+00,\n",
              "         1.51112026e+00, -1.57716595e-01,  1.84831935e+00,\n",
              "        -1.81736021e+00, -4.32884852e-01, -4.87251800e-01,\n",
              "         7.71506736e-01,  1.49351606e-01,  1.18774228e+00,\n",
              "         8.79653080e-01,  1.77290244e-01,  5.26236678e-01,\n",
              "        -3.40621315e-01, -2.25122863e+00,  3.00444665e-01,\n",
              "         5.42875019e-01,  1.04311561e+00, -1.12978590e+00,\n",
              "        -1.43630825e-01, -8.48908198e-01,  2.37409489e+00,\n",
              "        -6.47122543e-01, -1.49351686e+00, -7.57119072e-01,\n",
              "        -1.68568791e+00, -1.56261375e-01,  8.78672940e-01,\n",
              "        -3.28580943e-01,  6.19869593e-01,  6.44670964e-01,\n",
              "        -8.84727547e-02,  6.40849574e-01,  7.00508026e-01,\n",
              "         1.20333669e+00, -4.26797019e-01, -3.52994541e-01,\n",
              "        -4.77479847e-01,  2.98133226e-01,  1.96805225e+00,\n",
              "         1.39373079e+00,  5.93148014e-02, -9.82125064e-01,\n",
              "        -1.54991338e+00, -2.26389814e-01,  1.45061687e+00,\n",
              "        -4.08134128e-01,  4.50136288e-01, -1.08445219e+00,\n",
              "        -6.41632838e-01,  4.37460850e-02, -1.49493815e+00,\n",
              "        -5.68462834e-01, -1.28481074e+00,  1.39598696e+00,\n",
              "         7.40673566e-01, -2.56637623e-01,  1.69599702e+00,\n",
              "        -4.99047032e-01,  3.33724095e-01,  1.14762554e+00,\n",
              "         1.33577064e+00,  1.70308017e+00,  1.43913368e+00,\n",
              "        -2.37133150e-01,  3.42256181e-01,  9.16780334e-01,\n",
              "         4.24607242e-01, -8.21604595e-02, -5.94984229e-01,\n",
              "         5.41277339e-01, -2.00188352e+00,  1.12709657e+00,\n",
              "         6.48614742e-02,  1.18988707e+00, -6.15790648e-01,\n",
              "         1.41462202e+00, -7.61029375e-01,  2.57940784e+00,\n",
              "         1.04076447e+00,  5.79474505e-01, -6.27384195e-01,\n",
              "        -1.43929920e+00, -9.60236469e-01,  7.65081676e-01,\n",
              "        -9.94422288e-01,  3.75119886e-01,  7.36679795e-01,\n",
              "        -1.67044433e-01,  2.94407188e-01, -1.37135551e-01]])"
            ]
          },
          "metadata": {},
          "execution_count": 20
        }
      ]
    },
    {
      "cell_type": "code",
      "source": [
        "labels[:10]"
      ],
      "metadata": {
        "colab": {
          "base_uri": "https://localhost:8080/"
        },
        "id": "tpbFcCTp_Vx3",
        "outputId": "7d1ece6c-26e3-42cb-8bf2-e5b6f3354ccc"
      },
      "execution_count": 21,
      "outputs": [
        {
          "output_type": "execute_result",
          "data": {
            "text/plain": [
              "array([1, 1, 0, 1, 0, 1, 0, 0, 0, 1])"
            ]
          },
          "metadata": {},
          "execution_count": 21
        }
      ]
    },
    {
      "cell_type": "code",
      "source": [
        "model = Sequential()\n",
        "model.add(Input(shape=(150,))) # warstwa Input nie posiada f. aktywacji\n",
        "model.add(Dense(units=32, activation='relu'))\n",
        "# kształt danych wejściowych musi odpowiadać liczbie zmiennych\n",
        "model.add(Dense(units=1, activation='sigmoid'))\n",
        "# dla klasyfikacji binarnej na wyjściu dajemy warstwę gęsto połączoną z jednym neuronem\n",
        "# i sigmoidalną f. aktywacji\n",
        "\n",
        "model.compile(optimizer='rmsprop',\n",
        "              loss='binary_crossentropy',\n",
        "              metrics=['accuracy'])\n",
        "\n",
        "model.fit(data, labels, epochs=20)"
      ],
      "metadata": {
        "colab": {
          "base_uri": "https://localhost:8080/"
        },
        "id": "I6UQFc4u_mtD",
        "outputId": "ea8cb18b-b665-48d6-f321-556ddae58584"
      },
      "execution_count": 22,
      "outputs": [
        {
          "output_type": "stream",
          "name": "stdout",
          "text": [
            "Epoch 1/20\n",
            "\u001b[1m32/32\u001b[0m \u001b[32m━━━━━━━━━━━━━━━━━━━━\u001b[0m\u001b[37m\u001b[0m \u001b[1m1s\u001b[0m 3ms/step - accuracy: 0.5127 - loss: 0.7920\n",
            "Epoch 2/20\n",
            "\u001b[1m32/32\u001b[0m \u001b[32m━━━━━━━━━━━━━━━━━━━━\u001b[0m\u001b[37m\u001b[0m \u001b[1m0s\u001b[0m 3ms/step - accuracy: 0.5718 - loss: 0.6976\n",
            "Epoch 3/20\n",
            "\u001b[1m32/32\u001b[0m \u001b[32m━━━━━━━━━━━━━━━━━━━━\u001b[0m\u001b[37m\u001b[0m \u001b[1m0s\u001b[0m 3ms/step - accuracy: 0.6172 - loss: 0.6633\n",
            "Epoch 4/20\n",
            "\u001b[1m32/32\u001b[0m \u001b[32m━━━━━━━━━━━━━━━━━━━━\u001b[0m\u001b[37m\u001b[0m \u001b[1m0s\u001b[0m 3ms/step - accuracy: 0.6385 - loss: 0.6254\n",
            "Epoch 5/20\n",
            "\u001b[1m32/32\u001b[0m \u001b[32m━━━━━━━━━━━━━━━━━━━━\u001b[0m\u001b[37m\u001b[0m \u001b[1m0s\u001b[0m 3ms/step - accuracy: 0.7040 - loss: 0.5859\n",
            "Epoch 6/20\n",
            "\u001b[1m32/32\u001b[0m \u001b[32m━━━━━━━━━━━━━━━━━━━━\u001b[0m\u001b[37m\u001b[0m \u001b[1m0s\u001b[0m 3ms/step - accuracy: 0.7187 - loss: 0.5667\n",
            "Epoch 7/20\n",
            "\u001b[1m32/32\u001b[0m \u001b[32m━━━━━━━━━━━━━━━━━━━━\u001b[0m\u001b[37m\u001b[0m \u001b[1m0s\u001b[0m 3ms/step - accuracy: 0.7568 - loss: 0.5394\n",
            "Epoch 8/20\n",
            "\u001b[1m32/32\u001b[0m \u001b[32m━━━━━━━━━━━━━━━━━━━━\u001b[0m\u001b[37m\u001b[0m \u001b[1m0s\u001b[0m 3ms/step - accuracy: 0.7789 - loss: 0.5232\n",
            "Epoch 9/20\n",
            "\u001b[1m32/32\u001b[0m \u001b[32m━━━━━━━━━━━━━━━━━━━━\u001b[0m\u001b[37m\u001b[0m \u001b[1m0s\u001b[0m 4ms/step - accuracy: 0.8068 - loss: 0.4869\n",
            "Epoch 10/20\n",
            "\u001b[1m32/32\u001b[0m \u001b[32m━━━━━━━━━━━━━━━━━━━━\u001b[0m\u001b[37m\u001b[0m \u001b[1m0s\u001b[0m 5ms/step - accuracy: 0.8163 - loss: 0.4711\n",
            "Epoch 11/20\n",
            "\u001b[1m32/32\u001b[0m \u001b[32m━━━━━━━━━━━━━━━━━━━━\u001b[0m\u001b[37m\u001b[0m \u001b[1m0s\u001b[0m 5ms/step - accuracy: 0.8225 - loss: 0.4612\n",
            "Epoch 12/20\n",
            "\u001b[1m32/32\u001b[0m \u001b[32m━━━━━━━━━━━━━━━━━━━━\u001b[0m\u001b[37m\u001b[0m \u001b[1m0s\u001b[0m 5ms/step - accuracy: 0.8606 - loss: 0.4327\n",
            "Epoch 13/20\n",
            "\u001b[1m32/32\u001b[0m \u001b[32m━━━━━━━━━━━━━━━━━━━━\u001b[0m\u001b[37m\u001b[0m \u001b[1m0s\u001b[0m 5ms/step - accuracy: 0.8649 - loss: 0.4219\n",
            "Epoch 14/20\n",
            "\u001b[1m32/32\u001b[0m \u001b[32m━━━━━━━━━━━━━━━━━━━━\u001b[0m\u001b[37m\u001b[0m \u001b[1m0s\u001b[0m 5ms/step - accuracy: 0.8880 - loss: 0.3838\n",
            "Epoch 15/20\n",
            "\u001b[1m32/32\u001b[0m \u001b[32m━━━━━━━━━━━━━━━━━━━━\u001b[0m\u001b[37m\u001b[0m \u001b[1m0s\u001b[0m 5ms/step - accuracy: 0.8881 - loss: 0.3747\n",
            "Epoch 16/20\n",
            "\u001b[1m32/32\u001b[0m \u001b[32m━━━━━━━━━━━━━━━━━━━━\u001b[0m\u001b[37m\u001b[0m \u001b[1m0s\u001b[0m 5ms/step - accuracy: 0.9143 - loss: 0.3573\n",
            "Epoch 17/20\n",
            "\u001b[1m32/32\u001b[0m \u001b[32m━━━━━━━━━━━━━━━━━━━━\u001b[0m\u001b[37m\u001b[0m \u001b[1m0s\u001b[0m 5ms/step - accuracy: 0.9331 - loss: 0.3303\n",
            "Epoch 18/20\n",
            "\u001b[1m32/32\u001b[0m \u001b[32m━━━━━━━━━━━━━━━━━━━━\u001b[0m\u001b[37m\u001b[0m \u001b[1m0s\u001b[0m 3ms/step - accuracy: 0.9333 - loss: 0.3201\n",
            "Epoch 19/20\n",
            "\u001b[1m32/32\u001b[0m \u001b[32m━━━━━━━━━━━━━━━━━━━━\u001b[0m\u001b[37m\u001b[0m \u001b[1m0s\u001b[0m 3ms/step - accuracy: 0.9549 - loss: 0.2893\n",
            "Epoch 20/20\n",
            "\u001b[1m32/32\u001b[0m \u001b[32m━━━━━━━━━━━━━━━━━━━━\u001b[0m\u001b[37m\u001b[0m \u001b[1m0s\u001b[0m 3ms/step - accuracy: 0.9603 - loss: 0.2757\n"
          ]
        },
        {
          "output_type": "execute_result",
          "data": {
            "text/plain": [
              "<keras.src.callbacks.history.History at 0x7b75a96f7bd0>"
            ]
          },
          "metadata": {},
          "execution_count": 22
        }
      ]
    },
    {
      "cell_type": "code",
      "source": [
        "model = Sequential()\n",
        "model.add(Input(shape=(150,)))\n",
        "model.add(Dense(units=32, activation='relu'))\n",
        "model.add(Dense(units=1, activation='sigmoid'))\n",
        "\n",
        "\n",
        "model.compile(optimizer='rmsprop',\n",
        "              loss='binary_crossentropy',\n",
        "              metrics=['accuracy'])\n",
        "\n",
        "model.fit(data, labels, epochs=20, batch_size=32, validation_split=0.2)\n",
        "# dodajemy parametr batch_size dla modyfikacji częstości aktualizacji wag\n",
        "# validation_split dla podziału na zbiór uczący i walidacyjny\n",
        "# wyświetlają się nam wtedy również metryki na zbiorze walidacyjnym"
      ],
      "metadata": {
        "colab": {
          "base_uri": "https://localhost:8080/"
        },
        "id": "7zxon0Z5Duyo",
        "outputId": "6c5a5df9-e557-4873-b574-e851714d7a01"
      },
      "execution_count": 23,
      "outputs": [
        {
          "output_type": "stream",
          "name": "stdout",
          "text": [
            "Epoch 1/20\n",
            "\u001b[1m25/25\u001b[0m \u001b[32m━━━━━━━━━━━━━━━━━━━━\u001b[0m\u001b[37m\u001b[0m \u001b[1m1s\u001b[0m 15ms/step - accuracy: 0.4983 - loss: 0.8001 - val_accuracy: 0.5900 - val_loss: 0.7216\n",
            "Epoch 2/20\n",
            "\u001b[1m25/25\u001b[0m \u001b[32m━━━━━━━━━━━━━━━━━━━━\u001b[0m\u001b[37m\u001b[0m \u001b[1m0s\u001b[0m 5ms/step - accuracy: 0.5759 - loss: 0.7105 - val_accuracy: 0.5950 - val_loss: 0.7124\n",
            "Epoch 3/20\n",
            "\u001b[1m25/25\u001b[0m \u001b[32m━━━━━━━━━━━━━━━━━━━━\u001b[0m\u001b[37m\u001b[0m \u001b[1m0s\u001b[0m 5ms/step - accuracy: 0.5987 - loss: 0.6672 - val_accuracy: 0.5850 - val_loss: 0.7033\n",
            "Epoch 4/20\n",
            "\u001b[1m25/25\u001b[0m \u001b[32m━━━━━━━━━━━━━━━━━━━━\u001b[0m\u001b[37m\u001b[0m \u001b[1m0s\u001b[0m 6ms/step - accuracy: 0.6447 - loss: 0.6164 - val_accuracy: 0.5600 - val_loss: 0.7053\n",
            "Epoch 5/20\n",
            "\u001b[1m25/25\u001b[0m \u001b[32m━━━━━━━━━━━━━━━━━━━━\u001b[0m\u001b[37m\u001b[0m \u001b[1m0s\u001b[0m 5ms/step - accuracy: 0.7032 - loss: 0.5975 - val_accuracy: 0.5600 - val_loss: 0.7050\n",
            "Epoch 6/20\n",
            "\u001b[1m25/25\u001b[0m \u001b[32m━━━━━━━━━━━━━━━━━━━━\u001b[0m\u001b[37m\u001b[0m \u001b[1m0s\u001b[0m 5ms/step - accuracy: 0.7494 - loss: 0.5583 - val_accuracy: 0.5650 - val_loss: 0.7104\n",
            "Epoch 7/20\n",
            "\u001b[1m25/25\u001b[0m \u001b[32m━━━━━━━━━━━━━━━━━━━━\u001b[0m\u001b[37m\u001b[0m \u001b[1m0s\u001b[0m 5ms/step - accuracy: 0.7647 - loss: 0.5365 - val_accuracy: 0.5450 - val_loss: 0.7148\n",
            "Epoch 8/20\n",
            "\u001b[1m25/25\u001b[0m \u001b[32m━━━━━━━━━━━━━━━━━━━━\u001b[0m\u001b[37m\u001b[0m \u001b[1m0s\u001b[0m 7ms/step - accuracy: 0.7965 - loss: 0.5230 - val_accuracy: 0.5400 - val_loss: 0.7214\n",
            "Epoch 9/20\n",
            "\u001b[1m25/25\u001b[0m \u001b[32m━━━━━━━━━━━━━━━━━━━━\u001b[0m\u001b[37m\u001b[0m \u001b[1m0s\u001b[0m 5ms/step - accuracy: 0.8314 - loss: 0.4742 - val_accuracy: 0.5550 - val_loss: 0.7289\n",
            "Epoch 10/20\n",
            "\u001b[1m25/25\u001b[0m \u001b[32m━━━━━━━━━━━━━━━━━━━━\u001b[0m\u001b[37m\u001b[0m \u001b[1m0s\u001b[0m 5ms/step - accuracy: 0.8404 - loss: 0.4613 - val_accuracy: 0.5600 - val_loss: 0.7370\n",
            "Epoch 11/20\n",
            "\u001b[1m25/25\u001b[0m \u001b[32m━━━━━━━━━━━━━━━━━━━━\u001b[0m\u001b[37m\u001b[0m \u001b[1m0s\u001b[0m 5ms/step - accuracy: 0.8742 - loss: 0.4375 - val_accuracy: 0.5650 - val_loss: 0.7473\n",
            "Epoch 12/20\n",
            "\u001b[1m25/25\u001b[0m \u001b[32m━━━━━━━━━━━━━━━━━━━━\u001b[0m\u001b[37m\u001b[0m \u001b[1m0s\u001b[0m 6ms/step - accuracy: 0.8594 - loss: 0.4221 - val_accuracy: 0.5750 - val_loss: 0.7532\n",
            "Epoch 13/20\n",
            "\u001b[1m25/25\u001b[0m \u001b[32m━━━━━━━━━━━━━━━━━━━━\u001b[0m\u001b[37m\u001b[0m \u001b[1m0s\u001b[0m 6ms/step - accuracy: 0.8874 - loss: 0.4003 - val_accuracy: 0.5750 - val_loss: 0.7607\n",
            "Epoch 14/20\n",
            "\u001b[1m25/25\u001b[0m \u001b[32m━━━━━━━━━━━━━━━━━━━━\u001b[0m\u001b[37m\u001b[0m \u001b[1m0s\u001b[0m 5ms/step - accuracy: 0.9220 - loss: 0.3634 - val_accuracy: 0.5650 - val_loss: 0.7695\n",
            "Epoch 15/20\n",
            "\u001b[1m25/25\u001b[0m \u001b[32m━━━━━━━━━━━━━━━━━━━━\u001b[0m\u001b[37m\u001b[0m \u001b[1m0s\u001b[0m 5ms/step - accuracy: 0.9248 - loss: 0.3475 - val_accuracy: 0.5700 - val_loss: 0.7779\n",
            "Epoch 16/20\n",
            "\u001b[1m25/25\u001b[0m \u001b[32m━━━━━━━━━━━━━━━━━━━━\u001b[0m\u001b[37m\u001b[0m \u001b[1m0s\u001b[0m 5ms/step - accuracy: 0.9496 - loss: 0.3232 - val_accuracy: 0.5350 - val_loss: 0.7899\n",
            "Epoch 17/20\n",
            "\u001b[1m25/25\u001b[0m \u001b[32m━━━━━━━━━━━━━━━━━━━━\u001b[0m\u001b[37m\u001b[0m \u001b[1m0s\u001b[0m 5ms/step - accuracy: 0.9449 - loss: 0.3145 - val_accuracy: 0.5300 - val_loss: 0.8020\n",
            "Epoch 18/20\n",
            "\u001b[1m25/25\u001b[0m \u001b[32m━━━━━━━━━━━━━━━━━━━━\u001b[0m\u001b[37m\u001b[0m \u001b[1m0s\u001b[0m 7ms/step - accuracy: 0.9562 - loss: 0.2795 - val_accuracy: 0.5150 - val_loss: 0.8117\n",
            "Epoch 19/20\n",
            "\u001b[1m25/25\u001b[0m \u001b[32m━━━━━━━━━━━━━━━━━━━━\u001b[0m\u001b[37m\u001b[0m \u001b[1m0s\u001b[0m 5ms/step - accuracy: 0.9579 - loss: 0.2729 - val_accuracy: 0.5250 - val_loss: 0.8241\n",
            "Epoch 20/20\n",
            "\u001b[1m25/25\u001b[0m \u001b[32m━━━━━━━━━━━━━━━━━━━━\u001b[0m\u001b[37m\u001b[0m \u001b[1m0s\u001b[0m 5ms/step - accuracy: 0.9792 - loss: 0.2441 - val_accuracy: 0.5200 - val_loss: 0.8342\n"
          ]
        },
        {
          "output_type": "execute_result",
          "data": {
            "text/plain": [
              "<keras.src.callbacks.history.History at 0x7b75a97d7d90>"
            ]
          },
          "metadata": {},
          "execution_count": 23
        }
      ]
    },
    {
      "cell_type": "code",
      "source": [
        "model = Sequential()\n",
        "model.add(Input(shape=(150,)))\n",
        "model.add(Dense(units=32, activation='relu'))\n",
        "model.add(Dense(units=1, activation='sigmoid'))\n",
        "\n",
        "\n",
        "model.compile(optimizer='rmsprop',\n",
        "              loss='binary_crossentropy',\n",
        "              metrics=['accuracy'])\n",
        "\n",
        "model.fit(data, labels, epochs=20, batch_size=32, validation_split=0.2, verbose=0)\n",
        "# parametr verbose=0 spowoduje brak wyświetlenia outputu\n",
        "# metoda fit zwraca obiekt typu History"
      ],
      "metadata": {
        "colab": {
          "base_uri": "https://localhost:8080/"
        },
        "id": "n9VRZ2T7I3lw",
        "outputId": "6194d1db-ba37-4606-e580-9cc29b7d3436"
      },
      "execution_count": 24,
      "outputs": [
        {
          "output_type": "execute_result",
          "data": {
            "text/plain": [
              "<keras.src.callbacks.history.History at 0x7b75a83ea6d0>"
            ]
          },
          "metadata": {},
          "execution_count": 24
        }
      ]
    },
    {
      "cell_type": "code",
      "source": [
        "model = Sequential()\n",
        "model.add(Input(shape=(150,)))\n",
        "model.add(Dense(units=32, activation='relu'))\n",
        "model.add(Dense(units=1, activation='sigmoid'))\n",
        "\n",
        "\n",
        "model.compile(optimizer='rmsprop',\n",
        "              loss='binary_crossentropy',\n",
        "              metrics=['accuracy'])\n",
        "\n",
        "history = model.fit(data, labels, epochs=20, batch_size=32, validation_split=0.2, verbose=0)\n",
        "# zmienna history przechowuje nam dane z przebiegu trenowania"
      ],
      "metadata": {
        "id": "BAo1DB_jJSXA"
      },
      "execution_count": 25,
      "outputs": []
    },
    {
      "cell_type": "code",
      "source": [
        "# możemy na podstawie tych danych stworzyć obiekt DataFrame lub wykres\n",
        "\n",
        "metrics = pd.DataFrame(history.history)\n",
        "metrics.head()"
      ],
      "metadata": {
        "colab": {
          "base_uri": "https://localhost:8080/",
          "height": 206
        },
        "id": "XnBgiLYsJfKg",
        "outputId": "281b4d42-aa6c-4bd3-a250-22aa89a1077b"
      },
      "execution_count": 26,
      "outputs": [
        {
          "output_type": "execute_result",
          "data": {
            "text/plain": [
              "   accuracy      loss  val_accuracy  val_loss\n",
              "0   0.48375  0.799781         0.505  0.806457\n",
              "1   0.54125  0.712512         0.500  0.783453\n",
              "2   0.60000  0.663092         0.515  0.770070\n",
              "3   0.65875  0.622755         0.520  0.767000\n",
              "4   0.69125  0.588663         0.520  0.761421"
            ],
            "text/html": [
              "\n",
              "  <div id=\"df-5f7c6e45-211b-4d4b-a610-39521fd70ac0\" class=\"colab-df-container\">\n",
              "    <div>\n",
              "<style scoped>\n",
              "    .dataframe tbody tr th:only-of-type {\n",
              "        vertical-align: middle;\n",
              "    }\n",
              "\n",
              "    .dataframe tbody tr th {\n",
              "        vertical-align: top;\n",
              "    }\n",
              "\n",
              "    .dataframe thead th {\n",
              "        text-align: right;\n",
              "    }\n",
              "</style>\n",
              "<table border=\"1\" class=\"dataframe\">\n",
              "  <thead>\n",
              "    <tr style=\"text-align: right;\">\n",
              "      <th></th>\n",
              "      <th>accuracy</th>\n",
              "      <th>loss</th>\n",
              "      <th>val_accuracy</th>\n",
              "      <th>val_loss</th>\n",
              "    </tr>\n",
              "  </thead>\n",
              "  <tbody>\n",
              "    <tr>\n",
              "      <th>0</th>\n",
              "      <td>0.48375</td>\n",
              "      <td>0.799781</td>\n",
              "      <td>0.505</td>\n",
              "      <td>0.806457</td>\n",
              "    </tr>\n",
              "    <tr>\n",
              "      <th>1</th>\n",
              "      <td>0.54125</td>\n",
              "      <td>0.712512</td>\n",
              "      <td>0.500</td>\n",
              "      <td>0.783453</td>\n",
              "    </tr>\n",
              "    <tr>\n",
              "      <th>2</th>\n",
              "      <td>0.60000</td>\n",
              "      <td>0.663092</td>\n",
              "      <td>0.515</td>\n",
              "      <td>0.770070</td>\n",
              "    </tr>\n",
              "    <tr>\n",
              "      <th>3</th>\n",
              "      <td>0.65875</td>\n",
              "      <td>0.622755</td>\n",
              "      <td>0.520</td>\n",
              "      <td>0.767000</td>\n",
              "    </tr>\n",
              "    <tr>\n",
              "      <th>4</th>\n",
              "      <td>0.69125</td>\n",
              "      <td>0.588663</td>\n",
              "      <td>0.520</td>\n",
              "      <td>0.761421</td>\n",
              "    </tr>\n",
              "  </tbody>\n",
              "</table>\n",
              "</div>\n",
              "    <div class=\"colab-df-buttons\">\n",
              "\n",
              "  <div class=\"colab-df-container\">\n",
              "    <button class=\"colab-df-convert\" onclick=\"convertToInteractive('df-5f7c6e45-211b-4d4b-a610-39521fd70ac0')\"\n",
              "            title=\"Convert this dataframe to an interactive table.\"\n",
              "            style=\"display:none;\">\n",
              "\n",
              "  <svg xmlns=\"http://www.w3.org/2000/svg\" height=\"24px\" viewBox=\"0 -960 960 960\">\n",
              "    <path d=\"M120-120v-720h720v720H120Zm60-500h600v-160H180v160Zm220 220h160v-160H400v160Zm0 220h160v-160H400v160ZM180-400h160v-160H180v160Zm440 0h160v-160H620v160ZM180-180h160v-160H180v160Zm440 0h160v-160H620v160Z\"/>\n",
              "  </svg>\n",
              "    </button>\n",
              "\n",
              "  <style>\n",
              "    .colab-df-container {\n",
              "      display:flex;\n",
              "      gap: 12px;\n",
              "    }\n",
              "\n",
              "    .colab-df-convert {\n",
              "      background-color: #E8F0FE;\n",
              "      border: none;\n",
              "      border-radius: 50%;\n",
              "      cursor: pointer;\n",
              "      display: none;\n",
              "      fill: #1967D2;\n",
              "      height: 32px;\n",
              "      padding: 0 0 0 0;\n",
              "      width: 32px;\n",
              "    }\n",
              "\n",
              "    .colab-df-convert:hover {\n",
              "      background-color: #E2EBFA;\n",
              "      box-shadow: 0px 1px 2px rgba(60, 64, 67, 0.3), 0px 1px 3px 1px rgba(60, 64, 67, 0.15);\n",
              "      fill: #174EA6;\n",
              "    }\n",
              "\n",
              "    .colab-df-buttons div {\n",
              "      margin-bottom: 4px;\n",
              "    }\n",
              "\n",
              "    [theme=dark] .colab-df-convert {\n",
              "      background-color: #3B4455;\n",
              "      fill: #D2E3FC;\n",
              "    }\n",
              "\n",
              "    [theme=dark] .colab-df-convert:hover {\n",
              "      background-color: #434B5C;\n",
              "      box-shadow: 0px 1px 3px 1px rgba(0, 0, 0, 0.15);\n",
              "      filter: drop-shadow(0px 1px 2px rgba(0, 0, 0, 0.3));\n",
              "      fill: #FFFFFF;\n",
              "    }\n",
              "  </style>\n",
              "\n",
              "    <script>\n",
              "      const buttonEl =\n",
              "        document.querySelector('#df-5f7c6e45-211b-4d4b-a610-39521fd70ac0 button.colab-df-convert');\n",
              "      buttonEl.style.display =\n",
              "        google.colab.kernel.accessAllowed ? 'block' : 'none';\n",
              "\n",
              "      async function convertToInteractive(key) {\n",
              "        const element = document.querySelector('#df-5f7c6e45-211b-4d4b-a610-39521fd70ac0');\n",
              "        const dataTable =\n",
              "          await google.colab.kernel.invokeFunction('convertToInteractive',\n",
              "                                                    [key], {});\n",
              "        if (!dataTable) return;\n",
              "\n",
              "        const docLinkHtml = 'Like what you see? Visit the ' +\n",
              "          '<a target=\"_blank\" href=https://colab.research.google.com/notebooks/data_table.ipynb>data table notebook</a>'\n",
              "          + ' to learn more about interactive tables.';\n",
              "        element.innerHTML = '';\n",
              "        dataTable['output_type'] = 'display_data';\n",
              "        await google.colab.output.renderOutput(dataTable, element);\n",
              "        const docLink = document.createElement('div');\n",
              "        docLink.innerHTML = docLinkHtml;\n",
              "        element.appendChild(docLink);\n",
              "      }\n",
              "    </script>\n",
              "  </div>\n",
              "\n",
              "\n",
              "<div id=\"df-5d6de4d9-40f5-4a9c-8708-cbbf0fb94aac\">\n",
              "  <button class=\"colab-df-quickchart\" onclick=\"quickchart('df-5d6de4d9-40f5-4a9c-8708-cbbf0fb94aac')\"\n",
              "            title=\"Suggest charts\"\n",
              "            style=\"display:none;\">\n",
              "\n",
              "<svg xmlns=\"http://www.w3.org/2000/svg\" height=\"24px\"viewBox=\"0 0 24 24\"\n",
              "     width=\"24px\">\n",
              "    <g>\n",
              "        <path d=\"M19 3H5c-1.1 0-2 .9-2 2v14c0 1.1.9 2 2 2h14c1.1 0 2-.9 2-2V5c0-1.1-.9-2-2-2zM9 17H7v-7h2v7zm4 0h-2V7h2v10zm4 0h-2v-4h2v4z\"/>\n",
              "    </g>\n",
              "</svg>\n",
              "  </button>\n",
              "\n",
              "<style>\n",
              "  .colab-df-quickchart {\n",
              "      --bg-color: #E8F0FE;\n",
              "      --fill-color: #1967D2;\n",
              "      --hover-bg-color: #E2EBFA;\n",
              "      --hover-fill-color: #174EA6;\n",
              "      --disabled-fill-color: #AAA;\n",
              "      --disabled-bg-color: #DDD;\n",
              "  }\n",
              "\n",
              "  [theme=dark] .colab-df-quickchart {\n",
              "      --bg-color: #3B4455;\n",
              "      --fill-color: #D2E3FC;\n",
              "      --hover-bg-color: #434B5C;\n",
              "      --hover-fill-color: #FFFFFF;\n",
              "      --disabled-bg-color: #3B4455;\n",
              "      --disabled-fill-color: #666;\n",
              "  }\n",
              "\n",
              "  .colab-df-quickchart {\n",
              "    background-color: var(--bg-color);\n",
              "    border: none;\n",
              "    border-radius: 50%;\n",
              "    cursor: pointer;\n",
              "    display: none;\n",
              "    fill: var(--fill-color);\n",
              "    height: 32px;\n",
              "    padding: 0;\n",
              "    width: 32px;\n",
              "  }\n",
              "\n",
              "  .colab-df-quickchart:hover {\n",
              "    background-color: var(--hover-bg-color);\n",
              "    box-shadow: 0 1px 2px rgba(60, 64, 67, 0.3), 0 1px 3px 1px rgba(60, 64, 67, 0.15);\n",
              "    fill: var(--button-hover-fill-color);\n",
              "  }\n",
              "\n",
              "  .colab-df-quickchart-complete:disabled,\n",
              "  .colab-df-quickchart-complete:disabled:hover {\n",
              "    background-color: var(--disabled-bg-color);\n",
              "    fill: var(--disabled-fill-color);\n",
              "    box-shadow: none;\n",
              "  }\n",
              "\n",
              "  .colab-df-spinner {\n",
              "    border: 2px solid var(--fill-color);\n",
              "    border-color: transparent;\n",
              "    border-bottom-color: var(--fill-color);\n",
              "    animation:\n",
              "      spin 1s steps(1) infinite;\n",
              "  }\n",
              "\n",
              "  @keyframes spin {\n",
              "    0% {\n",
              "      border-color: transparent;\n",
              "      border-bottom-color: var(--fill-color);\n",
              "      border-left-color: var(--fill-color);\n",
              "    }\n",
              "    20% {\n",
              "      border-color: transparent;\n",
              "      border-left-color: var(--fill-color);\n",
              "      border-top-color: var(--fill-color);\n",
              "    }\n",
              "    30% {\n",
              "      border-color: transparent;\n",
              "      border-left-color: var(--fill-color);\n",
              "      border-top-color: var(--fill-color);\n",
              "      border-right-color: var(--fill-color);\n",
              "    }\n",
              "    40% {\n",
              "      border-color: transparent;\n",
              "      border-right-color: var(--fill-color);\n",
              "      border-top-color: var(--fill-color);\n",
              "    }\n",
              "    60% {\n",
              "      border-color: transparent;\n",
              "      border-right-color: var(--fill-color);\n",
              "    }\n",
              "    80% {\n",
              "      border-color: transparent;\n",
              "      border-right-color: var(--fill-color);\n",
              "      border-bottom-color: var(--fill-color);\n",
              "    }\n",
              "    90% {\n",
              "      border-color: transparent;\n",
              "      border-bottom-color: var(--fill-color);\n",
              "    }\n",
              "  }\n",
              "</style>\n",
              "\n",
              "  <script>\n",
              "    async function quickchart(key) {\n",
              "      const quickchartButtonEl =\n",
              "        document.querySelector('#' + key + ' button');\n",
              "      quickchartButtonEl.disabled = true;  // To prevent multiple clicks.\n",
              "      quickchartButtonEl.classList.add('colab-df-spinner');\n",
              "      try {\n",
              "        const charts = await google.colab.kernel.invokeFunction(\n",
              "            'suggestCharts', [key], {});\n",
              "      } catch (error) {\n",
              "        console.error('Error during call to suggestCharts:', error);\n",
              "      }\n",
              "      quickchartButtonEl.classList.remove('colab-df-spinner');\n",
              "      quickchartButtonEl.classList.add('colab-df-quickchart-complete');\n",
              "    }\n",
              "    (() => {\n",
              "      let quickchartButtonEl =\n",
              "        document.querySelector('#df-5d6de4d9-40f5-4a9c-8708-cbbf0fb94aac button');\n",
              "      quickchartButtonEl.style.display =\n",
              "        google.colab.kernel.accessAllowed ? 'block' : 'none';\n",
              "    })();\n",
              "  </script>\n",
              "</div>\n",
              "\n",
              "    </div>\n",
              "  </div>\n"
            ],
            "application/vnd.google.colaboratory.intrinsic+json": {
              "type": "dataframe",
              "variable_name": "metrics",
              "summary": "{\n  \"name\": \"metrics\",\n  \"rows\": 20,\n  \"fields\": [\n    {\n      \"column\": \"accuracy\",\n      \"properties\": {\n        \"dtype\": \"number\",\n        \"std\": 0.14505232458149028,\n        \"min\": 0.48374998569488525,\n        \"max\": 0.9750000238418579,\n        \"num_unique_values\": 20,\n        \"samples\": [\n          0.48374998569488525,\n          0.9549999833106995,\n          0.9287499785423279\n        ],\n        \"semantic_type\": \"\",\n        \"description\": \"\"\n      }\n    },\n    {\n      \"column\": \"loss\",\n      \"properties\": {\n        \"dtype\": \"number\",\n        \"std\": 0.1564096764455853,\n        \"min\": 0.24838706851005554,\n        \"max\": 0.7997812032699585,\n        \"num_unique_values\": 20,\n        \"samples\": [\n          0.7997812032699585,\n          0.2854624092578888,\n          0.32590728998184204\n        ],\n        \"semantic_type\": \"\",\n        \"description\": \"\"\n      }\n    },\n    {\n      \"column\": \"val_accuracy\",\n      \"properties\": {\n        \"dtype\": \"number\",\n        \"std\": 0.015464314844534545,\n        \"min\": 0.5,\n        \"max\": 0.5600000023841858,\n        \"num_unique_values\": 9,\n        \"samples\": [\n          0.5600000023841858,\n          0.5,\n          0.5350000262260437\n        ],\n        \"semantic_type\": \"\",\n        \"description\": \"\"\n      }\n    },\n    {\n      \"column\": \"val_loss\",\n      \"properties\": {\n        \"dtype\": \"number\",\n        \"std\": 0.02697575806046893,\n        \"min\": 0.7582905292510986,\n        \"max\": 0.8484695553779602,\n        \"num_unique_values\": 20,\n        \"samples\": [\n          0.8064572811126709,\n          0.8247479200363159,\n          0.8093445301055908\n        ],\n        \"semantic_type\": \"\",\n        \"description\": \"\"\n      }\n    }\n  ]\n}"
            }
          },
          "metadata": {},
          "execution_count": 26
        }
      ]
    },
    {
      "cell_type": "code",
      "source": [
        "model = Sequential()\n",
        "model.add(Input(shape=(150,)))\n",
        "model.add(Dense(units=32, activation='relu'))\n",
        "model.add(Dense(units=1, activation='sigmoid'))\n",
        "\n",
        "\n",
        "model.compile(optimizer='rmsprop',\n",
        "              loss='binary_crossentropy',\n",
        "              metrics=['accuracy'])\n",
        "\n",
        "history = model.fit(data, labels, epochs=20, batch_size=32, validation_split=0.2, verbose=1)"
      ],
      "metadata": {
        "colab": {
          "base_uri": "https://localhost:8080/"
        },
        "id": "ZRxKTLaxJi45",
        "outputId": "68eccca1-ca4d-419a-e117-5132275718c2"
      },
      "execution_count": 27,
      "outputs": [
        {
          "output_type": "stream",
          "name": "stdout",
          "text": [
            "Epoch 1/20\n",
            "\u001b[1m25/25\u001b[0m \u001b[32m━━━━━━━━━━━━━━━━━━━━\u001b[0m\u001b[37m\u001b[0m \u001b[1m1s\u001b[0m 15ms/step - accuracy: 0.5235 - loss: 0.7768 - val_accuracy: 0.5300 - val_loss: 0.7947\n",
            "Epoch 2/20\n",
            "\u001b[1m25/25\u001b[0m \u001b[32m━━━━━━━━━━━━━━━━━━━━\u001b[0m\u001b[37m\u001b[0m \u001b[1m0s\u001b[0m 6ms/step - accuracy: 0.5744 - loss: 0.6800 - val_accuracy: 0.5400 - val_loss: 0.7694\n",
            "Epoch 3/20\n",
            "\u001b[1m25/25\u001b[0m \u001b[32m━━━━━━━━━━━━━━━━━━━━\u001b[0m\u001b[37m\u001b[0m \u001b[1m0s\u001b[0m 6ms/step - accuracy: 0.6229 - loss: 0.6512 - val_accuracy: 0.5400 - val_loss: 0.7571\n",
            "Epoch 4/20\n",
            "\u001b[1m25/25\u001b[0m \u001b[32m━━━━━━━━━━━━━━━━━━━━\u001b[0m\u001b[37m\u001b[0m \u001b[1m0s\u001b[0m 6ms/step - accuracy: 0.6824 - loss: 0.6087 - val_accuracy: 0.5400 - val_loss: 0.7479\n",
            "Epoch 5/20\n",
            "\u001b[1m25/25\u001b[0m \u001b[32m━━━━━━━━━━━━━━━━━━━━\u001b[0m\u001b[37m\u001b[0m \u001b[1m0s\u001b[0m 6ms/step - accuracy: 0.6868 - loss: 0.5853 - val_accuracy: 0.5200 - val_loss: 0.7456\n",
            "Epoch 6/20\n",
            "\u001b[1m25/25\u001b[0m \u001b[32m━━━━━━━━━━━━━━━━━━━━\u001b[0m\u001b[37m\u001b[0m \u001b[1m0s\u001b[0m 6ms/step - accuracy: 0.7285 - loss: 0.5551 - val_accuracy: 0.5250 - val_loss: 0.7467\n",
            "Epoch 7/20\n",
            "\u001b[1m25/25\u001b[0m \u001b[32m━━━━━━━━━━━━━━━━━━━━\u001b[0m\u001b[37m\u001b[0m \u001b[1m0s\u001b[0m 7ms/step - accuracy: 0.7602 - loss: 0.5355 - val_accuracy: 0.5300 - val_loss: 0.7466\n",
            "Epoch 8/20\n",
            "\u001b[1m25/25\u001b[0m \u001b[32m━━━━━━━━━━━━━━━━━━━━\u001b[0m\u001b[37m\u001b[0m \u001b[1m0s\u001b[0m 7ms/step - accuracy: 0.7923 - loss: 0.5122 - val_accuracy: 0.5250 - val_loss: 0.7515\n",
            "Epoch 9/20\n",
            "\u001b[1m25/25\u001b[0m \u001b[32m━━━━━━━━━━━━━━━━━━━━\u001b[0m\u001b[37m\u001b[0m \u001b[1m0s\u001b[0m 6ms/step - accuracy: 0.8086 - loss: 0.4843 - val_accuracy: 0.5200 - val_loss: 0.7593\n",
            "Epoch 10/20\n",
            "\u001b[1m25/25\u001b[0m \u001b[32m━━━━━━━━━━━━━━━━━━━━\u001b[0m\u001b[37m\u001b[0m \u001b[1m0s\u001b[0m 7ms/step - accuracy: 0.8206 - loss: 0.4734 - val_accuracy: 0.5150 - val_loss: 0.7665\n",
            "Epoch 11/20\n",
            "\u001b[1m25/25\u001b[0m \u001b[32m━━━━━━━━━━━━━━━━━━━━\u001b[0m\u001b[37m\u001b[0m \u001b[1m0s\u001b[0m 5ms/step - accuracy: 0.8384 - loss: 0.4531 - val_accuracy: 0.5050 - val_loss: 0.7764\n",
            "Epoch 12/20\n",
            "\u001b[1m25/25\u001b[0m \u001b[32m━━━━━━━━━━━━━━━━━━━━\u001b[0m\u001b[37m\u001b[0m \u001b[1m0s\u001b[0m 7ms/step - accuracy: 0.8667 - loss: 0.4164 - val_accuracy: 0.5100 - val_loss: 0.7860\n",
            "Epoch 13/20\n",
            "\u001b[1m25/25\u001b[0m \u001b[32m━━━━━━━━━━━━━━━━━━━━\u001b[0m\u001b[37m\u001b[0m \u001b[1m0s\u001b[0m 9ms/step - accuracy: 0.9044 - loss: 0.3907 - val_accuracy: 0.5050 - val_loss: 0.7909\n",
            "Epoch 14/20\n",
            "\u001b[1m25/25\u001b[0m \u001b[32m━━━━━━━━━━━━━━━━━━━━\u001b[0m\u001b[37m\u001b[0m \u001b[1m0s\u001b[0m 10ms/step - accuracy: 0.9017 - loss: 0.3814 - val_accuracy: 0.4950 - val_loss: 0.8084\n",
            "Epoch 15/20\n",
            "\u001b[1m25/25\u001b[0m \u001b[32m━━━━━━━━━━━━━━━━━━━━\u001b[0m\u001b[37m\u001b[0m \u001b[1m0s\u001b[0m 9ms/step - accuracy: 0.9281 - loss: 0.3580 - val_accuracy: 0.4950 - val_loss: 0.8208\n",
            "Epoch 16/20\n",
            "\u001b[1m25/25\u001b[0m \u001b[32m━━━━━━━━━━━━━━━━━━━━\u001b[0m\u001b[37m\u001b[0m \u001b[1m0s\u001b[0m 8ms/step - accuracy: 0.9330 - loss: 0.3343 - val_accuracy: 0.4950 - val_loss: 0.8311\n",
            "Epoch 17/20\n",
            "\u001b[1m25/25\u001b[0m \u001b[32m━━━━━━━━━━━━━━━━━━━━\u001b[0m\u001b[37m\u001b[0m \u001b[1m0s\u001b[0m 9ms/step - accuracy: 0.9394 - loss: 0.3028 - val_accuracy: 0.5150 - val_loss: 0.8416\n",
            "Epoch 18/20\n",
            "\u001b[1m25/25\u001b[0m \u001b[32m━━━━━━━━━━━━━━━━━━━━\u001b[0m\u001b[37m\u001b[0m \u001b[1m0s\u001b[0m 9ms/step - accuracy: 0.9573 - loss: 0.2939 - val_accuracy: 0.5100 - val_loss: 0.8558\n",
            "Epoch 19/20\n",
            "\u001b[1m25/25\u001b[0m \u001b[32m━━━━━━━━━━━━━━━━━━━━\u001b[0m\u001b[37m\u001b[0m \u001b[1m0s\u001b[0m 9ms/step - accuracy: 0.9568 - loss: 0.2822 - val_accuracy: 0.5000 - val_loss: 0.8741\n",
            "Epoch 20/20\n",
            "\u001b[1m25/25\u001b[0m \u001b[32m━━━━━━━━━━━━━━━━━━━━\u001b[0m\u001b[37m\u001b[0m \u001b[1m0s\u001b[0m 8ms/step - accuracy: 0.9663 - loss: 0.2542 - val_accuracy: 0.5100 - val_loss: 0.8859\n"
          ]
        }
      ]
    },
    {
      "cell_type": "code",
      "source": [
        "# tworzymy dane testowe\n",
        "\n",
        "test_data = np.random.randn(5, 150)\n",
        "test_labels = np.random.randint(0, 2, 5)\n",
        "print(test_data.shape)\n",
        "print(test_labels.shape)"
      ],
      "metadata": {
        "colab": {
          "base_uri": "https://localhost:8080/"
        },
        "id": "NjJfk26hJ8s4",
        "outputId": "deb22b9f-5a3f-4fe0-b2e9-9820c2bb69cf"
      },
      "execution_count": 28,
      "outputs": [
        {
          "output_type": "stream",
          "name": "stdout",
          "text": [
            "(5, 150)\n",
            "(5,)\n"
          ]
        }
      ]
    },
    {
      "cell_type": "code",
      "source": [
        "# używamy funkcji predict\n",
        "# zwraca ona prawdopodobieństwo przypisania do klasy 1\n",
        "\n",
        "model.predict(test_data)"
      ],
      "metadata": {
        "colab": {
          "base_uri": "https://localhost:8080/"
        },
        "id": "elR6035iKGoA",
        "outputId": "efd45740-ac72-44d3-e80f-5306972f4ac5"
      },
      "execution_count": 29,
      "outputs": [
        {
          "output_type": "stream",
          "name": "stdout",
          "text": [
            "\u001b[1m1/1\u001b[0m \u001b[32m━━━━━━━━━━━━━━━━━━━━\u001b[0m\u001b[37m\u001b[0m \u001b[1m0s\u001b[0m 75ms/step\n"
          ]
        },
        {
          "output_type": "execute_result",
          "data": {
            "text/plain": [
              "array([[0.5592317 ],\n",
              "       [0.207053  ],\n",
              "       [0.8857412 ],\n",
              "       [0.7612973 ],\n",
              "       [0.75743335]], dtype=float32)"
            ]
          },
          "metadata": {},
          "execution_count": 29
        }
      ]
    },
    {
      "cell_type": "code",
      "source": [
        "# klasyfikacja wieloklasowa\n",
        "\n",
        "data = np.random.randn(1000, 150)\n",
        "labels = np.random.randint(0, 10, 1000)\n",
        "print(data.shape)\n",
        "print(labels.shape)"
      ],
      "metadata": {
        "colab": {
          "base_uri": "https://localhost:8080/"
        },
        "id": "hSTf3cOSKe3o",
        "outputId": "fff6432d-40f9-4fb6-975d-c855ea2f5e9d"
      },
      "execution_count": 30,
      "outputs": [
        {
          "output_type": "stream",
          "name": "stdout",
          "text": [
            "(1000, 150)\n",
            "(1000,)\n"
          ]
        }
      ]
    },
    {
      "cell_type": "code",
      "source": [
        "data[:3]"
      ],
      "metadata": {
        "colab": {
          "base_uri": "https://localhost:8080/"
        },
        "id": "vRWLr9gbKnVg",
        "outputId": "d5bd08a0-aa83-40a3-fd66-2f87496bd1d0"
      },
      "execution_count": 31,
      "outputs": [
        {
          "output_type": "execute_result",
          "data": {
            "text/plain": [
              "array([[ 8.71587713e-01, -5.52737136e-01, -1.02666463e-01,\n",
              "        -1.81020095e-01,  1.84591460e+00, -1.82382766e+00,\n",
              "         1.41732338e+00,  6.27826228e-01, -4.79840242e-01,\n",
              "         1.39160285e+00, -6.55034224e-01,  9.12049404e-02,\n",
              "         3.03690770e+00,  1.22478172e+00,  1.63486068e-01,\n",
              "         1.47684397e+00,  2.13344344e-01, -1.33632658e-01,\n",
              "         7.66505876e-01,  7.67495734e-01,  7.79958532e-01,\n",
              "         1.18666372e+00,  1.22311696e+00, -4.85580973e-01,\n",
              "        -8.67715943e-01,  2.25602719e-02, -1.81766517e+00,\n",
              "        -1.18350069e-01, -6.03189440e-01, -2.49617488e-01,\n",
              "        -1.17109007e+00, -6.69645126e-01, -8.24484512e-01,\n",
              "        -8.77719943e-02,  8.21388386e-01,  1.02420751e+00,\n",
              "        -3.26367503e-01,  5.35536202e-01,  4.50423224e-01,\n",
              "        -3.59086635e-01, -5.45351378e-02, -1.55451895e+00,\n",
              "         8.86828510e-01,  3.62688737e-01, -2.54282250e-01,\n",
              "         1.03182708e+00,  2.52047580e-01,  1.66250990e+00,\n",
              "         1.68594404e+00,  3.26855389e-01, -1.48478288e+00,\n",
              "        -7.10358826e-01,  1.57221303e-02,  1.01334959e+00,\n",
              "        -1.47973380e+00, -1.28275722e+00, -2.29603351e+00,\n",
              "         6.10391124e-01,  7.06081017e-01,  2.18750055e-01,\n",
              "        -8.14315888e-01,  3.91086061e-01,  7.02212310e-01,\n",
              "        -9.94222098e-01, -4.95728936e-01,  5.59296180e-01,\n",
              "        -8.70423000e-01, -1.61394764e-01, -1.17734279e-01,\n",
              "         1.74869774e+00, -1.92033944e+00, -5.88670549e-02,\n",
              "        -1.46693327e+00,  2.41680986e+00, -1.01852724e+00,\n",
              "         6.66763124e-01, -1.69068665e-01, -1.25623006e-01,\n",
              "         9.13678668e-01,  3.00029607e-01,  1.47836460e+00,\n",
              "         1.11675684e+00, -3.52889079e-02, -5.84363247e-01,\n",
              "         1.54284686e-03, -4.28680914e-01, -2.15334291e+00,\n",
              "         1.17926408e+00,  1.03352032e+00, -1.66478798e+00,\n",
              "         6.73255833e-01, -8.23713640e-01, -5.84146856e-02,\n",
              "         1.35474321e+00, -1.34003164e-01, -8.43062356e-01,\n",
              "        -1.27286617e-01,  1.37181444e+00, -1.19235926e+00,\n",
              "        -4.20077156e-01, -4.25108642e-01, -1.88263247e-01,\n",
              "         7.74776835e-01, -9.82416718e-01, -2.17900013e-01,\n",
              "        -3.22498817e-01, -7.96510629e-01, -1.35005781e+00,\n",
              "        -4.16180907e-01, -9.47414443e-01,  1.93661155e-01,\n",
              "        -3.68673387e-01,  1.25345074e+00,  1.42714578e+00,\n",
              "        -1.22669983e-02,  3.77284083e-01, -7.44608721e-01,\n",
              "         7.17642989e-01,  2.72095275e-01,  5.43880471e-01,\n",
              "        -2.76477602e-01, -6.65845409e-01, -1.17086311e-01,\n",
              "        -3.20820220e-01,  1.99364236e+00, -8.07175644e-01,\n",
              "         2.90186677e-01, -5.82478354e-01, -1.34226722e+00,\n",
              "         2.91665430e-01, -5.71019753e-01,  3.59241387e-01,\n",
              "        -8.53364890e-01,  7.54292430e-01,  9.50076494e-01,\n",
              "         7.98232548e-01,  1.37394081e+00,  5.11022075e-01,\n",
              "         1.13449401e+00, -2.45138938e-01,  3.63295786e-01,\n",
              "         2.32203506e+00, -6.62017463e-01,  5.65424008e-02,\n",
              "         3.70405226e-02,  4.61432830e-01, -4.30465914e-02,\n",
              "         2.39754615e+00,  1.22247167e+00, -3.35217093e-01],\n",
              "       [ 5.79447382e-01, -1.38777639e+00, -2.11660085e-02,\n",
              "         1.39447435e+00,  5.36165846e-01,  1.45509296e-02,\n",
              "        -3.01521889e-01,  1.30863454e+00,  7.04057726e-01,\n",
              "        -4.91258646e-01, -8.54409958e-01, -6.18755280e-01,\n",
              "         7.40562507e-01,  6.92596496e-01,  2.74055531e-01,\n",
              "        -1.45079135e+00,  1.69530987e+00,  9.56382296e-01,\n",
              "        -2.23577096e-02,  4.95048504e-01,  2.75591100e+00,\n",
              "         2.78681589e-03, -3.45885361e-01, -5.59660079e-01,\n",
              "         2.58215529e+00,  8.07955451e-02, -1.30437680e-01,\n",
              "        -6.26546857e-01, -5.22839162e-01,  6.65143253e-02,\n",
              "         9.06901792e-01, -6.29901163e-01, -1.19190715e+00,\n",
              "        -2.99422950e-01, -8.48715514e-01, -4.54402057e-02,\n",
              "         2.73565111e-01,  1.02240761e-02, -7.21208851e-01,\n",
              "         3.44850658e-01, -5.95891969e-01,  1.73883807e-01,\n",
              "        -9.09249039e-01, -6.51319967e-01, -6.09025580e-01,\n",
              "        -1.55570019e+00, -7.00449060e-01,  3.19391198e-01,\n",
              "         1.69358724e-01,  3.56290586e-01, -2.38505488e+00,\n",
              "         1.02927788e+00, -6.79605900e-01, -8.36430473e-01,\n",
              "        -4.88774435e-01, -7.98417776e-01,  1.39721037e+00,\n",
              "        -3.64222215e-01, -6.00857427e-01,  1.49624803e+00,\n",
              "         1.82509481e-01,  4.00485927e-01,  1.18421205e-01,\n",
              "         1.97285772e+00,  1.30882177e-01,  9.49771848e-01,\n",
              "         1.13169845e+00, -5.81770974e-01, -1.33508502e+00,\n",
              "         1.07400917e-02, -8.93611041e-01,  8.20796081e-01,\n",
              "        -1.73578430e+00,  4.63996654e-01, -1.06530580e+00,\n",
              "        -1.64765915e+00, -4.54378722e-01,  4.47486914e-01,\n",
              "         3.09729957e-01,  2.31281903e-02,  6.71421315e-01,\n",
              "         8.54854254e-01,  8.09233865e-01,  3.41801164e-01,\n",
              "        -2.28540689e-02,  2.25805569e-02,  3.43737381e-01,\n",
              "        -1.96774291e+00,  2.04769400e+00,  1.22184288e+00,\n",
              "        -1.10517242e+00, -4.57877460e-01,  1.10058802e-01,\n",
              "         1.82433850e+00,  1.27072883e+00, -2.38643605e+00,\n",
              "         1.05218209e+00, -1.44505288e+00, -7.98477426e-01,\n",
              "         9.27308668e-01, -1.38151337e+00, -2.96830692e-01,\n",
              "         2.09142444e+00, -2.39787355e+00, -1.60509471e+00,\n",
              "        -4.21467443e-01,  1.20448273e+00, -6.27183476e-01,\n",
              "        -3.34995075e-03, -7.73472274e-01,  4.94279767e-01,\n",
              "        -1.58505244e-01,  4.54157784e-01, -5.96060272e-01,\n",
              "        -4.67988663e-01,  2.50732987e-01, -1.84808681e+00,\n",
              "        -1.11336473e+00,  1.24277609e+00,  4.62682172e-01,\n",
              "        -3.32026074e-01,  1.83807797e-01, -1.96357069e-01,\n",
              "         1.26729806e+00,  1.12246240e+00, -8.32423260e-01,\n",
              "         3.03107514e-01,  1.09242670e+00,  1.80556734e-01,\n",
              "        -4.12716807e-01, -1.05108817e+00, -9.57909461e-01,\n",
              "         5.14643855e-04, -5.65505599e-01,  3.11536780e-01,\n",
              "        -4.90341759e-01,  1.85641617e-01, -3.00606697e-01,\n",
              "        -6.42302590e-01, -2.82289644e-01,  1.01044462e+00,\n",
              "         7.99669165e-01,  1.18792438e-01, -4.84286327e-01,\n",
              "        -1.98014140e-01, -4.34552373e-01,  2.68531732e-01,\n",
              "         1.25755526e+00,  2.09342087e-01, -7.16507025e-01],\n",
              "       [-7.71401196e-01, -4.65883951e-01, -3.74601682e-01,\n",
              "         1.31465375e-01,  1.27138573e-01,  3.29589610e-01,\n",
              "         9.64931037e-01,  7.63171396e-01, -1.44814276e+00,\n",
              "        -4.27824541e-01,  9.01817204e-02,  7.64638796e-01,\n",
              "         5.39085975e-01,  1.73630578e-02,  1.26537010e+00,\n",
              "        -4.58480385e-01, -1.24922925e+00, -2.21303440e-01,\n",
              "        -1.14080638e+00, -9.85241154e-01,  1.17348159e+00,\n",
              "         2.74238226e-01, -2.78072834e-01, -1.87961909e-01,\n",
              "         5.22973835e-01, -1.46446934e-01, -1.52780120e+00,\n",
              "        -1.25834495e+00,  1.13692391e+00, -2.10890556e-01,\n",
              "         1.23773859e-01,  9.31302253e-01,  5.74350827e-01,\n",
              "         1.62411429e+00,  3.77659745e-01,  9.39813676e-01,\n",
              "         1.35414803e-03,  2.88902820e+00, -6.03160591e-01,\n",
              "        -9.12525361e-01, -4.27038585e-01,  2.25465613e+00,\n",
              "         1.03553013e+00, -6.43331644e-02, -5.61747849e-01,\n",
              "         4.56042425e-01,  3.49214893e-01,  4.96606096e-01,\n",
              "        -1.73213736e-01,  6.91691395e-01,  2.48155440e-01,\n",
              "        -1.38180533e+00, -1.10458126e+00, -1.77374185e+00,\n",
              "        -1.22344148e+00,  1.39525650e-01,  9.16229058e-01,\n",
              "        -1.99999903e+00,  1.50392653e+00,  4.46886002e-01,\n",
              "         7.48083542e-01,  9.37045179e-01, -1.16084075e+00,\n",
              "        -2.55548829e+00,  5.31813815e-01, -1.91523346e-01,\n",
              "         9.83054035e-02,  5.71222060e-01, -1.82845672e-01,\n",
              "         7.17279059e-01, -1.33025006e+00, -1.36756070e+00,\n",
              "        -1.31536312e-01,  6.46207050e-01,  9.49208297e-02,\n",
              "         1.12684112e+00, -5.42602239e-01,  6.66467245e-01,\n",
              "         1.38977482e-01, -7.98374795e-01,  4.66904920e-01,\n",
              "        -1.02329734e+00, -7.40331330e-01, -9.14959880e-02,\n",
              "         3.55110752e-01,  9.54021189e-01, -1.28401357e+00,\n",
              "         5.24711042e-01, -2.19996921e+00, -1.86756610e-01,\n",
              "        -4.69235583e-01,  1.64882820e-01,  2.04451529e-02,\n",
              "        -1.09787563e+00,  4.44260163e-01, -8.15290169e-01,\n",
              "         1.21393679e+00, -1.20602721e+00,  2.71047654e-01,\n",
              "         2.43999259e-01, -2.17581747e-01,  4.40955166e-01,\n",
              "         5.30975318e-01, -3.51390518e-01,  1.28784884e+00,\n",
              "         1.88481051e-01, -7.01283468e-01,  5.10242738e-01,\n",
              "         1.92943753e+00, -9.33706613e-01, -6.08386258e-01,\n",
              "        -5.58148253e-02,  3.51977651e-01, -1.35419595e-01,\n",
              "        -3.65577312e-01,  1.52768751e-03,  1.30370785e+00,\n",
              "         4.91046822e-01,  5.06099916e-02,  8.73946017e-01,\n",
              "         2.24197557e-01, -1.52318429e+00,  5.22341872e-02,\n",
              "         1.67881075e-01,  1.41292876e+00, -1.75889321e-01,\n",
              "         3.73088570e-01,  9.52881942e-01, -4.44517737e-01,\n",
              "        -9.45217427e-01,  9.79121758e-01, -1.54780533e+00,\n",
              "        -4.28432236e-01, -1.35334607e+00, -2.51090164e-01,\n",
              "         1.33139350e+00, -1.54249688e+00, -1.48516955e-01,\n",
              "         4.64416366e-02,  8.49289396e-01,  1.67689463e+00,\n",
              "        -1.94224972e+00, -1.66840212e+00, -6.21133658e-01,\n",
              "         4.83163464e-01,  4.59128995e-01, -8.71462952e-01,\n",
              "        -2.22788905e-01,  6.99079859e-01, -1.24374259e+00]])"
            ]
          },
          "metadata": {},
          "execution_count": 31
        }
      ]
    },
    {
      "cell_type": "code",
      "source": [
        "labels[:10]"
      ],
      "metadata": {
        "colab": {
          "base_uri": "https://localhost:8080/"
        },
        "id": "ISdqM9BwKofn",
        "outputId": "f64e3fd4-70ab-4afb-eebe-8d2124546ced"
      },
      "execution_count": 32,
      "outputs": [
        {
          "output_type": "execute_result",
          "data": {
            "text/plain": [
              "array([5, 0, 4, 0, 0, 6, 9, 5, 2, 4])"
            ]
          },
          "metadata": {},
          "execution_count": 32
        }
      ]
    },
    {
      "cell_type": "code",
      "source": [
        "# funkcja to_categorical()\n",
        "# konwertuje etykiety na macierz wymiaru odpowiadającego liczbie klas\n",
        "\n",
        "from tensorflow.keras.utils import to_categorical\n",
        "\n",
        "labels = to_categorical(labels)\n",
        "labels[:10]"
      ],
      "metadata": {
        "colab": {
          "base_uri": "https://localhost:8080/"
        },
        "id": "JOHinHLCKprw",
        "outputId": "698dc06c-a40e-4864-c95f-33c8a274f099"
      },
      "execution_count": 33,
      "outputs": [
        {
          "output_type": "execute_result",
          "data": {
            "text/plain": [
              "array([[0., 0., 0., 0., 0., 1., 0., 0., 0., 0.],\n",
              "       [1., 0., 0., 0., 0., 0., 0., 0., 0., 0.],\n",
              "       [0., 0., 0., 0., 1., 0., 0., 0., 0., 0.],\n",
              "       [1., 0., 0., 0., 0., 0., 0., 0., 0., 0.],\n",
              "       [1., 0., 0., 0., 0., 0., 0., 0., 0., 0.],\n",
              "       [0., 0., 0., 0., 0., 0., 1., 0., 0., 0.],\n",
              "       [0., 0., 0., 0., 0., 0., 0., 0., 0., 1.],\n",
              "       [0., 0., 0., 0., 0., 1., 0., 0., 0., 0.],\n",
              "       [0., 0., 1., 0., 0., 0., 0., 0., 0., 0.],\n",
              "       [0., 0., 0., 0., 1., 0., 0., 0., 0., 0.]])"
            ]
          },
          "metadata": {},
          "execution_count": 33
        }
      ]
    },
    {
      "cell_type": "code",
      "source": [
        "labels[0] # klasa 3 - 1 jest na miejscu odpowiadającym danej klasie w tablicy\n",
        "# w pozostałych miejscach 0"
      ],
      "metadata": {
        "colab": {
          "base_uri": "https://localhost:8080/"
        },
        "id": "SER791JZLAVe",
        "outputId": "b86a7978-4998-4ed8-cfc6-c154aa2caedf"
      },
      "execution_count": 34,
      "outputs": [
        {
          "output_type": "execute_result",
          "data": {
            "text/plain": [
              "array([0., 0., 0., 0., 0., 1., 0., 0., 0., 0.])"
            ]
          },
          "metadata": {},
          "execution_count": 34
        }
      ]
    },
    {
      "cell_type": "code",
      "source": [
        "model = Sequential()\n",
        "model.add(Input(shape=(150,)))\n",
        "model.add(Dense(units=32, activation='relu'))\n",
        "model.add(Dense(units=10, activation='softmax')) # liczba neuronów wyjścia odpowiada liczbie klas\n",
        "# funkcja aktywacji softmax zwróci prawdopodobieństwo przypisania próbki do każdej z klas\n",
        "\n",
        "model.compile(optimizer='rmsprop',\n",
        "              loss='categorical_crossentropy',\n",
        "              metrics=['accuracy'])\n",
        "\n",
        "model.fit(data, labels, epochs=20, batch_size=32, validation_split=0.2, verbose=1)"
      ],
      "metadata": {
        "colab": {
          "base_uri": "https://localhost:8080/"
        },
        "id": "Z4yDOq4nLxRJ",
        "outputId": "59c778fc-2bd0-408d-ce3a-b46a9b0c5387"
      },
      "execution_count": 35,
      "outputs": [
        {
          "output_type": "stream",
          "name": "stdout",
          "text": [
            "Epoch 1/20\n",
            "\u001b[1m25/25\u001b[0m \u001b[32m━━━━━━━━━━━━━━━━━━━━\u001b[0m\u001b[37m\u001b[0m \u001b[1m1s\u001b[0m 14ms/step - accuracy: 0.1018 - loss: 2.8859 - val_accuracy: 0.1000 - val_loss: 2.6916\n",
            "Epoch 2/20\n",
            "\u001b[1m25/25\u001b[0m \u001b[32m━━━━━━━━━━━━━━━━━━━━\u001b[0m\u001b[37m\u001b[0m \u001b[1m0s\u001b[0m 5ms/step - accuracy: 0.1119 - loss: 2.5901 - val_accuracy: 0.1050 - val_loss: 2.6231\n",
            "Epoch 3/20\n",
            "\u001b[1m25/25\u001b[0m \u001b[32m━━━━━━━━━━━━━━━━━━━━\u001b[0m\u001b[37m\u001b[0m \u001b[1m0s\u001b[0m 6ms/step - accuracy: 0.1338 - loss: 2.4382 - val_accuracy: 0.1000 - val_loss: 2.5858\n",
            "Epoch 4/20\n",
            "\u001b[1m25/25\u001b[0m \u001b[32m━━━━━━━━━━━━━━━━━━━━\u001b[0m\u001b[37m\u001b[0m \u001b[1m0s\u001b[0m 6ms/step - accuracy: 0.2028 - loss: 2.2708 - val_accuracy: 0.1050 - val_loss: 2.5653\n",
            "Epoch 5/20\n",
            "\u001b[1m25/25\u001b[0m \u001b[32m━━━━━━━━━━━━━━━━━━━━\u001b[0m\u001b[37m\u001b[0m \u001b[1m0s\u001b[0m 6ms/step - accuracy: 0.2457 - loss: 2.1302 - val_accuracy: 0.1100 - val_loss: 2.5574\n",
            "Epoch 6/20\n",
            "\u001b[1m25/25\u001b[0m \u001b[32m━━━━━━━━━━━━━━━━━━━━\u001b[0m\u001b[37m\u001b[0m \u001b[1m0s\u001b[0m 6ms/step - accuracy: 0.2896 - loss: 2.0561 - val_accuracy: 0.1150 - val_loss: 2.5577\n",
            "Epoch 7/20\n",
            "\u001b[1m25/25\u001b[0m \u001b[32m━━━━━━━━━━━━━━━━━━━━\u001b[0m\u001b[37m\u001b[0m \u001b[1m0s\u001b[0m 6ms/step - accuracy: 0.3209 - loss: 1.9659 - val_accuracy: 0.1100 - val_loss: 2.5617\n",
            "Epoch 8/20\n",
            "\u001b[1m25/25\u001b[0m \u001b[32m━━━━━━━━━━━━━━━━━━━━\u001b[0m\u001b[37m\u001b[0m \u001b[1m0s\u001b[0m 5ms/step - accuracy: 0.3486 - loss: 1.9216 - val_accuracy: 0.1100 - val_loss: 2.5693\n",
            "Epoch 9/20\n",
            "\u001b[1m25/25\u001b[0m \u001b[32m━━━━━━━━━━━━━━━━━━━━\u001b[0m\u001b[37m\u001b[0m \u001b[1m0s\u001b[0m 6ms/step - accuracy: 0.4095 - loss: 1.8305 - val_accuracy: 0.1150 - val_loss: 2.5803\n",
            "Epoch 10/20\n",
            "\u001b[1m25/25\u001b[0m \u001b[32m━━━━━━━━━━━━━━━━━━━━\u001b[0m\u001b[37m\u001b[0m \u001b[1m0s\u001b[0m 6ms/step - accuracy: 0.4511 - loss: 1.7439 - val_accuracy: 0.1050 - val_loss: 2.5944\n",
            "Epoch 11/20\n",
            "\u001b[1m25/25\u001b[0m \u001b[32m━━━━━━━━━━━━━━━━━━━━\u001b[0m\u001b[37m\u001b[0m \u001b[1m0s\u001b[0m 6ms/step - accuracy: 0.4651 - loss: 1.7215 - val_accuracy: 0.1100 - val_loss: 2.6092\n",
            "Epoch 12/20\n",
            "\u001b[1m25/25\u001b[0m \u001b[32m━━━━━━━━━━━━━━━━━━━━\u001b[0m\u001b[37m\u001b[0m \u001b[1m0s\u001b[0m 6ms/step - accuracy: 0.5204 - loss: 1.6265 - val_accuracy: 0.1100 - val_loss: 2.6277\n",
            "Epoch 13/20\n",
            "\u001b[1m25/25\u001b[0m \u001b[32m━━━━━━━━━━━━━━━━━━━━\u001b[0m\u001b[37m\u001b[0m \u001b[1m0s\u001b[0m 6ms/step - accuracy: 0.5728 - loss: 1.5473 - val_accuracy: 0.1100 - val_loss: 2.6468\n",
            "Epoch 14/20\n",
            "\u001b[1m25/25\u001b[0m \u001b[32m━━━━━━━━━━━━━━━━━━━━\u001b[0m\u001b[37m\u001b[0m \u001b[1m0s\u001b[0m 6ms/step - accuracy: 0.6013 - loss: 1.5025 - val_accuracy: 0.1100 - val_loss: 2.6692\n",
            "Epoch 15/20\n",
            "\u001b[1m25/25\u001b[0m \u001b[32m━━━━━━━━━━━━━━━━━━━━\u001b[0m\u001b[37m\u001b[0m \u001b[1m0s\u001b[0m 5ms/step - accuracy: 0.6374 - loss: 1.4336 - val_accuracy: 0.1050 - val_loss: 2.6953\n",
            "Epoch 16/20\n",
            "\u001b[1m25/25\u001b[0m \u001b[32m━━━━━━━━━━━━━━━━━━━━\u001b[0m\u001b[37m\u001b[0m \u001b[1m0s\u001b[0m 5ms/step - accuracy: 0.6566 - loss: 1.3611 - val_accuracy: 0.1000 - val_loss: 2.7222\n",
            "Epoch 17/20\n",
            "\u001b[1m25/25\u001b[0m \u001b[32m━━━━━━━━━━━━━━━━━━━━\u001b[0m\u001b[37m\u001b[0m \u001b[1m0s\u001b[0m 7ms/step - accuracy: 0.6642 - loss: 1.3306 - val_accuracy: 0.1050 - val_loss: 2.7500\n",
            "Epoch 18/20\n",
            "\u001b[1m25/25\u001b[0m \u001b[32m━━━━━━━━━━━━━━━━━━━━\u001b[0m\u001b[37m\u001b[0m \u001b[1m0s\u001b[0m 6ms/step - accuracy: 0.6677 - loss: 1.2864 - val_accuracy: 0.1000 - val_loss: 2.7838\n",
            "Epoch 19/20\n",
            "\u001b[1m25/25\u001b[0m \u001b[32m━━━━━━━━━━━━━━━━━━━━\u001b[0m\u001b[37m\u001b[0m \u001b[1m0s\u001b[0m 6ms/step - accuracy: 0.7123 - loss: 1.2156 - val_accuracy: 0.1000 - val_loss: 2.8174\n",
            "Epoch 20/20\n",
            "\u001b[1m25/25\u001b[0m \u001b[32m━━━━━━━━━━━━━━━━━━━━\u001b[0m\u001b[37m\u001b[0m \u001b[1m0s\u001b[0m 5ms/step - accuracy: 0.7524 - loss: 1.1414 - val_accuracy: 0.0850 - val_loss: 2.8537\n"
          ]
        },
        {
          "output_type": "execute_result",
          "data": {
            "text/plain": [
              "<keras.src.callbacks.history.History at 0x7b75a89e1ed0>"
            ]
          },
          "metadata": {},
          "execution_count": 35
        }
      ]
    },
    {
      "cell_type": "code",
      "source": [
        "test_data = np.random.randn(10, 150)\n",
        "model.predict(test_data)"
      ],
      "metadata": {
        "colab": {
          "base_uri": "https://localhost:8080/"
        },
        "id": "dVze-g3dL23-",
        "outputId": "b9a92fba-7c1f-4cd1-a9b7-4a47d9c92c21"
      },
      "execution_count": 36,
      "outputs": [
        {
          "output_type": "stream",
          "name": "stdout",
          "text": [
            "\u001b[1m1/1\u001b[0m \u001b[32m━━━━━━━━━━━━━━━━━━━━\u001b[0m\u001b[37m\u001b[0m \u001b[1m0s\u001b[0m 72ms/step\n"
          ]
        },
        {
          "output_type": "execute_result",
          "data": {
            "text/plain": [
              "array([[0.01100044, 0.04554664, 0.00888583, 0.1267049 , 0.13623214,\n",
              "        0.25434813, 0.19213147, 0.00178496, 0.04222377, 0.18114175],\n",
              "       [0.13530634, 0.0395893 , 0.00774567, 0.02808465, 0.00571216,\n",
              "        0.12682305, 0.13594621, 0.27286285, 0.22113799, 0.02679179],\n",
              "       [0.26276743, 0.08303569, 0.17162499, 0.03479415, 0.08906572,\n",
              "        0.08501963, 0.05706808, 0.07391685, 0.03123911, 0.11146832],\n",
              "       [0.08514328, 0.22074446, 0.03066057, 0.10855622, 0.07429151,\n",
              "        0.11676447, 0.10258918, 0.02874525, 0.00370412, 0.22880092],\n",
              "       [0.05109087, 0.21102905, 0.17760064, 0.0889773 , 0.06327748,\n",
              "        0.0059707 , 0.01731631, 0.00771797, 0.3724328 , 0.0045869 ],\n",
              "       [0.07301273, 0.11231122, 0.00750895, 0.39964318, 0.04009484,\n",
              "        0.10497097, 0.02548629, 0.03978534, 0.11339693, 0.08378945],\n",
              "       [0.05790415, 0.05123616, 0.06445325, 0.17481917, 0.21384434,\n",
              "        0.01009906, 0.13711192, 0.18580768, 0.0964587 , 0.00826556],\n",
              "       [0.0363996 , 0.15122531, 0.11023492, 0.06371037, 0.55574167,\n",
              "        0.00841122, 0.04001104, 0.0101272 , 0.01504309, 0.00909559],\n",
              "       [0.02612277, 0.06884161, 0.07056081, 0.05644861, 0.00605033,\n",
              "        0.2552204 , 0.03408103, 0.05038761, 0.3381123 , 0.09417453],\n",
              "       [0.02485374, 0.08081188, 0.19394277, 0.09714461, 0.02636282,\n",
              "        0.24770789, 0.01896986, 0.24031396, 0.04978823, 0.02010422]],\n",
              "      dtype=float32)"
            ]
          },
          "metadata": {},
          "execution_count": 36
        }
      ]
    },
    {
      "cell_type": "code",
      "source": [
        "predictions = model.predict(test_data)\n",
        "predicted_classes = np.argmax(predictions, axis=1) # ponieważ nie ma już metody predict_classes()\n",
        "predicted_classes"
      ],
      "metadata": {
        "colab": {
          "base_uri": "https://localhost:8080/"
        },
        "id": "z-a9a2ofL-gY",
        "outputId": "41ef6452-7aa7-4266-967f-e27041339069"
      },
      "execution_count": 37,
      "outputs": [
        {
          "output_type": "stream",
          "name": "stdout",
          "text": [
            "\u001b[1m1/1\u001b[0m \u001b[32m━━━━━━━━━━━━━━━━━━━━\u001b[0m\u001b[37m\u001b[0m \u001b[1m0s\u001b[0m 41ms/step\n"
          ]
        },
        {
          "output_type": "execute_result",
          "data": {
            "text/plain": [
              "array([5, 7, 0, 9, 8, 3, 4, 4, 8, 5])"
            ]
          },
          "metadata": {},
          "execution_count": 37
        }
      ]
    },
    {
      "cell_type": "code",
      "source": [
        "# regresja\n",
        "\n",
        "data = np.random.random((1000, 150))\n",
        "labels = 50 * np.random.random(1000) # etykiety ciągłe"
      ],
      "metadata": {
        "id": "TWcTiKUuMC03"
      },
      "execution_count": 38,
      "outputs": []
    },
    {
      "cell_type": "code",
      "source": [
        "data[:3]"
      ],
      "metadata": {
        "colab": {
          "base_uri": "https://localhost:8080/"
        },
        "id": "NnmvmsWjMaXg",
        "outputId": "8e53bd74-3356-438d-d6e2-3e4782ecb30c"
      },
      "execution_count": 39,
      "outputs": [
        {
          "output_type": "execute_result",
          "data": {
            "text/plain": [
              "array([[0.22832137, 0.95247254, 0.85738373, 0.17615014, 0.14055218,\n",
              "        0.31817627, 0.7835767 , 0.4012069 , 0.61230412, 0.45348677,\n",
              "        0.6683934 , 0.27064837, 0.89857306, 0.26344942, 0.73177668,\n",
              "        0.90994108, 0.32829538, 0.53208882, 0.63396492, 0.2958781 ,\n",
              "        0.7443086 , 0.260915  , 0.82455291, 0.26682591, 0.08079219,\n",
              "        0.7825137 , 0.38131805, 0.68856434, 0.42078532, 0.77912556,\n",
              "        0.56356769, 0.12234451, 0.41660482, 0.75254441, 0.13133621,\n",
              "        0.85819068, 0.3802474 , 0.79476256, 0.86012373, 0.79065218,\n",
              "        0.55611981, 0.30975153, 0.11733137, 0.62110124, 0.18746864,\n",
              "        0.14744728, 0.10356741, 0.69761437, 0.10096106, 0.15537759,\n",
              "        0.3958821 , 0.39328245, 0.08538032, 0.43605089, 0.74262971,\n",
              "        0.59273444, 0.88383696, 0.15131662, 0.58757946, 0.57613018,\n",
              "        0.56487361, 0.72462195, 0.82286797, 0.2986424 , 0.49666216,\n",
              "        0.41400699, 0.97095388, 0.35144266, 0.02998418, 0.04726354,\n",
              "        0.74278558, 0.06216997, 0.10703153, 0.89535177, 0.10380467,\n",
              "        0.52411118, 0.29400046, 0.85072959, 0.72675214, 0.64380128,\n",
              "        0.99207468, 0.83811733, 0.83149009, 0.11384447, 0.06661489,\n",
              "        0.25202922, 0.0040443 , 0.03910024, 0.79595392, 0.29372345,\n",
              "        0.81608978, 0.99316412, 0.79293501, 0.0745679 , 0.82772651,\n",
              "        0.81711917, 0.21397861, 0.1901145 , 0.93331536, 0.95114722,\n",
              "        0.08531957, 0.50919167, 0.80988211, 0.05532476, 0.43766973,\n",
              "        0.4287405 , 0.49063207, 0.24896632, 0.85644918, 0.14754747,\n",
              "        0.90809767, 0.38804894, 0.89488306, 0.39318958, 0.55926935,\n",
              "        0.01124423, 0.81722598, 0.39245678, 0.7404442 , 0.28165131,\n",
              "        0.68151346, 0.09929762, 0.58749138, 0.42187288, 0.17447849,\n",
              "        0.31735668, 0.49784804, 0.68001454, 0.87317167, 0.7832392 ,\n",
              "        0.16770088, 0.90526119, 0.99393754, 0.25068878, 0.52255017,\n",
              "        0.37298952, 0.27418193, 0.13147303, 0.92351444, 0.81354382,\n",
              "        0.92028642, 0.00520694, 0.43852013, 0.39956329, 0.10613677,\n",
              "        0.53751105, 0.29611624, 0.22103256, 0.14108265, 0.70080772],\n",
              "       [0.00414013, 0.84075003, 0.55011644, 0.1618087 , 0.27650027,\n",
              "        0.70049479, 0.92002556, 0.13639648, 0.33133794, 0.88424564,\n",
              "        0.39279776, 0.1036349 , 0.25616127, 0.22318276, 0.60607586,\n",
              "        0.91728903, 0.43470282, 0.29149756, 0.5054556 , 0.99227547,\n",
              "        0.32418719, 0.62372169, 0.23188715, 0.44636783, 0.62159418,\n",
              "        0.61881025, 0.10672696, 0.18444503, 0.19931213, 0.89175875,\n",
              "        0.14255501, 0.73024699, 0.886004  , 0.89821887, 0.10617705,\n",
              "        0.82054772, 0.97204966, 0.69064112, 0.91990721, 0.76311694,\n",
              "        0.20631361, 0.06992276, 0.41191732, 0.71274136, 0.05262673,\n",
              "        0.67715139, 0.25494484, 0.81427713, 0.24414268, 0.59764383,\n",
              "        0.77884597, 0.33640168, 0.72498232, 0.72038118, 0.25455136,\n",
              "        0.75964638, 0.98932569, 0.88780594, 0.95671363, 0.51116854,\n",
              "        0.31282557, 0.06704666, 0.46548757, 0.70150648, 0.35133679,\n",
              "        0.65274721, 0.39320099, 0.66533862, 0.05394123, 0.26545746,\n",
              "        0.79351323, 0.86963316, 0.96984339, 0.46621978, 0.77283932,\n",
              "        0.32216882, 0.09690784, 0.61426074, 0.92682125, 0.68953331,\n",
              "        0.2859104 , 0.33716924, 0.82783675, 0.70264216, 0.26239586,\n",
              "        0.63427705, 0.32125325, 0.12381659, 0.34632399, 0.1285873 ,\n",
              "        0.86106334, 0.26546426, 0.58227445, 0.71737993, 0.65070989,\n",
              "        0.5174369 , 0.43435577, 0.99186867, 0.18969353, 0.69326033,\n",
              "        0.08380226, 0.84229159, 0.08622564, 0.90102308, 0.88021616,\n",
              "        0.28984582, 0.99987994, 0.13482252, 0.15008035, 0.90599711,\n",
              "        0.99563742, 0.2850888 , 0.17513347, 0.79866941, 0.36817312,\n",
              "        0.18718366, 0.97385104, 0.73590869, 0.84354979, 0.00338128,\n",
              "        0.55446303, 0.04268103, 0.48546054, 0.43601457, 0.87239759,\n",
              "        0.71109682, 0.48829531, 0.49149934, 0.02968199, 0.00669184,\n",
              "        0.45687679, 0.54707698, 0.54294248, 0.63910431, 0.64907305,\n",
              "        0.6952907 , 0.94506393, 0.70459227, 0.89817627, 0.13548294,\n",
              "        0.22466466, 0.98261482, 0.11744818, 0.41151215, 0.59295397,\n",
              "        0.86038532, 0.97369901, 0.2825864 , 0.03155183, 0.98087991],\n",
              "       [0.81204651, 0.95373519, 0.6009792 , 0.62930943, 0.77466462,\n",
              "        0.86515453, 0.69405474, 0.99496514, 0.41952892, 0.23772856,\n",
              "        0.54310585, 0.59777618, 0.95799269, 0.57023694, 0.11906753,\n",
              "        0.84271147, 0.98860228, 0.4232251 , 0.13417851, 0.8573473 ,\n",
              "        0.42424809, 0.55159798, 0.78695456, 0.45187642, 0.92134508,\n",
              "        0.41239787, 0.34759033, 0.43259865, 0.69732163, 0.90710044,\n",
              "        0.72789595, 0.36001874, 0.62668012, 0.80848346, 0.42576129,\n",
              "        0.00930013, 0.65325653, 0.0017221 , 0.49425691, 0.26633384,\n",
              "        0.57849285, 0.51439755, 0.04673605, 0.39730522, 0.06467553,\n",
              "        0.77848101, 0.73370142, 0.67480887, 0.82132138, 0.48994007,\n",
              "        0.37324188, 0.41024579, 0.63724282, 0.11976142, 0.18800039,\n",
              "        0.16095084, 0.39897016, 0.01567536, 0.16610276, 0.42603049,\n",
              "        0.2480541 , 0.95378233, 0.37415305, 0.63284144, 0.64348548,\n",
              "        0.12377334, 0.2041024 , 0.69520245, 0.53387165, 0.20699702,\n",
              "        0.6912223 , 0.41212236, 0.02735472, 0.07902167, 0.81570339,\n",
              "        0.87221126, 0.44391835, 0.67706253, 0.05758254, 0.48858783,\n",
              "        0.52177252, 0.36638694, 0.02862155, 0.61290492, 0.12074042,\n",
              "        0.30574189, 0.2015797 , 0.46797693, 0.15205391, 0.31909959,\n",
              "        0.27999987, 0.50512513, 0.93157288, 0.86541616, 0.78750376,\n",
              "        0.46107546, 0.29614103, 0.34929142, 0.66547366, 0.75744217,\n",
              "        0.70709943, 0.30744431, 0.30014801, 0.59906598, 0.14007955,\n",
              "        0.89306721, 0.12266042, 0.33170345, 0.41929434, 0.18372938,\n",
              "        0.9171854 , 0.00605951, 0.05761401, 0.02999774, 0.75468185,\n",
              "        0.36039351, 0.82845997, 0.12982516, 0.69909164, 0.9492612 ,\n",
              "        0.65369256, 0.22779258, 0.67226095, 0.60814089, 0.95916331,\n",
              "        0.6457013 , 0.48020249, 0.08840105, 0.36434606, 0.56310253,\n",
              "        0.46176584, 0.20821949, 0.63307397, 0.46130078, 0.4709675 ,\n",
              "        0.76455532, 0.45492775, 0.89345214, 0.76491787, 0.43915793,\n",
              "        0.87178507, 0.83379425, 0.00625569, 0.6631997 , 0.29062615,\n",
              "        0.65594961, 0.2806193 , 0.73209436, 0.11262901, 0.61686551]])"
            ]
          },
          "metadata": {},
          "execution_count": 39
        }
      ]
    },
    {
      "cell_type": "code",
      "source": [
        "labels[:10]"
      ],
      "metadata": {
        "colab": {
          "base_uri": "https://localhost:8080/"
        },
        "id": "s82pqBTzMfK4",
        "outputId": "e45af72b-bbc2-4dfe-f64e-aa549e1886d0"
      },
      "execution_count": 40,
      "outputs": [
        {
          "output_type": "execute_result",
          "data": {
            "text/plain": [
              "array([37.39804094, 25.53309294, 42.64940797, 10.75061834, 37.54378222,\n",
              "       36.69481111, 47.06835597, 24.45444021, 49.39121759, 21.71404399])"
            ]
          },
          "metadata": {},
          "execution_count": 40
        }
      ]
    },
    {
      "cell_type": "code",
      "source": [
        "model = Sequential()\n",
        "model.add(Input(shape=(150,)))\n",
        "model.add(Dense(units=32, activation='relu'))\n",
        "model.add(Dense(units=1)) # na wejściu 1 neuron i brak funkcji aktywacji - funkcja liniowa\n",
        "\n",
        "model.compile(optimizer='rmsprop',\n",
        "              loss='mse') # nie podajemy osobno metryki\n",
        "\n",
        "model.fit(data, labels, epochs=20, batch_size=32, validation_split=0.2, verbose=1)"
      ],
      "metadata": {
        "colab": {
          "base_uri": "https://localhost:8080/"
        },
        "id": "ioKqh1OgMgVQ",
        "outputId": "25b73db0-048d-4a6d-c5f3-78e650d21c64"
      },
      "execution_count": 41,
      "outputs": [
        {
          "output_type": "stream",
          "name": "stdout",
          "text": [
            "Epoch 1/20\n",
            "\u001b[1m25/25\u001b[0m \u001b[32m━━━━━━━━━━━━━━━━━━━━\u001b[0m\u001b[37m\u001b[0m \u001b[1m1s\u001b[0m 13ms/step - loss: 667.8489 - val_loss: 373.5823\n",
            "Epoch 2/20\n",
            "\u001b[1m25/25\u001b[0m \u001b[32m━━━━━━━━━━━━━━━━━━━━\u001b[0m\u001b[37m\u001b[0m \u001b[1m0s\u001b[0m 6ms/step - loss: 324.1318 - val_loss: 238.8722\n",
            "Epoch 3/20\n",
            "\u001b[1m25/25\u001b[0m \u001b[32m━━━━━━━━━━━━━━━━━━━━\u001b[0m\u001b[37m\u001b[0m \u001b[1m0s\u001b[0m 5ms/step - loss: 225.4484 - val_loss: 221.3500\n",
            "Epoch 4/20\n",
            "\u001b[1m25/25\u001b[0m \u001b[32m━━━━━━━━━━━━━━━━━━━━\u001b[0m\u001b[37m\u001b[0m \u001b[1m0s\u001b[0m 5ms/step - loss: 215.3923 - val_loss: 221.2011\n",
            "Epoch 5/20\n",
            "\u001b[1m25/25\u001b[0m \u001b[32m━━━━━━━━━━━━━━━━━━━━\u001b[0m\u001b[37m\u001b[0m \u001b[1m0s\u001b[0m 6ms/step - loss: 214.0647 - val_loss: 221.1653\n",
            "Epoch 6/20\n",
            "\u001b[1m25/25\u001b[0m \u001b[32m━━━━━━━━━━━━━━━━━━━━\u001b[0m\u001b[37m\u001b[0m \u001b[1m0s\u001b[0m 5ms/step - loss: 216.5970 - val_loss: 221.3427\n",
            "Epoch 7/20\n",
            "\u001b[1m25/25\u001b[0m \u001b[32m━━━━━━━━━━━━━━━━━━━━\u001b[0m\u001b[37m\u001b[0m \u001b[1m0s\u001b[0m 5ms/step - loss: 222.8554 - val_loss: 221.2897\n",
            "Epoch 8/20\n",
            "\u001b[1m25/25\u001b[0m \u001b[32m━━━━━━━━━━━━━━━━━━━━\u001b[0m\u001b[37m\u001b[0m \u001b[1m0s\u001b[0m 6ms/step - loss: 211.9375 - val_loss: 221.4507\n",
            "Epoch 9/20\n",
            "\u001b[1m25/25\u001b[0m \u001b[32m━━━━━━━━━━━━━━━━━━━━\u001b[0m\u001b[37m\u001b[0m \u001b[1m0s\u001b[0m 6ms/step - loss: 207.1428 - val_loss: 221.4183\n",
            "Epoch 10/20\n",
            "\u001b[1m25/25\u001b[0m \u001b[32m━━━━━━━━━━━━━━━━━━━━\u001b[0m\u001b[37m\u001b[0m \u001b[1m0s\u001b[0m 6ms/step - loss: 222.1637 - val_loss: 221.4344\n",
            "Epoch 11/20\n",
            "\u001b[1m25/25\u001b[0m \u001b[32m━━━━━━━━━━━━━━━━━━━━\u001b[0m\u001b[37m\u001b[0m \u001b[1m0s\u001b[0m 5ms/step - loss: 214.8619 - val_loss: 221.5403\n",
            "Epoch 12/20\n",
            "\u001b[1m25/25\u001b[0m \u001b[32m━━━━━━━━━━━━━━━━━━━━\u001b[0m\u001b[37m\u001b[0m \u001b[1m0s\u001b[0m 5ms/step - loss: 212.5852 - val_loss: 221.7280\n",
            "Epoch 13/20\n",
            "\u001b[1m25/25\u001b[0m \u001b[32m━━━━━━━━━━━━━━━━━━━━\u001b[0m\u001b[37m\u001b[0m \u001b[1m0s\u001b[0m 5ms/step - loss: 212.8784 - val_loss: 221.9156\n",
            "Epoch 14/20\n",
            "\u001b[1m25/25\u001b[0m \u001b[32m━━━━━━━━━━━━━━━━━━━━\u001b[0m\u001b[37m\u001b[0m \u001b[1m0s\u001b[0m 8ms/step - loss: 203.2219 - val_loss: 221.7910\n",
            "Epoch 15/20\n",
            "\u001b[1m25/25\u001b[0m \u001b[32m━━━━━━━━━━━━━━━━━━━━\u001b[0m\u001b[37m\u001b[0m \u001b[1m0s\u001b[0m 8ms/step - loss: 212.6332 - val_loss: 221.8988\n",
            "Epoch 16/20\n",
            "\u001b[1m25/25\u001b[0m \u001b[32m━━━━━━━━━━━━━━━━━━━━\u001b[0m\u001b[37m\u001b[0m \u001b[1m0s\u001b[0m 8ms/step - loss: 206.9982 - val_loss: 222.3762\n",
            "Epoch 17/20\n",
            "\u001b[1m25/25\u001b[0m \u001b[32m━━━━━━━━━━━━━━━━━━━━\u001b[0m\u001b[37m\u001b[0m \u001b[1m0s\u001b[0m 8ms/step - loss: 206.2451 - val_loss: 223.6149\n",
            "Epoch 18/20\n",
            "\u001b[1m25/25\u001b[0m \u001b[32m━━━━━━━━━━━━━━━━━━━━\u001b[0m\u001b[37m\u001b[0m \u001b[1m0s\u001b[0m 9ms/step - loss: 213.7014 - val_loss: 222.3726\n",
            "Epoch 19/20\n",
            "\u001b[1m25/25\u001b[0m \u001b[32m━━━━━━━━━━━━━━━━━━━━\u001b[0m\u001b[37m\u001b[0m \u001b[1m0s\u001b[0m 9ms/step - loss: 202.4988 - val_loss: 222.6451\n",
            "Epoch 20/20\n",
            "\u001b[1m25/25\u001b[0m \u001b[32m━━━━━━━━━━━━━━━━━━━━\u001b[0m\u001b[37m\u001b[0m \u001b[1m0s\u001b[0m 9ms/step - loss: 211.4741 - val_loss: 223.0286\n"
          ]
        },
        {
          "output_type": "execute_result",
          "data": {
            "text/plain": [
              "<keras.src.callbacks.history.History at 0x7b75a895b510>"
            ]
          },
          "metadata": {},
          "execution_count": 41
        }
      ]
    },
    {
      "cell_type": "code",
      "source": [
        "model = Sequential()\n",
        "model.add(Input(shape=(150,)))\n",
        "model.add(Dense(units=32, activation='relu'))\n",
        "model.add(Dense(units=1))\n",
        "\n",
        "model.compile(optimizer='rmsprop',\n",
        "              loss='mae',\n",
        "              metrics=['mse']) # można też podać jako f. straty i metrykę różne metryki\n",
        "              # wówczas podajemy metrykę opakowaną w listę\n",
        "\n",
        "model.fit(data, labels, epochs=20, batch_size=32, validation_split=0.2, verbose=1)"
      ],
      "metadata": {
        "colab": {
          "base_uri": "https://localhost:8080/"
        },
        "id": "cwbS9LUoMvCA",
        "outputId": "30c6e589-7821-4074-ddd7-67eaa93404ee"
      },
      "execution_count": 42,
      "outputs": [
        {
          "output_type": "stream",
          "name": "stdout",
          "text": [
            "Epoch 1/20\n",
            "\u001b[1m25/25\u001b[0m \u001b[32m━━━━━━━━━━━━━━━━━━━━\u001b[0m\u001b[37m\u001b[0m \u001b[1m1s\u001b[0m 12ms/step - loss: 21.7602 - mse: 673.3754 - val_loss: 16.7129 - val_mse: 414.0747\n",
            "Epoch 2/20\n",
            "\u001b[1m25/25\u001b[0m \u001b[32m━━━━━━━━━━━━━━━━━━━━\u001b[0m\u001b[37m\u001b[0m \u001b[1m0s\u001b[0m 5ms/step - loss: 15.3933 - mse: 360.0308 - val_loss: 13.7276 - val_mse: 258.6786\n",
            "Epoch 3/20\n",
            "\u001b[1m25/25\u001b[0m \u001b[32m━━━━━━━━━━━━━━━━━━━━\u001b[0m\u001b[37m\u001b[0m \u001b[1m0s\u001b[0m 5ms/step - loss: 13.2086 - mse: 241.1548 - val_loss: 12.9749 - val_mse: 222.4012\n",
            "Epoch 4/20\n",
            "\u001b[1m25/25\u001b[0m \u001b[32m━━━━━━━━━━━━━━━━━━━━\u001b[0m\u001b[37m\u001b[0m \u001b[1m0s\u001b[0m 5ms/step - loss: 12.7904 - mse: 222.2669 - val_loss: 12.8846 - val_mse: 219.7260\n",
            "Epoch 5/20\n",
            "\u001b[1m25/25\u001b[0m \u001b[32m━━━━━━━━━━━━━━━━━━━━\u001b[0m\u001b[37m\u001b[0m \u001b[1m0s\u001b[0m 5ms/step - loss: 13.6587 - mse: 240.3255 - val_loss: 12.8642 - val_mse: 219.4306\n",
            "Epoch 6/20\n",
            "\u001b[1m25/25\u001b[0m \u001b[32m━━━━━━━━━━━━━━━━━━━━\u001b[0m\u001b[37m\u001b[0m \u001b[1m0s\u001b[0m 6ms/step - loss: 12.6986 - mse: 216.0462 - val_loss: 12.8304 - val_mse: 219.3992\n",
            "Epoch 7/20\n",
            "\u001b[1m25/25\u001b[0m \u001b[32m━━━━━━━━━━━━━━━━━━━━\u001b[0m\u001b[37m\u001b[0m \u001b[1m0s\u001b[0m 6ms/step - loss: 12.8554 - mse: 219.2711 - val_loss: 12.8586 - val_mse: 219.3830\n",
            "Epoch 8/20\n",
            "\u001b[1m25/25\u001b[0m \u001b[32m━━━━━━━━━━━━━━━━━━━━\u001b[0m\u001b[37m\u001b[0m \u001b[1m0s\u001b[0m 5ms/step - loss: 12.9313 - mse: 218.7775 - val_loss: 12.8393 - val_mse: 219.3231\n",
            "Epoch 9/20\n",
            "\u001b[1m25/25\u001b[0m \u001b[32m━━━━━━━━━━━━━━━━━━━━\u001b[0m\u001b[37m\u001b[0m \u001b[1m0s\u001b[0m 5ms/step - loss: 12.7278 - mse: 214.8470 - val_loss: 12.8972 - val_mse: 220.3562\n",
            "Epoch 10/20\n",
            "\u001b[1m25/25\u001b[0m \u001b[32m━━━━━━━━━━━━━━━━━━━━\u001b[0m\u001b[37m\u001b[0m \u001b[1m0s\u001b[0m 5ms/step - loss: 12.9924 - mse: 224.6423 - val_loss: 12.8611 - val_mse: 219.7170\n",
            "Epoch 11/20\n",
            "\u001b[1m25/25\u001b[0m \u001b[32m━━━━━━━━━━━━━━━━━━━━\u001b[0m\u001b[37m\u001b[0m \u001b[1m0s\u001b[0m 5ms/step - loss: 12.6929 - mse: 219.8241 - val_loss: 12.8342 - val_mse: 219.5703\n",
            "Epoch 12/20\n",
            "\u001b[1m25/25\u001b[0m \u001b[32m━━━━━━━━━━━━━━━━━━━━\u001b[0m\u001b[37m\u001b[0m \u001b[1m0s\u001b[0m 6ms/step - loss: 12.8718 - mse: 219.4910 - val_loss: 12.8410 - val_mse: 219.6119\n",
            "Epoch 13/20\n",
            "\u001b[1m25/25\u001b[0m \u001b[32m━━━━━━━━━━━━━━━━━━━━\u001b[0m\u001b[37m\u001b[0m \u001b[1m0s\u001b[0m 5ms/step - loss: 12.6466 - mse: 215.0676 - val_loss: 12.8563 - val_mse: 219.8805\n",
            "Epoch 14/20\n",
            "\u001b[1m25/25\u001b[0m \u001b[32m━━━━━━━━━━━━━━━━━━━━\u001b[0m\u001b[37m\u001b[0m \u001b[1m0s\u001b[0m 7ms/step - loss: 12.7385 - mse: 217.5468 - val_loss: 12.8429 - val_mse: 219.8854\n",
            "Epoch 15/20\n",
            "\u001b[1m25/25\u001b[0m \u001b[32m━━━━━━━━━━━━━━━━━━━━\u001b[0m\u001b[37m\u001b[0m \u001b[1m0s\u001b[0m 6ms/step - loss: 12.6668 - mse: 214.2744 - val_loss: 12.9394 - val_mse: 221.5545\n",
            "Epoch 16/20\n",
            "\u001b[1m25/25\u001b[0m \u001b[32m━━━━━━━━━━━━━━━━━━━━\u001b[0m\u001b[37m\u001b[0m \u001b[1m0s\u001b[0m 5ms/step - loss: 12.4944 - mse: 209.4702 - val_loss: 12.8460 - val_mse: 220.4611\n",
            "Epoch 17/20\n",
            "\u001b[1m25/25\u001b[0m \u001b[32m━━━━━━━━━━━━━━━━━━━━\u001b[0m\u001b[37m\u001b[0m \u001b[1m0s\u001b[0m 5ms/step - loss: 12.3265 - mse: 206.0874 - val_loss: 12.8600 - val_mse: 220.1652\n",
            "Epoch 18/20\n",
            "\u001b[1m25/25\u001b[0m \u001b[32m━━━━━━━━━━━━━━━━━━━━\u001b[0m\u001b[37m\u001b[0m \u001b[1m0s\u001b[0m 6ms/step - loss: 12.8299 - mse: 218.6843 - val_loss: 12.8532 - val_mse: 220.2123\n",
            "Epoch 19/20\n",
            "\u001b[1m25/25\u001b[0m \u001b[32m━━━━━━━━━━━━━━━━━━━━\u001b[0m\u001b[37m\u001b[0m \u001b[1m0s\u001b[0m 5ms/step - loss: 12.9059 - mse: 219.9845 - val_loss: 12.8885 - val_mse: 220.8074\n",
            "Epoch 20/20\n",
            "\u001b[1m25/25\u001b[0m \u001b[32m━━━━━━━━━━━━━━━━━━━━\u001b[0m\u001b[37m\u001b[0m \u001b[1m0s\u001b[0m 5ms/step - loss: 12.8661 - mse: 224.1766 - val_loss: 12.8916 - val_mse: 221.0070\n"
          ]
        },
        {
          "output_type": "execute_result",
          "data": {
            "text/plain": [
              "<keras.src.callbacks.history.History at 0x7b75a88e1810>"
            ]
          },
          "metadata": {},
          "execution_count": 42
        }
      ]
    },
    {
      "cell_type": "code",
      "source": [
        "test_data = np.random.random((10, 150))\n",
        "model.predict(test_data)"
      ],
      "metadata": {
        "colab": {
          "base_uri": "https://localhost:8080/"
        },
        "id": "VMueo4BYM-9g",
        "outputId": "61f73181-3b9b-4390-ca5d-37e8b2490e7a"
      },
      "execution_count": 43,
      "outputs": [
        {
          "output_type": "stream",
          "name": "stdout",
          "text": [
            "\u001b[1m1/1\u001b[0m \u001b[32m━━━━━━━━━━━━━━━━━━━━\u001b[0m\u001b[37m\u001b[0m \u001b[1m0s\u001b[0m 69ms/step\n"
          ]
        },
        {
          "output_type": "execute_result",
          "data": {
            "text/plain": [
              "array([[23.132961],\n",
              "       [22.17499 ],\n",
              "       [26.317297],\n",
              "       [25.330105],\n",
              "       [24.774834],\n",
              "       [23.274273],\n",
              "       [24.682526],\n",
              "       [23.200907],\n",
              "       [25.435518],\n",
              "       [25.218075]], dtype=float32)"
            ]
          },
          "metadata": {},
          "execution_count": 43
        }
      ]
    }
  ]
}